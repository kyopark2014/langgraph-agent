{
 "cells": [
  {
   "cell_type": "markdown",
   "id": "8aeae325-f009-4dc4-8050-77799bb05357",
   "metadata": {},
   "source": [
    "# Agent Executor "
   ]
  },
  {
   "cell_type": "code",
   "execution_count": 2,
   "id": "5441a6ca-f45a-4795-b7bc-470e16ec5c4b",
   "metadata": {
    "tags": []
   },
   "outputs": [],
   "source": [
    "import boto3"
   ]
  },
  {
   "cell_type": "code",
   "execution_count": 3,
   "id": "57af2f7a-3b60-480a-afe6-7218cd256221",
   "metadata": {
    "tags": []
   },
   "outputs": [
    {
     "name": "stdout",
     "output_type": "stream",
     "text": [
      "\u001b[33mWARNING: Running pip as the 'root' user can result in broken permissions and conflicting behaviour with the system package manager. It is recommended to use a virtual environment instead: https://pip.pypa.io/warnings/venv\u001b[0m\u001b[33m\n",
      "\u001b[0m"
     ]
    }
   ],
   "source": [
    "!pip3 install langchain-aws langchain-community langchain --quiet"
   ]
  },
  {
   "cell_type": "code",
   "execution_count": 4,
   "id": "1bef09a4-9b81-4dbd-b9af-6c9145b692b2",
   "metadata": {
    "tags": []
   },
   "outputs": [],
   "source": [
    "from botocore.config import Config\n",
    "from langchain_aws import ChatBedrock\n",
    "bedrock_region = 'us-east-1'\n",
    "modelId = \"anthropic.claude-3-sonnet-20240229-v1:0\"\n",
    "boto3_bedrock = boto3.client(\n",
    "    service_name='bedrock-runtime',\n",
    "    region_name=bedrock_region,\n",
    "    config=Config(\n",
    "        retries = {\n",
    "            'max_attempts': 30\n",
    "        }            \n",
    "    )\n",
    ")\n",
    "\n",
    "HUMAN_PROMPT = \"\\n\\nHuman:\"\n",
    "AI_PROMPT = \"\\n\\nAssistant:\"\n",
    "maxOutputTokens = 4096\n",
    "parameters = {\n",
    "    \"max_tokens\":maxOutputTokens,     \n",
    "    \"temperature\":0.1,\n",
    "    \"top_k\":250,\n",
    "    \"top_p\":0.9,\n",
    "    \"stop_sequences\": [HUMAN_PROMPT]\n",
    "}    \n",
    "chat = ChatBedrock(   \n",
    "    model_id=modelId,\n",
    "    client=boto3_bedrock, \n",
    "    model_kwargs=parameters,\n",
    ")"
   ]
  },
  {
   "cell_type": "code",
   "execution_count": 5,
   "id": "5d659137-fc61-4394-8aa7-7bf6f1d3e30b",
   "metadata": {
    "tags": []
   },
   "outputs": [],
   "source": [
    "from langchain.memory import ConversationBufferWindowMemory\n",
    "memory_chain = ConversationBufferWindowMemory(memory_key=\"chat_history\", output_key='answer', return_messages=True, k=10)"
   ]
  },
  {
   "cell_type": "code",
   "execution_count": 6,
   "id": "8c3b6e33-e996-407e-8d0d-eea4876e0972",
   "metadata": {
    "tags": []
   },
   "outputs": [],
   "source": [
    "import getpass\n",
    "import os"
   ]
  },
  {
   "cell_type": "code",
   "execution_count": 7,
   "id": "a36d7abe-1845-4bbf-a27f-fa41ec53b2ea",
   "metadata": {
    "tags": []
   },
   "outputs": [
    {
     "name": "stdin",
     "output_type": "stream",
     "text": [
      "Password: ········\n"
     ]
    }
   ],
   "source": [
    "langsmith_api_key = getpass.getpass(\"Password:\")"
   ]
  },
  {
   "cell_type": "code",
   "execution_count": 8,
   "id": "f8ce3eb7-a799-4d80-a7b1-1bce95dffe89",
   "metadata": {
    "tags": []
   },
   "outputs": [],
   "source": [
    "os.environ[\"LANGCHAIN_API_KEY\"] = langsmith_api_key\n",
    "os.environ[\"LANGCHAIN_TRACING_V2\"] = \"true\"\n",
    "os.environ[\"LANGCHAIN_PROJECT\"] = \"Agent Executor From Scratch\""
   ]
  },
  {
   "cell_type": "code",
   "execution_count": null,
   "id": "9565dfe3-f929-40ec-ac83-4bee03a79673",
   "metadata": {},
   "outputs": [],
   "source": []
  },
  {
   "cell_type": "markdown",
   "id": "7ca165dc-5b07-4314-88ae-05fc6ee36afb",
   "metadata": {},
   "source": [
    "## Tavily Search"
   ]
  },
  {
   "cell_type": "code",
   "execution_count": 9,
   "id": "46ec0792-2e45-4409-9080-60458dac87b6",
   "metadata": {
    "tags": []
   },
   "outputs": [
    {
     "name": "stdin",
     "output_type": "stream",
     "text": [
      "Password: ········\n"
     ]
    }
   ],
   "source": [
    "api_key = getpass.getpass(\"Password:\")"
   ]
  },
  {
   "cell_type": "code",
   "execution_count": 10,
   "id": "5a89550b-6f01-4a14-aa71-c6e52c1c9774",
   "metadata": {
    "tags": []
   },
   "outputs": [],
   "source": [
    "os.environ[\"TAVILY_API_KEY\"] = api_key"
   ]
  },
  {
   "cell_type": "code",
   "execution_count": 11,
   "id": "7acaa7ba-791d-444c-8eef-29e4f80ca420",
   "metadata": {
    "tags": []
   },
   "outputs": [
    {
     "name": "stdout",
     "output_type": "stream",
     "text": [
      "\u001b[33mWARNING: Running pip as the 'root' user can result in broken permissions and conflicting behaviour with the system package manager. It is recommended to use a virtual environment instead: https://pip.pypa.io/warnings/venv\u001b[0m\u001b[33m\n",
      "\u001b[0m"
     ]
    }
   ],
   "source": [
    "!pip install -U tavily-python --quiet"
   ]
  },
  {
   "cell_type": "code",
   "execution_count": 12,
   "id": "0c8df54d-3003-43b4-a2d8-4618625d5496",
   "metadata": {
    "tags": []
   },
   "outputs": [
    {
     "data": {
      "text/plain": [
       "[{'url': 'https://m.blog.naver.com/twin_couple/222831691893',\n",
       "  'content': '강남역 맛집 내돈내산 14군데 모음 (3탄) 2022. 7. 28. 6:40. #직장인 #점심 먹으러 자주가는 #강남역 #맛집 #정리! #식당 선정 필요할 때, #메뉴 고민될 때 나를 위해 해보는 간단한 #강남역 #맛집 #내돈내산 #기록 #모음~ 벌써 3탄이네;;;ㅋㅋ 내 기준 맛집은 #맛집 으로, 그 ...'},\n",
       " {'url': 'https://www.siksinhot.com/toplists/best/101767_gangnam',\n",
       "  'content': '점심 시간에 방문하기 좋은 강남역 맛집. 매일 직송하는 좋은 한우 등심을 맛볼 수 있는 곳으로 평양냉면, 설화등심 꽃등심 전문점으로 벽제갈비에서 직영하고 있습니다. 싱싱한 육회 및 전골요리와 한우특양탕도 인기입니다. 그릇. 강남역주변에서 직장인들이 ...'},\n",
       " {'url': 'https://m.blog.naver.com/ldi25/221201986790',\n",
       "  'content': '그래도 다행인건리얼맛집은 아니여도 예쁜 인테리어와 일정수준의 맛을 내는 곳들이 많으니 갈곳은 많죠\\n※ 본 컨텐츠에 대한 저작권은모두 \"\"바이디\"\" 에게 있으므로무단 도용 및 불펌을 절대 금지 합니다.※\\n★2018년 4월 이달의 블로그 선정★\\n이 블로그\\n외부\\n카테고리 글\\n카테고리\\n이 블로그\\n외부\\n카테고리 글 블로그\\n카테고리 이동\\nSarcastic Movie LAB \"바이디\"\\n[강남역] 내가 다시 가고 싶은 맛집 BEST 17\\n2018. 기념일 같을 때 데이트하기 좋은 곳입니다.음식맛도 깔끔하고 플레이팅도 괜찮습니다.가격대는 강남역 레스토랑들과 비슷한듯...\\n강남역에는 음식점들이 정말 많이 있습니다.많은 음식점들을 다녀보고 깨달은 점은 맛이 굉장히 비슷한 수준의 음식점들이 많다는 점입니다. 개인적으로떡볶이를 별로 좋아하지 않는데 주변에 가본여자분들이 좋아하시길래 선정해 봤습니다.인테리어는 그냥 동네 떡볶이집 분위기이고떡볶이 맛도 평범하게 맛있는 편인데 치즈양이많고 치즈가 맛있었던걸로 기억이 나는군요그냥 편하게 분식 먹으면서 이야기하기 괜찮음가격대는 일반적인 떡볶이 집들과 비슷한 수준\\n아빠곰 돈까스는 제가 제일 자주가고 좋아하는가성비 맛집중 하나 입니다. 음식 맛도 나름 괜찮은 편입니다.제가 먹어봤던 중식당 맛집 중에서 비교하면 역대급 최강 맛집까지는 아니지만 어느 정도맛이 나기 때문에 한끼 드시기 괜찮으실겁니다가격대는 강남역에 있는 중식당과 비슷한 수준\\n스시오브키누는 초밥 뷔페입니다.'},\n",
       " {'url': 'https://jspringlife.com/entry/강남역-맛집-💖-숨은-강남역-찐맛집-추천-Top-10-😎🔥',\n",
       "  'content': '그럼 강남역 맛집 리뷰 시작할게요. 😎💖 [강남역 맛집 💖] 숨은 강남역 찐맛집 추천 Top 10 😎🔥 강남역 맛집!! 강남역에서 꼭 들려야 할 필수 맛집은 어디일까요? 1. 강남역 맛집💖. 강남명전 경력 10년이상의 파인다이닝 셰프 출신들이 뭉쳐서, 제대로 된 ...'},\n",
       " {'url': 'https://www.siksinhot.com/taste?upHpAreaId=9&hpAreaId=33',\n",
       "  'content': 'Pho vi cay, 매운 쪽갈비 쌀국수, 매운 우삽겹 쌀국수, 우삼겹 쌀국수\\n11014\\n4\\n9\\n2801\\n1\\n5\\n라브리크 에그 모닝밀, 라브리크 버터밀, 머쉬룸 에그 샌드위치\\n2893\\n0\\n1\\n런치오마카세, 디너오마카세\\n1317\\n0\\n3\\nMamas Signature, Ricotta Cheese Salad, Beef Eggplant Panini, Club Sandwich, Green Grape Juice\\n62583\\n235\\n308\\n69cm 계란말이, 석쇠불고기 1판, 바싹 튀긴 옛날 치킨, 해물김치피자전, 얼큰한 해물 부추전, 통마늘 후라이드치킨, 악바리 후라이드치킨, 악바리 매운 양념치킨, 치킨 쫄깃 떡볶이, 닭모래집 후라이드\\n54752\\n188\\n134\\n깻잎 불고기 사라다를 듬뿍 올려먹는 맛있는 밥, 매콤달콤 닭고기튀김, 숯불구이반반, 스튜우동(고로케)\\n51740\\n175\\n75\\n에그스 베네딕트, 치킨 아보카도 샐러드, 버섯 매콤 크림 파스타, 바나나 크리스피 프렌치 토스트, 더 플라잉팬의 아침, 치킨 아보카도 샌드위치, \"바나나, 그릴드 단호박 & 리코타 치즈 샐러드, 에그스 아보카도, 스크램블 에그 소시지, 머쉬룸 에그 플레이트, 에그 인 레드, \"부라타 치즈, 백명란 파스타, \"관자, \"햄 치즈 토마토, 베이컨 프렌치 토스트, 마이 페어 레이디\\n37674\\n110\\n120\\n오리지널 시카고피자\\n8inch, 새우 로제 스파게티, 떠먹는 찹샐러드\\n37789\\n66\\n28\\n바비 스테이크, 레드 크림 파스타, 머쉬룸 샐러드, 바비 치킨 스테이크, 레드 갈비 스튜, 레드 크림 갈비 스튜, 레드 토마토 갈비 스튜, 레드 커리 파스타, 레드 토마토 파스타, 레드 소이 파스타, 레드 갈릭 밥스타, 스테이크 샐러드, 리코타 치즈 샐러드, 샐몬 샐러드, 치킨 브레스트 샐러드, 바비 스테이크 포케, 바비 갈비 포케, 바비 샐몬 포케, 바비 치킨 포케, 바비 크림 파스타, 바비 토마토 파스타, 바비 볶음밥\\n37504\\n131\\n163\\n시몬스의 닭다리 바베큐, 빠네 크림 파스타, 리코타 유령 독초 샐러드, 마녀의 촛불 샐러드, 훈제 연어 샐러드, 트러플 알리오올리오, 봉골레 파스타, 간장 치킨 크림 파스타, 레드 크림 꽃게 파스타, 새우 로제 파스타, 눈꽃치즈 토마토 파스타, 매콤 해물 토마토 파스타, 김치 칠리 라이스, 부채살 토마토 리조또, 새우 로제 리조또, 부채살 크림 리조또, 고르곤 크럼블 피자, 미이라 포테이토 피자, 콘치즈 피자, 매콤 페퍼로니 피자, 링거칵테일\\n49041\\n111\\n64\\n녹색접시, 빨강접시, 보라접시, 곤색접시, 은색접시, 금색접시, 체크접시\\n38582\\n61\\n96\\n시로, 쿠로, 쇼유, 오코노미야키, 교자, 부타동, 규동, 맥주\\n13645\\n57\\n49\\n테마(136)언론과 미디어에 소개된 테마가 있는 식신 맛집입니다.\\n 칼국수, 교자만두, 얼큰칼국수, 얼큰수제비, 완당떡국, 닭개장, 얼큰해물칼국수, 설렁탕, 비빔국수, 콩국수, 초계국수, 떡갈비\\n85081\\n274\\n425\\n프리마베라, 스타 피자, 디아볼라, 꽈트로 포르마지, 고르곤졸라, 베르나도치, 판체타, 감베리 크레마, 감베리 에 루꼴라, 버팔로 포모도로, 오르조 리조또(보리), 감베리 풍기 샐러드, 시저샐러드, 카프레제\\n70759\\n222\\n318\\n시골야채된장비빔밥, 통북어찜, 청국장, 김치전골, 목살김치된장, 꽁치김치전골, 생목살삼겹살, 생삼겹살, 감자탕 대, 감자탕 중, 닭볶음탕 대, 닭볶음탕 중, 낙지볶음, 제육볶음, 냉동삼겹살, 김치된장국수, 계란찜 추가\\n59434\\n221\\n182\\n정식, 국밥, 술국, 수육, 토종순대, 국밥 특\\n10673\\n8\\n16\\n런치 오마카세, 디너 오마카세\\n23955\\n18\\n100\\n물막국수, 비빔막국수, 육개장, 갈비탕, 제복쟁반, 보쌈 대, 보쌈 소, 어리굴젓, 감자굴전, 들기름막국수, 양지온반, 손으로 빚은 군만두 8개, 매콤 떡만두국, 매콤 만두국, 감자전, 늙은호박전, 냉제육\\n20079\\n16\\n56\\n굴 그라탕 플레이트 8Pcs, 브란지노, 트러플 크림 뇨끼, 단새우 파스타, 양갈비 스테이크 (250g), 안심 스테이크, 라자냐, 인살라타 부라타, 인살라타 루꼴라, 연어 그라브락스, 비텔로 토나토, 프리투라 디 바깔라 (4pcs), 살시챠, 마레 토마토 스튜, 봉골레, 보타르가, 포르치니, 페스카토레, 뽀모도로, 볼로네제 라구 파스타, 트러플 크림 리조또, 뿔소라 리조또, 이베리코 스테이크(400g), 티라미수 케이크, 트러플 감자튀김, 살라미 플래터, 치즈 플래터\\n13357\\n6\\n30\\n계란말이, 생돼지 김치찌게식 두루치기, 돼지갈비찜, 생삼겹살 180g, 생목살 180g, 감자전\\n11586\\n7\\n13\\n양선지해장국, 곱창전골, 양지내장탕, 사골곰탕, 양지곰탕, 수육, 갈비-곱창전골, 진얼큰탕, 모듬전골\\n10660\\n8\\n25\\n리틀 햄버거, 햄버거, 치즈버거, 베이컨버거\\n4232\\n 2\\n0\\n한우양곰탕, 봉피양 평양냉면, 한우채끝등심(100g), 한우갈비탕\\n97923\\n263\\n714\\n물냉면, 녹두전, 비빔냉면, 회냉면, 한우수육 소, 한우양지탕, 한우육개장, 홍어무침, 수육 대\\n58301\\n181\\n152\\n샤오롱바오 10개, 자연송이샤오롱바오(10), 닭고기샤오롱바오(10), 새우샤오롱바오(10), 게살샤오롱바오(10), 샤오롱바오샘플러, 새우샤오마이 10개, 매운게살샤오마이(10), 꿔바로우 (중), 깐풍기, 우육면, 탄탄면\\n71164\\n191\\n256\\n기리야마 디너코스(room only), 스키야키나베우동, 스시 • 우동/자루우동 콤보, 뎀푸라 자루우동, 스시 • 자루우동 콤보, 미소돈카츠 하프우동, 스시스키야키나베우동콤보, 스시 .냉메밀소면 콤보, 미소돈카츠.하프우동 콤보, 미소돈카츠.하프냉메밀소면 콤보, 김치 스키아키나베우동, 뎀푸라.우동 콤보, 뎀푸라.자루우동 콤보, 뎀프라.냉메밀소면 콤보\\n40269\\n147\\n147\\n보일링 쉬림프, 보일링 치킨 텐더, 구스 BBQ 플래터, [런치] 2인 세트, [런치] 미트러버 미트볼 파스타, 오리지널 버팔로윙, 케이준 치킨 텐더, 스타우트 우대갈비, 서프 앤 터프, BBQ 폭립, 씨푸드 스퀘어, 샤퀴테리 보드, 깔라마리 프라이, 피쉬&칩스, 푸틴 프라이즈, 아보카도 애그롤, BBQ 랜치 치킨 샐러드, [런치] BBQ 랜치 치킨 샐러드, [런치]구스 버거, [런치] 시카고 치즈 스테이크, [런치] 크래프트 미트볼 샌드위치, [런치] 크리올 검보 라이스\\n26283\\n19\\n39\\n한우꽃갈비덮밥, 한우명작모듬, 명품 수제 육포 세트, 프리미엄 양념 소갈비 도시락, 창고43 스페셜, 창고43 설화등심, 창고43 특안심, 창고43 새우살, 육사시미, 육회, 소불고기전골 칼국수, 교자만두, 얼큰칼국수, 얼큰수제비, 완당떡국, 닭개장, 얼큰해물칼국수, 설렁탕, 비빔국수, 콩국수, 초계국수, 떡갈비\\n85081\\n274\\n425\\n프리마베라, 스타 피자, 디아볼라, 꽈트로 포르마지, 고르곤졸라, 베르나도치, 판체타, 감베리 크레마, 감베리 에 루꼴라, 버팔로 포모도로, 오르조 리조또(보리), 감베리 풍기 샐러드, 시저샐러드, 카프레제\\n70759\\n222\\n318\\n시골야채된장비빔밥, 통북어찜, 청국장, 김치전골, 목살김치된장, 꽁치김치전골, 생목살삼겹살, 생삼겹살, 감자탕 대, 감자탕 중, 닭볶음탕 대, 닭볶음탕 중, 낙지볶음, 제육볶음, 냉동삼겹살, 김치된장국수, 계란찜 추가\\n59434\\n221\\n182\\n리뷰(2237)고객님들이 직접 작성하신 따끈한 후기와 평가를 들어보세요.\\n [중], 창고양곰탕, 왕갈비탕, 매운갈비찜, 유자육회비빔밥, 한우궁중미역국, 버섯순두부찌개, 깍두기볶음밥, 창고 양념갈비 선물세트\\n15199\\n10\\n64\\n떡도리탕 중(2~3인), 떡도리탕 대 (3~4인), 감자전, 떡도리탕 소 (2인)\\n9211\\n4\\n9\\n포 모이 Pho moi, 포 루얻 Pho ruot, 짜조 넴람 (2ea), 포 땀 Pho tam, 포 찐 Pho chin, 포 므어이 Pho muoi, 포 바쿠테 Pho bak kut the, 포 간 Pho gan, 포 느엉 Pho nuong, 포 두오이 Pho duoi, 승 란 Suon ran, 하노이 분짜 Hanoi Bun cha, 껌 승 Com suon, 코코넛 슈림프 & 크리스피 롤,'}]"
      ]
     },
     "execution_count": 12,
     "metadata": {},
     "output_type": "execute_result"
    }
   ],
   "source": [
    "from langchain_community.tools.tavily_search import TavilySearchResults\n",
    "search = TavilySearchResults(k=5)\n",
    "search.invoke(\"강남 맛집은?\")"
   ]
  },
  {
   "cell_type": "code",
   "execution_count": null,
   "id": "30f045d2-96ee-46c6-a8a2-09b9130f7d40",
   "metadata": {},
   "outputs": [],
   "source": []
  },
  {
   "cell_type": "markdown",
   "id": "9e5ae1d1-4b01-4923-8a5c-6a4d4a900e5a",
   "metadata": {},
   "source": [
    "## Chat Agent Executor \n",
    "https://github.com/langchain-ai/langgraph/blob/main/examples/chat_agent_executor_with_function_calling/base.ipynb"
   ]
  },
  {
   "cell_type": "code",
   "execution_count": null,
   "id": "87ecd1e8-eede-4109-89c2-12ec7a65549d",
   "metadata": {},
   "outputs": [],
   "source": []
  },
  {
   "cell_type": "markdown",
   "id": "6b7af8a1-2847-4c2b-a8fe-17647a9dad99",
   "metadata": {},
   "source": [
    "### Agent Sate 사용시"
   ]
  },
  {
   "cell_type": "code",
   "execution_count": 60,
   "id": "8c6a82bf-06b3-4baa-90ed-bca78d579892",
   "metadata": {
    "tags": []
   },
   "outputs": [],
   "source": [
    "import operator\n",
    "from typing import Annotated, Sequence, TypedDict\n",
    "\n",
    "from langchain_core.messages import BaseMessage"
   ]
  },
  {
   "cell_type": "code",
   "execution_count": 61,
   "id": "bb828221-3406-4651-a7d6-dcbf05ca5823",
   "metadata": {
    "tags": []
   },
   "outputs": [],
   "source": [
    "tools = [TavilySearchResults(max_results=1)]"
   ]
  },
  {
   "cell_type": "code",
   "execution_count": 62,
   "id": "05f74a03-0963-4cff-9039-be2410114e54",
   "metadata": {
    "tags": []
   },
   "outputs": [],
   "source": [
    "tools = [TavilySearchResults(max_results=1)]\n",
    "tool_node = ToolNode(tools)"
   ]
  },
  {
   "cell_type": "code",
   "execution_count": 63,
   "id": "bc166828-d8dc-4b76-a943-5eab05d99dc7",
   "metadata": {
    "tags": []
   },
   "outputs": [],
   "source": [
    "model = chat.bind_tools(tools)"
   ]
  },
  {
   "cell_type": "code",
   "execution_count": 66,
   "id": "6bb467a7-4c45-45e3-bdb9-9b8d0314f46a",
   "metadata": {
    "tags": []
   },
   "outputs": [],
   "source": [
    "class AgentState(TypedDict):\n",
    "    messages: Annotated[Sequence[BaseMessage], operator.add]"
   ]
  },
  {
   "cell_type": "code",
   "execution_count": 67,
   "id": "19a84f53-cfa2-4e64-97ed-eeaf878d15c3",
   "metadata": {
    "tags": []
   },
   "outputs": [],
   "source": [
    "# Define the function that determines whether to continue or not\n",
    "def should_continue(state):\n",
    "    messages = state[\"messages\"]\n",
    "    last_message = messages[-1]\n",
    "    if not last_message.tool_calls:\n",
    "        return \"end\"\n",
    "    else:\n",
    "        return \"continue\""
   ]
  },
  {
   "cell_type": "code",
   "execution_count": 68,
   "id": "f2a31166-084d-49d5-b24b-6a964c68abcc",
   "metadata": {
    "tags": []
   },
   "outputs": [],
   "source": [
    "# Define the function that calls the model\n",
    "def call_model(state):\n",
    "    messages = state[\"messages\"]\n",
    "    response = model.invoke(messages)\n",
    "    # We return a list, because this will get added to the existing list\n",
    "    return {\"messages\": [response]}"
   ]
  },
  {
   "cell_type": "code",
   "execution_count": 69,
   "id": "1bd315f3-a5f1-488f-ab04-7cccd43e071f",
   "metadata": {
    "tags": []
   },
   "outputs": [],
   "source": [
    "# Define a new graph\n",
    "workflow = StateGraph(AgentState)\n",
    "\n",
    "workflow.add_node(\"agent\", call_model)\n",
    "workflow.add_node(\"action\", tool_node)\n",
    "\n",
    "workflow.add_edge(START, \"agent\")\n",
    "\n",
    "# We now add a conditional edge\n",
    "workflow.add_conditional_edges(\n",
    "    \"agent\",\n",
    "    should_continue,\n",
    "    {\n",
    "        \"continue\": \"action\",\n",
    "        \"end\": END,\n",
    "    },\n",
    ")\n",
    "\n",
    "workflow.add_edge(\"action\", \"agent\")\n",
    "\n",
    "app = workflow.compile()"
   ]
  },
  {
   "cell_type": "code",
   "execution_count": 70,
   "id": "fe788a3d-f416-4faa-ab11-fa74978531ed",
   "metadata": {
    "tags": []
   },
   "outputs": [
    {
     "data": {
      "image/jpeg": "[encoded data removed]",
      "text/plain": [
       "<IPython.core.display.Image object>"
      ]
     },
     "metadata": {},
     "output_type": "display_data"
    }
   ],
   "source": [
    "from IPython.display import Image, display\n",
    "display(Image(app.get_graph().draw_mermaid_png()))"
   ]
  },
  {
   "cell_type": "code",
   "execution_count": null,
   "id": "9a98e092-cdcc-4061-9dfc-72a6332dc22b",
   "metadata": {},
   "outputs": [],
   "source": []
  },
  {
   "cell_type": "code",
   "execution_count": 76,
   "id": "175e95a3-d366-44a1-a1f9-74033abbaee8",
   "metadata": {
    "tags": []
   },
   "outputs": [
    {
     "data": {
      "text/plain": [
       "{'messages': [HumanMessage(content='서울과 제주의 날씨 비교해줘.'),\n",
       "  AIMessage(content='', additional_kwargs={'usage': {'prompt_tokens': 281, 'completion_tokens': 109, 'total_tokens': 390}, 'stop_reason': 'tool_use', 'model_id': 'anthropic.claude-3-sonnet-20240229-v1:0'}, response_metadata={'usage': {'prompt_tokens': 281, 'completion_tokens': 109, 'total_tokens': 390}, 'stop_reason': 'tool_use', 'model_id': 'anthropic.claude-3-sonnet-20240229-v1:0'}, id='run-d5189cfa-75eb-4655-8536-a3120e1e669d-0', tool_calls=[{'name': 'tavily_search_results_json', 'args': {'query': 'seoul weather'}, 'id': 'toolu_bdrk_01BX5We6R8tU1YTt6CYmGz1k'}], usage_metadata={'input_tokens': 281, 'output_tokens': 109, 'total_tokens': 390}),\n",
       "  ToolMessage(content='[{\"url\": \"https://www.weatherapi.com/\", \"content\": \"{\\'location\\': {\\'name\\': \\'Seoul\\', \\'region\\': \\'\\', \\'country\\': \\'South Korea\\', \\'lat\\': 37.57, \\'lon\\': 127.0, \\'tz_id\\': \\'Asia/Seoul\\', \\'localtime_epoch\\': 1720629617, \\'localtime\\': \\'2024-07-11 1:40\\'}, \\'current\\': {\\'last_updated_epoch\\': 1720629000, \\'last_updated\\': \\'2024-07-11 01:30\\', \\'temp_c\\': 23.1, \\'temp_f\\': 73.6, \\'is_day\\': 0, \\'condition\\': {\\'text\\': \\'Clear\\', \\'icon\\': \\'//cdn.weatherapi.com/weather/64x64/night/113.png\\', \\'code\\': 1000}, \\'wind_mph\\': 2.2, \\'wind_kph\\': 3.6, \\'wind_degree\\': 280, \\'wind_dir\\': \\'W\\', \\'pressure_mb\\': 1002.0, \\'pressure_in\\': 29.59, \\'precip_mm\\': 0.0, \\'precip_in\\': 0.0, \\'humidity\\': 100, \\'cloud\\': 0, \\'feelslike_c\\': 25.6, \\'feelslike_f\\': 78.0, \\'windchill_c\\': 21.9, \\'windchill_f\\': 71.4, \\'heatindex_c\\': 24.5, \\'heatindex_f\\': 76.1, \\'dewpoint_c\\': 21.3, \\'dewpoint_f\\': 70.4, \\'vis_km\\': 10.0, \\'vis_miles\\': 6.0, \\'uv\\': 1.0, \\'gust_mph\\': 4.9, \\'gust_kph\\': 7.9}}\"}]', name='tavily_search_results_json', tool_call_id='toolu_bdrk_01BX5We6R8tU1YTt6CYmGz1k'),\n",
       "  AIMessage(content='', additional_kwargs={'usage': {'prompt_tokens': 830, 'completion_tokens': 61, 'total_tokens': 891}, 'stop_reason': 'tool_use', 'model_id': 'anthropic.claude-3-sonnet-20240229-v1:0'}, response_metadata={'usage': {'prompt_tokens': 830, 'completion_tokens': 61, 'total_tokens': 891}, 'stop_reason': 'tool_use', 'model_id': 'anthropic.claude-3-sonnet-20240229-v1:0'}, id='run-44ab96a6-8459-4bf6-811b-c0ade450b6c1-0', tool_calls=[{'name': 'tavily_search_results_json', 'args': {'query': 'jeju weather'}, 'id': 'toolu_bdrk_01Pa2DutZDjSEhJAd1ixGW3T'}], usage_metadata={'input_tokens': 830, 'output_tokens': 61, 'total_tokens': 891}),\n",
       "  ToolMessage(content='[{\"url\": \"https://www.weatherapi.com/\", \"content\": \"{\\'location\\': {\\'name\\': \\'Jeju\\', \\'region\\': \\'\\', \\'country\\': \\'South Korea\\', \\'lat\\': 33.51, \\'lon\\': 126.52, \\'tz_id\\': \\'Asia/Seoul\\', \\'localtime_epoch\\': 1720629621, \\'localtime\\': \\'2024-07-11 1:40\\'}, \\'current\\': {\\'last_updated_epoch\\': 1720629000, \\'last_updated\\': \\'2024-07-11 01:30\\', \\'temp_c\\': 23.1, \\'temp_f\\': 73.6, \\'is_day\\': 0, \\'condition\\': {\\'text\\': \\'Partly cloudy\\', \\'icon\\': \\'//cdn.weatherapi.com/weather/64x64/night/116.png\\', \\'code\\': 1003}, \\'wind_mph\\': 4.3, \\'wind_kph\\': 6.8, \\'wind_degree\\': 250, \\'wind_dir\\': \\'WSW\\', \\'pressure_mb\\': 1004.0, \\'pressure_in\\': 29.65, \\'precip_mm\\': 0.02, \\'precip_in\\': 0.0, \\'humidity\\': 94, \\'cloud\\': 75, \\'feelslike_c\\': 25.6, \\'feelslike_f\\': 78.0, \\'windchill_c\\': 23.3, \\'windchill_f\\': 73.9, \\'heatindex_c\\': 25.7, \\'heatindex_f\\': 78.3, \\'dewpoint_c\\': 22.6, \\'dewpoint_f\\': 72.7, \\'vis_km\\': 10.0, \\'vis_miles\\': 6.0, \\'uv\\': 1.0, \\'gust_mph\\': 6.5, \\'gust_kph\\': 10.5}}\"}]', name='tavily_search_results_json', tool_call_id='toolu_bdrk_01Pa2DutZDjSEhJAd1ixGW3T'),\n",
       "  AIMessage(content='서울과 제주의 현재 날씨를 비교해보면:\\n\\n기온:\\n- 서울: 23.1°C\\n- 제주: 23.1°C\\n두 지역 모두 기온이 동일합니다.\\n\\n하늘 상태: \\n- 서울: 맑음\\n- 제주: 구름 약간\\n제주가 서울보다 구름이 더 많습니다.\\n\\n풍속:\\n- 서울: 3.6km/h \\n- 제주: 6.8km/h\\n제주의 풍속이 서울보다 약간 더 세게 분다.\\n\\n습도:\\n- 서울: 100%\\n- 제주: 94% \\n서울이 제주보다 습도가 높습니다.\\n\\n전반적으로 기온은 비슷하지만 하늘 상태, 풍속, 습도 등 세부 기상 조건에서 약간의 차이가 있습니다.', additional_kwargs={'usage': {'prompt_tokens': 1386, 'completion_tokens': 285, 'total_tokens': 1671}, 'stop_reason': 'end_turn', 'model_id': 'anthropic.claude-3-sonnet-20240229-v1:0'}, response_metadata={'usage': {'prompt_tokens': 1386, 'completion_tokens': 285, 'total_tokens': 1671}, 'stop_reason': 'end_turn', 'model_id': 'anthropic.claude-3-sonnet-20240229-v1:0'}, id='run-91811ce9-1f3c-435e-9d93-c4eb51ce661d-0', usage_metadata={'input_tokens': 1386, 'output_tokens': 285, 'total_tokens': 1671})]}"
      ]
     },
     "execution_count": 76,
     "metadata": {},
     "output_type": "execute_result"
    }
   ],
   "source": [
    "from langchain_core.messages import HumanMessage\n",
    "\n",
    "inputs = {\"messages\": [HumanMessage(content=\"서울과 제주의 날씨 비교해줘.\")]}\n",
    "app.invoke(inputs)"
   ]
  },
  {
   "cell_type": "code",
   "execution_count": null,
   "id": "39e0e557-bf91-4dd0-80db-3b63ebb2da4c",
   "metadata": {},
   "outputs": [],
   "source": []
  },
  {
   "cell_type": "code",
   "execution_count": 71,
   "id": "f382e370-0985-4bfb-8c42-8f9dd5108034",
   "metadata": {
    "tags": []
   },
   "outputs": [
    {
     "name": "stdout",
     "output_type": "stream",
     "text": [
      "================================\u001b[1m Human Message \u001b[0m=================================\n",
      "\n",
      "강남역 맛집 알려줘\n",
      "==================================\u001b[1m Ai Message \u001b[0m==================================\n",
      "Tool Calls:\n",
      "  tavily_search_results_json (toolu_bdrk_01L98GMQda3oE52VbLRcYYDW)\n",
      " Call ID: toolu_bdrk_01L98GMQda3oE52VbLRcYYDW\n",
      "  Args:\n",
      "    query: 강남역 맛집\n",
      "=================================\u001b[1m Tool Message \u001b[0m=================================\n",
      "Name: tavily_search_results_json\n",
      "\n",
      "[{\"url\": \"https://www.siksinhot.com/taste?upHpAreaId=9&hpAreaId=33\", \"content\": \"Pho vi cay, \\ub9e4\\uc6b4 \\ucabd\\uac08\\ube44 \\uc300\\uad6d\\uc218, \\ub9e4\\uc6b4 \\uc6b0\\uc0bd\\uacb9 \\uc300\\uad6d\\uc218, \\uc6b0\\uc0bc\\uacb9 \\uc300\\uad6d\\uc218\\n11014\\n4\\n9\\n2801\\n1\\n5\\n\\ub77c\\ube0c\\ub9ac\\ud06c \\uc5d0\\uadf8 \\ubaa8\\ub2dd\\ubc00, \\ub77c\\ube0c\\ub9ac\\ud06c \\ubc84\\ud130\\ubc00, \\uba38\\uc26c\\ub8f8 \\uc5d0\\uadf8 \\uc0cc\\ub4dc\\uc704\\uce58\\n2893\\n0\\n1\\n\\ub7f0\\uce58\\uc624\\ub9c8\\uce74\\uc138, \\ub514\\ub108\\uc624\\ub9c8\\uce74\\uc138\\n1317\\n0\\n3\\nMamas Signature, Ricotta Cheese Salad, Beef Eggplant Panini, Club Sandwich, Green Grape Juice\\n62583\\n235\\n308\\n69cm \\uacc4\\ub780\\ub9d0\\uc774, \\uc11d\\uc1e0\\ubd88\\uace0\\uae30 1\\ud310, \\ubc14\\uc2f9 \\ud280\\uae34 \\uc61b\\ub0a0 \\uce58\\ud0a8, \\ud574\\ubb3c\\uae40\\uce58\\ud53c\\uc790\\uc804, \\uc5bc\\ud070\\ud55c \\ud574\\ubb3c \\ubd80\\ucd94\\uc804, \\ud1b5\\ub9c8\\ub298 \\ud6c4\\ub77c\\uc774\\ub4dc\\uce58\\ud0a8, \\uc545\\ubc14\\ub9ac \\ud6c4\\ub77c\\uc774\\ub4dc\\uce58\\ud0a8, \\uc545\\ubc14\\ub9ac \\ub9e4\\uc6b4 \\uc591\\ub150\\uce58\\ud0a8, \\uce58\\ud0a8 \\ucac4\\uae43 \\ub5a1\\ubcf6\\uc774, \\ub2ed\\ubaa8\\ub798\\uc9d1 \\ud6c4\\ub77c\\uc774\\ub4dc\\n54752\\n188\\n134\\n\\uae7b\\uc78e \\ubd88\\uace0\\uae30 \\uc0ac\\ub77c\\ub2e4\\ub97c \\ub4ec\\ubfcd \\uc62c\\ub824\\uba39\\ub294 \\ub9db\\uc788\\ub294 \\ubc25, \\ub9e4\\ucf64\\ub2ec\\ucf64 \\ub2ed\\uace0\\uae30\\ud280\\uae40, \\uc22f\\ubd88\\uad6c\\uc774\\ubc18\\ubc18, \\uc2a4\\ud29c\\uc6b0\\ub3d9(\\uace0\\ub85c\\ucf00)\\n51740\\n175\\n75\\n\\uc5d0\\uadf8\\uc2a4 \\ubca0\\ub124\\ub515\\ud2b8, \\uce58\\ud0a8 \\uc544\\ubcf4\\uce74\\ub3c4 \\uc0d0\\ub7ec\\ub4dc, \\ubc84\\uc12f \\ub9e4\\ucf64 \\ud06c\\ub9bc \\ud30c\\uc2a4\\ud0c0, \\ubc14\\ub098\\ub098 \\ud06c\\ub9ac\\uc2a4\\ud53c \\ud504\\ub80c\\uce58 \\ud1a0\\uc2a4\\ud2b8, \\ub354 \\ud50c\\ub77c\\uc789\\ud32c\\uc758 \\uc544\\uce68, \\uce58\\ud0a8 \\uc544\\ubcf4\\uce74\\ub3c4 \\uc0cc\\ub4dc\\uc704\\uce58, \\\"\\ubc14\\ub098\\ub098, \\uadf8\\ub9b4\\ub4dc \\ub2e8\\ud638\\ubc15 & \\ub9ac\\ucf54\\ud0c0 \\uce58\\uc988 \\uc0d0\\ub7ec\\ub4dc, \\uc5d0\\uadf8\\uc2a4 \\uc544\\ubcf4\\uce74\\ub3c4, \\uc2a4\\ud06c\\ub7a8\\ube14 \\uc5d0\\uadf8 \\uc18c\\uc2dc\\uc9c0, \\uba38\\uc26c\\ub8f8 \\uc5d0\\uadf8 \\ud50c\\ub808\\uc774\\ud2b8, \\uc5d0\\uadf8 \\uc778 \\ub808\\ub4dc, \\\"\\ubd80\\ub77c\\ud0c0 \\uce58\\uc988, \\ubc31\\uba85\\ub780 \\ud30c\\uc2a4\\ud0c0, \\\"\\uad00\\uc790, \\\"\\ud584 \\uce58\\uc988 \\ud1a0\\ub9c8\\ud1a0, \\ubca0\\uc774\\ucee8 \\ud504\\ub80c\\uce58 \\ud1a0\\uc2a4\\ud2b8, \\ub9c8\\uc774 \\ud398\\uc5b4 \\ub808\\uc774\\ub514\\n37674\\n110\\n120\\n\\uc624\\ub9ac\\uc9c0\\ub110 \\uc2dc\\uce74\\uace0\\ud53c\\uc790\\n8inch, \\uc0c8\\uc6b0 \\ub85c\\uc81c \\uc2a4\\ud30c\\uac8c\\ud2f0, \\ub5a0\\uba39\\ub294 \\ucc39\\uc0d0\\ub7ec\\ub4dc\\n37789\\n66\\n28\\n\\ubc14\\ube44 \\uc2a4\\ud14c\\uc774\\ud06c, \\ub808\\ub4dc \\ud06c\\ub9bc \\ud30c\\uc2a4\\ud0c0, \\uba38\\uc26c\\ub8f8 \\uc0d0\\ub7ec\\ub4dc, \\ubc14\\ube44 \\uce58\\ud0a8 \\uc2a4\\ud14c\\uc774\\ud06c, \\ub808\\ub4dc \\uac08\\ube44 \\uc2a4\\ud29c, \\ub808\\ub4dc \\ud06c\\ub9bc \\uac08\\ube44 \\uc2a4\\ud29c, \\ub808\\ub4dc \\ud1a0\\ub9c8\\ud1a0 \\uac08\\ube44 \\uc2a4\\ud29c, \\ub808\\ub4dc \\ucee4\\ub9ac \\ud30c\\uc2a4\\ud0c0, \\ub808\\ub4dc \\ud1a0\\ub9c8\\ud1a0 \\ud30c\\uc2a4\\ud0c0, \\ub808\\ub4dc \\uc18c\\uc774 \\ud30c\\uc2a4\\ud0c0, \\ub808\\ub4dc \\uac08\\ub9ad \\ubc25\\uc2a4\\ud0c0, \\uc2a4\\ud14c\\uc774\\ud06c \\uc0d0\\ub7ec\\ub4dc, \\ub9ac\\ucf54\\ud0c0 \\uce58\\uc988 \\uc0d0\\ub7ec\\ub4dc, \\uc0d0\\ubaac \\uc0d0\\ub7ec\\ub4dc, \\uce58\\ud0a8 \\ube0c\\ub808\\uc2a4\\ud2b8 \\uc0d0\\ub7ec\\ub4dc, \\ubc14\\ube44 \\uc2a4\\ud14c\\uc774\\ud06c \\ud3ec\\ucf00, \\ubc14\\ube44 \\uac08\\ube44 \\ud3ec\\ucf00, \\ubc14\\ube44 \\uc0d0\\ubaac \\ud3ec\\ucf00, \\ubc14\\ube44 \\uce58\\ud0a8 \\ud3ec\\ucf00, \\ubc14\\ube44 \\ud06c\\ub9bc \\ud30c\\uc2a4\\ud0c0, \\ubc14\\ube44 \\ud1a0\\ub9c8\\ud1a0 \\ud30c\\uc2a4\\ud0c0, \\ubc14\\ube44 \\ubcf6\\uc74c\\ubc25\\n37504\\n131\\n163\\n\\uc2dc\\ubaac\\uc2a4\\uc758 \\ub2ed\\ub2e4\\ub9ac \\ubc14\\ubca0\\ud050, \\ube60\\ub124 \\ud06c\\ub9bc \\ud30c\\uc2a4\\ud0c0, \\ub9ac\\ucf54\\ud0c0 \\uc720\\ub839 \\ub3c5\\ucd08 \\uc0d0\\ub7ec\\ub4dc, \\ub9c8\\ub140\\uc758 \\ucd1b\\ubd88 \\uc0d0\\ub7ec\\ub4dc, \\ud6c8\\uc81c \\uc5f0\\uc5b4 \\uc0d0\\ub7ec\\ub4dc, \\ud2b8\\ub7ec\\ud50c \\uc54c\\ub9ac\\uc624\\uc62c\\ub9ac\\uc624, \\ubd09\\uace8\\ub808 \\ud30c\\uc2a4\\ud0c0, \\uac04\\uc7a5 \\uce58\\ud0a8 \\ud06c\\ub9bc \\ud30c\\uc2a4\\ud0c0, \\ub808\\ub4dc \\ud06c\\ub9bc \\uaf43\\uac8c \\ud30c\\uc2a4\\ud0c0, \\uc0c8\\uc6b0 \\ub85c\\uc81c \\ud30c\\uc2a4\\ud0c0, \\ub208\\uaf43\\uce58\\uc988 \\ud1a0\\ub9c8\\ud1a0 \\ud30c\\uc2a4\\ud0c0, \\ub9e4\\ucf64 \\ud574\\ubb3c \\ud1a0\\ub9c8\\ud1a0 \\ud30c\\uc2a4\\ud0c0, \\uae40\\uce58 \\uce60\\ub9ac \\ub77c\\uc774\\uc2a4, \\ubd80\\ucc44\\uc0b4 \\ud1a0\\ub9c8\\ud1a0 \\ub9ac\\uc870\\ub610, \\uc0c8\\uc6b0 \\ub85c\\uc81c \\ub9ac\\uc870\\ub610, \\ubd80\\ucc44\\uc0b4 \\ud06c\\ub9bc \\ub9ac\\uc870\\ub610, \\uace0\\ub974\\uace4 \\ud06c\\ub7fc\\ube14 \\ud53c\\uc790, \\ubbf8\\uc774\\ub77c \\ud3ec\\ud14c\\uc774\\ud1a0 \\ud53c\\uc790, \\ucf58\\uce58\\uc988 \\ud53c\\uc790, \\ub9e4\\ucf64 \\ud398\\ud37c\\ub85c\\ub2c8 \\ud53c\\uc790, \\ub9c1\\uac70\\uce75\\ud14c\\uc77c\\n49041\\n111\\n64\\n\\ub179\\uc0c9\\uc811\\uc2dc, \\ube68\\uac15\\uc811\\uc2dc, \\ubcf4\\ub77c\\uc811\\uc2dc, \\uace4\\uc0c9\\uc811\\uc2dc, \\uc740\\uc0c9\\uc811\\uc2dc, \\uae08\\uc0c9\\uc811\\uc2dc, \\uccb4\\ud06c\\uc811\\uc2dc\\n38582\\n61\\n96\\n\\uc2dc\\ub85c, \\ucfe0\\ub85c, \\uc1fc\\uc720, \\uc624\\ucf54\\ub178\\ubbf8\\uc57c\\ud0a4, \\uad50\\uc790, \\ubd80\\ud0c0\\ub3d9, \\uaddc\\ub3d9, \\ub9e5\\uc8fc\\n13645\\n57\\n49\\n\\ud14c\\ub9c8(136)\\uc5b8\\ub860\\uacfc \\ubbf8\\ub514\\uc5b4\\uc5d0 \\uc18c\\uac1c\\ub41c \\ud14c\\ub9c8\\uac00 \\uc788\\ub294 \\uc2dd\\uc2e0 \\ub9db\\uc9d1\\uc785\\ub2c8\\ub2e4.\\n \\uce7c\\uad6d\\uc218, \\uad50\\uc790\\ub9cc\\ub450, \\uc5bc\\ud070\\uce7c\\uad6d\\uc218, \\uc5bc\\ud070\\uc218\\uc81c\\ube44, \\uc644\\ub2f9\\ub5a1\\uad6d, \\ub2ed\\uac1c\\uc7a5, \\uc5bc\\ud070\\ud574\\ubb3c\\uce7c\\uad6d\\uc218, \\uc124\\ub801\\ud0d5, \\ube44\\ube54\\uad6d\\uc218, \\ucf69\\uad6d\\uc218, \\ucd08\\uacc4\\uad6d\\uc218, \\ub5a1\\uac08\\ube44\\n85081\\n274\\n425\\n\\ud504\\ub9ac\\ub9c8\\ubca0\\ub77c, \\uc2a4\\ud0c0 \\ud53c\\uc790, \\ub514\\uc544\\ubcfc\\ub77c, \\uaf48\\ud2b8\\ub85c \\ud3ec\\ub974\\ub9c8\\uc9c0, \\uace0\\ub974\\uace4\\uc878\\ub77c, \\ubca0\\ub974\\ub098\\ub3c4\\uce58, \\ud310\\uccb4\\ud0c0, \\uac10\\ubca0\\ub9ac \\ud06c\\ub808\\ub9c8, \\uac10\\ubca0\\ub9ac \\uc5d0 \\ub8e8\\uaf34\\ub77c, \\ubc84\\ud314\\ub85c \\ud3ec\\ubaa8\\ub3c4\\ub85c, \\uc624\\ub974\\uc870 \\ub9ac\\uc870\\ub610(\\ubcf4\\ub9ac), \\uac10\\ubca0\\ub9ac \\ud48d\\uae30 \\uc0d0\\ub7ec\\ub4dc, \\uc2dc\\uc800\\uc0d0\\ub7ec\\ub4dc, \\uce74\\ud504\\ub808\\uc81c\\n70759\\n222\\n318\\n\\uc2dc\\uace8\\uc57c\\ucc44\\ub41c\\uc7a5\\ube44\\ube54\\ubc25, \\ud1b5\\ubd81\\uc5b4\\ucc1c, \\uccad\\uad6d\\uc7a5, \\uae40\\uce58\\uc804\\uace8, \\ubaa9\\uc0b4\\uae40\\uce58\\ub41c\\uc7a5, \\uaf41\\uce58\\uae40\\uce58\\uc804\\uace8, \\uc0dd\\ubaa9\\uc0b4\\uc0bc\\uacb9\\uc0b4, \\uc0dd\\uc0bc\\uacb9\\uc0b4, \\uac10\\uc790\\ud0d5 \\ub300, \\uac10\\uc790\\ud0d5 \\uc911, \\ub2ed\\ubcf6\\uc74c\\ud0d5 \\ub300, \\ub2ed\\ubcf6\\uc74c\\ud0d5 \\uc911, \\ub099\\uc9c0\\ubcf6\\uc74c, \\uc81c\\uc721\\ubcf6\\uc74c, \\ub0c9\\ub3d9\\uc0bc\\uacb9\\uc0b4, \\uae40\\uce58\\ub41c\\uc7a5\\uad6d\\uc218, \\uacc4\\ub780\\ucc1c \\ucd94\\uac00\\n59434\\n221\\n182\\n\\uc815\\uc2dd, \\uad6d\\ubc25, \\uc220\\uad6d, \\uc218\\uc721, \\ud1a0\\uc885\\uc21c\\ub300, \\uad6d\\ubc25 \\ud2b9\\n10673\\n8\\n16\\n\\ub7f0\\uce58 \\uc624\\ub9c8\\uce74\\uc138, \\ub514\\ub108 \\uc624\\ub9c8\\uce74\\uc138\\n23955\\n18\\n100\\n\\ubb3c\\ub9c9\\uad6d\\uc218, \\ube44\\ube54\\ub9c9\\uad6d\\uc218, \\uc721\\uac1c\\uc7a5, \\uac08\\ube44\\ud0d5, \\uc81c\\ubcf5\\uc7c1\\ubc18, \\ubcf4\\uc308 \\ub300, \\ubcf4\\uc308 \\uc18c, \\uc5b4\\ub9ac\\uad74\\uc813, \\uac10\\uc790\\uad74\\uc804, \\ub4e4\\uae30\\ub984\\ub9c9\\uad6d\\uc218, \\uc591\\uc9c0\\uc628\\ubc18, \\uc190\\uc73c\\ub85c \\ube5a\\uc740 \\uad70\\ub9cc\\ub450 8\\uac1c, \\ub9e4\\ucf64 \\ub5a1\\ub9cc\\ub450\\uad6d, \\ub9e4\\ucf64 \\ub9cc\\ub450\\uad6d, \\uac10\\uc790\\uc804, \\ub299\\uc740\\ud638\\ubc15\\uc804, \\ub0c9\\uc81c\\uc721\\n20079\\n16\\n56\\n\\uad74 \\uadf8\\ub77c\\ud0d5 \\ud50c\\ub808\\uc774\\ud2b8 8Pcs, \\ube0c\\ub780\\uc9c0\\ub178, \\ud2b8\\ub7ec\\ud50c \\ud06c\\ub9bc \\ub1e8\\ub07c, \\ub2e8\\uc0c8\\uc6b0 \\ud30c\\uc2a4\\ud0c0, \\uc591\\uac08\\ube44 \\uc2a4\\ud14c\\uc774\\ud06c (250g), \\uc548\\uc2ec \\uc2a4\\ud14c\\uc774\\ud06c, \\ub77c\\uc790\\ub0d0, \\uc778\\uc0b4\\ub77c\\ud0c0 \\ubd80\\ub77c\\ud0c0, \\uc778\\uc0b4\\ub77c\\ud0c0 \\ub8e8\\uaf34\\ub77c, \\uc5f0\\uc5b4 \\uadf8\\ub77c\\ube0c\\ub77d\\uc2a4, \\ube44\\ud154\\ub85c \\ud1a0\\ub098\\ud1a0, \\ud504\\ub9ac\\ud22c\\ub77c \\ub514 \\ubc14\\uae54\\ub77c (4pcs), \\uc0b4\\uc2dc\\ucc60, \\ub9c8\\ub808 \\ud1a0\\ub9c8\\ud1a0 \\uc2a4\\ud29c, \\ubd09\\uace8\\ub808, \\ubcf4\\ud0c0\\ub974\\uac00, \\ud3ec\\ub974\\uce58\\ub2c8, \\ud398\\uc2a4\\uce74\\ud1a0\\ub808, \\ubf40\\ubaa8\\ub3c4\\ub85c, \\ubcfc\\ub85c\\ub124\\uc81c \\ub77c\\uad6c \\ud30c\\uc2a4\\ud0c0, \\ud2b8\\ub7ec\\ud50c \\ud06c\\ub9bc \\ub9ac\\uc870\\ub610, \\ubfd4\\uc18c\\ub77c \\ub9ac\\uc870\\ub610, \\uc774\\ubca0\\ub9ac\\ucf54 \\uc2a4\\ud14c\\uc774\\ud06c(400g), \\ud2f0\\ub77c\\ubbf8\\uc218 \\ucf00\\uc774\\ud06c, \\ud2b8\\ub7ec\\ud50c \\uac10\\uc790\\ud280\\uae40, \\uc0b4\\ub77c\\ubbf8 \\ud50c\\ub798\\ud130, \\uce58\\uc988 \\ud50c\\ub798\\ud130\\n13357\\n6\\n30\\n\\uacc4\\ub780\\ub9d0\\uc774, \\uc0dd\\ub3fc\\uc9c0 \\uae40\\uce58\\ucc0c\\uac8c\\uc2dd \\ub450\\ub8e8\\uce58\\uae30, \\ub3fc\\uc9c0\\uac08\\ube44\\ucc1c, \\uc0dd\\uc0bc\\uacb9\\uc0b4 180g, \\uc0dd\\ubaa9\\uc0b4 180g, \\uac10\\uc790\\uc804\\n11586\\n7\\n13\\n\\uc591\\uc120\\uc9c0\\ud574\\uc7a5\\uad6d, \\uacf1\\ucc3d\\uc804\\uace8, \\uc591\\uc9c0\\ub0b4\\uc7a5\\ud0d5, \\uc0ac\\uace8\\uacf0\\ud0d5, \\uc591\\uc9c0\\uacf0\\ud0d5, \\uc218\\uc721, \\uac08\\ube44-\\uacf1\\ucc3d\\uc804\\uace8, \\uc9c4\\uc5bc\\ud070\\ud0d5, \\ubaa8\\ub4ec\\uc804\\uace8\\n10660\\n8\\n25\\n\\ub9ac\\ud2c0 \\ud584\\ubc84\\uac70, \\ud584\\ubc84\\uac70, \\uce58\\uc988\\ubc84\\uac70, \\ubca0\\uc774\\ucee8\\ubc84\\uac70\\n4232\\n 2\\n0\\n\\ud55c\\uc6b0\\uc591\\uacf0\\ud0d5, \\ubd09\\ud53c\\uc591 \\ud3c9\\uc591\\ub0c9\\uba74, \\ud55c\\uc6b0\\ucc44\\ub05d\\ub4f1\\uc2ec(100g), \\ud55c\\uc6b0\\uac08\\ube44\\ud0d5\\n97923\\n263\\n714\\n\\ubb3c\\ub0c9\\uba74, \\ub179\\ub450\\uc804, \\ube44\\ube54\\ub0c9\\uba74, \\ud68c\\ub0c9\\uba74, \\ud55c\\uc6b0\\uc218\\uc721 \\uc18c, \\ud55c\\uc6b0\\uc591\\uc9c0\\ud0d5, \\ud55c\\uc6b0\\uc721\\uac1c\\uc7a5, \\ud64d\\uc5b4\\ubb34\\uce68, \\uc218\\uc721 \\ub300\\n58301\\n181\\n152\\n\\uc0e4\\uc624\\ub871\\ubc14\\uc624 10\\uac1c, \\uc790\\uc5f0\\uc1a1\\uc774\\uc0e4\\uc624\\ub871\\ubc14\\uc624(10), \\ub2ed\\uace0\\uae30\\uc0e4\\uc624\\ub871\\ubc14\\uc624(10), \\uc0c8\\uc6b0\\uc0e4\\uc624\\ub871\\ubc14\\uc624(10), \\uac8c\\uc0b4\\uc0e4\\uc624\\ub871\\ubc14\\uc624(10), \\uc0e4\\uc624\\ub871\\ubc14\\uc624\\uc0d8\\ud50c\\ub7ec, \\uc0c8\\uc6b0\\uc0e4\\uc624\\ub9c8\\uc774 10\\uac1c, \\ub9e4\\uc6b4\\uac8c\\uc0b4\\uc0e4\\uc624\\ub9c8\\uc774(10), \\uafd4\\ubc14\\ub85c\\uc6b0 (\\uc911), \\uae50\\ud48d\\uae30, \\uc6b0\\uc721\\uba74, \\ud0c4\\ud0c4\\uba74\\n71164\\n191\\n256\\n\\uae30\\ub9ac\\uc57c\\ub9c8 \\ub514\\ub108\\ucf54\\uc2a4(room only), \\uc2a4\\ud0a4\\uc57c\\ud0a4\\ub098\\ubca0\\uc6b0\\ub3d9, \\uc2a4\\uc2dc \\u2022 \\uc6b0\\ub3d9/\\uc790\\ub8e8\\uc6b0\\ub3d9 \\ucf64\\ubcf4, \\ub380\\ud478\\ub77c \\uc790\\ub8e8\\uc6b0\\ub3d9, \\uc2a4\\uc2dc \\u2022 \\uc790\\ub8e8\\uc6b0\\ub3d9 \\ucf64\\ubcf4, \\ubbf8\\uc18c\\ub3c8\\uce74\\uce20 \\ud558\\ud504\\uc6b0\\ub3d9, \\uc2a4\\uc2dc\\uc2a4\\ud0a4\\uc57c\\ud0a4\\ub098\\ubca0\\uc6b0\\ub3d9\\ucf64\\ubcf4, \\uc2a4\\uc2dc .\\ub0c9\\uba54\\ubc00\\uc18c\\uba74 \\ucf64\\ubcf4, \\ubbf8\\uc18c\\ub3c8\\uce74\\uce20.\\ud558\\ud504\\uc6b0\\ub3d9 \\ucf64\\ubcf4, \\ubbf8\\uc18c\\ub3c8\\uce74\\uce20.\\ud558\\ud504\\ub0c9\\uba54\\ubc00\\uc18c\\uba74 \\ucf64\\ubcf4, \\uae40\\uce58 \\uc2a4\\ud0a4\\uc544\\ud0a4\\ub098\\ubca0\\uc6b0\\ub3d9, \\ub380\\ud478\\ub77c.\\uc6b0\\ub3d9 \\ucf64\\ubcf4, \\ub380\\ud478\\ub77c.\\uc790\\ub8e8\\uc6b0\\ub3d9 \\ucf64\\ubcf4, \\ub380\\ud504\\ub77c.\\ub0c9\\uba54\\ubc00\\uc18c\\uba74 \\ucf64\\ubcf4\\n40269\\n147\\n147\\n\\ubcf4\\uc77c\\ub9c1 \\uc26c\\ub9bc\\ud504, \\ubcf4\\uc77c\\ub9c1 \\uce58\\ud0a8 \\ud150\\ub354, \\uad6c\\uc2a4 BBQ \\ud50c\\ub798\\ud130, [\\ub7f0\\uce58] 2\\uc778 \\uc138\\ud2b8, [\\ub7f0\\uce58] \\ubbf8\\ud2b8\\ub7ec\\ubc84 \\ubbf8\\ud2b8\\ubcfc \\ud30c\\uc2a4\\ud0c0, \\uc624\\ub9ac\\uc9c0\\ub110 \\ubc84\\ud314\\ub85c\\uc719, \\ucf00\\uc774\\uc900 \\uce58\\ud0a8 \\ud150\\ub354, \\uc2a4\\ud0c0\\uc6b0\\ud2b8 \\uc6b0\\ub300\\uac08\\ube44, \\uc11c\\ud504 \\uc564 \\ud130\\ud504, BBQ \\ud3ed\\ub9bd, \\uc528\\ud478\\ub4dc \\uc2a4\\ud018\\uc5b4, \\uc0e4\\ud034\\ud14c\\ub9ac \\ubcf4\\ub4dc, \\uae54\\ub77c\\ub9c8\\ub9ac \\ud504\\ub77c\\uc774, \\ud53c\\uc26c&\\uce69\\uc2a4, \\ud478\\ud2f4 \\ud504\\ub77c\\uc774\\uc988, \\uc544\\ubcf4\\uce74\\ub3c4 \\uc560\\uadf8\\ub864, BBQ \\ub79c\\uce58 \\uce58\\ud0a8 \\uc0d0\\ub7ec\\ub4dc, [\\ub7f0\\uce58] BBQ \\ub79c\\uce58 \\uce58\\ud0a8 \\uc0d0\\ub7ec\\ub4dc, [\\ub7f0\\uce58]\\uad6c\\uc2a4 \\ubc84\\uac70, [\\ub7f0\\uce58] \\uc2dc\\uce74\\uace0 \\uce58\\uc988 \\uc2a4\\ud14c\\uc774\\ud06c, [\\ub7f0\\uce58] \\ud06c\\ub798\\ud504\\ud2b8 \\ubbf8\\ud2b8\\ubcfc \\uc0cc\\ub4dc\\uc704\\uce58, [\\ub7f0\\uce58] \\ud06c\\ub9ac\\uc62c \\uac80\\ubcf4 \\ub77c\\uc774\\uc2a4\\n26283\\n19\\n39\\n\\ud55c\\uc6b0\\uaf43\\uac08\\ube44\\ub36e\\ubc25, \\ud55c\\uc6b0\\uba85\\uc791\\ubaa8\\ub4ec, \\uba85\\ud488 \\uc218\\uc81c \\uc721\\ud3ec \\uc138\\ud2b8, \\ud504\\ub9ac\\ubbf8\\uc5c4 \\uc591\\ub150 \\uc18c\\uac08\\ube44 \\ub3c4\\uc2dc\\ub77d, \\ucc3d\\uace043 \\uc2a4\\ud398\\uc15c, \\ucc3d\\uace043 \\uc124\\ud654\\ub4f1\\uc2ec, \\ucc3d\\uace043 \\ud2b9\\uc548\\uc2ec, \\ucc3d\\uace043 \\uc0c8\\uc6b0\\uc0b4, \\uc721\\uc0ac\\uc2dc\\ubbf8, \\uc721\\ud68c, \\uc18c\\ubd88\\uace0\\uae30\\uc804\\uace8 \\uce7c\\uad6d\\uc218, \\uad50\\uc790\\ub9cc\\ub450, \\uc5bc\\ud070\\uce7c\\uad6d\\uc218, \\uc5bc\\ud070\\uc218\\uc81c\\ube44, \\uc644\\ub2f9\\ub5a1\\uad6d, \\ub2ed\\uac1c\\uc7a5, \\uc5bc\\ud070\\ud574\\ubb3c\\uce7c\\uad6d\\uc218, \\uc124\\ub801\\ud0d5, \\ube44\\ube54\\uad6d\\uc218, \\ucf69\\uad6d\\uc218, \\ucd08\\uacc4\\uad6d\\uc218, \\ub5a1\\uac08\\ube44\\n85081\\n274\\n425\\n\\ud504\\ub9ac\\ub9c8\\ubca0\\ub77c, \\uc2a4\\ud0c0 \\ud53c\\uc790, \\ub514\\uc544\\ubcfc\\ub77c, \\uaf48\\ud2b8\\ub85c \\ud3ec\\ub974\\ub9c8\\uc9c0, \\uace0\\ub974\\uace4\\uc878\\ub77c, \\ubca0\\ub974\\ub098\\ub3c4\\uce58, \\ud310\\uccb4\\ud0c0, \\uac10\\ubca0\\ub9ac \\ud06c\\ub808\\ub9c8, \\uac10\\ubca0\\ub9ac \\uc5d0 \\ub8e8\\uaf34\\ub77c, \\ubc84\\ud314\\ub85c \\ud3ec\\ubaa8\\ub3c4\\ub85c, \\uc624\\ub974\\uc870 \\ub9ac\\uc870\\ub610(\\ubcf4\\ub9ac), \\uac10\\ubca0\\ub9ac \\ud48d\\uae30 \\uc0d0\\ub7ec\\ub4dc, \\uc2dc\\uc800\\uc0d0\\ub7ec\\ub4dc, \\uce74\\ud504\\ub808\\uc81c\\n70759\\n222\\n318\\n\\uc2dc\\uace8\\uc57c\\ucc44\\ub41c\\uc7a5\\ube44\\ube54\\ubc25, \\ud1b5\\ubd81\\uc5b4\\ucc1c, \\uccad\\uad6d\\uc7a5, \\uae40\\uce58\\uc804\\uace8, \\ubaa9\\uc0b4\\uae40\\uce58\\ub41c\\uc7a5, \\uaf41\\uce58\\uae40\\uce58\\uc804\\uace8, \\uc0dd\\ubaa9\\uc0b4\\uc0bc\\uacb9\\uc0b4, \\uc0dd\\uc0bc\\uacb9\\uc0b4, \\uac10\\uc790\\ud0d5 \\ub300, \\uac10\\uc790\\ud0d5 \\uc911, \\ub2ed\\ubcf6\\uc74c\\ud0d5 \\ub300, \\ub2ed\\ubcf6\\uc74c\\ud0d5 \\uc911, \\ub099\\uc9c0\\ubcf6\\uc74c, \\uc81c\\uc721\\ubcf6\\uc74c, \\ub0c9\\ub3d9\\uc0bc\\uacb9\\uc0b4, \\uae40\\uce58\\ub41c\\uc7a5\\uad6d\\uc218, \\uacc4\\ub780\\ucc1c \\ucd94\\uac00\\n59434\\n221\\n182\\n\\ub9ac\\ubdf0(2237)\\uace0\\uac1d\\ub2d8\\ub4e4\\uc774 \\uc9c1\\uc811 \\uc791\\uc131\\ud558\\uc2e0 \\ub530\\ub048\\ud55c \\ud6c4\\uae30\\uc640 \\ud3c9\\uac00\\ub97c \\ub4e4\\uc5b4\\ubcf4\\uc138\\uc694.\\n [\\uc911], \\ucc3d\\uace0\\uc591\\uacf0\\ud0d5, \\uc655\\uac08\\ube44\\ud0d5, \\ub9e4\\uc6b4\\uac08\\ube44\\ucc1c, \\uc720\\uc790\\uc721\\ud68c\\ube44\\ube54\\ubc25, \\ud55c\\uc6b0\\uad81\\uc911\\ubbf8\\uc5ed\\uad6d, \\ubc84\\uc12f\\uc21c\\ub450\\ubd80\\ucc0c\\uac1c, \\uae4d\\ub450\\uae30\\ubcf6\\uc74c\\ubc25, \\ucc3d\\uace0 \\uc591\\ub150\\uac08\\ube44 \\uc120\\ubb3c\\uc138\\ud2b8\\n15199\\n10\\n64\\n\\ub5a1\\ub3c4\\ub9ac\\ud0d5 \\uc911(2~3\\uc778), \\ub5a1\\ub3c4\\ub9ac\\ud0d5 \\ub300 (3~4\\uc778), \\uac10\\uc790\\uc804, \\ub5a1\\ub3c4\\ub9ac\\ud0d5 \\uc18c (2\\uc778)\\n9211\\n4\\n9\\n\\ud3ec \\ubaa8\\uc774 Pho moi, \\ud3ec \\ub8e8\\uc5bb Pho ruot, \\uc9dc\\uc870 \\ub134\\ub78c (2ea), \\ud3ec \\ub540 Pho tam, \\ud3ec \\ucc10 Pho chin, \\ud3ec \\ubbc0\\uc5b4\\uc774 Pho muoi, \\ud3ec \\ubc14\\ucfe0\\ud14c Pho bak kut the, \\ud3ec \\uac04 Pho gan, \\ud3ec \\ub290\\uc5c9 Pho nuong, \\ud3ec \\ub450\\uc624\\uc774 Pho duoi, \\uc2b9 \\ub780 Suon ran, \\ud558\\ub178\\uc774 \\ubd84\\uc9dc Hanoi Bun cha, \\uaecc \\uc2b9 Com suon, \\ucf54\\ucf54\\ub11b \\uc288\\ub9bc\\ud504 & \\ud06c\\ub9ac\\uc2a4\\ud53c \\ub864,\"}]\n",
      "==================================\u001b[1m Ai Message \u001b[0m==================================\n",
      "\n",
      "강남역 근처에는 다양한 맛집들이 있습니다. \n",
      "\n",
      "한식 맛집으로는 창고 양곱돌이, 창고 양선지해장국, 창고 양지내장탕, 창고 사골곰탕, 창고 양지곰탕, 수윗, 창고 갈비-곱창전골, 진촌큰탕 등이 있습니다. \n",
      "\n",
      "양식 맛집으로는 테마, 리틀 햄버거, 햄버거, 치즈버거, 베이컨버거, 마마스 시그니처, 리코타 치즈 샐러드, 비프 에그플랜트 파니니 등이 있습니다.\n",
      "\n",
      "일식 맛집으로는 시로, 쿠로, 쇼유, 오코노미야키 등이 있습니다. \n",
      "\n",
      "중식 맛집으로는 기리야마 디너코스, 스키야키나베우동, 하프우동, 냉메밀소면 등의 메뉴가 있는 곳들이 있습니다.\n",
      "\n",
      "이탈리안 맛집으로는 프리마베라, 스타피자, 디아볼라, 마르게리타 포르마지오 등이 유명합니다.\n",
      "\n",
      "베트남 맛집으로는 포 모이, 포 루옷, 포 탐, 포 친, 포 무이 등 다양한 종류의 포가 있습니다.\n",
      "\n",
      "그 외에도 스테이크하우스, 와인바, 디저트 전문점 등 다양한 맛집들이 강남역 주변에 있습니다.\n"
     ]
    }
   ],
   "source": [
    "from langchain_core.messages import HumanMessage\n",
    "\n",
    "inputs = [HumanMessage(content=\"강남역 맛집 알려줘\")]\n",
    "\n",
    "for event in app.stream({\"messages\": inputs}, stream_mode=\"values\"):    \n",
    "    event[\"messages\"][-1].pretty_print()"
   ]
  },
  {
   "cell_type": "code",
   "execution_count": null,
   "id": "fc0f805a-d544-493c-9d43-8054a457ba2e",
   "metadata": {},
   "outputs": [],
   "source": []
  },
  {
   "cell_type": "code",
   "execution_count": null,
   "id": "b9597765-5741-4140-9108-560635f2b949",
   "metadata": {},
   "outputs": [],
   "source": []
  },
  {
   "cell_type": "code",
   "execution_count": null,
   "id": "fed23dec-ca10-4aaf-a42c-eec6155fc3e6",
   "metadata": {},
   "outputs": [],
   "source": []
  },
  {
   "cell_type": "code",
   "execution_count": null,
   "id": "f9b56e7e-ed3b-4794-9538-e81e7d62dab7",
   "metadata": {},
   "outputs": [],
   "source": []
  },
  {
   "cell_type": "markdown",
   "id": "fe3943a8-1a02-47b0-ab9b-75f6ce753e6f",
   "metadata": {},
   "source": [
    "### Message Sate 사용시"
   ]
  },
  {
   "cell_type": "code",
   "execution_count": 13,
   "id": "09040d42-cd5c-4560-88c3-2d7c04541cb3",
   "metadata": {
    "tags": []
   },
   "outputs": [],
   "source": [
    "tools = [TavilySearchResults(max_results=1)]"
   ]
  },
  {
   "cell_type": "code",
   "execution_count": 14,
   "id": "f0bcbcd9-7e2b-4426-a427-cf26517673f4",
   "metadata": {
    "tags": []
   },
   "outputs": [],
   "source": [
    "import operator\n",
    "from typing import Annotated, TypedDict, Union\n",
    "\n",
    "from langchain_core.agents import AgentAction, AgentFinish\n",
    "from langchain_core.messages import BaseMessage"
   ]
  },
  {
   "cell_type": "code",
   "execution_count": 15,
   "id": "d732f37b-268c-4733-b85f-212ac7930f48",
   "metadata": {
    "tags": []
   },
   "outputs": [],
   "source": [
    "from langchain_core.tools import tool\n",
    "from langgraph.graph import MessagesState, START\n",
    "from langgraph.prebuilt import ToolNode\n",
    "from langgraph.graph import END, StateGraph\n",
    "from langgraph.checkpoint.memory import MemorySaver"
   ]
  },
  {
   "cell_type": "code",
   "execution_count": 16,
   "id": "7f250b24-9ffb-4be8-9c0c-14a0c5a745c7",
   "metadata": {
    "tags": []
   },
   "outputs": [],
   "source": [
    "tools = [TavilySearchResults(max_results=1)]\n",
    "tool_node = ToolNode(tools)"
   ]
  },
  {
   "cell_type": "code",
   "execution_count": 53,
   "id": "cb658a51-4022-4b49-b62c-70fc7ef8a29d",
   "metadata": {
    "tags": []
   },
   "outputs": [],
   "source": [
    "# Set up the model\n",
    "\n",
    "model = chat.bind_tools(tools)"
   ]
  },
  {
   "cell_type": "code",
   "execution_count": 54,
   "id": "18211cc1-885f-4c95-ab78-fde22c87c909",
   "metadata": {
    "tags": []
   },
   "outputs": [],
   "source": [
    "# Define the function that determines whether to continue or not\n",
    "def should_continue(state):\n",
    "    messages = state[\"messages\"]\n",
    "    last_message = messages[-1]\n",
    "    if not last_message.tool_calls:\n",
    "        return \"end\"\n",
    "    else:\n",
    "        return \"continue\""
   ]
  },
  {
   "cell_type": "code",
   "execution_count": 55,
   "id": "e6e283cf-7ea7-4f67-badf-d72168f619f3",
   "metadata": {
    "tags": []
   },
   "outputs": [],
   "source": [
    "# Define the function that calls the model\n",
    "def call_model(state):\n",
    "    messages = state[\"messages\"]\n",
    "    response = model.invoke(messages)\n",
    "    # We return a list, because this will get added to the existing list\n",
    "    return {\"messages\": [response]}"
   ]
  },
  {
   "cell_type": "code",
   "execution_count": 56,
   "id": "46d291d7-9da5-45b2-91a0-980f2e3faadf",
   "metadata": {
    "tags": []
   },
   "outputs": [],
   "source": [
    "# Define a new graph\n",
    "workflow = StateGraph(MessagesState)\n",
    "\n",
    "workflow.add_node(\"agent\", call_model)\n",
    "workflow.add_node(\"action\", tool_node)\n",
    "\n",
    "workflow.add_edge(START, \"agent\")\n",
    "\n",
    "# We now add a conditional edge\n",
    "workflow.add_conditional_edges(\n",
    "    \"agent\",\n",
    "    should_continue,\n",
    "    {\n",
    "        \"continue\": \"action\",\n",
    "        \"end\": END,\n",
    "    },\n",
    ")\n",
    "\n",
    "workflow.add_edge(\"action\", \"agent\")\n",
    "\n",
    "app = workflow.compile()"
   ]
  },
  {
   "cell_type": "code",
   "execution_count": 57,
   "id": "ac69f71e-92d9-42c6-8c99-ea40bab90658",
   "metadata": {
    "tags": []
   },
   "outputs": [
    {
     "data": {
      "image/jpeg": "[encoded data removed]",
      "text/plain": [
       "<IPython.core.display.Image object>"
      ]
     },
     "metadata": {},
     "output_type": "display_data"
    }
   ],
   "source": [
    "from IPython.display import Image, display\n",
    "display(Image(app.get_graph().draw_mermaid_png()))"
   ]
  },
  {
   "cell_type": "code",
   "execution_count": 58,
   "id": "4963b246-4765-463e-ab7a-a4196c4e517c",
   "metadata": {
    "tags": []
   },
   "outputs": [
    {
     "name": "stdout",
     "output_type": "stream",
     "text": [
      "================================\u001b[1m Human Message \u001b[0m=================================\n",
      "\n",
      "강남역 맛집 알려줘\n",
      "==================================\u001b[1m Ai Message \u001b[0m==================================\n",
      "Tool Calls:\n",
      "  tavily_search_results_json (toolu_bdrk_016Tmp8havhN1UvGHibWZTGH)\n",
      " Call ID: toolu_bdrk_016Tmp8havhN1UvGHibWZTGH\n",
      "  Args:\n",
      "    query: 강남역 맛집\n",
      "=================================\u001b[1m Tool Message \u001b[0m=================================\n",
      "Name: tavily_search_results_json\n",
      "\n",
      "[{\"url\": \"https://www.siksinhot.com/taste?upHpAreaId=9&hpAreaId=33\", \"content\": \"Pho vi cay, \\ub9e4\\uc6b4 \\ucabd\\uac08\\ube44 \\uc300\\uad6d\\uc218, \\ub9e4\\uc6b4 \\uc6b0\\uc0bd\\uacb9 \\uc300\\uad6d\\uc218, \\uc6b0\\uc0bc\\uacb9 \\uc300\\uad6d\\uc218\\n11014\\n4\\n9\\n2801\\n1\\n5\\n\\ub77c\\ube0c\\ub9ac\\ud06c \\uc5d0\\uadf8 \\ubaa8\\ub2dd\\ubc00, \\ub77c\\ube0c\\ub9ac\\ud06c \\ubc84\\ud130\\ubc00, \\uba38\\uc26c\\ub8f8 \\uc5d0\\uadf8 \\uc0cc\\ub4dc\\uc704\\uce58\\n2893\\n0\\n1\\n\\ub7f0\\uce58\\uc624\\ub9c8\\uce74\\uc138, \\ub514\\ub108\\uc624\\ub9c8\\uce74\\uc138\\n1317\\n0\\n3\\nMamas Signature, Ricotta Cheese Salad, Beef Eggplant Panini, Club Sandwich, Green Grape Juice\\n62583\\n235\\n308\\n69cm \\uacc4\\ub780\\ub9d0\\uc774, \\uc11d\\uc1e0\\ubd88\\uace0\\uae30 1\\ud310, \\ubc14\\uc2f9 \\ud280\\uae34 \\uc61b\\ub0a0 \\uce58\\ud0a8, \\ud574\\ubb3c\\uae40\\uce58\\ud53c\\uc790\\uc804, \\uc5bc\\ud070\\ud55c \\ud574\\ubb3c \\ubd80\\ucd94\\uc804, \\ud1b5\\ub9c8\\ub298 \\ud6c4\\ub77c\\uc774\\ub4dc\\uce58\\ud0a8, \\uc545\\ubc14\\ub9ac \\ud6c4\\ub77c\\uc774\\ub4dc\\uce58\\ud0a8, \\uc545\\ubc14\\ub9ac \\ub9e4\\uc6b4 \\uc591\\ub150\\uce58\\ud0a8, \\uce58\\ud0a8 \\ucac4\\uae43 \\ub5a1\\ubcf6\\uc774, \\ub2ed\\ubaa8\\ub798\\uc9d1 \\ud6c4\\ub77c\\uc774\\ub4dc\\n54752\\n188\\n134\\n\\uae7b\\uc78e \\ubd88\\uace0\\uae30 \\uc0ac\\ub77c\\ub2e4\\ub97c \\ub4ec\\ubfcd \\uc62c\\ub824\\uba39\\ub294 \\ub9db\\uc788\\ub294 \\ubc25, \\ub9e4\\ucf64\\ub2ec\\ucf64 \\ub2ed\\uace0\\uae30\\ud280\\uae40, \\uc22f\\ubd88\\uad6c\\uc774\\ubc18\\ubc18, \\uc2a4\\ud29c\\uc6b0\\ub3d9(\\uace0\\ub85c\\ucf00)\\n51740\\n175\\n75\\n\\uc5d0\\uadf8\\uc2a4 \\ubca0\\ub124\\ub515\\ud2b8, \\uce58\\ud0a8 \\uc544\\ubcf4\\uce74\\ub3c4 \\uc0d0\\ub7ec\\ub4dc, \\ubc84\\uc12f \\ub9e4\\ucf64 \\ud06c\\ub9bc \\ud30c\\uc2a4\\ud0c0, \\ubc14\\ub098\\ub098 \\ud06c\\ub9ac\\uc2a4\\ud53c \\ud504\\ub80c\\uce58 \\ud1a0\\uc2a4\\ud2b8, \\ub354 \\ud50c\\ub77c\\uc789\\ud32c\\uc758 \\uc544\\uce68, \\uce58\\ud0a8 \\uc544\\ubcf4\\uce74\\ub3c4 \\uc0cc\\ub4dc\\uc704\\uce58, \\\"\\ubc14\\ub098\\ub098, \\uadf8\\ub9b4\\ub4dc \\ub2e8\\ud638\\ubc15 & \\ub9ac\\ucf54\\ud0c0 \\uce58\\uc988 \\uc0d0\\ub7ec\\ub4dc, \\uc5d0\\uadf8\\uc2a4 \\uc544\\ubcf4\\uce74\\ub3c4, \\uc2a4\\ud06c\\ub7a8\\ube14 \\uc5d0\\uadf8 \\uc18c\\uc2dc\\uc9c0, \\uba38\\uc26c\\ub8f8 \\uc5d0\\uadf8 \\ud50c\\ub808\\uc774\\ud2b8, \\uc5d0\\uadf8 \\uc778 \\ub808\\ub4dc, \\\"\\ubd80\\ub77c\\ud0c0 \\uce58\\uc988, \\ubc31\\uba85\\ub780 \\ud30c\\uc2a4\\ud0c0, \\\"\\uad00\\uc790, \\\"\\ud584 \\uce58\\uc988 \\ud1a0\\ub9c8\\ud1a0, \\ubca0\\uc774\\ucee8 \\ud504\\ub80c\\uce58 \\ud1a0\\uc2a4\\ud2b8, \\ub9c8\\uc774 \\ud398\\uc5b4 \\ub808\\uc774\\ub514\\n37674\\n110\\n120\\n\\uc624\\ub9ac\\uc9c0\\ub110 \\uc2dc\\uce74\\uace0\\ud53c\\uc790\\n8inch, \\uc0c8\\uc6b0 \\ub85c\\uc81c \\uc2a4\\ud30c\\uac8c\\ud2f0, \\ub5a0\\uba39\\ub294 \\ucc39\\uc0d0\\ub7ec\\ub4dc\\n37789\\n66\\n28\\n\\ubc14\\ube44 \\uc2a4\\ud14c\\uc774\\ud06c, \\ub808\\ub4dc \\ud06c\\ub9bc \\ud30c\\uc2a4\\ud0c0, \\uba38\\uc26c\\ub8f8 \\uc0d0\\ub7ec\\ub4dc, \\ubc14\\ube44 \\uce58\\ud0a8 \\uc2a4\\ud14c\\uc774\\ud06c, \\ub808\\ub4dc \\uac08\\ube44 \\uc2a4\\ud29c, \\ub808\\ub4dc \\ud06c\\ub9bc \\uac08\\ube44 \\uc2a4\\ud29c, \\ub808\\ub4dc \\ud1a0\\ub9c8\\ud1a0 \\uac08\\ube44 \\uc2a4\\ud29c, \\ub808\\ub4dc \\ucee4\\ub9ac \\ud30c\\uc2a4\\ud0c0, \\ub808\\ub4dc \\ud1a0\\ub9c8\\ud1a0 \\ud30c\\uc2a4\\ud0c0, \\ub808\\ub4dc \\uc18c\\uc774 \\ud30c\\uc2a4\\ud0c0, \\ub808\\ub4dc \\uac08\\ub9ad \\ubc25\\uc2a4\\ud0c0, \\uc2a4\\ud14c\\uc774\\ud06c \\uc0d0\\ub7ec\\ub4dc, \\ub9ac\\ucf54\\ud0c0 \\uce58\\uc988 \\uc0d0\\ub7ec\\ub4dc, \\uc0d0\\ubaac \\uc0d0\\ub7ec\\ub4dc, \\uce58\\ud0a8 \\ube0c\\ub808\\uc2a4\\ud2b8 \\uc0d0\\ub7ec\\ub4dc, \\ubc14\\ube44 \\uc2a4\\ud14c\\uc774\\ud06c \\ud3ec\\ucf00, \\ubc14\\ube44 \\uac08\\ube44 \\ud3ec\\ucf00, \\ubc14\\ube44 \\uc0d0\\ubaac \\ud3ec\\ucf00, \\ubc14\\ube44 \\uce58\\ud0a8 \\ud3ec\\ucf00, \\ubc14\\ube44 \\ud06c\\ub9bc \\ud30c\\uc2a4\\ud0c0, \\ubc14\\ube44 \\ud1a0\\ub9c8\\ud1a0 \\ud30c\\uc2a4\\ud0c0, \\ubc14\\ube44 \\ubcf6\\uc74c\\ubc25\\n37504\\n131\\n163\\n\\uc2dc\\ubaac\\uc2a4\\uc758 \\ub2ed\\ub2e4\\ub9ac \\ubc14\\ubca0\\ud050, \\ube60\\ub124 \\ud06c\\ub9bc \\ud30c\\uc2a4\\ud0c0, \\ub9ac\\ucf54\\ud0c0 \\uc720\\ub839 \\ub3c5\\ucd08 \\uc0d0\\ub7ec\\ub4dc, \\ub9c8\\ub140\\uc758 \\ucd1b\\ubd88 \\uc0d0\\ub7ec\\ub4dc, \\ud6c8\\uc81c \\uc5f0\\uc5b4 \\uc0d0\\ub7ec\\ub4dc, \\ud2b8\\ub7ec\\ud50c \\uc54c\\ub9ac\\uc624\\uc62c\\ub9ac\\uc624, \\ubd09\\uace8\\ub808 \\ud30c\\uc2a4\\ud0c0, \\uac04\\uc7a5 \\uce58\\ud0a8 \\ud06c\\ub9bc \\ud30c\\uc2a4\\ud0c0, \\ub808\\ub4dc \\ud06c\\ub9bc \\uaf43\\uac8c \\ud30c\\uc2a4\\ud0c0, \\uc0c8\\uc6b0 \\ub85c\\uc81c \\ud30c\\uc2a4\\ud0c0, \\ub208\\uaf43\\uce58\\uc988 \\ud1a0\\ub9c8\\ud1a0 \\ud30c\\uc2a4\\ud0c0, \\ub9e4\\ucf64 \\ud574\\ubb3c \\ud1a0\\ub9c8\\ud1a0 \\ud30c\\uc2a4\\ud0c0, \\uae40\\uce58 \\uce60\\ub9ac \\ub77c\\uc774\\uc2a4, \\ubd80\\ucc44\\uc0b4 \\ud1a0\\ub9c8\\ud1a0 \\ub9ac\\uc870\\ub610, \\uc0c8\\uc6b0 \\ub85c\\uc81c \\ub9ac\\uc870\\ub610, \\ubd80\\ucc44\\uc0b4 \\ud06c\\ub9bc \\ub9ac\\uc870\\ub610, \\uace0\\ub974\\uace4 \\ud06c\\ub7fc\\ube14 \\ud53c\\uc790, \\ubbf8\\uc774\\ub77c \\ud3ec\\ud14c\\uc774\\ud1a0 \\ud53c\\uc790, \\ucf58\\uce58\\uc988 \\ud53c\\uc790, \\ub9e4\\ucf64 \\ud398\\ud37c\\ub85c\\ub2c8 \\ud53c\\uc790, \\ub9c1\\uac70\\uce75\\ud14c\\uc77c\\n49041\\n111\\n64\\n\\ub179\\uc0c9\\uc811\\uc2dc, \\ube68\\uac15\\uc811\\uc2dc, \\ubcf4\\ub77c\\uc811\\uc2dc, \\uace4\\uc0c9\\uc811\\uc2dc, \\uc740\\uc0c9\\uc811\\uc2dc, \\uae08\\uc0c9\\uc811\\uc2dc, \\uccb4\\ud06c\\uc811\\uc2dc\\n38582\\n61\\n96\\n\\uc2dc\\ub85c, \\ucfe0\\ub85c, \\uc1fc\\uc720, \\uc624\\ucf54\\ub178\\ubbf8\\uc57c\\ud0a4, \\uad50\\uc790, \\ubd80\\ud0c0\\ub3d9, \\uaddc\\ub3d9, \\ub9e5\\uc8fc\\n13645\\n57\\n49\\n\\ud14c\\ub9c8(136)\\uc5b8\\ub860\\uacfc \\ubbf8\\ub514\\uc5b4\\uc5d0 \\uc18c\\uac1c\\ub41c \\ud14c\\ub9c8\\uac00 \\uc788\\ub294 \\uc2dd\\uc2e0 \\ub9db\\uc9d1\\uc785\\ub2c8\\ub2e4.\\n \\uce7c\\uad6d\\uc218, \\uad50\\uc790\\ub9cc\\ub450, \\uc5bc\\ud070\\uce7c\\uad6d\\uc218, \\uc5bc\\ud070\\uc218\\uc81c\\ube44, \\uc644\\ub2f9\\ub5a1\\uad6d, \\ub2ed\\uac1c\\uc7a5, \\uc5bc\\ud070\\ud574\\ubb3c\\uce7c\\uad6d\\uc218, \\uc124\\ub801\\ud0d5, \\ube44\\ube54\\uad6d\\uc218, \\ucf69\\uad6d\\uc218, \\ucd08\\uacc4\\uad6d\\uc218, \\ub5a1\\uac08\\ube44\\n85081\\n274\\n425\\n\\ud504\\ub9ac\\ub9c8\\ubca0\\ub77c, \\uc2a4\\ud0c0 \\ud53c\\uc790, \\ub514\\uc544\\ubcfc\\ub77c, \\uaf48\\ud2b8\\ub85c \\ud3ec\\ub974\\ub9c8\\uc9c0, \\uace0\\ub974\\uace4\\uc878\\ub77c, \\ubca0\\ub974\\ub098\\ub3c4\\uce58, \\ud310\\uccb4\\ud0c0, \\uac10\\ubca0\\ub9ac \\ud06c\\ub808\\ub9c8, \\uac10\\ubca0\\ub9ac \\uc5d0 \\ub8e8\\uaf34\\ub77c, \\ubc84\\ud314\\ub85c \\ud3ec\\ubaa8\\ub3c4\\ub85c, \\uc624\\ub974\\uc870 \\ub9ac\\uc870\\ub610(\\ubcf4\\ub9ac), \\uac10\\ubca0\\ub9ac \\ud48d\\uae30 \\uc0d0\\ub7ec\\ub4dc, \\uc2dc\\uc800\\uc0d0\\ub7ec\\ub4dc, \\uce74\\ud504\\ub808\\uc81c\\n70759\\n222\\n318\\n\\uc2dc\\uace8\\uc57c\\ucc44\\ub41c\\uc7a5\\ube44\\ube54\\ubc25, \\ud1b5\\ubd81\\uc5b4\\ucc1c, \\uccad\\uad6d\\uc7a5, \\uae40\\uce58\\uc804\\uace8, \\ubaa9\\uc0b4\\uae40\\uce58\\ub41c\\uc7a5, \\uaf41\\uce58\\uae40\\uce58\\uc804\\uace8, \\uc0dd\\ubaa9\\uc0b4\\uc0bc\\uacb9\\uc0b4, \\uc0dd\\uc0bc\\uacb9\\uc0b4, \\uac10\\uc790\\ud0d5 \\ub300, \\uac10\\uc790\\ud0d5 \\uc911, \\ub2ed\\ubcf6\\uc74c\\ud0d5 \\ub300, \\ub2ed\\ubcf6\\uc74c\\ud0d5 \\uc911, \\ub099\\uc9c0\\ubcf6\\uc74c, \\uc81c\\uc721\\ubcf6\\uc74c, \\ub0c9\\ub3d9\\uc0bc\\uacb9\\uc0b4, \\uae40\\uce58\\ub41c\\uc7a5\\uad6d\\uc218, \\uacc4\\ub780\\ucc1c \\ucd94\\uac00\\n59434\\n221\\n182\\n\\uc815\\uc2dd, \\uad6d\\ubc25, \\uc220\\uad6d, \\uc218\\uc721, \\ud1a0\\uc885\\uc21c\\ub300, \\uad6d\\ubc25 \\ud2b9\\n10673\\n8\\n16\\n\\ub7f0\\uce58 \\uc624\\ub9c8\\uce74\\uc138, \\ub514\\ub108 \\uc624\\ub9c8\\uce74\\uc138\\n23955\\n18\\n100\\n\\ubb3c\\ub9c9\\uad6d\\uc218, \\ube44\\ube54\\ub9c9\\uad6d\\uc218, \\uc721\\uac1c\\uc7a5, \\uac08\\ube44\\ud0d5, \\uc81c\\ubcf5\\uc7c1\\ubc18, \\ubcf4\\uc308 \\ub300, \\ubcf4\\uc308 \\uc18c, \\uc5b4\\ub9ac\\uad74\\uc813, \\uac10\\uc790\\uad74\\uc804, \\ub4e4\\uae30\\ub984\\ub9c9\\uad6d\\uc218, \\uc591\\uc9c0\\uc628\\ubc18, \\uc190\\uc73c\\ub85c \\ube5a\\uc740 \\uad70\\ub9cc\\ub450 8\\uac1c, \\ub9e4\\ucf64 \\ub5a1\\ub9cc\\ub450\\uad6d, \\ub9e4\\ucf64 \\ub9cc\\ub450\\uad6d, \\uac10\\uc790\\uc804, \\ub299\\uc740\\ud638\\ubc15\\uc804, \\ub0c9\\uc81c\\uc721\\n20079\\n16\\n56\\n\\uad74 \\uadf8\\ub77c\\ud0d5 \\ud50c\\ub808\\uc774\\ud2b8 8Pcs, \\ube0c\\ub780\\uc9c0\\ub178, \\ud2b8\\ub7ec\\ud50c \\ud06c\\ub9bc \\ub1e8\\ub07c, \\ub2e8\\uc0c8\\uc6b0 \\ud30c\\uc2a4\\ud0c0, \\uc591\\uac08\\ube44 \\uc2a4\\ud14c\\uc774\\ud06c (250g), \\uc548\\uc2ec \\uc2a4\\ud14c\\uc774\\ud06c, \\ub77c\\uc790\\ub0d0, \\uc778\\uc0b4\\ub77c\\ud0c0 \\ubd80\\ub77c\\ud0c0, \\uc778\\uc0b4\\ub77c\\ud0c0 \\ub8e8\\uaf34\\ub77c, \\uc5f0\\uc5b4 \\uadf8\\ub77c\\ube0c\\ub77d\\uc2a4, \\ube44\\ud154\\ub85c \\ud1a0\\ub098\\ud1a0, \\ud504\\ub9ac\\ud22c\\ub77c \\ub514 \\ubc14\\uae54\\ub77c (4pcs), \\uc0b4\\uc2dc\\ucc60, \\ub9c8\\ub808 \\ud1a0\\ub9c8\\ud1a0 \\uc2a4\\ud29c, \\ubd09\\uace8\\ub808, \\ubcf4\\ud0c0\\ub974\\uac00, \\ud3ec\\ub974\\uce58\\ub2c8, \\ud398\\uc2a4\\uce74\\ud1a0\\ub808, \\ubf40\\ubaa8\\ub3c4\\ub85c, \\ubcfc\\ub85c\\ub124\\uc81c \\ub77c\\uad6c \\ud30c\\uc2a4\\ud0c0, \\ud2b8\\ub7ec\\ud50c \\ud06c\\ub9bc \\ub9ac\\uc870\\ub610, \\ubfd4\\uc18c\\ub77c \\ub9ac\\uc870\\ub610, \\uc774\\ubca0\\ub9ac\\ucf54 \\uc2a4\\ud14c\\uc774\\ud06c(400g), \\ud2f0\\ub77c\\ubbf8\\uc218 \\ucf00\\uc774\\ud06c, \\ud2b8\\ub7ec\\ud50c \\uac10\\uc790\\ud280\\uae40, \\uc0b4\\ub77c\\ubbf8 \\ud50c\\ub798\\ud130, \\uce58\\uc988 \\ud50c\\ub798\\ud130\\n13357\\n6\\n30\\n\\uacc4\\ub780\\ub9d0\\uc774, \\uc0dd\\ub3fc\\uc9c0 \\uae40\\uce58\\ucc0c\\uac8c\\uc2dd \\ub450\\ub8e8\\uce58\\uae30, \\ub3fc\\uc9c0\\uac08\\ube44\\ucc1c, \\uc0dd\\uc0bc\\uacb9\\uc0b4 180g, \\uc0dd\\ubaa9\\uc0b4 180g, \\uac10\\uc790\\uc804\\n11586\\n7\\n13\\n\\uc591\\uc120\\uc9c0\\ud574\\uc7a5\\uad6d, \\uacf1\\ucc3d\\uc804\\uace8, \\uc591\\uc9c0\\ub0b4\\uc7a5\\ud0d5, \\uc0ac\\uace8\\uacf0\\ud0d5, \\uc591\\uc9c0\\uacf0\\ud0d5, \\uc218\\uc721, \\uac08\\ube44-\\uacf1\\ucc3d\\uc804\\uace8, \\uc9c4\\uc5bc\\ud070\\ud0d5, \\ubaa8\\ub4ec\\uc804\\uace8\\n10660\\n8\\n25\\n\\ub9ac\\ud2c0 \\ud584\\ubc84\\uac70, \\ud584\\ubc84\\uac70, \\uce58\\uc988\\ubc84\\uac70, \\ubca0\\uc774\\ucee8\\ubc84\\uac70\\n4232\\n 2\\n0\\n\\ud55c\\uc6b0\\uc591\\uacf0\\ud0d5, \\ubd09\\ud53c\\uc591 \\ud3c9\\uc591\\ub0c9\\uba74, \\ud55c\\uc6b0\\ucc44\\ub05d\\ub4f1\\uc2ec(100g), \\ud55c\\uc6b0\\uac08\\ube44\\ud0d5\\n97923\\n263\\n714\\n\\ubb3c\\ub0c9\\uba74, \\ub179\\ub450\\uc804, \\ube44\\ube54\\ub0c9\\uba74, \\ud68c\\ub0c9\\uba74, \\ud55c\\uc6b0\\uc218\\uc721 \\uc18c, \\ud55c\\uc6b0\\uc591\\uc9c0\\ud0d5, \\ud55c\\uc6b0\\uc721\\uac1c\\uc7a5, \\ud64d\\uc5b4\\ubb34\\uce68, \\uc218\\uc721 \\ub300\\n58301\\n181\\n152\\n\\uc0e4\\uc624\\ub871\\ubc14\\uc624 10\\uac1c, \\uc790\\uc5f0\\uc1a1\\uc774\\uc0e4\\uc624\\ub871\\ubc14\\uc624(10), \\ub2ed\\uace0\\uae30\\uc0e4\\uc624\\ub871\\ubc14\\uc624(10), \\uc0c8\\uc6b0\\uc0e4\\uc624\\ub871\\ubc14\\uc624(10), \\uac8c\\uc0b4\\uc0e4\\uc624\\ub871\\ubc14\\uc624(10), \\uc0e4\\uc624\\ub871\\ubc14\\uc624\\uc0d8\\ud50c\\ub7ec, \\uc0c8\\uc6b0\\uc0e4\\uc624\\ub9c8\\uc774 10\\uac1c, \\ub9e4\\uc6b4\\uac8c\\uc0b4\\uc0e4\\uc624\\ub9c8\\uc774(10), \\uafd4\\ubc14\\ub85c\\uc6b0 (\\uc911), \\uae50\\ud48d\\uae30, \\uc6b0\\uc721\\uba74, \\ud0c4\\ud0c4\\uba74\\n71164\\n191\\n256\\n\\uae30\\ub9ac\\uc57c\\ub9c8 \\ub514\\ub108\\ucf54\\uc2a4(room only), \\uc2a4\\ud0a4\\uc57c\\ud0a4\\ub098\\ubca0\\uc6b0\\ub3d9, \\uc2a4\\uc2dc \\u2022 \\uc6b0\\ub3d9/\\uc790\\ub8e8\\uc6b0\\ub3d9 \\ucf64\\ubcf4, \\ub380\\ud478\\ub77c \\uc790\\ub8e8\\uc6b0\\ub3d9, \\uc2a4\\uc2dc \\u2022 \\uc790\\ub8e8\\uc6b0\\ub3d9 \\ucf64\\ubcf4, \\ubbf8\\uc18c\\ub3c8\\uce74\\uce20 \\ud558\\ud504\\uc6b0\\ub3d9, \\uc2a4\\uc2dc\\uc2a4\\ud0a4\\uc57c\\ud0a4\\ub098\\ubca0\\uc6b0\\ub3d9\\ucf64\\ubcf4, \\uc2a4\\uc2dc .\\ub0c9\\uba54\\ubc00\\uc18c\\uba74 \\ucf64\\ubcf4, \\ubbf8\\uc18c\\ub3c8\\uce74\\uce20.\\ud558\\ud504\\uc6b0\\ub3d9 \\ucf64\\ubcf4, \\ubbf8\\uc18c\\ub3c8\\uce74\\uce20.\\ud558\\ud504\\ub0c9\\uba54\\ubc00\\uc18c\\uba74 \\ucf64\\ubcf4, \\uae40\\uce58 \\uc2a4\\ud0a4\\uc544\\ud0a4\\ub098\\ubca0\\uc6b0\\ub3d9, \\ub380\\ud478\\ub77c.\\uc6b0\\ub3d9 \\ucf64\\ubcf4, \\ub380\\ud478\\ub77c.\\uc790\\ub8e8\\uc6b0\\ub3d9 \\ucf64\\ubcf4, \\ub380\\ud504\\ub77c.\\ub0c9\\uba54\\ubc00\\uc18c\\uba74 \\ucf64\\ubcf4\\n40269\\n147\\n147\\n\\ubcf4\\uc77c\\ub9c1 \\uc26c\\ub9bc\\ud504, \\ubcf4\\uc77c\\ub9c1 \\uce58\\ud0a8 \\ud150\\ub354, \\uad6c\\uc2a4 BBQ \\ud50c\\ub798\\ud130, [\\ub7f0\\uce58] 2\\uc778 \\uc138\\ud2b8, [\\ub7f0\\uce58] \\ubbf8\\ud2b8\\ub7ec\\ubc84 \\ubbf8\\ud2b8\\ubcfc \\ud30c\\uc2a4\\ud0c0, \\uc624\\ub9ac\\uc9c0\\ub110 \\ubc84\\ud314\\ub85c\\uc719, \\ucf00\\uc774\\uc900 \\uce58\\ud0a8 \\ud150\\ub354, \\uc2a4\\ud0c0\\uc6b0\\ud2b8 \\uc6b0\\ub300\\uac08\\ube44, \\uc11c\\ud504 \\uc564 \\ud130\\ud504, BBQ \\ud3ed\\ub9bd, \\uc528\\ud478\\ub4dc \\uc2a4\\ud018\\uc5b4, \\uc0e4\\ud034\\ud14c\\ub9ac \\ubcf4\\ub4dc, \\uae54\\ub77c\\ub9c8\\ub9ac \\ud504\\ub77c\\uc774, \\ud53c\\uc26c&\\uce69\\uc2a4, \\ud478\\ud2f4 \\ud504\\ub77c\\uc774\\uc988, \\uc544\\ubcf4\\uce74\\ub3c4 \\uc560\\uadf8\\ub864, BBQ \\ub79c\\uce58 \\uce58\\ud0a8 \\uc0d0\\ub7ec\\ub4dc, [\\ub7f0\\uce58] BBQ \\ub79c\\uce58 \\uce58\\ud0a8 \\uc0d0\\ub7ec\\ub4dc, [\\ub7f0\\uce58]\\uad6c\\uc2a4 \\ubc84\\uac70, [\\ub7f0\\uce58] \\uc2dc\\uce74\\uace0 \\uce58\\uc988 \\uc2a4\\ud14c\\uc774\\ud06c, [\\ub7f0\\uce58] \\ud06c\\ub798\\ud504\\ud2b8 \\ubbf8\\ud2b8\\ubcfc \\uc0cc\\ub4dc\\uc704\\uce58, [\\ub7f0\\uce58] \\ud06c\\ub9ac\\uc62c \\uac80\\ubcf4 \\ub77c\\uc774\\uc2a4\\n26283\\n19\\n39\\n\\ud55c\\uc6b0\\uaf43\\uac08\\ube44\\ub36e\\ubc25, \\ud55c\\uc6b0\\uba85\\uc791\\ubaa8\\ub4ec, \\uba85\\ud488 \\uc218\\uc81c \\uc721\\ud3ec \\uc138\\ud2b8, \\ud504\\ub9ac\\ubbf8\\uc5c4 \\uc591\\ub150 \\uc18c\\uac08\\ube44 \\ub3c4\\uc2dc\\ub77d, \\ucc3d\\uace043 \\uc2a4\\ud398\\uc15c, \\ucc3d\\uace043 \\uc124\\ud654\\ub4f1\\uc2ec, \\ucc3d\\uace043 \\ud2b9\\uc548\\uc2ec, \\ucc3d\\uace043 \\uc0c8\\uc6b0\\uc0b4, \\uc721\\uc0ac\\uc2dc\\ubbf8, \\uc721\\ud68c, \\uc18c\\ubd88\\uace0\\uae30\\uc804\\uace8 \\uce7c\\uad6d\\uc218, \\uad50\\uc790\\ub9cc\\ub450, \\uc5bc\\ud070\\uce7c\\uad6d\\uc218, \\uc5bc\\ud070\\uc218\\uc81c\\ube44, \\uc644\\ub2f9\\ub5a1\\uad6d, \\ub2ed\\uac1c\\uc7a5, \\uc5bc\\ud070\\ud574\\ubb3c\\uce7c\\uad6d\\uc218, \\uc124\\ub801\\ud0d5, \\ube44\\ube54\\uad6d\\uc218, \\ucf69\\uad6d\\uc218, \\ucd08\\uacc4\\uad6d\\uc218, \\ub5a1\\uac08\\ube44\\n85081\\n274\\n425\\n\\ud504\\ub9ac\\ub9c8\\ubca0\\ub77c, \\uc2a4\\ud0c0 \\ud53c\\uc790, \\ub514\\uc544\\ubcfc\\ub77c, \\uaf48\\ud2b8\\ub85c \\ud3ec\\ub974\\ub9c8\\uc9c0, \\uace0\\ub974\\uace4\\uc878\\ub77c, \\ubca0\\ub974\\ub098\\ub3c4\\uce58, \\ud310\\uccb4\\ud0c0, \\uac10\\ubca0\\ub9ac \\ud06c\\ub808\\ub9c8, \\uac10\\ubca0\\ub9ac \\uc5d0 \\ub8e8\\uaf34\\ub77c, \\ubc84\\ud314\\ub85c \\ud3ec\\ubaa8\\ub3c4\\ub85c, \\uc624\\ub974\\uc870 \\ub9ac\\uc870\\ub610(\\ubcf4\\ub9ac), \\uac10\\ubca0\\ub9ac \\ud48d\\uae30 \\uc0d0\\ub7ec\\ub4dc, \\uc2dc\\uc800\\uc0d0\\ub7ec\\ub4dc, \\uce74\\ud504\\ub808\\uc81c\\n70759\\n222\\n318\\n\\uc2dc\\uace8\\uc57c\\ucc44\\ub41c\\uc7a5\\ube44\\ube54\\ubc25, \\ud1b5\\ubd81\\uc5b4\\ucc1c, \\uccad\\uad6d\\uc7a5, \\uae40\\uce58\\uc804\\uace8, \\ubaa9\\uc0b4\\uae40\\uce58\\ub41c\\uc7a5, \\uaf41\\uce58\\uae40\\uce58\\uc804\\uace8, \\uc0dd\\ubaa9\\uc0b4\\uc0bc\\uacb9\\uc0b4, \\uc0dd\\uc0bc\\uacb9\\uc0b4, \\uac10\\uc790\\ud0d5 \\ub300, \\uac10\\uc790\\ud0d5 \\uc911, \\ub2ed\\ubcf6\\uc74c\\ud0d5 \\ub300, \\ub2ed\\ubcf6\\uc74c\\ud0d5 \\uc911, \\ub099\\uc9c0\\ubcf6\\uc74c, \\uc81c\\uc721\\ubcf6\\uc74c, \\ub0c9\\ub3d9\\uc0bc\\uacb9\\uc0b4, \\uae40\\uce58\\ub41c\\uc7a5\\uad6d\\uc218, \\uacc4\\ub780\\ucc1c \\ucd94\\uac00\\n59434\\n221\\n182\\n\\ub9ac\\ubdf0(2237)\\uace0\\uac1d\\ub2d8\\ub4e4\\uc774 \\uc9c1\\uc811 \\uc791\\uc131\\ud558\\uc2e0 \\ub530\\ub048\\ud55c \\ud6c4\\uae30\\uc640 \\ud3c9\\uac00\\ub97c \\ub4e4\\uc5b4\\ubcf4\\uc138\\uc694.\\n [\\uc911], \\ucc3d\\uace0\\uc591\\uacf0\\ud0d5, \\uc655\\uac08\\ube44\\ud0d5, \\ub9e4\\uc6b4\\uac08\\ube44\\ucc1c, \\uc720\\uc790\\uc721\\ud68c\\ube44\\ube54\\ubc25, \\ud55c\\uc6b0\\uad81\\uc911\\ubbf8\\uc5ed\\uad6d, \\ubc84\\uc12f\\uc21c\\ub450\\ubd80\\ucc0c\\uac1c, \\uae4d\\ub450\\uae30\\ubcf6\\uc74c\\ubc25, \\ucc3d\\uace0 \\uc591\\ub150\\uac08\\ube44 \\uc120\\ubb3c\\uc138\\ud2b8\\n15199\\n10\\n64\\n\\ub5a1\\ub3c4\\ub9ac\\ud0d5 \\uc911(2~3\\uc778), \\ub5a1\\ub3c4\\ub9ac\\ud0d5 \\ub300 (3~4\\uc778), \\uac10\\uc790\\uc804, \\ub5a1\\ub3c4\\ub9ac\\ud0d5 \\uc18c (2\\uc778)\\n9211\\n4\\n9\\n\\ud3ec \\ubaa8\\uc774 Pho moi, \\ud3ec \\ub8e8\\uc5bb Pho ruot, \\uc9dc\\uc870 \\ub134\\ub78c (2ea), \\ud3ec \\ub540 Pho tam, \\ud3ec \\ucc10 Pho chin, \\ud3ec \\ubbc0\\uc5b4\\uc774 Pho muoi, \\ud3ec \\ubc14\\ucfe0\\ud14c Pho bak kut the, \\ud3ec \\uac04 Pho gan, \\ud3ec \\ub290\\uc5c9 Pho nuong, \\ud3ec \\ub450\\uc624\\uc774 Pho duoi, \\uc2b9 \\ub780 Suon ran, \\ud558\\ub178\\uc774 \\ubd84\\uc9dc Hanoi Bun cha, \\uaecc \\uc2b9 Com suon, \\ucf54\\ucf54\\ub11b \\uc288\\ub9bc\\ud504 & \\ud06c\\ub9ac\\uc2a4\\ud53c \\ub864,\"}]\n",
      "==================================\u001b[1m Ai Message \u001b[0m==================================\n",
      "\n",
      "강남역 근처에는 다양한 맛집들이 있습니다. \n",
      "\n",
      "한식 맛집으로는 창고 양곱밥, 한우 양지탕, 한우 갈비찜, 한우 수제비, 한우 육회비빔밥 등이 있습니다. \n",
      "\n",
      "이탈리안 레스토랑으로는 라브릭, 마마스 시그니처, 레드 크림 파스타 등이 유명합니다. \n",
      "\n",
      "스테이크 하우스로는 바비큐 스테이크, 이베리코 스테이크 등이 있고, \n",
      "\n",
      "베이커리/카페로는 프리마베라, 스타피자, 브란지노 등이 있습니다.\n",
      "\n",
      "그 외에도 태국음식, 베트남 음식, 일식, 중식 등 다양한 종류의 맛집들이 강남역 주변에 위치해 있습니다. 개인 취향에 맞는 맛집을 골라보시면 좋을 것 같습니다.\n"
     ]
    }
   ],
   "source": [
    "from langchain_core.messages import HumanMessage\n",
    "\n",
    "inputs = [HumanMessage(content=\"강남역 맛집 알려줘\")]\n",
    "\n",
    "for event in app.stream({\"messages\": inputs}, stream_mode=\"values\"):    \n",
    "    event[\"messages\"][-1].pretty_print()"
   ]
  },
  {
   "cell_type": "code",
   "execution_count": null,
   "id": "f0ad4c20-af33-41b4-978f-b06302463c4a",
   "metadata": {},
   "outputs": [],
   "source": []
  },
  {
   "cell_type": "code",
   "execution_count": null,
   "id": "06be244d-8e77-458a-91ca-6e2a7e1794c1",
   "metadata": {},
   "outputs": [],
   "source": []
  },
  {
   "cell_type": "code",
   "execution_count": 73,
   "id": "54f1325f-bb01-494d-8089-0d0e9de074e1",
   "metadata": {
    "tags": []
   },
   "outputs": [
    {
     "data": {
      "text/plain": [
       "{'messages': [HumanMessage(content='서울과 제주의 날씨 비교해줘.'),\n",
       "  AIMessage(content='', additional_kwargs={'usage': {'prompt_tokens': 281, 'completion_tokens': 114, 'total_tokens': 395}, 'stop_reason': 'tool_use', 'model_id': 'anthropic.claude-3-sonnet-20240229-v1:0'}, response_metadata={'usage': {'prompt_tokens': 281, 'completion_tokens': 114, 'total_tokens': 395}, 'stop_reason': 'tool_use', 'model_id': 'anthropic.claude-3-sonnet-20240229-v1:0'}, id='run-5106aedc-bad3-465c-a312-48cd172605ad-0', tool_calls=[{'name': 'tavily_search_results_json', 'args': {'query': 'seoul weather vs jeju weather'}, 'id': 'toolu_bdrk_0179me7SNAVdDVBpnnnFv8Dd'}], usage_metadata={'input_tokens': 281, 'output_tokens': 114, 'total_tokens': 395}),\n",
       "  ToolMessage(content='[{\"url\": \"https://world-weather.info/forecast/south_korea/cheju/october-2024/\", \"content\": \"Detailed \\\\u26a1 Jeju Weather Forecast for October 2024 - day/night \\\\ud83c\\\\udf21\\\\ufe0f temperatures, precipitations - World-Weather.info\"}]', name='tavily_search_results_json', tool_call_id='toolu_bdrk_0179me7SNAVdDVBpnnnFv8Dd'),\n",
       "  AIMessage(content='서울과 제주의 날씨를 비교해보겠습니다.\\n\\n서울은 대체로 온화한 날씨를 보이지만, 제주도는 해양성 기후의 영향으로 서울보다 기온 변화가 적고 습도가 높은 편입니다. \\n\\n봄과 가을에는 서울이 제주보다 기온이 높지만, 여름에는 제주가 서울보다 시원한 경향이 있습니다. 겨울에는 서울이 매우 춥지만 제주는 비교적 온난한 날씨를 보입니다.\\n\\n강수량 면에서는 제주가 연중 고른 강수 분포를 보이는 반면, 서울은 여름 몬순 기간에 집중적인 비가 내립니다.\\n\\n전반적으로 제주는 서울보다 연교차가 작고 습도가 높으며, 바람이 많이 부는 해양성 기후 특성을 지닙니다.', additional_kwargs={'usage': {'prompt_tokens': 436, 'completion_tokens': 316, 'total_tokens': 752}, 'stop_reason': 'end_turn', 'model_id': 'anthropic.claude-3-sonnet-20240229-v1:0'}, response_metadata={'usage': {'prompt_tokens': 436, 'completion_tokens': 316, 'total_tokens': 752}, 'stop_reason': 'end_turn', 'model_id': 'anthropic.claude-3-sonnet-20240229-v1:0'}, id='run-bd641fc3-e3e3-4dc4-aae0-a830ce7696a2-0', usage_metadata={'input_tokens': 436, 'output_tokens': 316, 'total_tokens': 752})]}"
      ]
     },
     "execution_count": 73,
     "metadata": {},
     "output_type": "execute_result"
    }
   ],
   "source": [
    "from langchain_core.messages import HumanMessage\n",
    "\n",
    "inputs = {\"messages\": [HumanMessage(content=\"서울과 제주의 날씨 비교해줘.\")]}\n",
    "app.invoke(inputs)"
   ]
  },
  {
   "cell_type": "code",
   "execution_count": null,
   "id": "ae65710c-5a42-4924-9370-c47fcc7713a0",
   "metadata": {},
   "outputs": [],
   "source": []
  },
  {
   "cell_type": "code",
   "execution_count": 75,
   "id": "a93f2067-63cf-4d2d-a1ff-83bad1c1fff3",
   "metadata": {
    "tags": []
   },
   "outputs": [
    {
     "name": "stdout",
     "output_type": "stream",
     "text": [
      "================================\u001b[1m Human Message \u001b[0m=================================\n",
      "\n",
      "서울과 제주의 날씨 비교해줘.\n",
      "==================================\u001b[1m Ai Message \u001b[0m==================================\n",
      "Tool Calls:\n",
      "  tavily_search_results_json (toolu_bdrk_015PMJXpRmyv39eXjpxfeU9u)\n",
      " Call ID: toolu_bdrk_015PMJXpRmyv39eXjpxfeU9u\n",
      "  Args:\n",
      "    query: seoul weather vs jeju weather\n",
      "=================================\u001b[1m Tool Message \u001b[0m=================================\n",
      "Name: tavily_search_results_json\n",
      "\n",
      "[{\"url\": \"https://www.weatherapi.com/\", \"content\": \"{'location': {'name': 'Jeju', 'region': '', 'country': 'Ethiopia', 'lat': 8.42, 'lon': 39.63, 'tz_id': 'Africa/Addis_Ababa', 'localtime_epoch': 1720629551, 'localtime': '2024-07-10 19:39'}, 'current': {'last_updated_epoch': 1720629000, 'last_updated': '2024-07-10 19:30', 'temp_c': 21.1, 'temp_f': 70.1, 'is_day': 0, 'condition': {'text': 'Partly Cloudy', 'icon': '//cdn.weatherapi.com/weather/64x64/night/116.png', 'code': 1003}, 'wind_mph': 4.9, 'wind_kph': 7.9, 'wind_degree': 249, 'wind_dir': 'WSW', 'pressure_mb': 1012.0, 'pressure_in': 29.88, 'precip_mm': 0.0, 'precip_in': 0.0, 'humidity': 57, 'cloud': 27, 'feelslike_c': 21.1, 'feelslike_f': 70.1, 'windchill_c': 21.1, 'windchill_f': 70.1, 'heatindex_c': 24.4, 'heatindex_f': 76.0, 'dewpoint_c': 12.2, 'dewpoint_f': 53.9, 'vis_km': 10.0, 'vis_miles': 6.0, 'uv': 1.0, 'gust_mph': 9.2, 'gust_kph': 14.8}}\"}]\n",
      "==================================\u001b[1m Ai Message \u001b[0m==================================\n",
      "Tool Calls:\n",
      "  tavily_search_results_json (toolu_bdrk_01HGd6byvyxTCBwBGMo9o4v2)\n",
      " Call ID: toolu_bdrk_01HGd6byvyxTCBwBGMo9o4v2\n",
      "  Args:\n",
      "    query: seoul weather vs jeju weather comparison\n",
      "=================================\u001b[1m Tool Message \u001b[0m=================================\n",
      "Name: tavily_search_results_json\n",
      "\n",
      "[{\"url\": \"https://meteodb.com/seoul/jeju\", \"content\": \"Seoul (Korea) and Jeju (Korea). Comparison of daily temperature, night temperature, water temperature, amount of precipitation. Compare seasons.\"}]\n",
      "==================================\u001b[1m Ai Message \u001b[0m==================================\n",
      "Tool Calls:\n",
      "  tavily_search_results_json (toolu_bdrk_01Xqv2xXrBoxa2vpZb4C9hEc)\n",
      " Call ID: toolu_bdrk_01Xqv2xXrBoxa2vpZb4C9hEc\n",
      "  Args:\n",
      "    query: seoul weather vs jeju weather comparison current conditions\n",
      "=================================\u001b[1m Tool Message \u001b[0m=================================\n",
      "Name: tavily_search_results_json\n",
      "\n",
      "[{\"url\": \"https://meteodb.com/seoul/jeju\", \"content\": \"Learn where is warmer and colder where in any month of the year. Compare the day and night temperature, water temperature and precipitation. Where the sun shines longer, and where the rains. You have chosen to compare the two cities: \\u2014 Seoul (Korea) \\u2014 Jeju (Korea)\"}]\n",
      "==================================\u001b[1m Ai Message \u001b[0m==================================\n",
      "Tool Calls:\n",
      "  tavily_search_results_json (toolu_bdrk_01XkL2cxVsu3XQDP2zZgQF7A)\n",
      " Call ID: toolu_bdrk_01XkL2cxVsu3XQDP2zZgQF7A\n",
      "  Args:\n",
      "    query: seoul weather vs jeju weather comparison today\n",
      "=================================\u001b[1m Tool Message \u001b[0m=================================\n",
      "Name: tavily_search_results_json\n",
      "\n",
      "[{\"url\": \"https://meteodb.com/seoul/jeju\", \"content\": \"Seoul (Korea) and Jeju (Korea). Comparison of daily temperature, night temperature, water temperature, amount of precipitation. Compare seasons.\"}]\n",
      "==================================\u001b[1m Ai Message \u001b[0m==================================\n",
      "\n",
      "<search_quality_reflection>\n",
      "The search results provide some useful information comparing the weather in Seoul and Jeju, including current conditions, temperatures, precipitation, and seasonal differences. However, the results do not give a clear and concise comparison of the current weather conditions between the two locations. To fully answer the query, I would need more specific details on things like the current temperature, humidity, wind speed, cloud cover, etc. in each city to directly compare them.\n",
      "</search_quality_reflection>\n",
      "\n",
      "<search_quality_score>3</search_quality_score>\n",
      "\n",
      "<result>\n",
      "기존 검색 결과를 바탕으로 서울과 제주의 현재 날씨를 직접적으로 비교하기는 어렵습니다. 하지만 일반적인 날씨 패턴을 보면 다음과 같은 차이가 있습니다:\n",
      "\n",
      "- 제주는 서울보다 연평균 기온이 높고 일교차가 작습니다. 겨울에는 서울보다 따뜻하고 여름에는 서울보다 시원합니다.\n",
      "\n",
      "- 제주는 섬이라 습도가 높고 바람이 많이 붑니다. \n",
      "\n",
      "- 제주는 연간 강수량이 서울보다 많은 편입니다.\n",
      "\n",
      "- 제주는 구름이 많고 흐린 날이 많습니다.\n",
      "\n",
      "따라서 제주는 서울보다 온화하고 습한 해양성 기후를 보이는 반면, 서울은 대륙성 기후의 영향을 많이 받아 계절 변화가 뚜렷합니다.\n",
      "\n",
      "현재 구체적인 날씨 정보가 부족하여 정확한 비교는 어렵지만, 일반적으로 제주가 서울보다 온화하고 습한 날씨를 보일 것으로 예상됩니다.\n",
      "</result>\n"
     ]
    }
   ],
   "source": [
    "from langchain_core.messages import HumanMessage\n",
    "\n",
    "inputs = [HumanMessage(content=\"서울과 제주의 날씨 비교해줘.\")]\n",
    "\n",
    "output = app.stream({\"messages\": inputs}, stream_mode=\"values\")\n",
    "\n",
    "for event in output:    \n",
    "    event[\"messages\"][-1].pretty_print()"
   ]
  },
  {
   "cell_type": "code",
   "execution_count": null,
   "id": "92c44b28-0a64-4315-a2bb-b4eecd718d4b",
   "metadata": {},
   "outputs": [],
   "source": []
  },
  {
   "cell_type": "code",
   "execution_count": null,
   "id": "9d192c43-5fd7-408e-bd6d-b579c02eab15",
   "metadata": {},
   "outputs": [],
   "source": []
  },
  {
   "cell_type": "code",
   "execution_count": null,
   "id": "723a7aca-beb9-4330-baf4-4369d846f5d2",
   "metadata": {},
   "outputs": [],
   "source": []
  },
  {
   "cell_type": "code",
   "execution_count": null,
   "id": "2d05294d-ef90-4d67-85b8-52451a72bcc0",
   "metadata": {},
   "outputs": [],
   "source": []
  },
  {
   "cell_type": "code",
   "execution_count": null,
   "id": "6ae4862f-e626-4aab-824a-d17cfc7768f2",
   "metadata": {},
   "outputs": [],
   "source": []
  },
  {
   "cell_type": "code",
   "execution_count": null,
   "id": "a8e8f801-e90a-4b8e-9e16-b9128aca7486",
   "metadata": {},
   "outputs": [],
   "source": []
  },
  {
   "cell_type": "code",
   "execution_count": null,
   "id": "2f13d535-d283-4ce4-aa73-6aaf5a51c14b",
   "metadata": {},
   "outputs": [],
   "source": []
  },
  {
   "cell_type": "code",
   "execution_count": null,
   "id": "ea8ed0ff-cc41-4a27-9124-a8736d0e8691",
   "metadata": {},
   "outputs": [],
   "source": []
  },
  {
   "cell_type": "markdown",
   "id": "0680d841-ea9c-4780-94ca-6b74a36f342b",
   "metadata": {},
   "source": [
    "## Agent Executor From Scratch\n",
    "https://github.com/langchain-ai/langgraph/blob/main/examples/agent_executor/base.ipynb"
   ]
  },
  {
   "cell_type": "code",
   "execution_count": 25,
   "id": "99edc0f6-f839-4582-a880-582289c6ace8",
   "metadata": {
    "tags": []
   },
   "outputs": [],
   "source": [
    "import operator\n",
    "from typing import TypedDict, Annotated, List, Union\n",
    "from langchain_core.agents import AgentAction, AgentFinish\n",
    "from langchain_core.messages import BaseMessage\n",
    "from langgraph.prebuilt.tool_executor import ToolExecutor\n",
    "\n",
    "class AgentState(TypedDict):\n",
    "    input: str\n",
    "    chat_history: list[BaseMessage]\n",
    "    agent_outcome: Union[AgentAction, AgentFinish, None]\n",
    "    intermediate_steps: Annotated[list[tuple[AgentAction, str]], operator.add]"
   ]
  },
  {
   "cell_type": "code",
   "execution_count": 26,
   "id": "4011fdd9-a755-4cc9-9eb8-575e1d09f97d",
   "metadata": {
    "tags": []
   },
   "outputs": [],
   "source": [
    "def get_react_prompt_template(mode: str): # (hwchase17/react) https://smith.langchain.com/hub/hwchase17/react\n",
    "    # Get the react prompt template\n",
    "    \n",
    "    if mode=='eng':\n",
    "        return PromptTemplate.from_template(\"\"\"Answer the following questions as best you can. You have access to the following tools:\n",
    "\n",
    "{tools}\n",
    "\n",
    "Use the following format:\n",
    "\n",
    "Question: the input question you must answer\n",
    "Thought: you should always think about what to do\n",
    "Action: the action to take, should use only the tool name from [{tool_names}]\n",
    "Action Input: the input to the action\n",
    "Observation: the result of the action\n",
    "... (this Thought/Action/Action Input/Observation can repeat 5 times)\n",
    "Thought: I now know the final answer\n",
    "Final Answer: the final answer to the original input question\n",
    "\n",
    "When you have a response to say to the Human, or if you do not need to use a tool, you MUST use the format:\n",
    "'''\n",
    "Thought: Do I need to use a tool? No\n",
    "Final Answer: [your response here]\n",
    "'''\n",
    "\n",
    "Begin!\n",
    "\n",
    "Question: {input}\n",
    "Thought:{agent_scratchpad}\n",
    "\"\"\")\n",
    "    else: \n",
    "        return PromptTemplate.from_template(\"\"\"다음은 Human과 Assistant의 친근한 대화입니다. Assistant은 상황에 맞는 구체적인 세부 정보를 충분히 제공합니다. Assistant의 이름은 서연이고, 모르는 질문을 받으면 솔직히 모른다고 말합니다.\n",
    "\n",
    "사용할 수 있는 tools은 아래와 같습니다:\n",
    "\n",
    "{tools}\n",
    "\n",
    "다음의 format을 사용하세요.:\n",
    "\n",
    "Question: 답변하여야 할 input question \n",
    "Thought: you should always think about what to do. \n",
    "Action: 해야 할 action로서 [{tool_names}]에서 tool의 name만을 가져옵니다. \n",
    "Action Input: action의 input\n",
    "Observation: action의 result\n",
    "... (Thought/Action/Action Input/Observation을 5번 반복 할 수 있습니다.)\n",
    "Thought: 나는 이제 Final Answer를 알고 있습니다. \n",
    "Final Answer: original input에 대한 Final Answer\n",
    "\n",
    "너는 Human에게 해줄 응답이 있거나, Tool을 사용하지 않아도 되는 경우에, 다음 format을 사용하세요.:\n",
    "'''\n",
    "Thought: Tool을 사용해야 하나요? No\n",
    "Final Answer: [your response here]\n",
    "'''\n",
    "\n",
    "Begin!\n",
    "\n",
    "Question: {input}\n",
    "Thought:{agent_scratchpad}\n",
    "\"\"\")\n"
   ]
  },
  {
   "cell_type": "code",
   "execution_count": 30,
   "id": "05b1a5c7-7db9-458f-88f1-e62718527fdb",
   "metadata": {
    "tags": []
   },
   "outputs": [],
   "source": [
    "from langchain.prompts import PromptTemplate\n",
    "from langchain.agents import AgentExecutor, create_react_agent"
   ]
  },
  {
   "cell_type": "code",
   "execution_count": 31,
   "id": "6733776c-09eb-4e03-9a7a-98276eb3f8db",
   "metadata": {
    "tags": []
   },
   "outputs": [],
   "source": [
    "mode  = 'kor'\n",
    "prompt_template = get_react_prompt_template(mode)\n",
    "agent_runnable = create_react_agent(chat, tools, prompt_template)"
   ]
  },
  {
   "cell_type": "code",
   "execution_count": 44,
   "id": "f0b52395-bd5e-4959-a207-2eefeb9e1e03",
   "metadata": {
    "tags": []
   },
   "outputs": [],
   "source": [
    "tools = [TavilySearchResults(max_results=1)]\n",
    "\n",
    "def run_agent(state: AgentState):\n",
    "    agent_outcome = agent_runnable.invoke(state)\n",
    "    return {\"agent_outcome\": agent_outcome}\n",
    "\n",
    "def execute_tools(state: AgentState):\n",
    "    agent_action = state[\"agent_outcome\"]\n",
    "    \n",
    "    tool_executor = ToolExecutor(tools)\n",
    "    \n",
    "    output = tool_executor.invoke(agent_action)\n",
    "    return {\"intermediate_steps\": [(agent_action, str(output))]}\n",
    "\n",
    "def should_continue(state: AgentState):\n",
    "    if isinstance(state[\"agent_outcome\"], AgentFinish):\n",
    "        return \"end\"\n",
    "    else:\n",
    "        return \"continue\""
   ]
  },
  {
   "cell_type": "code",
   "execution_count": 49,
   "id": "f7fb03ee-0c30-42dc-b5f6-5db225a77adb",
   "metadata": {
    "tags": []
   },
   "outputs": [],
   "source": [
    "from langgraph.graph import END, StateGraph\n",
    "\n",
    "def buildAgent():\n",
    "    workflow = StateGraph(AgentState)\n",
    "\n",
    "    workflow.add_node(\"agent\", run_agent)\n",
    "    workflow.add_node(\"action\", execute_tools)\n",
    "\n",
    "    workflow.set_entry_point(\"agent\")\n",
    "    workflow.add_conditional_edges(\n",
    "        \"agent\",\n",
    "        should_continue,\n",
    "        {\n",
    "            \"continue\": \"action\",\n",
    "            \"end\": END,\n",
    "        },\n",
    "    )\n",
    "    workflow.add_edge(\"action\", \"agent\")\n",
    "    return workflow.compile()    \n",
    "\n",
    "app = buildAgent()"
   ]
  },
  {
   "cell_type": "code",
   "execution_count": 51,
   "id": "58636a56-c251-41bd-af24-e26d6b9e685b",
   "metadata": {
    "tags": []
   },
   "outputs": [
    {
     "data": {
      "text/plain": [
       "{'output': '강남역 주변에는 다양한 종류의 맛집들이 많이 있습니다. 한식으로는 갈비탕, 냉면, 비빔밥 등이 유명하고, 양식으로는 파스타, 피자, 스테이크 전문점들이 있습니다. 또한 베트남 쌀국수 맛집들도 많이 있는 것 같습니다. 개인 취향에 맞는 다양한 메뉴를 즐길 수 있을 것 같네요.'}"
      ]
     },
     "execution_count": 51,
     "metadata": {},
     "output_type": "execute_result"
    }
   ],
   "source": [
    "query = \"강남역 맛집은?\"\n",
    "inputs = {\"input\": query}    \n",
    "config = {\"recursion_limit\": 50}\n",
    "for output in app.stream(inputs, config=config):\n",
    "    for key, value in output.items():            \n",
    "        if 'agent_outcome' in value and isinstance(value['agent_outcome'], AgentFinish):\n",
    "            response = value['agent_outcome'].return_values\n",
    "response"
   ]
  }
 ],
 "metadata": {
  "availableInstances": [
   {
    "_defaultOrder": 0,
    "_isFastLaunch": true,
    "category": "General purpose",
    "gpuNum": 0,
    "hideHardwareSpecs": false,
    "memoryGiB": 4,
    "name": "ml.t3.medium",
    "vcpuNum": 2
   },
   {
    "_defaultOrder": 1,
    "_isFastLaunch": false,
    "category": "General purpose",
    "gpuNum": 0,
    "hideHardwareSpecs": false,
    "memoryGiB": 8,
    "name": "ml.t3.large",
    "vcpuNum": 2
   },
   {
    "_defaultOrder": 2,
    "_isFastLaunch": false,
    "category": "General purpose",
    "gpuNum": 0,
    "hideHardwareSpecs": false,
    "memoryGiB": 16,
    "name": "ml.t3.xlarge",
    "vcpuNum": 4
   },
   {
    "_defaultOrder": 3,
    "_isFastLaunch": false,
    "category": "General purpose",
    "gpuNum": 0,
    "hideHardwareSpecs": false,
    "memoryGiB": 32,
    "name": "ml.t3.2xlarge",
    "vcpuNum": 8
   },
   {
    "_defaultOrder": 4,
    "_isFastLaunch": true,
    "category": "General purpose",
    "gpuNum": 0,
    "hideHardwareSpecs": false,
    "memoryGiB": 8,
    "name": "ml.m5.large",
    "vcpuNum": 2
   },
   {
    "_defaultOrder": 5,
    "_isFastLaunch": false,
    "category": "General purpose",
    "gpuNum": 0,
    "hideHardwareSpecs": false,
    "memoryGiB": 16,
    "name": "ml.m5.xlarge",
    "vcpuNum": 4
   },
   {
    "_defaultOrder": 6,
    "_isFastLaunch": false,
    "category": "General purpose",
    "gpuNum": 0,
    "hideHardwareSpecs": false,
    "memoryGiB": 32,
    "name": "ml.m5.2xlarge",
    "vcpuNum": 8
   },
   {
    "_defaultOrder": 7,
    "_isFastLaunch": false,
    "category": "General purpose",
    "gpuNum": 0,
    "hideHardwareSpecs": false,
    "memoryGiB": 64,
    "name": "ml.m5.4xlarge",
    "vcpuNum": 16
   },
   {
    "_defaultOrder": 8,
    "_isFastLaunch": false,
    "category": "General purpose",
    "gpuNum": 0,
    "hideHardwareSpecs": false,
    "memoryGiB": 128,
    "name": "ml.m5.8xlarge",
    "vcpuNum": 32
   },
   {
    "_defaultOrder": 9,
    "_isFastLaunch": false,
    "category": "General purpose",
    "gpuNum": 0,
    "hideHardwareSpecs": false,
    "memoryGiB": 192,
    "name": "ml.m5.12xlarge",
    "vcpuNum": 48
   },
   {
    "_defaultOrder": 10,
    "_isFastLaunch": false,
    "category": "General purpose",
    "gpuNum": 0,
    "hideHardwareSpecs": false,
    "memoryGiB": 256,
    "name": "ml.m5.16xlarge",
    "vcpuNum": 64
   },
   {
    "_defaultOrder": 11,
    "_isFastLaunch": false,
    "category": "General purpose",
    "gpuNum": 0,
    "hideHardwareSpecs": false,
    "memoryGiB": 384,
    "name": "ml.m5.24xlarge",
    "vcpuNum": 96
   },
   {
    "_defaultOrder": 12,
    "_isFastLaunch": false,
    "category": "General purpose",
    "gpuNum": 0,
    "hideHardwareSpecs": false,
    "memoryGiB": 8,
    "name": "ml.m5d.large",
    "vcpuNum": 2
   },
   {
    "_defaultOrder": 13,
    "_isFastLaunch": false,
    "category": "General purpose",
    "gpuNum": 0,
    "hideHardwareSpecs": false,
    "memoryGiB": 16,
    "name": "ml.m5d.xlarge",
    "vcpuNum": 4
   },
   {
    "_defaultOrder": 14,
    "_isFastLaunch": false,
    "category": "General purpose",
    "gpuNum": 0,
    "hideHardwareSpecs": false,
    "memoryGiB": 32,
    "name": "ml.m5d.2xlarge",
    "vcpuNum": 8
   },
   {
    "_defaultOrder": 15,
    "_isFastLaunch": false,
    "category": "General purpose",
    "gpuNum": 0,
    "hideHardwareSpecs": false,
    "memoryGiB": 64,
    "name": "ml.m5d.4xlarge",
    "vcpuNum": 16
   },
   {
    "_defaultOrder": 16,
    "_isFastLaunch": false,
    "category": "General purpose",
    "gpuNum": 0,
    "hideHardwareSpecs": false,
    "memoryGiB": 128,
    "name": "ml.m5d.8xlarge",
    "vcpuNum": 32
   },
   {
    "_defaultOrder": 17,
    "_isFastLaunch": false,
    "category": "General purpose",
    "gpuNum": 0,
    "hideHardwareSpecs": false,
    "memoryGiB": 192,
    "name": "ml.m5d.12xlarge",
    "vcpuNum": 48
   },
   {
    "_defaultOrder": 18,
    "_isFastLaunch": false,
    "category": "General purpose",
    "gpuNum": 0,
    "hideHardwareSpecs": false,
    "memoryGiB": 256,
    "name": "ml.m5d.16xlarge",
    "vcpuNum": 64
   },
   {
    "_defaultOrder": 19,
    "_isFastLaunch": false,
    "category": "General purpose",
    "gpuNum": 0,
    "hideHardwareSpecs": false,
    "memoryGiB": 384,
    "name": "ml.m5d.24xlarge",
    "vcpuNum": 96
   },
   {
    "_defaultOrder": 20,
    "_isFastLaunch": false,
    "category": "General purpose",
    "gpuNum": 0,
    "hideHardwareSpecs": true,
    "memoryGiB": 0,
    "name": "ml.geospatial.interactive",
    "supportedImageNames": [
     "sagemaker-geospatial-v1-0"
    ],
    "vcpuNum": 0
   },
   {
    "_defaultOrder": 21,
    "_isFastLaunch": true,
    "category": "Compute optimized",
    "gpuNum": 0,
    "hideHardwareSpecs": false,
    "memoryGiB": 4,
    "name": "ml.c5.large",
    "vcpuNum": 2
   },
   {
    "_defaultOrder": 22,
    "_isFastLaunch": false,
    "category": "Compute optimized",
    "gpuNum": 0,
    "hideHardwareSpecs": false,
    "memoryGiB": 8,
    "name": "ml.c5.xlarge",
    "vcpuNum": 4
   },
   {
    "_defaultOrder": 23,
    "_isFastLaunch": false,
    "category": "Compute optimized",
    "gpuNum": 0,
    "hideHardwareSpecs": false,
    "memoryGiB": 16,
    "name": "ml.c5.2xlarge",
    "vcpuNum": 8
   },
   {
    "_defaultOrder": 24,
    "_isFastLaunch": false,
    "category": "Compute optimized",
    "gpuNum": 0,
    "hideHardwareSpecs": false,
    "memoryGiB": 32,
    "name": "ml.c5.4xlarge",
    "vcpuNum": 16
   },
   {
    "_defaultOrder": 25,
    "_isFastLaunch": false,
    "category": "Compute optimized",
    "gpuNum": 0,
    "hideHardwareSpecs": false,
    "memoryGiB": 72,
    "name": "ml.c5.9xlarge",
    "vcpuNum": 36
   },
   {
    "_defaultOrder": 26,
    "_isFastLaunch": false,
    "category": "Compute optimized",
    "gpuNum": 0,
    "hideHardwareSpecs": false,
    "memoryGiB": 96,
    "name": "ml.c5.12xlarge",
    "vcpuNum": 48
   },
   {
    "_defaultOrder": 27,
    "_isFastLaunch": false,
    "category": "Compute optimized",
    "gpuNum": 0,
    "hideHardwareSpecs": false,
    "memoryGiB": 144,
    "name": "ml.c5.18xlarge",
    "vcpuNum": 72
   },
   {
    "_defaultOrder": 28,
    "_isFastLaunch": false,
    "category": "Compute optimized",
    "gpuNum": 0,
    "hideHardwareSpecs": false,
    "memoryGiB": 192,
    "name": "ml.c5.24xlarge",
    "vcpuNum": 96
   },
   {
    "_defaultOrder": 29,
    "_isFastLaunch": true,
    "category": "Accelerated computing",
    "gpuNum": 1,
    "hideHardwareSpecs": false,
    "memoryGiB": 16,
    "name": "ml.g4dn.xlarge",
    "vcpuNum": 4
   },
   {
    "_defaultOrder": 30,
    "_isFastLaunch": false,
    "category": "Accelerated computing",
    "gpuNum": 1,
    "hideHardwareSpecs": false,
    "memoryGiB": 32,
    "name": "ml.g4dn.2xlarge",
    "vcpuNum": 8
   },
   {
    "_defaultOrder": 31,
    "_isFastLaunch": false,
    "category": "Accelerated computing",
    "gpuNum": 1,
    "hideHardwareSpecs": false,
    "memoryGiB": 64,
    "name": "ml.g4dn.4xlarge",
    "vcpuNum": 16
   },
   {
    "_defaultOrder": 32,
    "_isFastLaunch": false,
    "category": "Accelerated computing",
    "gpuNum": 1,
    "hideHardwareSpecs": false,
    "memoryGiB": 128,
    "name": "ml.g4dn.8xlarge",
    "vcpuNum": 32
   },
   {
    "_defaultOrder": 33,
    "_isFastLaunch": false,
    "category": "Accelerated computing",
    "gpuNum": 4,
    "hideHardwareSpecs": false,
    "memoryGiB": 192,
    "name": "ml.g4dn.12xlarge",
    "vcpuNum": 48
   },
   {
    "_defaultOrder": 34,
    "_isFastLaunch": false,
    "category": "Accelerated computing",
    "gpuNum": 1,
    "hideHardwareSpecs": false,
    "memoryGiB": 256,
    "name": "ml.g4dn.16xlarge",
    "vcpuNum": 64
   },
   {
    "_defaultOrder": 35,
    "_isFastLaunch": false,
    "category": "Accelerated computing",
    "gpuNum": 1,
    "hideHardwareSpecs": false,
    "memoryGiB": 61,
    "name": "ml.p3.2xlarge",
    "vcpuNum": 8
   },
   {
    "_defaultOrder": 36,
    "_isFastLaunch": false,
    "category": "Accelerated computing",
    "gpuNum": 4,
    "hideHardwareSpecs": false,
    "memoryGiB": 244,
    "name": "ml.p3.8xlarge",
    "vcpuNum": 32
   },
   {
    "_defaultOrder": 37,
    "_isFastLaunch": false,
    "category": "Accelerated computing",
    "gpuNum": 8,
    "hideHardwareSpecs": false,
    "memoryGiB": 488,
    "name": "ml.p3.16xlarge",
    "vcpuNum": 64
   },
   {
    "_defaultOrder": 38,
    "_isFastLaunch": false,
    "category": "Accelerated computing",
    "gpuNum": 8,
    "hideHardwareSpecs": false,
    "memoryGiB": 768,
    "name": "ml.p3dn.24xlarge",
    "vcpuNum": 96
   },
   {
    "_defaultOrder": 39,
    "_isFastLaunch": false,
    "category": "Memory Optimized",
    "gpuNum": 0,
    "hideHardwareSpecs": false,
    "memoryGiB": 16,
    "name": "ml.r5.large",
    "vcpuNum": 2
   },
   {
    "_defaultOrder": 40,
    "_isFastLaunch": false,
    "category": "Memory Optimized",
    "gpuNum": 0,
    "hideHardwareSpecs": false,
    "memoryGiB": 32,
    "name": "ml.r5.xlarge",
    "vcpuNum": 4
   },
   {
    "_defaultOrder": 41,
    "_isFastLaunch": false,
    "category": "Memory Optimized",
    "gpuNum": 0,
    "hideHardwareSpecs": false,
    "memoryGiB": 64,
    "name": "ml.r5.2xlarge",
    "vcpuNum": 8
   },
   {
    "_defaultOrder": 42,
    "_isFastLaunch": false,
    "category": "Memory Optimized",
    "gpuNum": 0,
    "hideHardwareSpecs": false,
    "memoryGiB": 128,
    "name": "ml.r5.4xlarge",
    "vcpuNum": 16
   },
   {
    "_defaultOrder": 43,
    "_isFastLaunch": false,
    "category": "Memory Optimized",
    "gpuNum": 0,
    "hideHardwareSpecs": false,
    "memoryGiB": 256,
    "name": "ml.r5.8xlarge",
    "vcpuNum": 32
   },
   {
    "_defaultOrder": 44,
    "_isFastLaunch": false,
    "category": "Memory Optimized",
    "gpuNum": 0,
    "hideHardwareSpecs": false,
    "memoryGiB": 384,
    "name": "ml.r5.12xlarge",
    "vcpuNum": 48
   },
   {
    "_defaultOrder": 45,
    "_isFastLaunch": false,
    "category": "Memory Optimized",
    "gpuNum": 0,
    "hideHardwareSpecs": false,
    "memoryGiB": 512,
    "name": "ml.r5.16xlarge",
    "vcpuNum": 64
   },
   {
    "_defaultOrder": 46,
    "_isFastLaunch": false,
    "category": "Memory Optimized",
    "gpuNum": 0,
    "hideHardwareSpecs": false,
    "memoryGiB": 768,
    "name": "ml.r5.24xlarge",
    "vcpuNum": 96
   },
   {
    "_defaultOrder": 47,
    "_isFastLaunch": false,
    "category": "Accelerated computing",
    "gpuNum": 1,
    "hideHardwareSpecs": false,
    "memoryGiB": 16,
    "name": "ml.g5.xlarge",
    "vcpuNum": 4
   },
   {
    "_defaultOrder": 48,
    "_isFastLaunch": false,
    "category": "Accelerated computing",
    "gpuNum": 1,
    "hideHardwareSpecs": false,
    "memoryGiB": 32,
    "name": "ml.g5.2xlarge",
    "vcpuNum": 8
   },
   {
    "_defaultOrder": 49,
    "_isFastLaunch": false,
    "category": "Accelerated computing",
    "gpuNum": 1,
    "hideHardwareSpecs": false,
    "memoryGiB": 64,
    "name": "ml.g5.4xlarge",
    "vcpuNum": 16
   },
   {
    "_defaultOrder": 50,
    "_isFastLaunch": false,
    "category": "Accelerated computing",
    "gpuNum": 1,
    "hideHardwareSpecs": false,
    "memoryGiB": 128,
    "name": "ml.g5.8xlarge",
    "vcpuNum": 32
   },
   {
    "_defaultOrder": 51,
    "_isFastLaunch": false,
    "category": "Accelerated computing",
    "gpuNum": 1,
    "hideHardwareSpecs": false,
    "memoryGiB": 256,
    "name": "ml.g5.16xlarge",
    "vcpuNum": 64
   },
   {
    "_defaultOrder": 52,
    "_isFastLaunch": false,
    "category": "Accelerated computing",
    "gpuNum": 4,
    "hideHardwareSpecs": false,
    "memoryGiB": 192,
    "name": "ml.g5.12xlarge",
    "vcpuNum": 48
   },
   {
    "_defaultOrder": 53,
    "_isFastLaunch": false,
    "category": "Accelerated computing",
    "gpuNum": 4,
    "hideHardwareSpecs": false,
    "memoryGiB": 384,
    "name": "ml.g5.24xlarge",
    "vcpuNum": 96
   },
   {
    "_defaultOrder": 54,
    "_isFastLaunch": false,
    "category": "Accelerated computing",
    "gpuNum": 8,
    "hideHardwareSpecs": false,
    "memoryGiB": 768,
    "name": "ml.g5.48xlarge",
    "vcpuNum": 192
   },
   {
    "_defaultOrder": 55,
    "_isFastLaunch": false,
    "category": "Accelerated computing",
    "gpuNum": 8,
    "hideHardwareSpecs": false,
    "memoryGiB": 1152,
    "name": "ml.p4d.24xlarge",
    "vcpuNum": 96
   },
   {
    "_defaultOrder": 56,
    "_isFastLaunch": false,
    "category": "Accelerated computing",
    "gpuNum": 8,
    "hideHardwareSpecs": false,
    "memoryGiB": 1152,
    "name": "ml.p4de.24xlarge",
    "vcpuNum": 96
   },
   {
    "_defaultOrder": 57,
    "_isFastLaunch": false,
    "category": "Accelerated computing",
    "gpuNum": 0,
    "hideHardwareSpecs": false,
    "memoryGiB": 32,
    "name": "ml.trn1.2xlarge",
    "vcpuNum": 8
   },
   {
    "_defaultOrder": 58,
    "_isFastLaunch": false,
    "category": "Accelerated computing",
    "gpuNum": 0,
    "hideHardwareSpecs": false,
    "memoryGiB": 512,
    "name": "ml.trn1.32xlarge",
    "vcpuNum": 128
   },
   {
    "_defaultOrder": 59,
    "_isFastLaunch": false,
    "category": "Accelerated computing",
    "gpuNum": 0,
    "hideHardwareSpecs": false,
    "memoryGiB": 512,
    "name": "ml.trn1n.32xlarge",
    "vcpuNum": 128
   }
  ],
  "instance_type": "ml.t3.medium",
  "kernelspec": {
   "display_name": "Python 3 (Data Science 3.0)",
   "language": "python",
   "name": "python3__SAGEMAKER_INTERNAL__arn:aws:sagemaker:us-west-2:236514542706:image/sagemaker-data-science-310-v1"
  },
  "language_info": {
   "codemirror_mode": {
    "name": "ipython",
    "version": 3
   },
   "file_extension": ".py",
   "mimetype": "text/x-python",
   "name": "python",
   "nbconvert_exporter": "python",
   "pygments_lexer": "ipython3",
   "version": "3.10.6"
  }
 },
 "nbformat": 4,
 "nbformat_minor": 5
}
