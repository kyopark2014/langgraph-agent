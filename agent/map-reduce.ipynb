{
 "cells": [
  {
   "cell_type": "markdown",
   "id": "332516a7-eaa1-4e4a-b053-633f82b0a405",
   "metadata": {},
   "source": [
    "# MAP Reduce\n",
    "\n",
    "https://github.com/kyopark2014/langgraph-agent/blob/main/map-reduce-parallel-processing.md\n",
    "\n",
    "https://langchain-ai.github.io/langgraph/how-tos/map-reduce/"
   ]
  },
  {
   "cell_type": "code",
   "execution_count": null,
   "id": "65fa767f-7540-441c-b5f3-a98fafbfabcb",
   "metadata": {
    "tags": []
   },
   "outputs": [],
   "source": [
    "import boto3"
   ]
  },
  {
   "cell_type": "code",
   "execution_count": 3,
   "id": "a4c43272-8bd6-44b8-bac7-a15fe8b295d7",
   "metadata": {
    "tags": []
   },
   "outputs": [
    {
     "name": "stdout",
     "output_type": "stream",
     "text": [
      "\u001b[33mWARNING: Running pip as the 'root' user can result in broken permissions and conflicting behaviour with the system package manager. It is recommended to use a virtual environment instead: https://pip.pypa.io/warnings/venv\u001b[0m\u001b[33m\n",
      "\u001b[0m"
     ]
    }
   ],
   "source": [
    "!pip3 install langchain-aws langchain-community langchain --quiet"
   ]
  },
  {
   "cell_type": "code",
   "execution_count": 4,
   "id": "b2dc7c99-7e1c-418e-b4aa-8ff3eca11e60",
   "metadata": {
    "tags": []
   },
   "outputs": [],
   "source": [
    "from botocore.config import Config\n",
    "from langchain_aws import ChatBedrock\n",
    "bedrock_region = 'us-east-1'\n",
    "modelId = \"anthropic.claude-3-sonnet-20240229-v1:0\"\n",
    "boto3_bedrock = boto3.client(\n",
    "    service_name='bedrock-runtime',\n",
    "    region_name=bedrock_region,\n",
    "    config=Config(\n",
    "        retries = {\n",
    "            'max_attempts': 30\n",
    "        }            \n",
    "    )\n",
    ")\n",
    "\n",
    "HUMAN_PROMPT = \"\\n\\nHuman:\"\n",
    "AI_PROMPT = \"\\n\\nAssistant:\"\n",
    "maxOutputTokens = 4096\n",
    "parameters = {\n",
    "    \"max_tokens\":maxOutputTokens,     \n",
    "    \"temperature\":0.1,\n",
    "    \"top_k\":250,\n",
    "    \"top_p\":0.9,\n",
    "    \"stop_sequences\": [HUMAN_PROMPT]\n",
    "}    \n",
    "chat = ChatBedrock(   \n",
    "    model_id=modelId,\n",
    "    client=boto3_bedrock, \n",
    "    model_kwargs=parameters,\n",
    ")\n",
    "\n",
    "from langchain_aws import BedrockEmbeddings\n",
    "embedding_model_id = \"amazon.titan-embed-text-v2:0\"\n",
    "bedrock_embedding = BedrockEmbeddings(\n",
    "    client=boto3_bedrock,\n",
    "    region_name = bedrock_region,\n",
    "    model_id = embedding_model_id\n",
    ") "
   ]
  },
  {
   "cell_type": "code",
   "execution_count": 5,
   "id": "244d40bd-2f01-4b38-9d1b-f14f0468dc72",
   "metadata": {
    "tags": []
   },
   "outputs": [],
   "source": [
    "from langchain.memory import ConversationBufferWindowMemory\n",
    "memory_chain = ConversationBufferWindowMemory(memory_key=\"chat_history\", output_key='answer', return_messages=True, k=10)"
   ]
  },
  {
   "cell_type": "markdown",
   "id": "cc10ac62-5af0-4123-9fac-a966b69a1a62",
   "metadata": {},
   "source": [
    "## Tavily Search"
   ]
  },
  {
   "cell_type": "code",
   "execution_count": 19,
   "id": "cb073e20-84cb-46d3-af04-39029187301d",
   "metadata": {
    "tags": []
   },
   "outputs": [
    {
     "name": "stdin",
     "output_type": "stream",
     "text": [
      "Password: ········\n"
     ]
    }
   ],
   "source": [
    "import getpass\n",
    "\n",
    "api_key = getpass.getpass(\"Password:\")"
   ]
  },
  {
   "cell_type": "code",
   "execution_count": 20,
   "id": "6dfade53-06b2-458f-ba52-e02d28401a43",
   "metadata": {
    "tags": []
   },
   "outputs": [],
   "source": [
    "import os\n",
    "os.environ[\"TAVILY_API_KEY\"] = api_key"
   ]
  },
  {
   "cell_type": "code",
   "execution_count": 21,
   "id": "9fb5b685-2b05-4caa-a309-9c48e71d2dfe",
   "metadata": {
    "tags": []
   },
   "outputs": [
    {
     "name": "stdout",
     "output_type": "stream",
     "text": [
      "\u001b[33mWARNING: Running pip as the 'root' user can result in broken permissions and conflicting behaviour with the system package manager. It is recommended to use a virtual environment instead: https://pip.pypa.io/warnings/venv\u001b[0m\u001b[33m\n",
      "\u001b[0m"
     ]
    }
   ],
   "source": [
    "!pip install -U tavily-python --quiet"
   ]
  },
  {
   "cell_type": "code",
   "execution_count": 9,
   "id": "e8a16960-ebbe-4cc8-ac42-65fad1117ee7",
   "metadata": {
    "tags": []
   },
   "outputs": [
    {
     "name": "stdin",
     "output_type": "stream",
     "text": [
      "Password: ········\n"
     ]
    }
   ],
   "source": [
    "langsmith_api_key = getpass.getpass(\"Password:\")"
   ]
  },
  {
   "cell_type": "code",
   "execution_count": 22,
   "id": "3ea58838-10a4-4129-8901-9b92aa5a74f0",
   "metadata": {
    "tags": []
   },
   "outputs": [],
   "source": [
    "os.environ[\"LANGCHAIN_API_KEY\"] = langsmith_api_key\n",
    "os.environ[\"LANGCHAIN_TRACING_V2\"] = \"true\"\n",
    "os.environ[\"LANGCHAIN_PROJECT\"] = \"Map-Reduce\""
   ]
  },
  {
   "cell_type": "code",
   "execution_count": 23,
   "id": "310162cf-6e90-4d89-8a98-925778b1bfb0",
   "metadata": {
    "tags": []
   },
   "outputs": [
    {
     "name": "stdout",
     "output_type": "stream",
     "text": [
      "안녕하세요. 이미지 분석 서비스에 대해 설명해 드리겠습니다. 이미지 분석 서비스는 컴퓨터 비전과 머신러닝 기술을 활용하여 이미지에서 다양한 정보를 추출하고 분석하는 서비스입니다. \n",
      "\n",
      "주요 기능으로는 객체 인식, 얼굴 인식, 텍스트 인식, 이미지 분류, 콘텐츠 모더레이션 등이 있습니다. 예를 들어 객체 인식은 이미지 내에 있는 사물이나 사람 등의 객체를 인식하고 레이블을 붙입니다. 얼굴 인식은 이미지에서 사람의 얼굴을 찾아내고 나이, 성별 등의 속성을 분석합니다.\n",
      "\n",
      "이미지 분석 서비스는 클라우드 기반으로 제공되며, API를 통해 애플리케이션에 쉽게 통합할 수 있습니다. 주요 공급업체로는 AWS, Microsoft Azure, Google Cloud 등이 있습니다. 이 서비스를 활용하면 이미지에서 유용한 인사이트를 얻을 수 있어 다양한 산업에서 활용되고 있습니다."
     ]
    },
    {
     "data": {
      "text/plain": [
       "'안녕하세요. 이미지 분석 서비스에 대해 설명해 드리겠습니다. 이미지 분석 서비스는 컴퓨터 비전과 머신러닝 기술을 활용하여 이미지에서 다양한 정보를 추출하고 분석하는 서비스입니다. \\n\\n주요 기능으로는 객체 인식, 얼굴 인식, 텍스트 인식, 이미지 분류, 콘텐츠 모더레이션 등이 있습니다. 예를 들어 객체 인식은 이미지 내에 있는 사물이나 사람 등의 객체를 인식하고 레이블을 붙입니다. 얼굴 인식은 이미지에서 사람의 얼굴을 찾아내고 나이, 성별 등의 속성을 분석합니다.\\n\\n이미지 분석 서비스는 클라우드 기반으로 제공되며, API를 통해 애플리케이션에 쉽게 통합할 수 있습니다. 주요 공급업체로는 AWS, Microsoft Azure, Google Cloud 등이 있습니다. 이 서비스를 활용하면 이미지에서 유용한 인사이트를 얻을 수 있어 다양한 산업에서 활용되고 있습니다.'"
      ]
     },
     "execution_count": 23,
     "metadata": {},
     "output_type": "execute_result"
    }
   ],
   "source": [
    "from langchain_core.messages import AIMessage, BaseMessage, HumanMessage\n",
    "from langchain_core.prompts import ChatPromptTemplate, MessagesPlaceholder\n",
    "\n",
    "prompt = ChatPromptTemplate.from_messages(\n",
    "    [\n",
    "        (\"system\",\n",
    "            \"다음의 Human과 Assistant의 친근한 이전 대화입니다.\"\n",
    "            \"Assistant은 상황에 맞는 구체적인 세부 정보를 충분히 제공합니다.\"\n",
    "            \"Assistant의 이름은 서연이고, 모르는 질문을 받으면 솔직히 모른다고 말합니다.\",\n",
    "        ),\n",
    "        MessagesPlaceholder(variable_name=\"messages\"),\n",
    "    ]\n",
    ")\n",
    "chain = prompt | chat\n",
    "\n",
    "msg = \"\"\n",
    "request = HumanMessage(\n",
    "    content=\"이미지를 분석하기 위한 서비스에 대해 설명해줘.\"\n",
    ")\n",
    "\n",
    "output = chain.stream({\"messages\": [request]})\n",
    "for event in output:\n",
    "    print(event.content, end=\"\")\n",
    "    msg += event.content\n",
    "    \n",
    "msg"
   ]
  },
  {
   "cell_type": "code",
   "execution_count": 24,
   "id": "332ff825-0cb3-4f22-a4d7-b087409c3b6a",
   "metadata": {
    "tags": []
   },
   "outputs": [
    {
     "name": "stdout",
     "output_type": "stream",
     "text": [
      "\u001b[33mWARNING: Running pip as the 'root' user can result in broken permissions and conflicting behaviour with the system package manager. It is recommended to use a virtual environment instead: https://pip.pypa.io/warnings/venv\u001b[0m\u001b[33m\n",
      "\u001b[0m"
     ]
    }
   ],
   "source": [
    "!pip install langgraph --quiet"
   ]
  },
  {
   "cell_type": "markdown",
   "id": "ce5c58db-03cd-4b53-ac61-dec556de3c7d",
   "metadata": {},
   "source": [
    "## State"
   ]
  },
  {
   "cell_type": "code",
   "execution_count": 25,
   "id": "9040209f-179d-4c94-a38b-7a01f5574415",
   "metadata": {},
   "outputs": [],
   "source": [
    "from langgraph.constants import Send\n",
    "from langgraph.graph import END, StateGraph, START\n",
    "\n",
    "from pydantic import BaseModel, Field"
   ]
  },
  {
   "cell_type": "code",
   "execution_count": 26,
   "id": "17219c60-b85f-410c-aea2-ed576ca94a9c",
   "metadata": {
    "tags": []
   },
   "outputs": [],
   "source": [
    "from typing import Annotated, List, Tuple, TypedDict, Literal, Sequence, Union\n",
    "import operator"
   ]
  },
  {
   "cell_type": "code",
   "execution_count": 27,
   "id": "1d8e1b78-82ae-404d-b9c3-374dfcc21eb1",
   "metadata": {
    "tags": []
   },
   "outputs": [],
   "source": [
    "class OverallState(TypedDict):\n",
    "    topic: str\n",
    "    subjects: list\n",
    "\n",
    "    jokes: Annotated[list, operator.add]\n",
    "    best_selected_joke: str"
   ]
  },
  {
   "cell_type": "markdown",
   "id": "f1f47c91-f965-4f8f-9356-54fbb4753353",
   "metadata": {},
   "source": [
    "## Generate"
   ]
  },
  {
   "cell_type": "code",
   "execution_count": 28,
   "id": "52f5dd53-ab8d-4976-a244-0d248c5d5ca0",
   "metadata": {
    "tags": []
   },
   "outputs": [],
   "source": [
    "class Subjects(BaseModel):\n",
    "    \"\"\"List of subjects as a json format\"\"\"\n",
    "\n",
    "    subjects: List[str] = Field(\n",
    "        description=\"different subjects to follow\"\n",
    "    )"
   ]
  },
  {
   "cell_type": "code",
   "execution_count": 31,
   "id": "73d47be6-0c9c-4beb-a81f-06d955cdfab6",
   "metadata": {
    "tags": []
   },
   "outputs": [],
   "source": [
    "def generate_topics(state: OverallState):\n",
    "    topic = state['topic']\n",
    "    human = (\n",
    "        \"Generate list of between 2 and 5 examples related to: {topic}.\"\n",
    "        \"Provide the only final answer\"\n",
    "    )\n",
    "    subjects_prompt = ChatPromptTemplate.from_messages(\n",
    "        [\n",
    "            (\"human\", human),\n",
    "        ]\n",
    "    )\n",
    "\n",
    "    subject = subjects_prompt | chat\n",
    "\n",
    "    output = subject.invoke({\"topic\": topic})\n",
    "    \n",
    "    structured_llm = chat.with_structured_output(Subjects, include_raw=True)\n",
    "    response = structured_llm.invoke(output.content)\n",
    "\n",
    "    return {\"subjects\": response['parsed'].subjects}"
   ]
  },
  {
   "cell_type": "code",
   "execution_count": 32,
   "id": "1601b97c-0882-4918-814e-7e9d1cf413f3",
   "metadata": {
    "tags": []
   },
   "outputs": [
    {
     "data": {
      "text/plain": [
       "{'subjects': ['cat', 'dog', 'lion', 'giraffe']}"
      ]
     },
     "execution_count": 32,
     "metadata": {},
     "output_type": "execute_result"
    }
   ],
   "source": [
    "inputs = {\"topic\": \"animals\"}\n",
    "state = generate_topics(inputs)\n",
    "state"
   ]
  },
  {
   "cell_type": "markdown",
   "id": "b1db2db2-35f2-45ec-a858-6020f48cc112",
   "metadata": {},
   "source": [
    "## Joke"
   ]
  },
  {
   "cell_type": "code",
   "execution_count": 33,
   "id": "01b4e66c-8f35-4fd3-aa3c-46ce25cbd2c8",
   "metadata": {
    "tags": []
   },
   "outputs": [],
   "source": [
    "class Joke(BaseModel):\n",
    "    \"\"\"List of jokes as a json format\"\"\"\n",
    "    \n",
    "    joke: List[str] = Field(\n",
    "        description=\"a list of jokes to follow\"\n",
    "    )"
   ]
  },
  {
   "cell_type": "code",
   "execution_count": 34,
   "id": "b40dfdf0-dc31-4c03-8605-48a52064e11c",
   "metadata": {
    "tags": []
   },
   "outputs": [],
   "source": [
    "class JokeState(TypedDict):\n",
    "    subject: str    "
   ]
  },
  {
   "cell_type": "code",
   "execution_count": 35,
   "id": "ff28b0d0-0e96-4b88-810e-e441bc859b3f",
   "metadata": {
    "tags": []
   },
   "outputs": [],
   "source": [
    "def generate_joke(state: JokeState):\n",
    "    subject = state['subject']\n",
    "    \n",
    "    human = (\n",
    "        \"Generate a joke about {subject}.\"\n",
    "        \"Provide the only final answer\"\n",
    "    )\n",
    "    jok_prompt = ChatPromptTemplate.from_messages(\n",
    "        [\n",
    "            (\"human\", human),\n",
    "        ]\n",
    "    )\n",
    "\n",
    "    subject_chain = jok_prompt | chat\n",
    "\n",
    "    output = subject_chain.invoke({\"subject\": subject})\n",
    "    print('output: ', output)\n",
    "\n",
    "    structured_llm = chat.with_structured_output(Joke, include_raw=True)\n",
    "    response = structured_llm.invoke(output.content)\n",
    "\n",
    "    return {\"jokes\": response['parsed'].joke}"
   ]
  },
  {
   "cell_type": "code",
   "execution_count": 36,
   "id": "eb250ec5-c96d-4ee3-bc3a-70ac991ccce1",
   "metadata": {
    "tags": []
   },
   "outputs": [
    {
     "name": "stdout",
     "output_type": "stream",
     "text": [
      "output:  content=\"Here's a joke about a dog:\\n\\nWhy did the dog cross the road twice? Because he was a double-crosser!\" additional_kwargs={'usage': {'prompt_tokens': 19, 'completion_tokens': 30, 'total_tokens': 49}, 'stop_reason': 'end_turn', 'model_id': 'anthropic.claude-3-sonnet-20240229-v1:0'} response_metadata={'usage': {'prompt_tokens': 19, 'completion_tokens': 30, 'total_tokens': 49}, 'stop_reason': 'end_turn', 'model_id': 'anthropic.claude-3-sonnet-20240229-v1:0'} id='run-dc9619eb-b599-4c70-b0e2-9d110aa639d7-0' usage_metadata={'input_tokens': 19, 'output_tokens': 30, 'total_tokens': 49}\n"
     ]
    },
    {
     "data": {
      "text/plain": [
       "{'jokes': ['Why did the dog cross the road twice? Because he was a double-crosser!']}"
      ]
     },
     "execution_count": 36,
     "metadata": {},
     "output_type": "execute_result"
    }
   ],
   "source": [
    "output = generate_joke({'subject': 'dog'})\n",
    "output"
   ]
  },
  {
   "cell_type": "markdown",
   "id": "de7525dc-3af3-4982-a3f1-2a694c60113b",
   "metadata": {
    "tags": []
   },
   "source": [
    "## Conditional Edge"
   ]
  },
  {
   "cell_type": "code",
   "execution_count": 37,
   "id": "1d169024-33f9-487e-ac9f-911bf9d81cd7",
   "metadata": {
    "tags": []
   },
   "outputs": [],
   "source": [
    "def continue_to_jokes(state: OverallState):\n",
    "    return [Send(\"generate_joke\", {\"subject\": s}) for s in state[\"subjects\"]]"
   ]
  },
  {
   "cell_type": "markdown",
   "id": "22888744-0634-4ee0-8617-6b61e466fe7d",
   "metadata": {},
   "source": [
    "## Best Joke"
   ]
  },
  {
   "cell_type": "code",
   "execution_count": 38,
   "id": "407bd60a-d1c2-4256-9358-d843a014adaf",
   "metadata": {
    "tags": []
   },
   "outputs": [],
   "source": [
    "class BestJoke(BaseModel):\n",
    "    id: int = Field(description=\"Index of the best joke, starting with 0\", ge=0)"
   ]
  },
  {
   "cell_type": "code",
   "execution_count": 39,
   "id": "de25b7ec-ad8d-4b4a-9f95-9d5c0bf38a3b",
   "metadata": {
    "tags": []
   },
   "outputs": [],
   "source": [
    "def best_joke(state: OverallState):\n",
    "    topic = state['topic']\n",
    "    jokes = \"\\n\\n\".join(state[\"jokes\"])\n",
    "    \n",
    "    human = (\n",
    "        \"Below are a bunch of jokes about {topic}. Select the best one! Return the ID of the best one.\"\n",
    "        \"Provide the only final answer.\"\n",
    "    )\n",
    "    best_joke_prompt = ChatPromptTemplate.from_messages(\n",
    "        [\n",
    "            (\"human\", human),\n",
    "            (\"human\", \"{jokes}\")\n",
    "        ]\n",
    "    )\n",
    "\n",
    "    best_joke_chain = best_joke_prompt | chat\n",
    "\n",
    "    output = best_joke_chain.invoke({\n",
    "        \"topic\": topic,\n",
    "        \"jokes\": jokes\n",
    "    })\n",
    "    print('output: ', output)\n",
    "\n",
    "    structured_llm = chat.with_structured_output(BestJoke, include_raw=True)\n",
    "    response = structured_llm.invoke(output.content)\n",
    "    print('response: ', response)\n",
    "    \n",
    "    best_selected_joke = state[\"jokes\"][response['parsed'].id]\n",
    "    \n",
    "    return {\"best_selected_joke\": best_selected_joke}"
   ]
  },
  {
   "cell_type": "code",
   "execution_count": 40,
   "id": "104b374c-77b9-4bac-9593-e854d4a60933",
   "metadata": {
    "tags": []
   },
   "outputs": [
    {
     "name": "stdout",
     "output_type": "stream",
     "text": [
      "output:  content='1' additional_kwargs={'usage': {'prompt_tokens': 54, 'completion_tokens': 5, 'total_tokens': 59}, 'stop_reason': 'end_turn', 'model_id': 'anthropic.claude-3-sonnet-20240229-v1:0'} response_metadata={'usage': {'prompt_tokens': 54, 'completion_tokens': 5, 'total_tokens': 59}, 'stop_reason': 'end_turn', 'model_id': 'anthropic.claude-3-sonnet-20240229-v1:0'} id='run-b5906b89-728b-477e-8053-1f2ac9c536ce-0' usage_metadata={'input_tokens': 54, 'output_tokens': 5, 'total_tokens': 59}\n",
      "response:  {'raw': AIMessage(content='', additional_kwargs={'usage': {'prompt_tokens': 330, 'completion_tokens': 33, 'total_tokens': 363}, 'stop_reason': 'tool_use', 'model_id': 'anthropic.claude-3-sonnet-20240229-v1:0'}, response_metadata={'usage': {'prompt_tokens': 330, 'completion_tokens': 33, 'total_tokens': 363}, 'stop_reason': 'tool_use', 'model_id': 'anthropic.claude-3-sonnet-20240229-v1:0'}, id='run-1189e9ab-3db0-4025-867c-90bc481ec5cc-0', tool_calls=[{'name': 'BestJoke', 'args': {'id': 0}, 'id': 'toolu_bdrk_01UE5QtFYo55KS5YBDQBPDDd', 'type': 'tool_call'}], usage_metadata={'input_tokens': 330, 'output_tokens': 33, 'total_tokens': 363}), 'parsed': BestJoke(id=0), 'parsing_error': None}\n"
     ]
    },
    {
     "data": {
      "text/plain": [
       "{'best_selected_joke': 'Why did the dog cross the road twice? Because he was a double-crosser!'}"
      ]
     },
     "execution_count": 40,
     "metadata": {},
     "output_type": "execute_result"
    }
   ],
   "source": [
    "output = best_joke({\n",
    "    'topic': \"animals\",\n",
    "    'jokes': ['Why did the dog cross the road twice? Because he was a double-crosser!']\n",
    "})\n",
    "output "
   ]
  },
  {
   "cell_type": "markdown",
   "id": "162804fd-0aa6-4cc5-ba27-f68751b94715",
   "metadata": {},
   "source": [
    "## State Graph"
   ]
  },
  {
   "cell_type": "code",
   "execution_count": 41,
   "id": "57390f45-aa00-4967-a829-e1c18b706cbc",
   "metadata": {
    "tags": []
   },
   "outputs": [],
   "source": [
    "graph = StateGraph(OverallState)\n",
    "graph.add_node(\"generate_topics\", generate_topics)\n",
    "graph.add_node(\"generate_joke\", generate_joke)\n",
    "graph.add_node(\"best_joke\", best_joke)\n",
    "graph.add_edge(START, \"generate_topics\")\n",
    "graph.add_conditional_edges(\"generate_topics\", continue_to_jokes, [\"generate_joke\"])\n",
    "graph.add_edge(\"generate_joke\", \"best_joke\")\n",
    "graph.add_edge(\"best_joke\", END)\n",
    "app = graph.compile()"
   ]
  },
  {
   "cell_type": "code",
   "execution_count": 42,
   "id": "94829c31-18f7-4d7f-b548-1b00811a01ba",
   "metadata": {
    "tags": []
   },
   "outputs": [
    {
     "data": {
      "image/jpeg": "[encoded data removed]",
      "text/plain": [
       "<IPython.core.display.Image object>"
      ]
     },
     "execution_count": 42,
     "metadata": {},
     "output_type": "execute_result"
    }
   ],
   "source": [
    "from IPython.display import Image\n",
    "\n",
    "Image(app.get_graph().draw_mermaid_png())"
   ]
  },
  {
   "cell_type": "code",
   "execution_count": 43,
   "id": "0516c0b2-5b78-4a47-985b-a56b625adcf9",
   "metadata": {
    "tags": []
   },
   "outputs": [
    {
     "name": "stdout",
     "output_type": "stream",
     "text": [
      "{'generate_topics': {'subjects': ['cat', 'dog', 'lion', 'giraffe']}}\n",
      "output:  content=\"Here's a joke about cats:\\n\\nWhy did the cat go to the computer programming session? Because he wanted to learn some new mouse clicks!\" additional_kwargs={'usage': {'prompt_tokens': 19, 'completion_tokens': 32, 'total_tokens': 51}, 'stop_reason': 'end_turn', 'model_id': 'anthropic.claude-3-sonnet-20240229-v1:0'} response_metadata={'usage': {'prompt_tokens': 19, 'completion_tokens': 32, 'total_tokens': 51}, 'stop_reason': 'end_turn', 'model_id': 'anthropic.claude-3-sonnet-20240229-v1:0'} id='run-579d536a-e960-4905-af4a-8e802c172583-0' usage_metadata={'input_tokens': 19, 'output_tokens': 32, 'total_tokens': 51}\n",
      "output:  content=\"Here's a joke about a dog:\\n\\nWhy did the dog cross the road twice? Because he was a double-crosser!\" additional_kwargs={'usage': {'prompt_tokens': 19, 'completion_tokens': 30, 'total_tokens': 49}, 'stop_reason': 'end_turn', 'model_id': 'anthropic.claude-3-sonnet-20240229-v1:0'} response_metadata={'usage': {'prompt_tokens': 19, 'completion_tokens': 30, 'total_tokens': 49}, 'stop_reason': 'end_turn', 'model_id': 'anthropic.claude-3-sonnet-20240229-v1:0'} id='run-eee580ab-7ae9-4393-b2d8-f007e7ec5953-0' usage_metadata={'input_tokens': 19, 'output_tokens': 30, 'total_tokens': 49}\n",
      "output:  content=\"Here's a joke about a lion:\\n\\nWhy did the lion eat the tightrope walker? Because he wanted a well-balanced meal!\" additional_kwargs={'usage': {'prompt_tokens': 19, 'completion_tokens': 33, 'total_tokens': 52}, 'stop_reason': 'end_turn', 'model_id': 'anthropic.claude-3-sonnet-20240229-v1:0'} response_metadata={'usage': {'prompt_tokens': 19, 'completion_tokens': 33, 'total_tokens': 52}, 'stop_reason': 'end_turn', 'model_id': 'anthropic.claude-3-sonnet-20240229-v1:0'} id='run-665f8d45-ca86-4539-a948-0129b59ce4ac-0' usage_metadata={'input_tokens': 19, 'output_tokens': 33, 'total_tokens': 52}\n",
      "{'generate_joke': {'jokes': ['Why did the cat go to the computer programming session? Because he wanted to learn some new mouse clicks!']}}\n",
      "{'generate_joke': {'jokes': ['Why did the dog cross the road twice? Because he was a double-crosser!']}}\n",
      "output:  content='Why did the giraffe get a neck massage? Because it was a little stiff!' additional_kwargs={'usage': {'prompt_tokens': 21, 'completion_tokens': 22, 'total_tokens': 43}, 'stop_reason': 'end_turn', 'model_id': 'anthropic.claude-3-sonnet-20240229-v1:0'} response_metadata={'usage': {'prompt_tokens': 21, 'completion_tokens': 22, 'total_tokens': 43}, 'stop_reason': 'end_turn', 'model_id': 'anthropic.claude-3-sonnet-20240229-v1:0'} id='run-8a55789c-a90d-496f-8232-b2c90d2ad55c-0' usage_metadata={'input_tokens': 21, 'output_tokens': 22, 'total_tokens': 43}\n",
      "{'generate_joke': {'jokes': ['Why did the lion eat the tightrope walker? Because he wanted a well-balanced meal!']}}\n",
      "{'generate_joke': {'jokes': ['Why did the giraffe get a neck massage? Because it was a little stiff!']}}\n",
      "output:  content='3' additional_kwargs={'usage': {'prompt_tokens': 118, 'completion_tokens': 5, 'total_tokens': 123}, 'stop_reason': 'end_turn', 'model_id': 'anthropic.claude-3-sonnet-20240229-v1:0'} response_metadata={'usage': {'prompt_tokens': 118, 'completion_tokens': 5, 'total_tokens': 123}, 'stop_reason': 'end_turn', 'model_id': 'anthropic.claude-3-sonnet-20240229-v1:0'} id='run-300a711a-4503-470d-aabd-fd68adb72d1e-0' usage_metadata={'input_tokens': 118, 'output_tokens': 5, 'total_tokens': 123}\n",
      "response:  {'raw': AIMessage(content='', additional_kwargs={'usage': {'prompt_tokens': 330, 'completion_tokens': 33, 'total_tokens': 363}, 'stop_reason': 'tool_use', 'model_id': 'anthropic.claude-3-sonnet-20240229-v1:0'}, response_metadata={'usage': {'prompt_tokens': 330, 'completion_tokens': 33, 'total_tokens': 363}, 'stop_reason': 'tool_use', 'model_id': 'anthropic.claude-3-sonnet-20240229-v1:0'}, id='run-0f6e9bfe-e66e-4180-9846-46e51264db00-0', tool_calls=[{'name': 'BestJoke', 'args': {'id': 3}, 'id': 'toolu_bdrk_01ScMKVP3CC4zwE4QCR6hRcn', 'type': 'tool_call'}], usage_metadata={'input_tokens': 330, 'output_tokens': 33, 'total_tokens': 363}), 'parsed': BestJoke(id=3), 'parsing_error': None}\n",
      "{'best_joke': {'best_selected_joke': 'Why did the giraffe get a neck massage? Because it was a little stiff!'}}\n"
     ]
    }
   ],
   "source": [
    "for s in app.stream({\"topic\": \"animals\"}):\n",
    "    print(s)"
   ]
  },
  {
   "cell_type": "code",
   "execution_count": null,
   "id": "a0d48858-961b-4650-9db7-9bcb68571bb1",
   "metadata": {},
   "outputs": [],
   "source": []
  }
 ],
 "metadata": {
  "availableInstances": [
   {
    "_defaultOrder": 0,
    "_isFastLaunch": true,
    "category": "General purpose",
    "gpuNum": 0,
    "hideHardwareSpecs": false,
    "memoryGiB": 4,
    "name": "ml.t3.medium",
    "vcpuNum": 2
   },
   {
    "_defaultOrder": 1,
    "_isFastLaunch": false,
    "category": "General purpose",
    "gpuNum": 0,
    "hideHardwareSpecs": false,
    "memoryGiB": 8,
    "name": "ml.t3.large",
    "vcpuNum": 2
   },
   {
    "_defaultOrder": 2,
    "_isFastLaunch": false,
    "category": "General purpose",
    "gpuNum": 0,
    "hideHardwareSpecs": false,
    "memoryGiB": 16,
    "name": "ml.t3.xlarge",
    "vcpuNum": 4
   },
   {
    "_defaultOrder": 3,
    "_isFastLaunch": false,
    "category": "General purpose",
    "gpuNum": 0,
    "hideHardwareSpecs": false,
    "memoryGiB": 32,
    "name": "ml.t3.2xlarge",
    "vcpuNum": 8
   },
   {
    "_defaultOrder": 4,
    "_isFastLaunch": true,
    "category": "General purpose",
    "gpuNum": 0,
    "hideHardwareSpecs": false,
    "memoryGiB": 8,
    "name": "ml.m5.large",
    "vcpuNum": 2
   },
   {
    "_defaultOrder": 5,
    "_isFastLaunch": false,
    "category": "General purpose",
    "gpuNum": 0,
    "hideHardwareSpecs": false,
    "memoryGiB": 16,
    "name": "ml.m5.xlarge",
    "vcpuNum": 4
   },
   {
    "_defaultOrder": 6,
    "_isFastLaunch": false,
    "category": "General purpose",
    "gpuNum": 0,
    "hideHardwareSpecs": false,
    "memoryGiB": 32,
    "name": "ml.m5.2xlarge",
    "vcpuNum": 8
   },
   {
    "_defaultOrder": 7,
    "_isFastLaunch": false,
    "category": "General purpose",
    "gpuNum": 0,
    "hideHardwareSpecs": false,
    "memoryGiB": 64,
    "name": "ml.m5.4xlarge",
    "vcpuNum": 16
   },
   {
    "_defaultOrder": 8,
    "_isFastLaunch": false,
    "category": "General purpose",
    "gpuNum": 0,
    "hideHardwareSpecs": false,
    "memoryGiB": 128,
    "name": "ml.m5.8xlarge",
    "vcpuNum": 32
   },
   {
    "_defaultOrder": 9,
    "_isFastLaunch": false,
    "category": "General purpose",
    "gpuNum": 0,
    "hideHardwareSpecs": false,
    "memoryGiB": 192,
    "name": "ml.m5.12xlarge",
    "vcpuNum": 48
   },
   {
    "_defaultOrder": 10,
    "_isFastLaunch": false,
    "category": "General purpose",
    "gpuNum": 0,
    "hideHardwareSpecs": false,
    "memoryGiB": 256,
    "name": "ml.m5.16xlarge",
    "vcpuNum": 64
   },
   {
    "_defaultOrder": 11,
    "_isFastLaunch": false,
    "category": "General purpose",
    "gpuNum": 0,
    "hideHardwareSpecs": false,
    "memoryGiB": 384,
    "name": "ml.m5.24xlarge",
    "vcpuNum": 96
   },
   {
    "_defaultOrder": 12,
    "_isFastLaunch": false,
    "category": "General purpose",
    "gpuNum": 0,
    "hideHardwareSpecs": false,
    "memoryGiB": 8,
    "name": "ml.m5d.large",
    "vcpuNum": 2
   },
   {
    "_defaultOrder": 13,
    "_isFastLaunch": false,
    "category": "General purpose",
    "gpuNum": 0,
    "hideHardwareSpecs": false,
    "memoryGiB": 16,
    "name": "ml.m5d.xlarge",
    "vcpuNum": 4
   },
   {
    "_defaultOrder": 14,
    "_isFastLaunch": false,
    "category": "General purpose",
    "gpuNum": 0,
    "hideHardwareSpecs": false,
    "memoryGiB": 32,
    "name": "ml.m5d.2xlarge",
    "vcpuNum": 8
   },
   {
    "_defaultOrder": 15,
    "_isFastLaunch": false,
    "category": "General purpose",
    "gpuNum": 0,
    "hideHardwareSpecs": false,
    "memoryGiB": 64,
    "name": "ml.m5d.4xlarge",
    "vcpuNum": 16
   },
   {
    "_defaultOrder": 16,
    "_isFastLaunch": false,
    "category": "General purpose",
    "gpuNum": 0,
    "hideHardwareSpecs": false,
    "memoryGiB": 128,
    "name": "ml.m5d.8xlarge",
    "vcpuNum": 32
   },
   {
    "_defaultOrder": 17,
    "_isFastLaunch": false,
    "category": "General purpose",
    "gpuNum": 0,
    "hideHardwareSpecs": false,
    "memoryGiB": 192,
    "name": "ml.m5d.12xlarge",
    "vcpuNum": 48
   },
   {
    "_defaultOrder": 18,
    "_isFastLaunch": false,
    "category": "General purpose",
    "gpuNum": 0,
    "hideHardwareSpecs": false,
    "memoryGiB": 256,
    "name": "ml.m5d.16xlarge",
    "vcpuNum": 64
   },
   {
    "_defaultOrder": 19,
    "_isFastLaunch": false,
    "category": "General purpose",
    "gpuNum": 0,
    "hideHardwareSpecs": false,
    "memoryGiB": 384,
    "name": "ml.m5d.24xlarge",
    "vcpuNum": 96
   },
   {
    "_defaultOrder": 20,
    "_isFastLaunch": false,
    "category": "General purpose",
    "gpuNum": 0,
    "hideHardwareSpecs": true,
    "memoryGiB": 0,
    "name": "ml.geospatial.interactive",
    "supportedImageNames": [
     "sagemaker-geospatial-v1-0"
    ],
    "vcpuNum": 0
   },
   {
    "_defaultOrder": 21,
    "_isFastLaunch": true,
    "category": "Compute optimized",
    "gpuNum": 0,
    "hideHardwareSpecs": false,
    "memoryGiB": 4,
    "name": "ml.c5.large",
    "vcpuNum": 2
   },
   {
    "_defaultOrder": 22,
    "_isFastLaunch": false,
    "category": "Compute optimized",
    "gpuNum": 0,
    "hideHardwareSpecs": false,
    "memoryGiB": 8,
    "name": "ml.c5.xlarge",
    "vcpuNum": 4
   },
   {
    "_defaultOrder": 23,
    "_isFastLaunch": false,
    "category": "Compute optimized",
    "gpuNum": 0,
    "hideHardwareSpecs": false,
    "memoryGiB": 16,
    "name": "ml.c5.2xlarge",
    "vcpuNum": 8
   },
   {
    "_defaultOrder": 24,
    "_isFastLaunch": false,
    "category": "Compute optimized",
    "gpuNum": 0,
    "hideHardwareSpecs": false,
    "memoryGiB": 32,
    "name": "ml.c5.4xlarge",
    "vcpuNum": 16
   },
   {
    "_defaultOrder": 25,
    "_isFastLaunch": false,
    "category": "Compute optimized",
    "gpuNum": 0,
    "hideHardwareSpecs": false,
    "memoryGiB": 72,
    "name": "ml.c5.9xlarge",
    "vcpuNum": 36
   },
   {
    "_defaultOrder": 26,
    "_isFastLaunch": false,
    "category": "Compute optimized",
    "gpuNum": 0,
    "hideHardwareSpecs": false,
    "memoryGiB": 96,
    "name": "ml.c5.12xlarge",
    "vcpuNum": 48
   },
   {
    "_defaultOrder": 27,
    "_isFastLaunch": false,
    "category": "Compute optimized",
    "gpuNum": 0,
    "hideHardwareSpecs": false,
    "memoryGiB": 144,
    "name": "ml.c5.18xlarge",
    "vcpuNum": 72
   },
   {
    "_defaultOrder": 28,
    "_isFastLaunch": false,
    "category": "Compute optimized",
    "gpuNum": 0,
    "hideHardwareSpecs": false,
    "memoryGiB": 192,
    "name": "ml.c5.24xlarge",
    "vcpuNum": 96
   },
   {
    "_defaultOrder": 29,
    "_isFastLaunch": true,
    "category": "Accelerated computing",
    "gpuNum": 1,
    "hideHardwareSpecs": false,
    "memoryGiB": 16,
    "name": "ml.g4dn.xlarge",
    "vcpuNum": 4
   },
   {
    "_defaultOrder": 30,
    "_isFastLaunch": false,
    "category": "Accelerated computing",
    "gpuNum": 1,
    "hideHardwareSpecs": false,
    "memoryGiB": 32,
    "name": "ml.g4dn.2xlarge",
    "vcpuNum": 8
   },
   {
    "_defaultOrder": 31,
    "_isFastLaunch": false,
    "category": "Accelerated computing",
    "gpuNum": 1,
    "hideHardwareSpecs": false,
    "memoryGiB": 64,
    "name": "ml.g4dn.4xlarge",
    "vcpuNum": 16
   },
   {
    "_defaultOrder": 32,
    "_isFastLaunch": false,
    "category": "Accelerated computing",
    "gpuNum": 1,
    "hideHardwareSpecs": false,
    "memoryGiB": 128,
    "name": "ml.g4dn.8xlarge",
    "vcpuNum": 32
   },
   {
    "_defaultOrder": 33,
    "_isFastLaunch": false,
    "category": "Accelerated computing",
    "gpuNum": 4,
    "hideHardwareSpecs": false,
    "memoryGiB": 192,
    "name": "ml.g4dn.12xlarge",
    "vcpuNum": 48
   },
   {
    "_defaultOrder": 34,
    "_isFastLaunch": false,
    "category": "Accelerated computing",
    "gpuNum": 1,
    "hideHardwareSpecs": false,
    "memoryGiB": 256,
    "name": "ml.g4dn.16xlarge",
    "vcpuNum": 64
   },
   {
    "_defaultOrder": 35,
    "_isFastLaunch": false,
    "category": "Accelerated computing",
    "gpuNum": 1,
    "hideHardwareSpecs": false,
    "memoryGiB": 61,
    "name": "ml.p3.2xlarge",
    "vcpuNum": 8
   },
   {
    "_defaultOrder": 36,
    "_isFastLaunch": false,
    "category": "Accelerated computing",
    "gpuNum": 4,
    "hideHardwareSpecs": false,
    "memoryGiB": 244,
    "name": "ml.p3.8xlarge",
    "vcpuNum": 32
   },
   {
    "_defaultOrder": 37,
    "_isFastLaunch": false,
    "category": "Accelerated computing",
    "gpuNum": 8,
    "hideHardwareSpecs": false,
    "memoryGiB": 488,
    "name": "ml.p3.16xlarge",
    "vcpuNum": 64
   },
   {
    "_defaultOrder": 38,
    "_isFastLaunch": false,
    "category": "Accelerated computing",
    "gpuNum": 8,
    "hideHardwareSpecs": false,
    "memoryGiB": 768,
    "name": "ml.p3dn.24xlarge",
    "vcpuNum": 96
   },
   {
    "_defaultOrder": 39,
    "_isFastLaunch": false,
    "category": "Memory Optimized",
    "gpuNum": 0,
    "hideHardwareSpecs": false,
    "memoryGiB": 16,
    "name": "ml.r5.large",
    "vcpuNum": 2
   },
   {
    "_defaultOrder": 40,
    "_isFastLaunch": false,
    "category": "Memory Optimized",
    "gpuNum": 0,
    "hideHardwareSpecs": false,
    "memoryGiB": 32,
    "name": "ml.r5.xlarge",
    "vcpuNum": 4
   },
   {
    "_defaultOrder": 41,
    "_isFastLaunch": false,
    "category": "Memory Optimized",
    "gpuNum": 0,
    "hideHardwareSpecs": false,
    "memoryGiB": 64,
    "name": "ml.r5.2xlarge",
    "vcpuNum": 8
   },
   {
    "_defaultOrder": 42,
    "_isFastLaunch": false,
    "category": "Memory Optimized",
    "gpuNum": 0,
    "hideHardwareSpecs": false,
    "memoryGiB": 128,
    "name": "ml.r5.4xlarge",
    "vcpuNum": 16
   },
   {
    "_defaultOrder": 43,
    "_isFastLaunch": false,
    "category": "Memory Optimized",
    "gpuNum": 0,
    "hideHardwareSpecs": false,
    "memoryGiB": 256,
    "name": "ml.r5.8xlarge",
    "vcpuNum": 32
   },
   {
    "_defaultOrder": 44,
    "_isFastLaunch": false,
    "category": "Memory Optimized",
    "gpuNum": 0,
    "hideHardwareSpecs": false,
    "memoryGiB": 384,
    "name": "ml.r5.12xlarge",
    "vcpuNum": 48
   },
   {
    "_defaultOrder": 45,
    "_isFastLaunch": false,
    "category": "Memory Optimized",
    "gpuNum": 0,
    "hideHardwareSpecs": false,
    "memoryGiB": 512,
    "name": "ml.r5.16xlarge",
    "vcpuNum": 64
   },
   {
    "_defaultOrder": 46,
    "_isFastLaunch": false,
    "category": "Memory Optimized",
    "gpuNum": 0,
    "hideHardwareSpecs": false,
    "memoryGiB": 768,
    "name": "ml.r5.24xlarge",
    "vcpuNum": 96
   },
   {
    "_defaultOrder": 47,
    "_isFastLaunch": false,
    "category": "Accelerated computing",
    "gpuNum": 1,
    "hideHardwareSpecs": false,
    "memoryGiB": 16,
    "name": "ml.g5.xlarge",
    "vcpuNum": 4
   },
   {
    "_defaultOrder": 48,
    "_isFastLaunch": false,
    "category": "Accelerated computing",
    "gpuNum": 1,
    "hideHardwareSpecs": false,
    "memoryGiB": 32,
    "name": "ml.g5.2xlarge",
    "vcpuNum": 8
   },
   {
    "_defaultOrder": 49,
    "_isFastLaunch": false,
    "category": "Accelerated computing",
    "gpuNum": 1,
    "hideHardwareSpecs": false,
    "memoryGiB": 64,
    "name": "ml.g5.4xlarge",
    "vcpuNum": 16
   },
   {
    "_defaultOrder": 50,
    "_isFastLaunch": false,
    "category": "Accelerated computing",
    "gpuNum": 1,
    "hideHardwareSpecs": false,
    "memoryGiB": 128,
    "name": "ml.g5.8xlarge",
    "vcpuNum": 32
   },
   {
    "_defaultOrder": 51,
    "_isFastLaunch": false,
    "category": "Accelerated computing",
    "gpuNum": 1,
    "hideHardwareSpecs": false,
    "memoryGiB": 256,
    "name": "ml.g5.16xlarge",
    "vcpuNum": 64
   },
   {
    "_defaultOrder": 52,
    "_isFastLaunch": false,
    "category": "Accelerated computing",
    "gpuNum": 4,
    "hideHardwareSpecs": false,
    "memoryGiB": 192,
    "name": "ml.g5.12xlarge",
    "vcpuNum": 48
   },
   {
    "_defaultOrder": 53,
    "_isFastLaunch": false,
    "category": "Accelerated computing",
    "gpuNum": 4,
    "hideHardwareSpecs": false,
    "memoryGiB": 384,
    "name": "ml.g5.24xlarge",
    "vcpuNum": 96
   },
   {
    "_defaultOrder": 54,
    "_isFastLaunch": false,
    "category": "Accelerated computing",
    "gpuNum": 8,
    "hideHardwareSpecs": false,
    "memoryGiB": 768,
    "name": "ml.g5.48xlarge",
    "vcpuNum": 192
   },
   {
    "_defaultOrder": 55,
    "_isFastLaunch": false,
    "category": "Accelerated computing",
    "gpuNum": 8,
    "hideHardwareSpecs": false,
    "memoryGiB": 1152,
    "name": "ml.p4d.24xlarge",
    "vcpuNum": 96
   },
   {
    "_defaultOrder": 56,
    "_isFastLaunch": false,
    "category": "Accelerated computing",
    "gpuNum": 8,
    "hideHardwareSpecs": false,
    "memoryGiB": 1152,
    "name": "ml.p4de.24xlarge",
    "vcpuNum": 96
   },
   {
    "_defaultOrder": 57,
    "_isFastLaunch": false,
    "category": "Accelerated computing",
    "gpuNum": 0,
    "hideHardwareSpecs": false,
    "memoryGiB": 32,
    "name": "ml.trn1.2xlarge",
    "vcpuNum": 8
   },
   {
    "_defaultOrder": 58,
    "_isFastLaunch": false,
    "category": "Accelerated computing",
    "gpuNum": 0,
    "hideHardwareSpecs": false,
    "memoryGiB": 512,
    "name": "ml.trn1.32xlarge",
    "vcpuNum": 128
   },
   {
    "_defaultOrder": 59,
    "_isFastLaunch": false,
    "category": "Accelerated computing",
    "gpuNum": 0,
    "hideHardwareSpecs": false,
    "memoryGiB": 512,
    "name": "ml.trn1n.32xlarge",
    "vcpuNum": 128
   }
  ],
  "instance_type": "ml.t3.medium",
  "kernelspec": {
   "display_name": "Python 3 (Data Science 3.0)",
   "language": "python",
   "name": "python3__SAGEMAKER_INTERNAL__arn:aws:sagemaker:us-west-2:236514542706:image/sagemaker-data-science-310-v1"
  },
  "language_info": {
   "codemirror_mode": {
    "name": "ipython",
    "version": 3
   },
   "file_extension": ".py",
   "mimetype": "text/x-python",
   "name": "python",
   "nbconvert_exporter": "python",
   "pygments_lexer": "ipython3",
   "version": "3.10.6"
  }
 },
 "nbformat": 4,
 "nbformat_minor": 5
}
