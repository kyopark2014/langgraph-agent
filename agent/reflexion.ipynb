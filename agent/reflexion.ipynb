{
 "cells": [
  {
   "cell_type": "markdown",
   "id": "332516a7-eaa1-4e4a-b053-633f82b0a405",
   "metadata": {},
   "source": [
    "# Reflexion\n",
    "\n",
    "https://github.com/kyopark2014/langgraph-agent/blob/main/reflexion-agent.md\n",
    "\n",
    "https://github.com/langchain-ai/langgraph/blob/main/examples/reflexion/reflexion.ipynb?ref=blog.langchain.dev\n"
   ]
  },
  {
   "cell_type": "code",
   "execution_count": 1,
   "id": "65fa767f-7540-441c-b5f3-a98fafbfabcb",
   "metadata": {
    "tags": []
   },
   "outputs": [],
   "source": [
    "import boto3"
   ]
  },
  {
   "cell_type": "code",
   "execution_count": 3,
   "id": "a4c43272-8bd6-44b8-bac7-a15fe8b295d7",
   "metadata": {
    "tags": []
   },
   "outputs": [
    {
     "name": "stdout",
     "output_type": "stream",
     "text": [
      "\u001b[33mWARNING: Running pip as the 'root' user can result in broken permissions and conflicting behaviour with the system package manager. It is recommended to use a virtual environment instead: https://pip.pypa.io/warnings/venv\u001b[0m\u001b[33m\n",
      "\u001b[0m"
     ]
    }
   ],
   "source": [
    "!pip3 install langchain-aws langchain-community langchain --quiet"
   ]
  },
  {
   "cell_type": "code",
   "execution_count": 4,
   "id": "b2dc7c99-7e1c-418e-b4aa-8ff3eca11e60",
   "metadata": {
    "tags": []
   },
   "outputs": [],
   "source": [
    "from botocore.config import Config\n",
    "from langchain_aws import ChatBedrock\n",
    "bedrock_region = 'us-east-1'\n",
    "modelId = \"anthropic.claude-3-sonnet-20240229-v1:0\"\n",
    "boto3_bedrock = boto3.client(\n",
    "    service_name='bedrock-runtime',\n",
    "    region_name=bedrock_region,\n",
    "    config=Config(\n",
    "        retries = {\n",
    "            'max_attempts': 30\n",
    "        }            \n",
    "    )\n",
    ")\n",
    "\n",
    "HUMAN_PROMPT = \"\\n\\nHuman:\"\n",
    "AI_PROMPT = \"\\n\\nAssistant:\"\n",
    "maxOutputTokens = 4096\n",
    "parameters = {\n",
    "    \"max_tokens\":maxOutputTokens,     \n",
    "    \"temperature\":0.1,\n",
    "    \"top_k\":250,\n",
    "    \"top_p\":0.9,\n",
    "    \"stop_sequences\": [HUMAN_PROMPT]\n",
    "}    \n",
    "chat = ChatBedrock(   \n",
    "    model_id=modelId,\n",
    "    client=boto3_bedrock, \n",
    "    model_kwargs=parameters,\n",
    ")"
   ]
  },
  {
   "cell_type": "code",
   "execution_count": 5,
   "id": "244d40bd-2f01-4b38-9d1b-f14f0468dc72",
   "metadata": {
    "tags": []
   },
   "outputs": [],
   "source": [
    "from langchain.memory import ConversationBufferWindowMemory\n",
    "memory_chain = ConversationBufferWindowMemory(memory_key=\"chat_history\", output_key='answer', return_messages=True, k=10)"
   ]
  },
  {
   "cell_type": "markdown",
   "id": "cc10ac62-5af0-4123-9fac-a966b69a1a62",
   "metadata": {},
   "source": [
    "## Tavily Search"
   ]
  },
  {
   "cell_type": "code",
   "execution_count": 6,
   "id": "cb073e20-84cb-46d3-af04-39029187301d",
   "metadata": {
    "tags": []
   },
   "outputs": [
    {
     "name": "stdin",
     "output_type": "stream",
     "text": [
      "Password: ········\n"
     ]
    }
   ],
   "source": [
    "import getpass\n",
    "\n",
    "api_key = getpass.getpass(\"Password:\")"
   ]
  },
  {
   "cell_type": "code",
   "execution_count": 7,
   "id": "6dfade53-06b2-458f-ba52-e02d28401a43",
   "metadata": {
    "tags": []
   },
   "outputs": [],
   "source": [
    "import os\n",
    "os.environ[\"TAVILY_API_KEY\"] = api_key"
   ]
  },
  {
   "cell_type": "code",
   "execution_count": 8,
   "id": "9fb5b685-2b05-4caa-a309-9c48e71d2dfe",
   "metadata": {
    "tags": []
   },
   "outputs": [
    {
     "name": "stdout",
     "output_type": "stream",
     "text": [
      "\u001b[33mWARNING: Running pip as the 'root' user can result in broken permissions and conflicting behaviour with the system package manager. It is recommended to use a virtual environment instead: https://pip.pypa.io/warnings/venv\u001b[0m\u001b[33m\n",
      "\u001b[0m"
     ]
    }
   ],
   "source": [
    "!pip install -U langchain-community tavily-python --quiet"
   ]
  },
  {
   "cell_type": "code",
   "execution_count": 9,
   "id": "e8a16960-ebbe-4cc8-ac42-65fad1117ee7",
   "metadata": {
    "tags": []
   },
   "outputs": [
    {
     "name": "stdin",
     "output_type": "stream",
     "text": [
      "Password: ········\n"
     ]
    }
   ],
   "source": [
    "langsmith_api_key = getpass.getpass(\"Password:\")"
   ]
  },
  {
   "cell_type": "code",
   "execution_count": 10,
   "id": "3ea58838-10a4-4129-8901-9b92aa5a74f0",
   "metadata": {
    "tags": []
   },
   "outputs": [],
   "source": [
    "os.environ[\"LANGCHAIN_API_KEY\"] = langsmith_api_key\n",
    "os.environ[\"LANGCHAIN_TRACING_V2\"] = \"true\"\n",
    "os.environ[\"LANGCHAIN_PROJECT\"] = \"reflexion agent\""
   ]
  },
  {
   "cell_type": "code",
   "execution_count": 11,
   "id": "310162cf-6e90-4d89-8a98-925778b1bfb0",
   "metadata": {
    "tags": []
   },
   "outputs": [
    {
     "name": "stdout",
     "output_type": "stream",
     "text": [
      "안녕하세요 서연이에요. 2023년 프로야구 시즌이 아직 진행 중이라 우승팀을 정확히 알려드릴 순 없지만, 현재 리그 순위와 각 팀의 전력을 바탕으로 우승 후보팀들을 말씀드릴 수 있어요. 정규시즌 잔여 경기와 가을 야구를 통해 우승팀이 가려질 텐데, 그때까지 기다려 보시는 게 좋을 것 같네요. 지금까지의 성적으로 보면 삼성, KT, LG 등이 우승 경쟁을 벌이고 있는 것 같아요."
     ]
    },
    {
     "data": {
      "text/plain": [
       "'안녕하세요 서연이에요. 2023년 프로야구 시즌이 아직 진행 중이라 우승팀을 정확히 알려드릴 순 없지만, 현재 리그 순위와 각 팀의 전력을 바탕으로 우승 후보팀들을 말씀드릴 수 있어요. 정규시즌 잔여 경기와 가을 야구를 통해 우승팀이 가려질 텐데, 그때까지 기다려 보시는 게 좋을 것 같네요. 지금까지의 성적으로 보면 삼성, KT, LG 등이 우승 경쟁을 벌이고 있는 것 같아요.'"
      ]
     },
     "execution_count": 11,
     "metadata": {},
     "output_type": "execute_result"
    }
   ],
   "source": [
    "from langchain_core.messages import AIMessage, BaseMessage, HumanMessage\n",
    "from langchain_core.prompts import ChatPromptTemplate, MessagesPlaceholder\n",
    "\n",
    "prompt = ChatPromptTemplate.from_messages(\n",
    "    [\n",
    "        (\"system\",\n",
    "            \"다음의 Human과 Assistant의 친근한 이전 대화입니다.\"\n",
    "            \"Assistant은 상황에 맞는 구체적인 세부 정보를 충분히 제공합니다.\"\n",
    "            \"Assistant의 이름은 서연이고, 모르는 질문을 받으면 솔직히 모른다고 말합니다.\",\n",
    "        ),\n",
    "        MessagesPlaceholder(variable_name=\"messages\"),\n",
    "    ]\n",
    ")\n",
    "chain = prompt | chat\n",
    "\n",
    "msg = \"\"\n",
    "request = HumanMessage(\n",
    "    content=\"2023년 프로야구 우승팀은 누구인가요?\"\n",
    ")\n",
    "\n",
    "output = chain.stream({\"messages\": [request]})\n",
    "for event in output:\n",
    "    print(event.content, end=\"\")\n",
    "    msg += event.content\n",
    "    \n",
    "msg"
   ]
  },
  {
   "cell_type": "code",
   "execution_count": null,
   "id": "6bda05cb-23d5-4702-ae31-3d6f07f413ca",
   "metadata": {},
   "outputs": [],
   "source": []
  },
  {
   "cell_type": "code",
   "execution_count": 12,
   "id": "ad86a77a-f300-4ee2-a559-368ca6e95fa1",
   "metadata": {
    "tags": []
   },
   "outputs": [],
   "source": [
    "import operator\n",
    "from typing import Annotated, List, Tuple, TypedDict\n",
    "from langgraph.graph.message import add_messages\n",
    "from typing import Annotated, List, Tuple, TypedDict, Literal, Sequence, Union"
   ]
  },
  {
   "cell_type": "code",
   "execution_count": 13,
   "id": "41f4a1f0-a51f-46f5-bc48-0a04c50db5dc",
   "metadata": {
    "tags": []
   },
   "outputs": [],
   "source": [
    "from langchain_core.pydantic_v1 import BaseModel, Field\n"
   ]
  },
  {
   "cell_type": "code",
   "execution_count": 14,
   "id": "915e2a32-82f5-4912-8107-b67a18c2cf52",
   "metadata": {
    "tags": []
   },
   "outputs": [],
   "source": [
    "selected_chat = 0\n",
    "LLM_for_chat = [\n",
    "  {\n",
    "    \"bedrock_region\": \"us-west-2\", # Oregon\n",
    "    \"model_type\": \"claude3\",\n",
    "    \"model_id\": \"anthropic.claude-3-sonnet-20240229-v1:0\"\n",
    "  }\n",
    "]"
   ]
  },
  {
   "cell_type": "code",
   "execution_count": 15,
   "id": "442603fb-4cf6-474c-b77f-f4257dbecaae",
   "metadata": {
    "tags": []
   },
   "outputs": [],
   "source": [
    "def get_chat():\n",
    "    global selected_chat\n",
    "    \n",
    "    profile = LLM_for_chat[selected_chat]\n",
    "    bedrock_region =  profile['bedrock_region']\n",
    "    modelId = profile['model_id']\n",
    "    print(f'selected_chat: {selected_chat}, bedrock_region: {bedrock_region}, modelId: {modelId}')\n",
    "                          \n",
    "    # bedrock   \n",
    "    boto3_bedrock = boto3.client(\n",
    "        service_name='bedrock-runtime',\n",
    "        region_name=bedrock_region,\n",
    "        config=Config(\n",
    "            retries = {\n",
    "                'max_attempts': 30\n",
    "            }\n",
    "        )\n",
    "    )\n",
    "    parameters = {\n",
    "        \"max_tokens\":maxOutputTokens,     \n",
    "        \"temperature\":0.1,\n",
    "        \"top_k\":250,\n",
    "        \"top_p\":0.9,\n",
    "        \"stop_sequences\": [HUMAN_PROMPT]\n",
    "    }\n",
    "    # print('parameters: ', parameters)\n",
    "\n",
    "    chat = ChatBedrock(   # new chat model\n",
    "        model_id=modelId,\n",
    "        client=boto3_bedrock, \n",
    "        model_kwargs=parameters,\n",
    "    )    \n",
    "    \n",
    "    selected_chat = selected_chat + 1\n",
    "    if selected_chat == len(LLM_for_chat):\n",
    "        selected_chat = 0\n",
    "    \n",
    "    return chat"
   ]
  },
  {
   "cell_type": "markdown",
   "id": "3d22ca52-7c14-4779-9b62-9b2ef456a6fb",
   "metadata": {},
   "source": [
    "## State"
   ]
  },
  {
   "cell_type": "code",
   "execution_count": 16,
   "id": "e6aa1405-3d61-41bb-8aa0-54d44c97adca",
   "metadata": {
    "tags": []
   },
   "outputs": [],
   "source": [
    "class State(TypedDict):\n",
    "    task: str\n",
    "    draft: str\n",
    "    critique: str\n",
    "    content: List[str]\n",
    "    revision_number: int\n",
    "    max_revisions: int"
   ]
  },
  {
   "cell_type": "code",
   "execution_count": 17,
   "id": "2fccaf0c-c3c3-456c-99d6-14fc8c562302",
   "metadata": {
    "tags": []
   },
   "outputs": [],
   "source": [
    "def generation(state: State):    \n",
    "    system = \"\"\"You are expert researcher. \n",
    "Provide a detailed ~250 word answer.\"\"\"\n",
    "    \n",
    "    prompt = ChatPromptTemplate.from_messages(\n",
    "        [\n",
    "            (\"system\", system),\n",
    "            (\"human\", \"{question}\")\n",
    "        ]\n",
    "    )\n",
    "        \n",
    "    chat = get_chat()\n",
    "    chain = prompt | chat\n",
    "\n",
    "    response = chain.invoke(state['task'])\n",
    "    # print('response: ', response)\n",
    "        \n",
    "    return {\"draft\": response.content}"
   ]
  },
  {
   "cell_type": "code",
   "execution_count": 18,
   "id": "3052c63c-ad35-4b6e-baf3-ae5157b8a3a7",
   "metadata": {
    "tags": []
   },
   "outputs": [
    {
     "name": "stdout",
     "output_type": "stream",
     "text": [
      "selected_chat: 0, bedrock_region: us-west-2, modelId: anthropic.claude-3-sonnet-20240229-v1:0\n"
     ]
    }
   ],
   "source": [
    "output_draft = generation({\"task\":\"서울에서 제주를 거쳐서 대전으로 가는 가장 빠른 방법과 교통편을 알려주세요.\"})"
   ]
  },
  {
   "cell_type": "code",
   "execution_count": 19,
   "id": "9112d2f8-f829-4203-a20c-965060da1f71",
   "metadata": {
    "tags": []
   },
   "outputs": [
    {
     "data": {
      "text/plain": [
       "{'draft': '서울에서 제주를 거쳐 대전으로 가는 가장 빠른 방법은 항공편을 이용하는 것입니다. 구체적인 경로는 다음과 같습니다:\\n\\n1. 서울에서 제주까지 항공편 이용\\n- 서울에서 제주국제공항까지 약 1시간 10분 소요\\n\\n2. 제주에서 대전까지 항공편 이용 \\n- 제주국제공항에서 대전국제공항까지 약 1시간 소요\\n\\n이렇게 하면 총 소요시간은 약 2시간 10분 정도가 됩니다. \\n\\n항공편을 이용하면 가장 빠르고 편리하게 이동할 수 있지만, 비용이 다소 높은 편입니다. 예약 상황에 따라 가격 변동이 있겠지만, 왕복 항공권 가격은 대략 20만원에서 30만원 사이일 것으로 예상됩니다.\\n\\n시간적 여유가 있다면 대중교통을 이용하는 것도 고려해볼 수 있습니다. 서울에서 제주까지는 배편을 이용하고, 제주에서 대전까지는 항공편을 이용하는 방법이 있습니다. 하지만 이 경우 이동 시간이 10시간 이상 소요되므로 시간을 많이 투자해야 합니다.'}"
      ]
     },
     "execution_count": 19,
     "metadata": {},
     "output_type": "execute_result"
    }
   ],
   "source": [
    "output_draft"
   ]
  },
  {
   "cell_type": "markdown",
   "id": "71c4abed-a7fc-4b8c-94f4-8788592efa32",
   "metadata": {},
   "source": [
    "## Reflection"
   ]
  },
  {
   "cell_type": "code",
   "execution_count": 20,
   "id": "ede79e05-c2a9-406c-8453-740fcd17798d",
   "metadata": {
    "tags": []
   },
   "outputs": [],
   "source": [
    "from langchain_community.tools.tavily_search import TavilySearchResults\n",
    "import json"
   ]
  },
  {
   "cell_type": "code",
   "execution_count": 21,
   "id": "f1811cd0-10b5-464a-a7b7-13561680d2b9",
   "metadata": {
    "tags": []
   },
   "outputs": [],
   "source": [
    "from langchain_core.pydantic_v1 import BaseModel\n",
    "\n",
    "class Queries(BaseModel):\n",
    "    \"\"\"List of quries as a json format\"\"\"\n",
    "\n",
    "    queries: str = Field(description=\"queries relevant to the question'\")"
   ]
  },
  {
   "cell_type": "code",
   "execution_count": 22,
   "id": "beb056ab-6b29-4b37-bca6-5af46786650e",
   "metadata": {
    "tags": []
   },
   "outputs": [],
   "source": [
    "def reflection(state: State):\n",
    "    system = \"\"\"You are a researcher charged with providing information that can \\\n",
    "be used when writing the following answer. Generate a list of search queries that will gather \\\n",
    "any relevant information. Only generate 3 queries max. All queries should be words or string without numbers\"\"\"\n",
    "    \n",
    "    prompt = ChatPromptTemplate.from_messages(\n",
    "        [\n",
    "            (\"system\", system),\n",
    "            (\"human\", \"{answer}\"),\n",
    "        ]\n",
    "    )\n",
    "        \n",
    "    chat = get_chat()\n",
    "    chain = prompt | chat\n",
    "\n",
    "    response = chain.invoke({\"answer\": state['draft']})\n",
    "    print('response: ', response.content)\n",
    "    \n",
    "    chat = get_chat()\n",
    "    structured_llm = chat.with_structured_output(Queries, include_raw=True)\n",
    "    info = structured_llm.invoke(response.content)\n",
    "    print('info: ', info)\n",
    "    \n",
    "    content = []\n",
    "    if not info['parsed'] == None:\n",
    "        queries = info['parsed']\n",
    "        print('queries: ', queries.queries)\n",
    "    \n",
    "        search = TavilySearchResults(k=2)\n",
    "        for q in json.loads(queries.queries):\n",
    "            # print('q: ', q)\n",
    "            \n",
    "            response = search.invoke(q)     \n",
    "            # print('response: ', response)        \n",
    "            for r in response:\n",
    "                content.append(r['content'])    \n",
    "    return {\n",
    "        \"content\": content,\n",
    "        \"draft\": state[\"draft\"]\n",
    "    }"
   ]
  },
  {
   "cell_type": "code",
   "execution_count": 23,
   "id": "b47a8a3c-9dc0-40fa-827f-4d0cec205ac7",
   "metadata": {
    "tags": []
   },
   "outputs": [
    {
     "name": "stdout",
     "output_type": "stream",
     "text": [
      "selected_chat: 0, bedrock_region: us-west-2, modelId: anthropic.claude-3-sonnet-20240229-v1:0\n",
      "response:  1. 서울 제주 항공편\n",
      "2. 제주 대전 항공편\n",
      "3. 서울 제주 대전 이동 경로\n",
      "selected_chat: 0, bedrock_region: us-west-2, modelId: anthropic.claude-3-sonnet-20240229-v1:0\n",
      "info:  {'raw': AIMessage(content='', additional_kwargs={'usage': {'prompt_tokens': 371, 'completion_tokens': 109, 'total_tokens': 480}, 'stop_reason': 'tool_use', 'model_id': 'anthropic.claude-3-sonnet-20240229-v1:0'}, response_metadata={'usage': {'prompt_tokens': 371, 'completion_tokens': 109, 'total_tokens': 480}, 'stop_reason': 'tool_use', 'model_id': 'anthropic.claude-3-sonnet-20240229-v1:0'}, id='run-1c951a56-d1e4-46fc-9c2b-5b5b161e2b11-0', tool_calls=[{'name': 'Queries', 'args': {'queries': '[\\n  \"서울에서 제주까지 가는 항공편\",\\n  \"제주에서 대전까지 가는 항공편\", \\n  \"서울에서 제주를 경유하여 대전까지 가는 이동 경로\"\\n]'}, 'id': 'toolu_bdrk_01Ea9ETTtddmZ8JFHRqsouXF', 'type': 'tool_call'}], usage_metadata={'input_tokens': 371, 'output_tokens': 109, 'total_tokens': 480}), 'parsed': Queries(queries='[\\n  \"서울에서 제주까지 가는 항공편\",\\n  \"제주에서 대전까지 가는 항공편\", \\n  \"서울에서 제주를 경유하여 대전까지 가는 이동 경로\"\\n]'), 'parsing_error': None}\n",
      "queries:  [\n",
      "  \"서울에서 제주까지 가는 항공편\",\n",
      "  \"제주에서 대전까지 가는 항공편\", \n",
      "  \"서울에서 제주를 경유하여 대전까지 가는 이동 경로\"\n",
      "]\n"
     ]
    }
   ],
   "source": [
    "output_reflection = reflection(output_draft)"
   ]
  },
  {
   "cell_type": "code",
   "execution_count": 24,
   "id": "e569f99a-00a8-4016-843e-d44bb67437fb",
   "metadata": {
    "tags": []
   },
   "outputs": [
    {
     "data": {
      "text/plain": [
       "{'content': ['서울에서 제주으로 가는 실시간 항공편을 확인하고, 최저가 서울 제주 항공권을 트립닷컴에서 예약하세요! ... 서울에서 제주까지 운행하는 직항 항공편은 대부분 김포국제공항에서 출발하는데, 김포국제공항 출발 제주국제공항 도착 항공편 기준 평균 비행 ...',\n",
       "  \"편도 항공편 - 운항사: 티웨이 항공. 12월 3일 (화) 서울 김포에서 출발하여 제주공항에 도착하는 출국 직항 항공편 - 운항사: 티웨이 항공. ... 서울에서 제주공항까지 가는 직항 항공편만 보고 싶으세요? 검색할 때 '직항만'에 체크하세요.\",\n",
       "  '지난 1년간의 항공편 데이터를 바탕으로 서울에서 제주시(으)로 떠날 최적의 시기를 알아 보세요. 가장 저렴한 월별 및 요일별 항공편을 찾아보세요. ... 서울발 제주시행 항공편 예약 시 kayak 사용자에게 가장 인기 있는 항공사는 대한항공 및 아시아나항공입니다 ...',\n",
       "  '제주도행 일반석 항공권. 38,334원. 서울 김포 국제공항발 제주도행 항공편: 78,036원. 인천 국제 공항발 제주도행 항공편: 38,334원. 제주시 제주시 행 항공편. 제주도 도착 36,965원 출발 항공권을 찾아보세요. Fly $ [35982,city, 서울 출발 에어부산, 진에어, 티웨이항공 ...',\n",
       "  '서울(SEL)출발 제주(CJU)도착 익스피디아 항공권 특가! 편도 {flightsLowestPriceOW}~, 왕복 {flightsLowestPrice} ~. 실시간으로 저렴한 항공권 가격 비교부터 즉시 예약, 결제까지 한 번에. 전세계 항공권은 익스피디아!',\n",
       "  '대전여행 가는길 -서귀포버스터미널 800번 리무진- 경유지 : 서귀포버스터미널→ 유승한내들아파트→ 공무원연금공단→ 서귀포시청2청사→ 강창학구장→ 농업기술원→ 법화사→ 회수사거리→ 정든마을→ 롯데마트→ 신제주로타리→ 제주국제공항→ 제주터미널',\n",
       "  'Flights from Rach Gia to Kuala Lumpur 편도 expand_more 1 승객 expand_more 출발지 도착지 출발일 2024/07/23 today 도착일 today 항공편 검색 홈 항공편 한국 도착 제주 - 대구',\n",
       "  '1,000개 이상의 업체가 제공하는 제주-광주 특가 항공권을 비교하고 가장 저렴하거나 가장 빠른 비행기 표를 선택하세요. 광주 항공권 가격은 편도 ₩18,146부터 시작합니다. 날짜를 조정해 최저가 CJU-KWJ 비행기 표를 찾아보세요. 여행 날짜를 조정할 수 있다면 ...',\n",
       "  'CAD 431* 편도 expand_more 1 승객 expand_more 출발지 도착지 출발일 2024/08/14 today 도착일 today 항공편 검색 홈 항공편 서울 - 제주 제주 - 서울 부산 - 제주 서울 - 도쿄 서울 - 후쿠오카 부산 - 후쿠오카 서울 - 홍콩 서울 - 방콕 서울 - 다낭 서울 - 사이판 청주 - 제주 제주 - 부산 서울 - 푸꾸옥 서울 - 치앙마이 ...',\n",
       "  '대한민국 No.1 LCC 제주항공 홈페이지에서 국내외 다양한 노선과 편리한 예약 서비스를 제공합니다.',\n",
       "  '서울 에서 대전 거리 서울에서 대전까지의 거리는 약 160km 이며, 차로 약 2시간 정도 소요됩니다. 이 거리는 대략적인 거리이며, 차종, 교통 상황, 기상 상황 등에 따라 소요 시간이 달라질 수 있습니다. 서울에서 대전으로 가는 방법으로는 대표적으로 자가용, 기차, 버스를 이용하는 방법이 있습니다 ...',\n",
       "  '차량 없이 서울역에서 대전역로 이동하는 방법은 철도을 (를) 이용하는 것이며 소요 시간은 1시 7분, 비용은 $6 - $19입니다. 서울역에서 대전역까지 이동하는 데 얼마나 걸리나요? Seoul Station에서 Daejeon Station (으)로 이동하는 철도은 (는) 환승을 포함하여 1시 7분이 ...',\n",
       "  '서울 에서대전광역시 로 가는 기차 정보. 서울 에서 대전광역시 로 이동하는 가장 좋은 방법은 빠르고 현대적인 기차를 이용하는 것입니다. 도시 사이를 운행하는 모든 고속 열차는 선택할 수 있는 여러 클래스, 빠른 이동 시간 (약 2시간 소요), 매일 최대 111회 ...',\n",
       "  \"서울 고속버스터미널에서 출발하여 대전 복합터미널까지 가는 여정입니다. 약 2시간이 소요되며, 교통 상황에 따라 달라질 수 있습니다. 예매 방법. 1. 현장 발권. 2. '고속버스 티머니' 앱 다운로드 후, 출발지 '서울경부', 도착지 '대전복합'으로 하여 조회 후 예매 ...\",\n",
       "  '서울고속버스터미널에서 대전까지 버스, 지하철, 철도, 택시 또는 자동차로 가는 방법은 5가지가 있습니다. Rome2Rio의 여행 플래너에서 단계별 지침을 보고 티켓 요금 및 여행 시간을 비교하려면 아래의 옵션을 선택하세요. 추천 옵션. 버스 • 1시간 53분'],\n",
       " 'draft': '서울에서 제주를 거쳐 대전으로 가는 가장 빠른 방법은 항공편을 이용하는 것입니다. 구체적인 경로는 다음과 같습니다:\\n\\n1. 서울에서 제주까지 항공편 이용\\n- 서울에서 제주국제공항까지 약 1시간 10분 소요\\n\\n2. 제주에서 대전까지 항공편 이용 \\n- 제주국제공항에서 대전국제공항까지 약 1시간 소요\\n\\n이렇게 하면 총 소요시간은 약 2시간 10분 정도가 됩니다. \\n\\n항공편을 이용하면 가장 빠르고 편리하게 이동할 수 있지만, 비용이 다소 높은 편입니다. 예약 상황에 따라 가격 변동이 있겠지만, 왕복 항공권 가격은 대략 20만원에서 30만원 사이일 것으로 예상됩니다.\\n\\n시간적 여유가 있다면 대중교통을 이용하는 것도 고려해볼 수 있습니다. 서울에서 제주까지는 배편을 이용하고, 제주에서 대전까지는 항공편을 이용하는 방법이 있습니다. 하지만 이 경우 이동 시간이 10시간 이상 소요되므로 시간을 많이 투자해야 합니다.'}"
      ]
     },
     "execution_count": 24,
     "metadata": {},
     "output_type": "execute_result"
    }
   ],
   "source": [
    "output_reflection"
   ]
  },
  {
   "cell_type": "code",
   "execution_count": null,
   "id": "8a27c031-d1fe-4fc7-ae1c-1c88b5fa7585",
   "metadata": {},
   "outputs": [],
   "source": []
  },
  {
   "cell_type": "code",
   "execution_count": 48,
   "id": "13e17028-5273-4feb-9ac5-e32b1bd25a46",
   "metadata": {
    "tags": []
   },
   "outputs": [],
   "source": [
    "def revise_answer(state: State):   \n",
    "    system = \"\"\"Revise your previous answer using the new information as bellow. Then prvide the final answer with <result> tag.\n",
    "    \n",
    "    <information>\n",
    "    {content}\n",
    "    </information\n",
    "    \"\"\"\n",
    "    \n",
    "    prompt = ChatPromptTemplate.from_messages(\n",
    "        [\n",
    "            (\"system\", system),\n",
    "            (\"human\", \"<answer>{draft}</answer>\"),\n",
    "        ]\n",
    "    )\n",
    "            \n",
    "    chat = get_chat()\n",
    "    chain = prompt | chat\n",
    "\n",
    "    response = chain.invoke({\n",
    "        \"content\": state['content'],\n",
    "        \"draft\": state['draft']\n",
    "    })\n",
    "    print('response: ', response)\n",
    "            \n",
    "    revision_number = state[\"revision_number\"] if state.get(\"revision_number\") is not None else 1\n",
    "    return {\n",
    "        \"draft\": response, \n",
    "        \"revision_number\": revision_number + 1\n",
    "    }"
   ]
  },
  {
   "cell_type": "code",
   "execution_count": 49,
   "id": "1331f4f4-3da8-4053-be43-2837e4b89fa2",
   "metadata": {
    "tags": []
   },
   "outputs": [
    {
     "name": "stdout",
     "output_type": "stream",
     "text": [
      "selected_chat: 0, bedrock_region: us-west-2, modelId: anthropic.claude-3-sonnet-20240229-v1:0\n",
      "response:  content='제공된 정보를 종합하여 수정된 답변은 다음과 같습니다:\\n\\n<result>\\n서울에서 제주를 거쳐 대전으로 가는 가장 빠른 방법은 다음과 같습니다:\\n\\n1. 서울 김포공항에서 제주국제공항까지 직항 항공편 이용 (약 1시간 소요)\\n2. 제주국제공항에서 대전국제공항까지 직항 항공편 이용 (약 1시간 소요)\\n\\n총 소요시간은 약 2시간 정도입니다. 항공권 가격은 출발지, 항공사, 시기에 따라 다르지만 대략 서울-제주 편도 4만원 내외, 제주-대전 편도 4만원 내외로 왕복 총 16만원 정도가 예상됩니다.\\n\\n대중교통을 이용할 경우 서울에서 제주까지는 배편, 제주에서 대전까지는 항공편을 이용하는 방법이 있지만 이동 시간이 10시간 이상 소요되므로 시간이 많이 걸립니다.\\n</result>' additional_kwargs={'usage': {'prompt_tokens': 2624, 'completion_tokens': 371, 'total_tokens': 2995}, 'stop_reason': 'end_turn', 'model_id': 'anthropic.claude-3-sonnet-20240229-v1:0'} response_metadata={'usage': {'prompt_tokens': 2624, 'completion_tokens': 371, 'total_tokens': 2995}, 'stop_reason': 'end_turn', 'model_id': 'anthropic.claude-3-sonnet-20240229-v1:0'} id='run-d75927d3-60ec-49b2-b8cb-5d38d9470366-0' usage_metadata={'input_tokens': 2624, 'output_tokens': 371, 'total_tokens': 2995}\n"
     ]
    }
   ],
   "source": [
    "output_revise = revise_answer(output_reflection)"
   ]
  },
  {
   "cell_type": "code",
   "execution_count": 50,
   "id": "c6ab9b93-2bb4-42d8-8fbe-6f23d9f63e56",
   "metadata": {
    "tags": []
   },
   "outputs": [
    {
     "data": {
      "text/plain": [
       "{'draft': AIMessage(content='제공된 정보를 종합하여 수정된 답변은 다음과 같습니다:\\n\\n<result>\\n서울에서 제주를 거쳐 대전으로 가는 가장 빠른 방법은 다음과 같습니다:\\n\\n1. 서울 김포공항에서 제주국제공항까지 직항 항공편 이용 (약 1시간 소요)\\n2. 제주국제공항에서 대전국제공항까지 직항 항공편 이용 (약 1시간 소요)\\n\\n총 소요시간은 약 2시간 정도입니다. 항공권 가격은 출발지, 항공사, 시기에 따라 다르지만 대략 서울-제주 편도 4만원 내외, 제주-대전 편도 4만원 내외로 왕복 총 16만원 정도가 예상됩니다.\\n\\n대중교통을 이용할 경우 서울에서 제주까지는 배편, 제주에서 대전까지는 항공편을 이용하는 방법이 있지만 이동 시간이 10시간 이상 소요되므로 시간이 많이 걸립니다.\\n</result>', additional_kwargs={'usage': {'prompt_tokens': 2624, 'completion_tokens': 371, 'total_tokens': 2995}, 'stop_reason': 'end_turn', 'model_id': 'anthropic.claude-3-sonnet-20240229-v1:0'}, response_metadata={'usage': {'prompt_tokens': 2624, 'completion_tokens': 371, 'total_tokens': 2995}, 'stop_reason': 'end_turn', 'model_id': 'anthropic.claude-3-sonnet-20240229-v1:0'}, id='run-d75927d3-60ec-49b2-b8cb-5d38d9470366-0', usage_metadata={'input_tokens': 2624, 'output_tokens': 371, 'total_tokens': 2995}),\n",
       " 'revision_number': 2}"
      ]
     },
     "execution_count": 50,
     "metadata": {},
     "output_type": "execute_result"
    }
   ],
   "source": [
    "output_revise"
   ]
  },
  {
   "cell_type": "code",
   "execution_count": 51,
   "id": "ed5c6715-165c-440e-a61b-a71a20fb84d6",
   "metadata": {},
   "outputs": [],
   "source": [
    "def should_continue(state: State, config):\n",
    "        max_revisions = config.get(\"configurable\", {}).get(\"max_revisions\", MAX_REVISIONS)\n",
    "        print(\"max_revisions: \", max_revisions)\n",
    "            \n",
    "        if state[\"revision_number\"] > max_revisions:\n",
    "            return \"end\"\n",
    "        return \"contine\""
   ]
  },
  {
   "cell_type": "code",
   "execution_count": null,
   "id": "c4126817-bc44-42d6-a806-638f4335d5fd",
   "metadata": {},
   "outputs": [],
   "source": []
  },
  {
   "cell_type": "markdown",
   "id": "581b4267-21d4-4378-9260-f74c055bd9a4",
   "metadata": {},
   "source": [
    "## Create the Graph"
   ]
  },
  {
   "cell_type": "code",
   "execution_count": 52,
   "id": "92e5b2c9-a76d-427e-a753-0d43128962b8",
   "metadata": {
    "tags": []
   },
   "outputs": [],
   "source": [
    "from langgraph.graph import START, END, StateGraph"
   ]
  },
  {
   "cell_type": "code",
   "execution_count": 53,
   "id": "f2885218-b803-49a3-8f08-33e53238ae56",
   "metadata": {},
   "outputs": [],
   "source": [
    "workflow = StateGraph(State)\n",
    "\n",
    "workflow.add_node(\"generation\", generation)\n",
    "workflow.add_node(\"reflection\", reflection)\n",
    "workflow.add_node(\"revise_answer\", revise_answer)\n",
    "\n",
    "workflow.set_entry_point(\"generation\")\n",
    "\n",
    "workflow.add_conditional_edges(\n",
    "    \"revise_answer\", \n",
    "    should_continue, \n",
    "    {\n",
    "        \"end\": END, \n",
    "        \"contine\": \"reflection\"}\n",
    ")\n",
    "\n",
    "workflow.add_edge(\"generation\", \"reflection\")\n",
    "workflow.add_edge(\"reflection\", \"revise_answer\")\n",
    "\n",
    "# graph = builder.compile(checkpointer=memory)"
   ]
  },
  {
   "cell_type": "code",
   "execution_count": 54,
   "id": "3d2d7d25-897d-4010-8855-bb24e31e01c2",
   "metadata": {
    "tags": []
   },
   "outputs": [],
   "source": [
    "app = workflow.compile()"
   ]
  },
  {
   "cell_type": "code",
   "execution_count": 55,
   "id": "f24c56e3-2c4b-410d-8991-6ad4739af4cd",
   "metadata": {
    "tags": []
   },
   "outputs": [
    {
     "data": {
      "image/jpeg": "[encoded data removed]",
      "text/plain": [
       "<IPython.core.display.Image object>"
      ]
     },
     "metadata": {},
     "output_type": "display_data"
    }
   ],
   "source": [
    "from IPython.display import Image, display\n",
    "display(Image(app.get_graph().draw_mermaid_png()))"
   ]
  },
  {
   "cell_type": "code",
   "execution_count": null,
   "id": "d178ff0e-2bc6-4ba0-a80f-374cd15d1435",
   "metadata": {},
   "outputs": [],
   "source": []
  },
  {
   "cell_type": "markdown",
   "id": "6ca1ea88-fa5f-48d4-bf01-c7199b4362e3",
   "metadata": {},
   "source": [
    "## RUN"
   ]
  },
  {
   "cell_type": "code",
   "execution_count": 56,
   "id": "46a34384-897b-4588-b31a-8cad0a05fca7",
   "metadata": {},
   "outputs": [
    {
     "name": "stdout",
     "output_type": "stream",
     "text": [
      "selected_chat: 0, bedrock_region: us-west-2, modelId: anthropic.claude-3-sonnet-20240229-v1:0\n",
      "Finished: generation\n",
      "selected_chat: 0, bedrock_region: us-west-2, modelId: anthropic.claude-3-sonnet-20240229-v1:0\n",
      "response:  Here are three potential search queries to gather relevant information for the detailed response:\n",
      "\n",
      "1. \"climate change mitigation strategies\"\n",
      "2. \"renewable energy transition plans\"\n",
      "3. \"carbon pricing policies climate change\"\n",
      "selected_chat: 0, bedrock_region: us-west-2, modelId: anthropic.claude-3-sonnet-20240229-v1:0\n",
      "info:  {'raw': AIMessage(content='', additional_kwargs={'usage': {'prompt_tokens': 371, 'completion_tokens': 52, 'total_tokens': 423}, 'stop_reason': 'tool_use', 'model_id': 'anthropic.claude-3-sonnet-20240229-v1:0'}, response_metadata={'usage': {'prompt_tokens': 371, 'completion_tokens': 52, 'total_tokens': 423}, 'stop_reason': 'tool_use', 'model_id': 'anthropic.claude-3-sonnet-20240229-v1:0'}, id='run-ff06c0c3-5f2c-4bab-ad4a-3f0beebd05a8-0', tool_calls=[{'name': 'Queries', 'args': {'queries': '[\"climate change mitigation strategies\", \"renewable energy transition plans\", \"carbon pricing policies climate change\"]'}, 'id': 'toolu_bdrk_01R8XfBNZtorGUkUnnjVprZb', 'type': 'tool_call'}], usage_metadata={'input_tokens': 371, 'output_tokens': 52, 'total_tokens': 423}), 'parsed': Queries(queries='[\"climate change mitigation strategies\", \"renewable energy transition plans\", \"carbon pricing policies climate change\"]'), 'parsing_error': None}\n",
      "queries:  [\"climate change mitigation strategies\", \"renewable energy transition plans\", \"carbon pricing policies climate change\"]\n",
      "Finished: reflection\n",
      "selected_chat: 0, bedrock_region: us-west-2, modelId: anthropic.claude-3-sonnet-20240229-v1:0\n",
      "response:  content='Your detailed response covers many of the key strategies needed to address the climate crisis through mitigation (reducing emissions) and adaptation. Here is a summary with the <result> tag:\\n\\n<result>\\nTo tackle the climate crisis, a multi-pronged approach is needed involving:\\n\\nMitigation:\\n- Rapidly transitioning to renewable energy sources like solar, wind, and nuclear power\\n- Improving energy efficiency across all sectors\\n- Protecting and restoring carbon sinks like forests and oceans\\n- Developing and deploying carbon capture and storage technologies\\n- Putting a price on carbon emissions through taxes or cap-and-trade systems\\n\\nAdaptation:\\n- Building resilient infrastructure and disaster preparedness\\n- Developing drought-resistant agriculture and protecting biodiversity refuges\\n- Managed retreat from high-risk areas\\n\\nOther key elements:\\n- Providing financing, technology transfer, and capacity building to developing nations\\n- Unprecedented global cooperation and fundamentally transforming energy systems and economies\\n\\nThe goal is to dramatically reduce net greenhouse gas emissions to near zero by mid-century to limit the worst climate impacts.\\n</result>' additional_kwargs={'usage': {'prompt_tokens': 6375, 'completion_tokens': 239, 'total_tokens': 6614}, 'stop_reason': 'end_turn', 'model_id': 'anthropic.claude-3-sonnet-20240229-v1:0'} response_metadata={'usage': {'prompt_tokens': 6375, 'completion_tokens': 239, 'total_tokens': 6614}, 'stop_reason': 'end_turn', 'model_id': 'anthropic.claude-3-sonnet-20240229-v1:0'} id='run-fb76c996-8c54-4e3c-adc3-cf7f7b669175-0' usage_metadata={'input_tokens': 6375, 'output_tokens': 239, 'total_tokens': 6614}\n",
      "max_revisions:  2\n",
      "Finished: revise_answer\n",
      "selected_chat: 0, bedrock_region: us-west-2, modelId: anthropic.claude-3-sonnet-20240229-v1:0\n",
      "response:  Here are 3 search queries to gather relevant information for the given response:\n",
      "\n",
      "1. \"climate change mitigation strategies\"\n",
      "2. \"climate change adaptation measures\"\n",
      "3. \"global cooperation climate action\"\n",
      "selected_chat: 0, bedrock_region: us-west-2, modelId: anthropic.claude-3-sonnet-20240229-v1:0\n",
      "info:  {'raw': AIMessage(content='', additional_kwargs={'usage': {'prompt_tokens': 371, 'completion_tokens': 51, 'total_tokens': 422}, 'stop_reason': 'tool_use', 'model_id': 'anthropic.claude-3-sonnet-20240229-v1:0'}, response_metadata={'usage': {'prompt_tokens': 371, 'completion_tokens': 51, 'total_tokens': 422}, 'stop_reason': 'tool_use', 'model_id': 'anthropic.claude-3-sonnet-20240229-v1:0'}, id='run-e871f10b-d097-4e71-bc62-50f47827eb72-0', tool_calls=[{'name': 'Queries', 'args': {'queries': '[\"climate change mitigation strategies\", \"climate change adaptation measures\", \"global cooperation climate action\"]'}, 'id': 'toolu_bdrk_01MGKeqVXpgTv7A2gsQMxdAo', 'type': 'tool_call'}], usage_metadata={'input_tokens': 371, 'output_tokens': 51, 'total_tokens': 422}), 'parsed': Queries(queries='[\"climate change mitigation strategies\", \"climate change adaptation measures\", \"global cooperation climate action\"]'), 'parsing_error': None}\n",
      "queries:  [\"climate change mitigation strategies\", \"climate change adaptation measures\", \"global cooperation climate action\"]\n",
      "Finished: reflection\n",
      "selected_chat: 0, bedrock_region: us-west-2, modelId: anthropic.claude-3-sonnet-20240229-v1:0\n",
      "response:  content='The summary you provided in the <result> tag covers the key strategies for climate change mitigation and adaptation very well. It highlights the need for a multi-pronged approach involving transitioning to renewable energy, improving energy efficiency, protecting carbon sinks, developing carbon capture technologies, putting a price on emissions, building resilient infrastructure, developing drought-resistant agriculture, managed retreat from high-risk areas, providing financing and technology transfer to developing nations, and unprecedented global cooperation. The goal of dramatically reducing net greenhouse gas emissions to near zero by mid-century to limit the worst climate impacts is also clearly stated. This is a comprehensive and well-structured summary of the main strategies needed to tackle the climate crisis.' additional_kwargs={'usage': {'prompt_tokens': 4838, 'completion_tokens': 145, 'total_tokens': 4983}, 'stop_reason': 'end_turn', 'model_id': 'anthropic.claude-3-sonnet-20240229-v1:0'} response_metadata={'usage': {'prompt_tokens': 4838, 'completion_tokens': 145, 'total_tokens': 4983}, 'stop_reason': 'end_turn', 'model_id': 'anthropic.claude-3-sonnet-20240229-v1:0'} id='run-eb1c8e6f-ce8d-4fb9-b473-81dffc46bb17-0' usage_metadata={'input_tokens': 4838, 'output_tokens': 145, 'total_tokens': 4983}\n",
      "max_revisions:  2\n",
      "Finished: revise_answer\n",
      "Final:  content='The summary you provided in the <result> tag covers the key strategies for climate change mitigation and adaptation very well. It highlights the need for a multi-pronged approach involving transitioning to renewable energy, improving energy efficiency, protecting carbon sinks, developing carbon capture technologies, putting a price on emissions, building resilient infrastructure, developing drought-resistant agriculture, managed retreat from high-risk areas, providing financing and technology transfer to developing nations, and unprecedented global cooperation. The goal of dramatically reducing net greenhouse gas emissions to near zero by mid-century to limit the worst climate impacts is also clearly stated. This is a comprehensive and well-structured summary of the main strategies needed to tackle the climate crisis.' additional_kwargs={'usage': {'prompt_tokens': 4838, 'completion_tokens': 145, 'total_tokens': 4983}, 'stop_reason': 'end_turn', 'model_id': 'anthropic.claude-3-sonnet-20240229-v1:0'} response_metadata={'usage': {'prompt_tokens': 4838, 'completion_tokens': 145, 'total_tokens': 4983}, 'stop_reason': 'end_turn', 'model_id': 'anthropic.claude-3-sonnet-20240229-v1:0'} id='run-eb1c8e6f-ce8d-4fb9-b473-81dffc46bb17-0' usage_metadata={'input_tokens': 4838, 'output_tokens': 145, 'total_tokens': 4983}\n"
     ]
    }
   ],
   "source": [
    "MAX_REVISIONS = 2\n",
    "    \n",
    "inputs = {\"task\": \"How should we handle the climate crisis?\"}\n",
    "config = {\n",
    "        \"recursion_limit\": 50,\n",
    "        \"max_revisions\": 2\n",
    "}\n",
    "\n",
    "for output in app.stream(inputs, config=config):\n",
    "    for key, value in output.items():\n",
    "        print(f\"Finished: {key}\")\n",
    "\n",
    "print(\"Final: \", value[\"draft\"])"
   ]
  },
  {
   "cell_type": "code",
   "execution_count": 57,
   "id": "d4536d38-d2e8-4a1e-9584-f4ccd1f36be4",
   "metadata": {},
   "outputs": [
    {
     "data": {
      "text/plain": [
       "'The summary you provided in the <result> tag covers the key strategies for climate change mitigation and adaptation very well. It highlights the need for a multi-pronged approach involving transitioning to renewable energy, improving energy efficiency, protecting carbon sinks, developing carbon capture technologies, putting a price on emissions, building resilient infrastructure, developing drought-resistant agriculture, managed retreat from high-risk areas, providing financing and technology transfer to developing nations, and unprecedented global cooperation. The goal of dramatically reducing net greenhouse gas emissions to near zero by mid-century to limit the worst climate impacts is also clearly stated. This is a comprehensive and well-structured summary of the main strategies needed to tackle the climate crisis.'"
      ]
     },
     "execution_count": 57,
     "metadata": {},
     "output_type": "execute_result"
    }
   ],
   "source": [
    "value['draft'].content"
   ]
  },
  {
   "cell_type": "code",
   "execution_count": 58,
   "id": "50f3c78f-cec9-4996-b789-c394f23cfd12",
   "metadata": {},
   "outputs": [
    {
     "name": "stdout",
     "output_type": "stream",
     "text": [
      "selected_chat: 0, bedrock_region: us-west-2, modelId: anthropic.claude-3-sonnet-20240229-v1:0\n",
      "Finished: generation\n",
      "selected_chat: 0, bedrock_region: us-west-2, modelId: anthropic.claude-3-sonnet-20240229-v1:0\n",
      "response:  생성형 AI를 활용하여 공장의 생산성을 높이는 방법에 대한 정보를 수집하기 위해 다음과 같은 검색어를 사용할 수 있습니다.\n",
      "\n",
      "1. \"AI factory productivity\"\n",
      "2. \"predictive maintenance AI manufacturing\"\n",
      "3. \"AI vision quality control manufacturing\"\n",
      "selected_chat: 0, bedrock_region: us-west-2, modelId: anthropic.claude-3-sonnet-20240229-v1:0\n",
      "info:  {'raw': AIMessage(content='', additional_kwargs={'usage': {'prompt_tokens': 423, 'completion_tokens': 51, 'total_tokens': 474}, 'stop_reason': 'tool_use', 'model_id': 'anthropic.claude-3-sonnet-20240229-v1:0'}, response_metadata={'usage': {'prompt_tokens': 423, 'completion_tokens': 51, 'total_tokens': 474}, 'stop_reason': 'tool_use', 'model_id': 'anthropic.claude-3-sonnet-20240229-v1:0'}, id='run-46696ea2-a0f2-4dad-afe5-4e6172c57273-0', tool_calls=[{'name': 'Queries', 'args': {'queries': '[\"AI factory productivity\", \"predictive maintenance AI manufacturing\", \"AI vision quality control manufacturing\"]'}, 'id': 'toolu_bdrk_01X89YkXvh4H8Mog95zXZKZw', 'type': 'tool_call'}], usage_metadata={'input_tokens': 423, 'output_tokens': 51, 'total_tokens': 474}), 'parsed': Queries(queries='[\"AI factory productivity\", \"predictive maintenance AI manufacturing\", \"AI vision quality control manufacturing\"]'), 'parsing_error': None}\n",
      "queries:  [\"AI factory productivity\", \"predictive maintenance AI manufacturing\", \"AI vision quality control manufacturing\"]\n",
      "Finished: reflection\n",
      "selected_chat: 0, bedrock_region: us-west-2, modelId: anthropic.claude-3-sonnet-20240229-v1:0\n",
      "response:  content='제공된 정보를 바탕으로 생성형 AI가 제조업에서 생산성을 높이는 데 기여할 수 있는 방법을 잘 정리하였습니다. <result>\\n\\n1. 예측 분석 및 최적화를 통한 수요 예측, 재고 관리, 공정 최적화\\n2. 예지 정비를 통한 기계 고장 예측 및 가동 중단 시간 최소화\\n3. AI 비전 시스템을 활용한 제품 결함 자동 감지 및 품질 향상\\n4. AI 기반 로봇 제어 및 공정 자동화를 통한 생산성 향상\\n5. 디지털 트윈을 활용한 가상 시뮬레이션을 통한 새로운 제품/공정 테스트\\n\\n이와 같이 생성형 AI 기술을 제조업에 적용하면 예측 분석, 예지 정비, 품질 관리, 자동화, 가상 시뮬레이션 등의 측면에서 생산성과 효율성을 크게 높일 수 있습니다.\\n</result>' additional_kwargs={'usage': {'prompt_tokens': 2859, 'completion_tokens': 360, 'total_tokens': 3219}, 'stop_reason': 'end_turn', 'model_id': 'anthropic.claude-3-sonnet-20240229-v1:0'} response_metadata={'usage': {'prompt_tokens': 2859, 'completion_tokens': 360, 'total_tokens': 3219}, 'stop_reason': 'end_turn', 'model_id': 'anthropic.claude-3-sonnet-20240229-v1:0'} id='run-726685e3-2d02-4107-a5ac-c1f326156bc3-0' usage_metadata={'input_tokens': 2859, 'output_tokens': 360, 'total_tokens': 3219}\n",
      "max_revisions:  2\n",
      "Finished: revise_answer\n",
      "selected_chat: 0, bedrock_region: us-west-2, modelId: anthropic.claude-3-sonnet-20240229-v1:0\n",
      "response:  Here are three potential search queries to gather relevant information:\n",
      "\n",
      "\"generative AI applications manufacturing\"\n",
      "\"AI productivity manufacturing industry\"\n",
      "\"AI predictive maintenance quality control automation manufacturing\"\n",
      "selected_chat: 0, bedrock_region: us-west-2, modelId: anthropic.claude-3-sonnet-20240229-v1:0\n",
      "info:  {'raw': AIMessage(content='', additional_kwargs={'usage': {'prompt_tokens': 364, 'completion_tokens': 55, 'total_tokens': 419}, 'stop_reason': 'tool_use', 'model_id': 'anthropic.claude-3-sonnet-20240229-v1:0'}, response_metadata={'usage': {'prompt_tokens': 364, 'completion_tokens': 55, 'total_tokens': 419}, 'stop_reason': 'tool_use', 'model_id': 'anthropic.claude-3-sonnet-20240229-v1:0'}, id='run-e2e8128a-60a2-4b8a-b49e-345f452c967c-0', tool_calls=[{'name': 'Queries', 'args': {'queries': '[\"generative AI applications manufacturing\", \"AI productivity manufacturing industry\", \"AI predictive maintenance quality control automation manufacturing\"]'}, 'id': 'toolu_bdrk_01Wg9aKgrhLTanfKrwp6dVJb', 'type': 'tool_call'}], usage_metadata={'input_tokens': 364, 'output_tokens': 55, 'total_tokens': 419}), 'parsed': Queries(queries='[\"generative AI applications manufacturing\", \"AI productivity manufacturing industry\", \"AI predictive maintenance quality control automation manufacturing\"]'), 'parsing_error': None}\n",
      "queries:  [\"generative AI applications manufacturing\", \"AI productivity manufacturing industry\", \"AI predictive maintenance quality control automation manufacturing\"]\n",
      "Finished: reflection\n",
      "selected_chat: 0, bedrock_region: us-west-2, modelId: anthropic.claude-3-sonnet-20240229-v1:0\n",
      "response:  content='요약하신 내용이 매우 포괄적이고 잘 정리되어 있습니다. 생성형 AI가 제조업에서 예측 분석, 예지 정비, 품질 관리, 자동화, 가상 시뮬레이션 등 다양한 측면에서 생산성과 효율성을 높일 수 있는 방안을 잘 제시하셨습니다. 제가 추가할 내용은 없으며, 제시하신 답변이 완벽하다고 생각합니다.' additional_kwargs={'usage': {'prompt_tokens': 2781, 'completion_tokens': 171, 'total_tokens': 2952}, 'stop_reason': 'end_turn', 'model_id': 'anthropic.claude-3-sonnet-20240229-v1:0'} response_metadata={'usage': {'prompt_tokens': 2781, 'completion_tokens': 171, 'total_tokens': 2952}, 'stop_reason': 'end_turn', 'model_id': 'anthropic.claude-3-sonnet-20240229-v1:0'} id='run-18b870e3-d2e2-4eb5-940f-e65b970d22c6-0' usage_metadata={'input_tokens': 2781, 'output_tokens': 171, 'total_tokens': 2952}\n",
      "max_revisions:  2\n",
      "Finished: revise_answer\n",
      "Final:  content='요약하신 내용이 매우 포괄적이고 잘 정리되어 있습니다. 생성형 AI가 제조업에서 예측 분석, 예지 정비, 품질 관리, 자동화, 가상 시뮬레이션 등 다양한 측면에서 생산성과 효율성을 높일 수 있는 방안을 잘 제시하셨습니다. 제가 추가할 내용은 없으며, 제시하신 답변이 완벽하다고 생각합니다.' additional_kwargs={'usage': {'prompt_tokens': 2781, 'completion_tokens': 171, 'total_tokens': 2952}, 'stop_reason': 'end_turn', 'model_id': 'anthropic.claude-3-sonnet-20240229-v1:0'} response_metadata={'usage': {'prompt_tokens': 2781, 'completion_tokens': 171, 'total_tokens': 2952}, 'stop_reason': 'end_turn', 'model_id': 'anthropic.claude-3-sonnet-20240229-v1:0'} id='run-18b870e3-d2e2-4eb5-940f-e65b970d22c6-0' usage_metadata={'input_tokens': 2781, 'output_tokens': 171, 'total_tokens': 2952}\n"
     ]
    }
   ],
   "source": [
    "inputs = {\"task\": \"생성형 AI를 이용해 공장의 생산성을 높이는 방법은?\"}\n",
    "config = {\n",
    "        \"recursion_limit\": 50,\n",
    "        \"max_revisions\": 2\n",
    "}\n",
    "\n",
    "for output in app.stream(inputs, config=config):\n",
    "    for key, value in output.items():\n",
    "        print(f\"Finished: {key}\")\n",
    "\n",
    "print(\"Final: \", value[\"draft\"])"
   ]
  },
  {
   "cell_type": "code",
   "execution_count": 59,
   "id": "dee324bb-770c-46cf-a146-a755f87ed548",
   "metadata": {},
   "outputs": [
    {
     "data": {
      "text/plain": [
       "'요약하신 내용이 매우 포괄적이고 잘 정리되어 있습니다. 생성형 AI가 제조업에서 예측 분석, 예지 정비, 품질 관리, 자동화, 가상 시뮬레이션 등 다양한 측면에서 생산성과 효율성을 높일 수 있는 방안을 잘 제시하셨습니다. 제가 추가할 내용은 없으며, 제시하신 답변이 완벽하다고 생각합니다.'"
      ]
     },
     "execution_count": 59,
     "metadata": {},
     "output_type": "execute_result"
    }
   ],
   "source": [
    "value['draft'].content"
   ]
  },
  {
   "cell_type": "code",
   "execution_count": null,
   "id": "ba271189-72b6-451b-b179-50cb0760b006",
   "metadata": {},
   "outputs": [],
   "source": []
  }
 ],
 "metadata": {
  "availableInstances": [
   {
    "_defaultOrder": 0,
    "_isFastLaunch": true,
    "category": "General purpose",
    "gpuNum": 0,
    "hideHardwareSpecs": false,
    "memoryGiB": 4,
    "name": "ml.t3.medium",
    "vcpuNum": 2
   },
   {
    "_defaultOrder": 1,
    "_isFastLaunch": false,
    "category": "General purpose",
    "gpuNum": 0,
    "hideHardwareSpecs": false,
    "memoryGiB": 8,
    "name": "ml.t3.large",
    "vcpuNum": 2
   },
   {
    "_defaultOrder": 2,
    "_isFastLaunch": false,
    "category": "General purpose",
    "gpuNum": 0,
    "hideHardwareSpecs": false,
    "memoryGiB": 16,
    "name": "ml.t3.xlarge",
    "vcpuNum": 4
   },
   {
    "_defaultOrder": 3,
    "_isFastLaunch": false,
    "category": "General purpose",
    "gpuNum": 0,
    "hideHardwareSpecs": false,
    "memoryGiB": 32,
    "name": "ml.t3.2xlarge",
    "vcpuNum": 8
   },
   {
    "_defaultOrder": 4,
    "_isFastLaunch": true,
    "category": "General purpose",
    "gpuNum": 0,
    "hideHardwareSpecs": false,
    "memoryGiB": 8,
    "name": "ml.m5.large",
    "vcpuNum": 2
   },
   {
    "_defaultOrder": 5,
    "_isFastLaunch": false,
    "category": "General purpose",
    "gpuNum": 0,
    "hideHardwareSpecs": false,
    "memoryGiB": 16,
    "name": "ml.m5.xlarge",
    "vcpuNum": 4
   },
   {
    "_defaultOrder": 6,
    "_isFastLaunch": false,
    "category": "General purpose",
    "gpuNum": 0,
    "hideHardwareSpecs": false,
    "memoryGiB": 32,
    "name": "ml.m5.2xlarge",
    "vcpuNum": 8
   },
   {
    "_defaultOrder": 7,
    "_isFastLaunch": false,
    "category": "General purpose",
    "gpuNum": 0,
    "hideHardwareSpecs": false,
    "memoryGiB": 64,
    "name": "ml.m5.4xlarge",
    "vcpuNum": 16
   },
   {
    "_defaultOrder": 8,
    "_isFastLaunch": false,
    "category": "General purpose",
    "gpuNum": 0,
    "hideHardwareSpecs": false,
    "memoryGiB": 128,
    "name": "ml.m5.8xlarge",
    "vcpuNum": 32
   },
   {
    "_defaultOrder": 9,
    "_isFastLaunch": false,
    "category": "General purpose",
    "gpuNum": 0,
    "hideHardwareSpecs": false,
    "memoryGiB": 192,
    "name": "ml.m5.12xlarge",
    "vcpuNum": 48
   },
   {
    "_defaultOrder": 10,
    "_isFastLaunch": false,
    "category": "General purpose",
    "gpuNum": 0,
    "hideHardwareSpecs": false,
    "memoryGiB": 256,
    "name": "ml.m5.16xlarge",
    "vcpuNum": 64
   },
   {
    "_defaultOrder": 11,
    "_isFastLaunch": false,
    "category": "General purpose",
    "gpuNum": 0,
    "hideHardwareSpecs": false,
    "memoryGiB": 384,
    "name": "ml.m5.24xlarge",
    "vcpuNum": 96
   },
   {
    "_defaultOrder": 12,
    "_isFastLaunch": false,
    "category": "General purpose",
    "gpuNum": 0,
    "hideHardwareSpecs": false,
    "memoryGiB": 8,
    "name": "ml.m5d.large",
    "vcpuNum": 2
   },
   {
    "_defaultOrder": 13,
    "_isFastLaunch": false,
    "category": "General purpose",
    "gpuNum": 0,
    "hideHardwareSpecs": false,
    "memoryGiB": 16,
    "name": "ml.m5d.xlarge",
    "vcpuNum": 4
   },
   {
    "_defaultOrder": 14,
    "_isFastLaunch": false,
    "category": "General purpose",
    "gpuNum": 0,
    "hideHardwareSpecs": false,
    "memoryGiB": 32,
    "name": "ml.m5d.2xlarge",
    "vcpuNum": 8
   },
   {
    "_defaultOrder": 15,
    "_isFastLaunch": false,
    "category": "General purpose",
    "gpuNum": 0,
    "hideHardwareSpecs": false,
    "memoryGiB": 64,
    "name": "ml.m5d.4xlarge",
    "vcpuNum": 16
   },
   {
    "_defaultOrder": 16,
    "_isFastLaunch": false,
    "category": "General purpose",
    "gpuNum": 0,
    "hideHardwareSpecs": false,
    "memoryGiB": 128,
    "name": "ml.m5d.8xlarge",
    "vcpuNum": 32
   },
   {
    "_defaultOrder": 17,
    "_isFastLaunch": false,
    "category": "General purpose",
    "gpuNum": 0,
    "hideHardwareSpecs": false,
    "memoryGiB": 192,
    "name": "ml.m5d.12xlarge",
    "vcpuNum": 48
   },
   {
    "_defaultOrder": 18,
    "_isFastLaunch": false,
    "category": "General purpose",
    "gpuNum": 0,
    "hideHardwareSpecs": false,
    "memoryGiB": 256,
    "name": "ml.m5d.16xlarge",
    "vcpuNum": 64
   },
   {
    "_defaultOrder": 19,
    "_isFastLaunch": false,
    "category": "General purpose",
    "gpuNum": 0,
    "hideHardwareSpecs": false,
    "memoryGiB": 384,
    "name": "ml.m5d.24xlarge",
    "vcpuNum": 96
   },
   {
    "_defaultOrder": 20,
    "_isFastLaunch": false,
    "category": "General purpose",
    "gpuNum": 0,
    "hideHardwareSpecs": true,
    "memoryGiB": 0,
    "name": "ml.geospatial.interactive",
    "supportedImageNames": [
     "sagemaker-geospatial-v1-0"
    ],
    "vcpuNum": 0
   },
   {
    "_defaultOrder": 21,
    "_isFastLaunch": true,
    "category": "Compute optimized",
    "gpuNum": 0,
    "hideHardwareSpecs": false,
    "memoryGiB": 4,
    "name": "ml.c5.large",
    "vcpuNum": 2
   },
   {
    "_defaultOrder": 22,
    "_isFastLaunch": false,
    "category": "Compute optimized",
    "gpuNum": 0,
    "hideHardwareSpecs": false,
    "memoryGiB": 8,
    "name": "ml.c5.xlarge",
    "vcpuNum": 4
   },
   {
    "_defaultOrder": 23,
    "_isFastLaunch": false,
    "category": "Compute optimized",
    "gpuNum": 0,
    "hideHardwareSpecs": false,
    "memoryGiB": 16,
    "name": "ml.c5.2xlarge",
    "vcpuNum": 8
   },
   {
    "_defaultOrder": 24,
    "_isFastLaunch": false,
    "category": "Compute optimized",
    "gpuNum": 0,
    "hideHardwareSpecs": false,
    "memoryGiB": 32,
    "name": "ml.c5.4xlarge",
    "vcpuNum": 16
   },
   {
    "_defaultOrder": 25,
    "_isFastLaunch": false,
    "category": "Compute optimized",
    "gpuNum": 0,
    "hideHardwareSpecs": false,
    "memoryGiB": 72,
    "name": "ml.c5.9xlarge",
    "vcpuNum": 36
   },
   {
    "_defaultOrder": 26,
    "_isFastLaunch": false,
    "category": "Compute optimized",
    "gpuNum": 0,
    "hideHardwareSpecs": false,
    "memoryGiB": 96,
    "name": "ml.c5.12xlarge",
    "vcpuNum": 48
   },
   {
    "_defaultOrder": 27,
    "_isFastLaunch": false,
    "category": "Compute optimized",
    "gpuNum": 0,
    "hideHardwareSpecs": false,
    "memoryGiB": 144,
    "name": "ml.c5.18xlarge",
    "vcpuNum": 72
   },
   {
    "_defaultOrder": 28,
    "_isFastLaunch": false,
    "category": "Compute optimized",
    "gpuNum": 0,
    "hideHardwareSpecs": false,
    "memoryGiB": 192,
    "name": "ml.c5.24xlarge",
    "vcpuNum": 96
   },
   {
    "_defaultOrder": 29,
    "_isFastLaunch": true,
    "category": "Accelerated computing",
    "gpuNum": 1,
    "hideHardwareSpecs": false,
    "memoryGiB": 16,
    "name": "ml.g4dn.xlarge",
    "vcpuNum": 4
   },
   {
    "_defaultOrder": 30,
    "_isFastLaunch": false,
    "category": "Accelerated computing",
    "gpuNum": 1,
    "hideHardwareSpecs": false,
    "memoryGiB": 32,
    "name": "ml.g4dn.2xlarge",
    "vcpuNum": 8
   },
   {
    "_defaultOrder": 31,
    "_isFastLaunch": false,
    "category": "Accelerated computing",
    "gpuNum": 1,
    "hideHardwareSpecs": false,
    "memoryGiB": 64,
    "name": "ml.g4dn.4xlarge",
    "vcpuNum": 16
   },
   {
    "_defaultOrder": 32,
    "_isFastLaunch": false,
    "category": "Accelerated computing",
    "gpuNum": 1,
    "hideHardwareSpecs": false,
    "memoryGiB": 128,
    "name": "ml.g4dn.8xlarge",
    "vcpuNum": 32
   },
   {
    "_defaultOrder": 33,
    "_isFastLaunch": false,
    "category": "Accelerated computing",
    "gpuNum": 4,
    "hideHardwareSpecs": false,
    "memoryGiB": 192,
    "name": "ml.g4dn.12xlarge",
    "vcpuNum": 48
   },
   {
    "_defaultOrder": 34,
    "_isFastLaunch": false,
    "category": "Accelerated computing",
    "gpuNum": 1,
    "hideHardwareSpecs": false,
    "memoryGiB": 256,
    "name": "ml.g4dn.16xlarge",
    "vcpuNum": 64
   },
   {
    "_defaultOrder": 35,
    "_isFastLaunch": false,
    "category": "Accelerated computing",
    "gpuNum": 1,
    "hideHardwareSpecs": false,
    "memoryGiB": 61,
    "name": "ml.p3.2xlarge",
    "vcpuNum": 8
   },
   {
    "_defaultOrder": 36,
    "_isFastLaunch": false,
    "category": "Accelerated computing",
    "gpuNum": 4,
    "hideHardwareSpecs": false,
    "memoryGiB": 244,
    "name": "ml.p3.8xlarge",
    "vcpuNum": 32
   },
   {
    "_defaultOrder": 37,
    "_isFastLaunch": false,
    "category": "Accelerated computing",
    "gpuNum": 8,
    "hideHardwareSpecs": false,
    "memoryGiB": 488,
    "name": "ml.p3.16xlarge",
    "vcpuNum": 64
   },
   {
    "_defaultOrder": 38,
    "_isFastLaunch": false,
    "category": "Accelerated computing",
    "gpuNum": 8,
    "hideHardwareSpecs": false,
    "memoryGiB": 768,
    "name": "ml.p3dn.24xlarge",
    "vcpuNum": 96
   },
   {
    "_defaultOrder": 39,
    "_isFastLaunch": false,
    "category": "Memory Optimized",
    "gpuNum": 0,
    "hideHardwareSpecs": false,
    "memoryGiB": 16,
    "name": "ml.r5.large",
    "vcpuNum": 2
   },
   {
    "_defaultOrder": 40,
    "_isFastLaunch": false,
    "category": "Memory Optimized",
    "gpuNum": 0,
    "hideHardwareSpecs": false,
    "memoryGiB": 32,
    "name": "ml.r5.xlarge",
    "vcpuNum": 4
   },
   {
    "_defaultOrder": 41,
    "_isFastLaunch": false,
    "category": "Memory Optimized",
    "gpuNum": 0,
    "hideHardwareSpecs": false,
    "memoryGiB": 64,
    "name": "ml.r5.2xlarge",
    "vcpuNum": 8
   },
   {
    "_defaultOrder": 42,
    "_isFastLaunch": false,
    "category": "Memory Optimized",
    "gpuNum": 0,
    "hideHardwareSpecs": false,
    "memoryGiB": 128,
    "name": "ml.r5.4xlarge",
    "vcpuNum": 16
   },
   {
    "_defaultOrder": 43,
    "_isFastLaunch": false,
    "category": "Memory Optimized",
    "gpuNum": 0,
    "hideHardwareSpecs": false,
    "memoryGiB": 256,
    "name": "ml.r5.8xlarge",
    "vcpuNum": 32
   },
   {
    "_defaultOrder": 44,
    "_isFastLaunch": false,
    "category": "Memory Optimized",
    "gpuNum": 0,
    "hideHardwareSpecs": false,
    "memoryGiB": 384,
    "name": "ml.r5.12xlarge",
    "vcpuNum": 48
   },
   {
    "_defaultOrder": 45,
    "_isFastLaunch": false,
    "category": "Memory Optimized",
    "gpuNum": 0,
    "hideHardwareSpecs": false,
    "memoryGiB": 512,
    "name": "ml.r5.16xlarge",
    "vcpuNum": 64
   },
   {
    "_defaultOrder": 46,
    "_isFastLaunch": false,
    "category": "Memory Optimized",
    "gpuNum": 0,
    "hideHardwareSpecs": false,
    "memoryGiB": 768,
    "name": "ml.r5.24xlarge",
    "vcpuNum": 96
   },
   {
    "_defaultOrder": 47,
    "_isFastLaunch": false,
    "category": "Accelerated computing",
    "gpuNum": 1,
    "hideHardwareSpecs": false,
    "memoryGiB": 16,
    "name": "ml.g5.xlarge",
    "vcpuNum": 4
   },
   {
    "_defaultOrder": 48,
    "_isFastLaunch": false,
    "category": "Accelerated computing",
    "gpuNum": 1,
    "hideHardwareSpecs": false,
    "memoryGiB": 32,
    "name": "ml.g5.2xlarge",
    "vcpuNum": 8
   },
   {
    "_defaultOrder": 49,
    "_isFastLaunch": false,
    "category": "Accelerated computing",
    "gpuNum": 1,
    "hideHardwareSpecs": false,
    "memoryGiB": 64,
    "name": "ml.g5.4xlarge",
    "vcpuNum": 16
   },
   {
    "_defaultOrder": 50,
    "_isFastLaunch": false,
    "category": "Accelerated computing",
    "gpuNum": 1,
    "hideHardwareSpecs": false,
    "memoryGiB": 128,
    "name": "ml.g5.8xlarge",
    "vcpuNum": 32
   },
   {
    "_defaultOrder": 51,
    "_isFastLaunch": false,
    "category": "Accelerated computing",
    "gpuNum": 1,
    "hideHardwareSpecs": false,
    "memoryGiB": 256,
    "name": "ml.g5.16xlarge",
    "vcpuNum": 64
   },
   {
    "_defaultOrder": 52,
    "_isFastLaunch": false,
    "category": "Accelerated computing",
    "gpuNum": 4,
    "hideHardwareSpecs": false,
    "memoryGiB": 192,
    "name": "ml.g5.12xlarge",
    "vcpuNum": 48
   },
   {
    "_defaultOrder": 53,
    "_isFastLaunch": false,
    "category": "Accelerated computing",
    "gpuNum": 4,
    "hideHardwareSpecs": false,
    "memoryGiB": 384,
    "name": "ml.g5.24xlarge",
    "vcpuNum": 96
   },
   {
    "_defaultOrder": 54,
    "_isFastLaunch": false,
    "category": "Accelerated computing",
    "gpuNum": 8,
    "hideHardwareSpecs": false,
    "memoryGiB": 768,
    "name": "ml.g5.48xlarge",
    "vcpuNum": 192
   },
   {
    "_defaultOrder": 55,
    "_isFastLaunch": false,
    "category": "Accelerated computing",
    "gpuNum": 8,
    "hideHardwareSpecs": false,
    "memoryGiB": 1152,
    "name": "ml.p4d.24xlarge",
    "vcpuNum": 96
   },
   {
    "_defaultOrder": 56,
    "_isFastLaunch": false,
    "category": "Accelerated computing",
    "gpuNum": 8,
    "hideHardwareSpecs": false,
    "memoryGiB": 1152,
    "name": "ml.p4de.24xlarge",
    "vcpuNum": 96
   },
   {
    "_defaultOrder": 57,
    "_isFastLaunch": false,
    "category": "Accelerated computing",
    "gpuNum": 0,
    "hideHardwareSpecs": false,
    "memoryGiB": 32,
    "name": "ml.trn1.2xlarge",
    "vcpuNum": 8
   },
   {
    "_defaultOrder": 58,
    "_isFastLaunch": false,
    "category": "Accelerated computing",
    "gpuNum": 0,
    "hideHardwareSpecs": false,
    "memoryGiB": 512,
    "name": "ml.trn1.32xlarge",
    "vcpuNum": 128
   },
   {
    "_defaultOrder": 59,
    "_isFastLaunch": false,
    "category": "Accelerated computing",
    "gpuNum": 0,
    "hideHardwareSpecs": false,
    "memoryGiB": 512,
    "name": "ml.trn1n.32xlarge",
    "vcpuNum": 128
   }
  ],
  "instance_type": "ml.t3.medium",
  "kernelspec": {
   "display_name": "Python 3 (Data Science 3.0)",
   "language": "python",
   "name": "python3__SAGEMAKER_INTERNAL__arn:aws:sagemaker:us-west-2:236514542706:image/sagemaker-data-science-310-v1"
  },
  "language_info": {
   "codemirror_mode": {
    "name": "ipython",
    "version": 3
   },
   "file_extension": ".py",
   "mimetype": "text/x-python",
   "name": "python",
   "nbconvert_exporter": "python",
   "pygments_lexer": "ipython3",
   "version": "3.10.6"
  }
 },
 "nbformat": 4,
 "nbformat_minor": 5
}
