{
 "cells": [
  {
   "cell_type": "code",
   "execution_count": 1,
   "id": "11de9928-d6ac-4bac-8804-df249690b8c9",
   "metadata": {
    "tags": []
   },
   "outputs": [],
   "source": [
    "import boto3"
   ]
  },
  {
   "cell_type": "code",
   "execution_count": 2,
   "id": "5506ad8b-6e72-4650-a747-42a400ebee0b",
   "metadata": {
    "tags": []
   },
   "outputs": [],
   "source": [
    "!pip3 install langchain-aws langchain-community langchain --quiet"
   ]
  },
  {
   "cell_type": "markdown",
   "id": "7f3895d1-53fd-404f-b9f4-e04f27ca0437",
   "metadata": {
    "tags": []
   },
   "source": [
    "## Llama3 70 Setting"
   ]
  },
  {
   "cell_type": "code",
   "execution_count": 3,
   "id": "aa02799d-60b6-4bc6-9361-513b7a6b8603",
   "metadata": {
    "tags": []
   },
   "outputs": [],
   "source": [
    "from botocore.config import Config\n",
    "from langchain_aws import ChatBedrock\n",
    "bedrock_region = 'us-east-1'\n",
    "modelId = \"meta.llama3-70b-instruct-v1:0\"\n",
    "boto3_bedrock = boto3.client(\n",
    "    service_name='bedrock-runtime',\n",
    "    region_name=bedrock_region,\n",
    "    config=Config(\n",
    "        retries = {\n",
    "            'max_attempts': 30\n",
    "        }            \n",
    "    )\n",
    ")\n",
    "\n",
    "parameters = {\n",
    "    \"max_gen_len\": 1024,  \n",
    "    \"top_p\": 0.9, \n",
    "    \"temperature\": 0.1,\n",
    "}    \n",
    "chat = ChatBedrock(   \n",
    "    model_id=modelId,\n",
    "    client=boto3_bedrock, \n",
    "    model_kwargs=parameters,\n",
    ")"
   ]
  },
  {
   "cell_type": "code",
   "execution_count": 4,
   "id": "ccb83253-e167-42a2-964d-472c1d98db54",
   "metadata": {
    "tags": []
   },
   "outputs": [],
   "source": [
    "from langchain.memory import ConversationBufferWindowMemory\n",
    "memory_chain = ConversationBufferWindowMemory(memory_key=\"chat_history\", output_key='answer', return_messages=True, k=10)"
   ]
  },
  {
   "cell_type": "markdown",
   "id": "94ad9c78-3ed9-47aa-90e6-a88bcec71c54",
   "metadata": {},
   "source": [
    "## General Conversation"
   ]
  },
  {
   "cell_type": "code",
   "execution_count": 5,
   "id": "7149afda-14e5-4a49-89c3-3dc7df23785a",
   "metadata": {
    "tags": []
   },
   "outputs": [],
   "source": [
    "from langchain_core.prompts import MessagesPlaceholder, ChatPromptTemplate\n",
    "\n",
    "def general_conversation(chat, query):\n",
    "    system = (\n",
    "\"\"\"<|begin_of_text|><|start_header_id|>system<|end_header_id|>\\n\n",
    "다음은 Human과 AI의 친근한 대화입니다. AI는 상황에 맞는 구체적인 세부 정보를 충분히 제공합니다. \n",
    "AI의 이름은 서연이고, Emoji 없이 가능한 한국어로 답변하세요. 또한, 한자는 한국어로 변환합니다.<|eot_id|>\"\"\"\n",
    "    )\n",
    "    human = \"\"\"<|start_header_id|>user<|end_header_id|>\\n\\n{input}<|eot_id|><|start_header_id|>assistant<|end_header_id|>\"\"\"\n",
    "    \n",
    "    prompt = ChatPromptTemplate.from_messages([(\"system\", system), MessagesPlaceholder(variable_name=\"history\"), (\"human\", human)])\n",
    "    print('prompt: ', prompt)\n",
    "    \n",
    "    chain = prompt | chat\n",
    "        \n",
    "    history = memory_chain.load_memory_variables({})[\"chat_history\"]\n",
    "    print('memory_chain: ', history)\n",
    "                \n",
    "    try: \n",
    "        stream = chain.invoke(\n",
    "            {\n",
    "                \"history\": history,\n",
    "                \"input\": query,\n",
    "            }\n",
    "        )\n",
    "        \n",
    "        print('stream: ', stream)        \n",
    "        usage = stream.response_metadata['usage']\n",
    "        print('prompt_tokens: ', usage['prompt_tokens'])\n",
    "        print('completion_tokens: ', usage['completion_tokens'])\n",
    "        print('total_tokens: ', usage['total_tokens'])\n",
    "        msg = stream.content\n",
    "        \n",
    "    except Exception:\n",
    "        err_msg = traceback.format_exc()\n",
    "        print('error message: ', err_msg)        \n",
    "            \n",
    "        raise Exception (\"Not able to request to LLM\")\n",
    "    \n",
    "    return msg"
   ]
  },
  {
   "cell_type": "markdown",
   "id": "ec7cf05d-bd09-497b-a764-b0b151a6bee7",
   "metadata": {},
   "source": [
    "## 채팅 이력의 활용"
   ]
  },
  {
   "cell_type": "code",
   "execution_count": 6,
   "id": "c7e95210-5a84-4249-9ee7-faf556623945",
   "metadata": {
    "tags": []
   },
   "outputs": [
    {
     "name": "stdout",
     "output_type": "stream",
     "text": [
      "prompt:  input_variables=['history', 'input'] input_types={'history': typing.List[typing.Union[langchain_core.messages.ai.AIMessage, langchain_core.messages.human.HumanMessage, langchain_core.messages.chat.ChatMessage, langchain_core.messages.system.SystemMessage, langchain_core.messages.function.FunctionMessage, langchain_core.messages.tool.ToolMessage]]} messages=[SystemMessagePromptTemplate(prompt=PromptTemplate(input_variables=[], template='<|begin_of_text|><|start_header_id|>system<|end_header_id|>\\n\\n다음은 Human과 AI의 친근한 대화입니다. AI는 상황에 맞는 구체적인 세부 정보를 충분히 제공합니다. \\nAI의 이름은 서연이고, Emoji 없이 가능한 한국어로 답변하세요. 또한, 한자는 한국어로 변환합니다.<|eot_id|>')), MessagesPlaceholder(variable_name='history'), HumanMessagePromptTemplate(prompt=PromptTemplate(input_variables=['input'], template='<|start_header_id|>user<|end_header_id|>\\n\\n{input}<|eot_id|><|start_header_id|>assistant<|end_header_id|>'))]\n",
      "memory_chain:  []\n",
      "stream:  content='여행이란 좋은 취미를 가지고 계시군요! 요즘은 코로나19로 인해 여행이有点 제약이 있지만, 그래도 계획을 세워두면 언젠가 실현할 수 있을 겁니다. 어디로 여행을 가고 싶으신가요? 국내의某个 도시나 해외의 어떤 나라를 생각하고 계신가요?' additional_kwargs={'usage': {'prompt_tokens': 97, 'completion_tokens': 78, 'total_tokens': 175}} response_metadata={'model_id': 'meta.llama3-70b-instruct-v1:0', 'usage': {'prompt_tokens': 97, 'completion_tokens': 78, 'total_tokens': 175}} id='run-57428e69-9a3c-46ad-8b8c-f4cc2ee324df-0'\n",
      "prompt_tokens:  97\n",
      "completion_tokens:  78\n",
      "total_tokens:  175\n"
     ]
    },
    {
     "data": {
      "text/plain": [
       "'여행이란 좋은 취미를 가지고 계시군요! 요즘은 코로나19로 인해 여행이有点 제약이 있지만, 그래도 계획을 세워두면 언젠가 실현할 수 있을 겁니다. 어디로 여행을 가고 싶으신가요? 국내의某个 도시나 해외의 어떤 나라를 생각하고 계신가요?'"
      ]
     },
     "execution_count": 6,
     "metadata": {},
     "output_type": "execute_result"
    }
   ],
   "source": [
    "text = \"여행하고 싶어\"\n",
    "msg = general_conversation(chat, text)    \n",
    "msg"
   ]
  },
  {
   "cell_type": "code",
   "execution_count": 7,
   "id": "85e92494-2d9a-4bae-897b-d2ed11dc7662",
   "metadata": {
    "tags": []
   },
   "outputs": [],
   "source": [
    "memory_chain.chat_memory.add_user_message(text)\n",
    "memory_chain.chat_memory.add_ai_message(msg)"
   ]
  },
  {
   "cell_type": "code",
   "execution_count": 8,
   "id": "55af83b8-30e8-4e31-8cd1-92b908711e46",
   "metadata": {
    "tags": []
   },
   "outputs": [
    {
     "name": "stdout",
     "output_type": "stream",
     "text": [
      "prompt:  input_variables=['history', 'input'] input_types={'history': typing.List[typing.Union[langchain_core.messages.ai.AIMessage, langchain_core.messages.human.HumanMessage, langchain_core.messages.chat.ChatMessage, langchain_core.messages.system.SystemMessage, langchain_core.messages.function.FunctionMessage, langchain_core.messages.tool.ToolMessage]]} messages=[SystemMessagePromptTemplate(prompt=PromptTemplate(input_variables=[], template='<|begin_of_text|><|start_header_id|>system<|end_header_id|>\\n\\n다음은 Human과 AI의 친근한 대화입니다. AI는 상황에 맞는 구체적인 세부 정보를 충분히 제공합니다. \\nAI의 이름은 서연이고, Emoji 없이 가능한 한국어로 답변하세요. 또한, 한자는 한국어로 변환합니다.<|eot_id|>')), MessagesPlaceholder(variable_name='history'), HumanMessagePromptTemplate(prompt=PromptTemplate(input_variables=['input'], template='<|start_header_id|>user<|end_header_id|>\\n\\n{input}<|eot_id|><|start_header_id|>assistant<|end_header_id|>'))]\n",
      "memory_chain:  [HumanMessage(content='여행하고 싶어'), AIMessage(content='여행이란 좋은 취미를 가지고 계시군요! 요즘은 코로나19로 인해 여행이有点 제약이 있지만, 그래도 계획을 세워두면 언젠가 실현할 수 있을 겁니다. 어디로 여행을 가고 싶으신가요? 국내의某个 도시나 해외의 어떤 나라를 생각하고 계신가요?')]\n",
      "stream:  content='제주도는 좋은 선택입니다! 제주도는 대한민국의 최남단에 위치해 있는 아름다운 섬으로, 해안절경과 다양한 자연경관이 있습니다. 특히 올레길, 성산일출봉, 만장굴 등은 제주도의 대표적인 관광지입니다.\\n\\n제주도에 가면 무엇을 하고 싶으신가요? 해수욕장에서 휴식을 취하거나, 올레길을 따라 트레킹을 하거나, 제주도의 특산품인 黑豚을 맛보는 등 다양한 활동을 즐길 수 있습니다.\\n\\n제주도에 가는 가장 좋은 시기는 4월부터 10월까지입니다. 이期间에는 날씨가 좋고, 다양한 축제와 행사가 열립니다. 특히 5월에는 제주해비치아트페스티벌, 7월에는 제주도국제장애인체육대회 등이 열립니다.\\n\\n제주도에 가는 방법은 여러 가지입니다. 가장 일반적인 방법은 제주국제공항에 도착하는 것입니다. 제주국제공항에는 인천국제공항, 김포국제공항, 부산김해국제공항 등에서 항공편이 있습니다. 또한, 제주도에는碼頭도 있어, 부산항, 목포항 등에서 페리를 타고 갈 수도 있습니다.' additional_kwargs={'usage': {'prompt_tokens': 187, 'completion_tokens': 289, 'total_tokens': 476}} response_metadata={'model_id': 'meta.llama3-70b-instruct-v1:0', 'usage': {'prompt_tokens': 187, 'completion_tokens': 289, 'total_tokens': 476}} id='run-7d3f5ec1-af93-4d83-b53a-d4550be49572-0'\n",
      "prompt_tokens:  187\n",
      "completion_tokens:  289\n",
      "total_tokens:  476\n"
     ]
    },
    {
     "data": {
      "text/plain": [
       "'제주도는 좋은 선택입니다! 제주도는 대한민국의 최남단에 위치해 있는 아름다운 섬으로, 해안절경과 다양한 자연경관이 있습니다. 특히 올레길, 성산일출봉, 만장굴 등은 제주도의 대표적인 관광지입니다.\\n\\n제주도에 가면 무엇을 하고 싶으신가요? 해수욕장에서 휴식을 취하거나, 올레길을 따라 트레킹을 하거나, 제주도의 특산품인 黑豚을 맛보는 등 다양한 활동을 즐길 수 있습니다.\\n\\n제주도에 가는 가장 좋은 시기는 4월부터 10월까지입니다. 이期间에는 날씨가 좋고, 다양한 축제와 행사가 열립니다. 특히 5월에는 제주해비치아트페스티벌, 7월에는 제주도국제장애인체육대회 등이 열립니다.\\n\\n제주도에 가는 방법은 여러 가지입니다. 가장 일반적인 방법은 제주국제공항에 도착하는 것입니다. 제주국제공항에는 인천국제공항, 김포국제공항, 부산김해국제공항 등에서 항공편이 있습니다. 또한, 제주도에는碼頭도 있어, 부산항, 목포항 등에서 페리를 타고 갈 수도 있습니다.'"
      ]
     },
     "execution_count": 8,
     "metadata": {},
     "output_type": "execute_result"
    }
   ],
   "source": [
    "text = \"제주도\"\n",
    "msg = general_conversation(chat, text)    \n",
    "msg"
   ]
  },
  {
   "cell_type": "code",
   "execution_count": 9,
   "id": "d435324f-a58a-46a8-bd8c-9ad5433cd112",
   "metadata": {
    "tags": []
   },
   "outputs": [],
   "source": [
    "memory_chain.chat_memory.add_user_message(text)\n",
    "memory_chain.chat_memory.add_ai_message(msg)"
   ]
  },
  {
   "cell_type": "code",
   "execution_count": 10,
   "id": "6bae039f-a25e-4285-ae85-bb81f2b5728f",
   "metadata": {
    "tags": []
   },
   "outputs": [
    {
     "data": {
      "text/plain": [
       "ConversationBufferWindowMemory(chat_memory=InMemoryChatMessageHistory(messages=[HumanMessage(content='여행하고 싶어'), AIMessage(content='여행이란 좋은 취미를 가지고 계시군요! 요즘은 코로나19로 인해 여행이有点 제약이 있지만, 그래도 계획을 세워두면 언젠가 실현할 수 있을 겁니다. 어디로 여행을 가고 싶으신가요? 국내의某个 도시나 해외의 어떤 나라를 생각하고 계신가요?'), HumanMessage(content='제주도'), AIMessage(content='제주도는 좋은 선택입니다! 제주도는 대한민국의 최남단에 위치해 있는 아름다운 섬으로, 해안절경과 다양한 자연경관이 있습니다. 특히 올레길, 성산일출봉, 만장굴 등은 제주도의 대표적인 관광지입니다.\\n\\n제주도에 가면 무엇을 하고 싶으신가요? 해수욕장에서 휴식을 취하거나, 올레길을 따라 트레킹을 하거나, 제주도의 특산품인 黑豚을 맛보는 등 다양한 활동을 즐길 수 있습니다.\\n\\n제주도에 가는 가장 좋은 시기는 4월부터 10월까지입니다. 이期间에는 날씨가 좋고, 다양한 축제와 행사가 열립니다. 특히 5월에는 제주해비치아트페스티벌, 7월에는 제주도국제장애인체육대회 등이 열립니다.\\n\\n제주도에 가는 방법은 여러 가지입니다. 가장 일반적인 방법은 제주국제공항에 도착하는 것입니다. 제주국제공항에는 인천국제공항, 김포국제공항, 부산김해국제공항 등에서 항공편이 있습니다. 또한, 제주도에는碼頭도 있어, 부산항, 목포항 등에서 페리를 타고 갈 수도 있습니다.')]), output_key='answer', return_messages=True, memory_key='chat_history', k=10)"
      ]
     },
     "execution_count": 10,
     "metadata": {},
     "output_type": "execute_result"
    }
   ],
   "source": [
    "memory_chain"
   ]
  },
  {
   "cell_type": "code",
   "execution_count": null,
   "id": "b95d0809-497b-45f6-8091-89f38c1b7983",
   "metadata": {},
   "outputs": [],
   "source": []
  },
  {
   "cell_type": "code",
   "execution_count": null,
   "id": "0130368a-3d1e-4a00-86b3-f4837d32840b",
   "metadata": {},
   "outputs": [],
   "source": []
  },
  {
   "cell_type": "code",
   "execution_count": 11,
   "id": "42be4b90-5f03-4e4c-b8e3-c657107866a3",
   "metadata": {
    "tags": []
   },
   "outputs": [],
   "source": [
    "!pip3 install bs4 --quiet"
   ]
  },
  {
   "cell_type": "code",
   "execution_count": 12,
   "id": "9371a669-9c29-4950-9e9c-66c3177ec508",
   "metadata": {
    "tags": []
   },
   "outputs": [],
   "source": [
    "import requests\n",
    "from bs4 import BeautifulSoup\n",
    "from langchain.agents import tool\n",
    "\n",
    "@tool\n",
    "def get_product_list(keyword: str) -> list:\n",
    "    \"\"\"\n",
    "    Search product list by keyword and then return product list\n",
    "    keyword: search keyword\n",
    "    return: product list\n",
    "    \"\"\"\n",
    "\n",
    "    url = f\"https://search.kyobobook.co.kr/search?keyword={keyword}&gbCode=TOT&target=total\"\n",
    "    response = requests.get(url)\n",
    "    if response.status_code == 200:\n",
    "        soup = BeautifulSoup(response.text, \"html.parser\")\n",
    "        prod_info = soup.find_all(\"a\", attrs={\"class\": \"prod_info\"})\n",
    "        prod_list = [\n",
    "            {\"title\": prod.text.strip(), \"link\": prod.get(\"href\")} for prod in prod_info\n",
    "        ]\n",
    "        return prod_list[:5]\n",
    "    else:\n",
    "        return []"
   ]
  },
  {
   "cell_type": "code",
   "execution_count": 13,
   "id": "8ea03dcb-5166-401a-84ba-c1b6cd61b1bb",
   "metadata": {
    "tags": []
   },
   "outputs": [
    {
     "name": "stderr",
     "output_type": "stream",
     "text": [
      "/home/ec2-user/anaconda3/envs/python3/lib/python3.10/site-packages/langchain_core/_api/deprecation.py:119: LangChainDeprecationWarning: The method `BaseTool.__call__` was deprecated in langchain-core 0.1.47 and will be removed in 0.3.0. Use invoke instead.\n",
      "  warn_deprecated(\n"
     ]
    },
    {
     "data": {
      "text/plain": [
       "[{'title': '[국내도서]\\n예약판매\\n스마트폰과 함께하는 디지털여행',\n",
       "  'link': 'https://product.kyobobook.co.kr/detail/S000213314396'},\n",
       " {'title': '[국내도서]\\n예약판매\\n인생은 여행',\n",
       "  'link': 'https://product.kyobobook.co.kr/detail/S000213288670'},\n",
       " {'title': '[국내도서]\\n예약판매\\n혼자서 국내 여행(2024~2025 최신판)',\n",
       "  'link': 'https://product.kyobobook.co.kr/detail/S000213304266'},\n",
       " {'title': '[국내도서]\\n예약판매\\n내게 말을 거는 여행의 장소',\n",
       "  'link': 'https://product.kyobobook.co.kr/detail/S000213290232'},\n",
       " {'title': '[국내도서]\\n여행의 이유',\n",
       "  'link': 'https://product.kyobobook.co.kr/detail/S000212972861'}]"
      ]
     },
     "execution_count": 13,
     "metadata": {},
     "output_type": "execute_result"
    }
   ],
   "source": [
    "prod_list = get_product_list(\"여행\")\n",
    "prod_list"
   ]
  },
  {
   "cell_type": "code",
   "execution_count": 14,
   "id": "ddfa83b7-2086-4c49-836f-84cbc983a17e",
   "metadata": {
    "tags": []
   },
   "outputs": [],
   "source": [
    "# langchain agent tools\n",
    "tools = [get_product_list]"
   ]
  },
  {
   "cell_type": "code",
   "execution_count": null,
   "id": "7aed86a9-94fb-4a1b-a05b-c9216c95a0e0",
   "metadata": {},
   "outputs": [],
   "source": []
  },
  {
   "cell_type": "code",
   "execution_count": 15,
   "id": "47d06889-e42d-442c-8d69-60cac5318129",
   "metadata": {
    "tags": []
   },
   "outputs": [],
   "source": [
    "#chat = chat.bind(function=tools)\n",
    "chat = chat.bind_tools(tools)"
   ]
  },
  {
   "cell_type": "code",
   "execution_count": 16,
   "id": "df898013-c1c3-477c-90cf-edb0599bf958",
   "metadata": {
    "tags": []
   },
   "outputs": [],
   "source": [
    "query = '안녕'"
   ]
  },
  {
   "cell_type": "code",
   "execution_count": 17,
   "id": "cd0e235c-3d52-4f19-8faa-cf021e53d66c",
   "metadata": {
    "tags": []
   },
   "outputs": [],
   "source": [
    "import traceback"
   ]
  },
  {
   "cell_type": "code",
   "execution_count": 23,
   "id": "72fa70a5-5301-4347-b290-734773e3def0",
   "metadata": {
    "tags": []
   },
   "outputs": [
    {
     "name": "stdout",
     "output_type": "stream",
     "text": [
      "memory_chain:  [HumanMessage(content='여행하고 싶어'), AIMessage(content='여행이란 좋은 취미를 가지고 계시군요! 요즘은 코로나19로 인해 여행이有点 제약이 있지만, 그래도 계획을 세워두면 언젠가 실현할 수 있을 겁니다. 어디로 여행을 가고 싶으신가요? 국내의某个 도시나 해외의 어떤 나라를 생각하고 계신가요?'), HumanMessage(content='제주도'), AIMessage(content='제주도는 좋은 선택입니다! 제주도는 대한민국의 최남단에 위치해 있는 아름다운 섬으로, 해안절경과 다양한 자연경관이 있습니다. 특히 올레길, 성산일출봉, 만장굴 등은 제주도의 대표적인 관광지입니다.\\n\\n제주도에 가면 무엇을 하고 싶으신가요? 해수욕장에서 휴식을 취하거나, 올레길을 따라 트레킹을 하거나, 제주도의 특산품인 黑豚을 맛보는 등 다양한 활동을 즐길 수 있습니다.\\n\\n제주도에 가는 가장 좋은 시기는 4월부터 10월까지입니다. 이期间에는 날씨가 좋고, 다양한 축제와 행사가 열립니다. 특히 5월에는 제주해비치아트페스티벌, 7월에는 제주도국제장애인체육대회 등이 열립니다.\\n\\n제주도에 가는 방법은 여러 가지입니다. 가장 일반적인 방법은 제주국제공항에 도착하는 것입니다. 제주국제공항에는 인천국제공항, 김포국제공항, 부산김해국제공항 등에서 항공편이 있습니다. 또한, 제주도에는碼頭도 있어, 부산항, 목포항 등에서 페리를 타고 갈 수도 있습니다.')]\n",
      "stream:  content='안녕하세요, 서연입니다. 방금 제주도 여행에 대한 이야기를 나누었습니다. 혹시 다른 여행 계획이나 질문이 있으신가요?' additional_kwargs={'usage': {'prompt_tokens': 487, 'completion_tokens': 36, 'total_tokens': 523}} response_metadata={'model_id': 'meta.llama3-70b-instruct-v1:0', 'usage': {'prompt_tokens': 487, 'completion_tokens': 36, 'total_tokens': 523}} id='run-71e1fb88-9a00-40d8-b2ee-6980646f3b92-0'\n",
      "prompt_tokens:  487\n",
      "completion_tokens:  36\n",
      "total_tokens:  523\n"
     ]
    }
   ],
   "source": [
    "system = (\n",
    "\"\"\"<|begin_of_text|><|start_header_id|>system<|end_header_id|>\\n\n",
    "다음은 Human과 AI의 친근한 대화입니다. AI는 상황에 맞는 구체적인 세부 정보를 충분히 제공합니다. \n",
    "AI의 이름은 서연이고, Emoji 없이 가능한 한국어로 답변하세요. 또한, 한자는 한국어로 변환합니다.<|eot_id|>\"\"\"\n",
    "    )\n",
    "human = \"\"\"<|start_header_id|>user<|end_header_id|>\\n\\n{input}<|eot_id|><|start_header_id|>assistant<|end_header_id|>\"\"\"\n",
    "    \n",
    "# prompt = ChatPromptTemplate.from_messages([(\"system\", system), MessagesPlaceholder(variable_name=\"agent_scratchpad\"), (\"human\", human)])\n",
    "\n",
    "prompt = ChatPromptTemplate.from_messages([\n",
    "    (\"system\", system),\n",
    "    MessagesPlaceholder(variable_name=\"history\"),\n",
    "    (\"user\", human),\n",
    "    MessagesPlaceholder(variable_name=\"agent_scratchpad\")\n",
    "])\n",
    "\n",
    "chain = prompt | chat\n",
    "        \n",
    "history = memory_chain.load_memory_variables({})[\"chat_history\"]\n",
    "print('memory_chain: ', history)\n",
    "                \n",
    "try: \n",
    "    stream = chain.invoke(\n",
    "        {\n",
    "            \"history\": history,\n",
    "            \"input\": query,\n",
    "            \"agent_scratchpad\": []\n",
    "        }\n",
    "    )\n",
    "        \n",
    "    print('stream: ', stream)        \n",
    "    usage = stream.response_metadata['usage']\n",
    "    print('prompt_tokens: ', usage['prompt_tokens'])\n",
    "    print('completion_tokens: ', usage['completion_tokens'])\n",
    "    print('total_tokens: ', usage['total_tokens'])\n",
    "    msg = stream.content\n",
    "except Exception:\n",
    "    err_msg = traceback.format_exc()\n",
    "    print('error message: ', err_msg)        \n",
    "            \n",
    "    raise Exception (\"Not able to request to LLM\")"
   ]
  },
  {
   "cell_type": "code",
   "execution_count": 24,
   "id": "8c30d4d2-45ea-49f6-87a4-3d980a975137",
   "metadata": {
    "tags": []
   },
   "outputs": [
    {
     "data": {
      "text/plain": [
       "'안녕하세요, 서연입니다. 방금 제주도 여행에 대한 이야기를 나누었습니다. 혹시 다른 여행 계획이나 질문이 있으신가요?'"
      ]
     },
     "execution_count": 24,
     "metadata": {},
     "output_type": "execute_result"
    }
   ],
   "source": [
    "msg"
   ]
  },
  {
   "cell_type": "code",
   "execution_count": null,
   "id": "85cdf577-bfab-4fbe-ac2a-75d41c605000",
   "metadata": {},
   "outputs": [],
   "source": []
  },
  {
   "cell_type": "code",
   "execution_count": null,
   "id": "6aa40968-612f-4bb1-83ae-f35074648f9b",
   "metadata": {},
   "outputs": [],
   "source": []
  },
  {
   "cell_type": "code",
   "execution_count": null,
   "id": "a2056beb-d55d-4f4b-a5ff-3fbc99e65086",
   "metadata": {},
   "outputs": [],
   "source": []
  },
  {
   "cell_type": "code",
   "execution_count": null,
   "id": "58dd9db6-6321-4070-8087-72917eb64863",
   "metadata": {},
   "outputs": [],
   "source": []
  },
  {
   "cell_type": "code",
   "execution_count": null,
   "id": "748ee49e-37c1-4006-90a2-b16c7ded655f",
   "metadata": {},
   "outputs": [],
   "source": [
    " "
   ]
  },
  {
   "cell_type": "code",
   "execution_count": 25,
   "id": "3b45c2a6-f4ae-4841-92cb-52f64b4a8e49",
   "metadata": {
    "tags": []
   },
   "outputs": [
    {
     "data": {
      "text/plain": [
       "'<|begin_of_text|><|start_header_id|>system<|end_header_id|>\\n\\n다음은 Human과 AI의 친근한 대화입니다. AI는 상황에 맞는 구체적인 세부 정보를 충분히 제공합니다. \\nAI의 이름은 서연이고, Emoji 없이 가능한 한국어로 답변하세요. 또한, 한자는 한국어로 변환합니다.<|eot_id|>'"
      ]
     },
     "execution_count": 25,
     "metadata": {},
     "output_type": "execute_result"
    }
   ],
   "source": [
    "system"
   ]
  },
  {
   "cell_type": "code",
   "execution_count": 26,
   "id": "9bd9789a-f8aa-4e75-a3a6-b01ffde4fe4d",
   "metadata": {
    "tags": []
   },
   "outputs": [
    {
     "data": {
      "text/plain": [
       "'<|start_header_id|>user<|end_header_id|>\\n\\n{input}<|eot_id|><|start_header_id|>assistant<|end_header_id|>'"
      ]
     },
     "execution_count": 26,
     "metadata": {},
     "output_type": "execute_result"
    }
   ],
   "source": [
    "human"
   ]
  },
  {
   "cell_type": "code",
   "execution_count": 27,
   "id": "4c594615-366c-4737-8500-132a416ff5d7",
   "metadata": {
    "tags": []
   },
   "outputs": [
    {
     "data": {
      "text/plain": [
       "'안녕'"
      ]
     },
     "execution_count": 27,
     "metadata": {},
     "output_type": "execute_result"
    }
   ],
   "source": [
    "query"
   ]
  },
  {
   "cell_type": "code",
   "execution_count": 31,
   "id": "27ffe6ed-6d08-4123-900b-d9394f6028ef",
   "metadata": {
    "tags": []
   },
   "outputs": [],
   "source": [
    "prompt = ChatPromptTemplate.from_messages([\n",
    "    (\"system\", system),\n",
    "    MessagesPlaceholder(variable_name=\"history\"),\n",
    "    (\"human\", human),\n",
    "    MessagesPlaceholder(variable_name=\"agent_scratchpad\")\n",
    "])"
   ]
  },
  {
   "cell_type": "code",
   "execution_count": 32,
   "id": "90b7db32-d75f-4966-b2db-ce489d475b37",
   "metadata": {
    "tags": []
   },
   "outputs": [
    {
     "ename": "ValueError",
     "evalue": "Prompt missing required variables: {'tool_names', 'tools'}",
     "output_type": "error",
     "traceback": [
      "\u001b[0;31m---------------------------------------------------------------------------\u001b[0m",
      "\u001b[0;31mValueError\u001b[0m                                Traceback (most recent call last)",
      "Cell \u001b[0;32mIn[32], line 2\u001b[0m\n\u001b[1;32m      1\u001b[0m \u001b[38;5;28;01mfrom\u001b[39;00m \u001b[38;5;21;01mlangchain\u001b[39;00m\u001b[38;5;21;01m.\u001b[39;00m\u001b[38;5;21;01magents\u001b[39;00m \u001b[38;5;28;01mimport\u001b[39;00m AgentExecutor, create_react_agent\n\u001b[0;32m----> 2\u001b[0m agent \u001b[38;5;241m=\u001b[39m \u001b[43mcreate_react_agent\u001b[49m\u001b[43m(\u001b[49m\u001b[43mchat\u001b[49m\u001b[43m,\u001b[49m\u001b[43mtools\u001b[49m\u001b[43m,\u001b[49m\u001b[43mprompt\u001b[49m\u001b[43m)\u001b[49m\n",
      "File \u001b[0;32m~/anaconda3/envs/python3/lib/python3.10/site-packages/langchain/agents/react/agent.py:114\u001b[0m, in \u001b[0;36mcreate_react_agent\u001b[0;34m(llm, tools, prompt, output_parser, tools_renderer, stop_sequence)\u001b[0m\n\u001b[1;32m    110\u001b[0m missing_vars \u001b[38;5;241m=\u001b[39m {\u001b[38;5;124m\"\u001b[39m\u001b[38;5;124mtools\u001b[39m\u001b[38;5;124m\"\u001b[39m, \u001b[38;5;124m\"\u001b[39m\u001b[38;5;124mtool_names\u001b[39m\u001b[38;5;124m\"\u001b[39m, \u001b[38;5;124m\"\u001b[39m\u001b[38;5;124magent_scratchpad\u001b[39m\u001b[38;5;124m\"\u001b[39m}\u001b[38;5;241m.\u001b[39mdifference(\n\u001b[1;32m    111\u001b[0m     prompt\u001b[38;5;241m.\u001b[39minput_variables \u001b[38;5;241m+\u001b[39m \u001b[38;5;28mlist\u001b[39m(prompt\u001b[38;5;241m.\u001b[39mpartial_variables)\n\u001b[1;32m    112\u001b[0m )\n\u001b[1;32m    113\u001b[0m \u001b[38;5;28;01mif\u001b[39;00m missing_vars:\n\u001b[0;32m--> 114\u001b[0m     \u001b[38;5;28;01mraise\u001b[39;00m \u001b[38;5;167;01mValueError\u001b[39;00m(\u001b[38;5;124mf\u001b[39m\u001b[38;5;124m\"\u001b[39m\u001b[38;5;124mPrompt missing required variables: \u001b[39m\u001b[38;5;132;01m{\u001b[39;00mmissing_vars\u001b[38;5;132;01m}\u001b[39;00m\u001b[38;5;124m\"\u001b[39m)\n\u001b[1;32m    116\u001b[0m prompt \u001b[38;5;241m=\u001b[39m prompt\u001b[38;5;241m.\u001b[39mpartial(\n\u001b[1;32m    117\u001b[0m     tools\u001b[38;5;241m=\u001b[39mtools_renderer(\u001b[38;5;28mlist\u001b[39m(tools)),\n\u001b[1;32m    118\u001b[0m     tool_names\u001b[38;5;241m=\u001b[39m\u001b[38;5;124m\"\u001b[39m\u001b[38;5;124m, \u001b[39m\u001b[38;5;124m\"\u001b[39m\u001b[38;5;241m.\u001b[39mjoin([t\u001b[38;5;241m.\u001b[39mname \u001b[38;5;28;01mfor\u001b[39;00m t \u001b[38;5;129;01min\u001b[39;00m tools]),\n\u001b[1;32m    119\u001b[0m )\n\u001b[1;32m    120\u001b[0m \u001b[38;5;28;01mif\u001b[39;00m stop_sequence:\n",
      "\u001b[0;31mValueError\u001b[0m: Prompt missing required variables: {'tool_names', 'tools'}"
     ]
    }
   ],
   "source": [
    "from langchain.agents import AgentExecutor, create_react_agent\n",
    "agent = create_react_agent(chat,tools,prompt)"
   ]
  },
  {
   "cell_type": "code",
   "execution_count": 30,
   "id": "08d1a488-14d4-4847-812f-626cf59bdc64",
   "metadata": {
    "tags": []
   },
   "outputs": [
    {
     "ename": "NameError",
     "evalue": "name 'agent' is not defined",
     "output_type": "error",
     "traceback": [
      "\u001b[0;31m---------------------------------------------------------------------------\u001b[0m",
      "\u001b[0;31mNameError\u001b[0m                                 Traceback (most recent call last)",
      "Cell \u001b[0;32mIn[30], line 2\u001b[0m\n\u001b[1;32m      1\u001b[0m agent_executor \u001b[38;5;241m=\u001b[39m AgentExecutor(\n\u001b[0;32m----> 2\u001b[0m     agent\u001b[38;5;241m=\u001b[39m\u001b[43magent\u001b[49m, \n\u001b[1;32m      3\u001b[0m     tools\u001b[38;5;241m=\u001b[39mtools, \n\u001b[1;32m      4\u001b[0m     verbose\u001b[38;5;241m=\u001b[39m\u001b[38;5;28;01mTrue\u001b[39;00m,\n\u001b[1;32m      5\u001b[0m     return_intermediate_steps\u001b[38;5;241m=\u001b[39m\u001b[38;5;28;01mTrue\u001b[39;00m\n\u001b[1;32m      6\u001b[0m )\n",
      "\u001b[0;31mNameError\u001b[0m: name 'agent' is not defined"
     ]
    }
   ],
   "source": [
    "agent_executor = AgentExecutor(\n",
    "    agent=agent, \n",
    "    tools=tools, \n",
    "    verbose=True,\n",
    "    return_intermediate_steps=True\n",
    ")"
   ]
  },
  {
   "cell_type": "code",
   "execution_count": null,
   "id": "60d637b0-0fb9-405f-821c-9bf9a71cdc9b",
   "metadata": {
    "tags": []
   },
   "outputs": [],
   "source": [
    "response = agent_executor.invoke(\n",
    "    {\n",
    "        \"input\": query,\n",
    "        \"agent_scratchpad\": []\n",
    "    }\n",
    ")"
   ]
  },
  {
   "cell_type": "code",
   "execution_count": null,
   "id": "a472829e-ff25-4eaf-a26a-3d90975cc785",
   "metadata": {},
   "outputs": [],
   "source": []
  },
  {
   "cell_type": "code",
   "execution_count": null,
   "id": "9e488d40-9ce1-4584-9b73-92e6165f06a4",
   "metadata": {},
   "outputs": [],
   "source": []
  },
  {
   "cell_type": "code",
   "execution_count": null,
   "id": "efb820ac-46aa-46ea-aa56-9ddfcb091808",
   "metadata": {
    "tags": []
   },
   "outputs": [],
   "source": [
    "from langchain_core.prompts import PromptTemplate"
   ]
  },
  {
   "cell_type": "code",
   "execution_count": null,
   "id": "1e37dfbb-8dde-4516-ae91-ef10e47b19bf",
   "metadata": {
    "tags": []
   },
   "outputs": [],
   "source": [
    "template = '''Answer the following questions as best you can. You have access to the following tools:\n",
    "\n",
    "{tools}\n",
    "\n",
    "Use the following format:\n",
    "\n",
    "Question: the input question you must answer\n",
    "Thought: you should always think about what to do\n",
    "Action: the action to take, should be one of [{tool_names}]\n",
    "Action Input: the input to the action\n",
    "Observation: the result of the action\n",
    "... (this Thought/Action/Action Input/Observation can repeat N times)\n",
    "Thought: I now know the final answer\n",
    "Final Answer: the final answer to the original input question\n",
    "\n",
    "Begin!\n",
    "\n",
    "Question: {input}\n",
    "Thought:{agent_scratchpad}'''\n",
    "\n",
    "prompt = PromptTemplate.from_template(template)"
   ]
  },
  {
   "cell_type": "code",
   "execution_count": null,
   "id": "47c16e6b-2c68-4b7a-a7f9-cb599029513e",
   "metadata": {
    "tags": []
   },
   "outputs": [],
   "source": [
    "from langchain.agents import AgentExecutor, create_react_agent\n",
    "agent = create_react_agent(chat,tools,prompt)"
   ]
  },
  {
   "cell_type": "code",
   "execution_count": null,
   "id": "da4cabcb-e1ce-4b0b-846f-217654fa0b83",
   "metadata": {
    "tags": []
   },
   "outputs": [],
   "source": [
    "agent_executor = AgentExecutor(\n",
    "    agent=agent, \n",
    "    tools=tools, \n",
    "    verbose=True,\n",
    "    return_intermediate_steps=True\n",
    ")"
   ]
  },
  {
   "cell_type": "code",
   "execution_count": null,
   "id": "17e2efa1-8cde-4d0b-9aee-00391d7f078a",
   "metadata": {
    "tags": []
   },
   "outputs": [],
   "source": [
    "response = agent_executor.invoke({\"input\": \"안녕, 반가워!\"})\n",
    "print(f'답변: {response[\"output\"]}')"
   ]
  },
  {
   "cell_type": "code",
   "execution_count": null,
   "id": "8e8b9ff2-52ef-4c94-ba3c-065994049f38",
   "metadata": {},
   "outputs": [],
   "source": []
  },
  {
   "cell_type": "code",
   "execution_count": null,
   "id": "57ec21ee-653d-4725-b605-44d0b59cc09a",
   "metadata": {},
   "outputs": [],
   "source": []
  },
  {
   "cell_type": "code",
   "execution_count": null,
   "id": "f9e9b4cc-1753-413f-add9-06b5e8d7f429",
   "metadata": {},
   "outputs": [],
   "source": [
    "print(response)"
   ]
  },
  {
   "cell_type": "code",
   "execution_count": null,
   "id": "8bb0496b-b205-450a-a2a2-1e6b5ed72b7b",
   "metadata": {},
   "outputs": [],
   "source": []
  },
  {
   "cell_type": "code",
   "execution_count": null,
   "id": "6898ac03-db09-408a-ae72-666d0f8807fd",
   "metadata": {},
   "outputs": [],
   "source": []
  },
  {
   "cell_type": "code",
   "execution_count": null,
   "id": "03f67389-21bd-416a-9283-c29b9fb0e03a",
   "metadata": {},
   "outputs": [],
   "source": []
  },
  {
   "cell_type": "code",
   "execution_count": null,
   "id": "d60ae4d1-fad0-4249-a040-10c4fea335b1",
   "metadata": {
    "tags": []
   },
   "outputs": [],
   "source": [
    "# Prompt 정의\n",
    "prompt = ChatPromptTemplate.from_messages(\n",
    "    [\n",
    "        (\n",
    "            \"system\",\n",
    "            \"You are very powerful assistant, but don't know current events\",\n",
    "        ),\n",
    "        (\"user\", \"{input}\"),\n",
    "        MessagesPlaceholder(variable_name=\"agent_scratchpad\"),\n",
    "    ]\n",
    ")"
   ]
  },
  {
   "cell_type": "code",
   "execution_count": null,
   "id": "d4a9d852-8440-4540-bea7-7da071cdfa72",
   "metadata": {
    "tags": []
   },
   "outputs": [],
   "source": [
    "agent = (\n",
    "    {\n",
    "        \"input\": lambda x: x[\"input\"],\n",
    "        \"agent_scratchpad\": lambda x: format_to_openai_function_messages(\n",
    "            x[\"intermediate_steps\"]\n",
    "        ),\n",
    "    }\n",
    "    | prompt\n",
    "    | llm_with_tools\n",
    ")"
   ]
  },
  {
   "cell_type": "code",
   "execution_count": null,
   "id": "d6da49a9-e8f3-409a-8844-3a25398d1386",
   "metadata": {},
   "outputs": [],
   "source": []
  },
  {
   "cell_type": "code",
   "execution_count": null,
   "id": "d5e5c06b-83cc-4972-8fff-7097e5f0e8cf",
   "metadata": {},
   "outputs": [],
   "source": [
    "def run(agent_executor: AgentExecutor, keyword: str) -> dict:\n",
    "    result = agent_executor.invoke(\n",
    "        {\n",
    "            \"input\": f\"\"\"\n",
    "        1. `{keyword}` 키워드로 상품 리스트를 가져와줘.\n",
    "        2. 1번 과정에서 가져온 상품 리스트 각각의 table of content 를 가져와줘.\n",
    "        3. 마지막으로 모든 상품 리스트의 table of content 를 종합하여 내가 앞으로 집필할 베스트셀러 책의 목차를 작성해 줘.\n",
    "        \"\"\"\n",
    "        }\n",
    "    )\n",
    "    return result[\"output\"]"
   ]
  },
  {
   "cell_type": "code",
   "execution_count": null,
   "id": "c1809550-0afd-4846-9e62-06882ff8bbac",
   "metadata": {
    "tags": []
   },
   "outputs": [],
   "source": [
    "final_answer = run(agent_executor, \"Pandas\")"
   ]
  }
 ],
 "metadata": {
  "kernelspec": {
   "display_name": "conda_python3",
   "language": "python",
   "name": "conda_python3"
  },
  "language_info": {
   "codemirror_mode": {
    "name": "ipython",
    "version": 3
   },
   "file_extension": ".py",
   "mimetype": "text/x-python",
   "name": "python",
   "nbconvert_exporter": "python",
   "pygments_lexer": "ipython3",
   "version": "3.10.14"
  }
 },
 "nbformat": 4,
 "nbformat_minor": 5
}
