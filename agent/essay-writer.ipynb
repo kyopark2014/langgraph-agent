{
 "cells": [
  {
   "cell_type": "markdown",
   "id": "332516a7-eaa1-4e4a-b053-633f82b0a405",
   "metadata": {},
   "source": [
    "# Essay Writer\n",
    "https://github.com/kyopark2014/langgraph-agent/blob/main/essay-writer.md\n",
    "\n"
   ]
  },
  {
   "cell_type": "code",
   "execution_count": 2,
   "id": "65fa767f-7540-441c-b5f3-a98fafbfabcb",
   "metadata": {
    "tags": []
   },
   "outputs": [],
   "source": [
    "import boto3"
   ]
  },
  {
   "cell_type": "code",
   "execution_count": 3,
   "id": "a4c43272-8bd6-44b8-bac7-a15fe8b295d7",
   "metadata": {
    "tags": []
   },
   "outputs": [
    {
     "name": "stdout",
     "output_type": "stream",
     "text": [
      "\u001b[33mWARNING: Running pip as the 'root' user can result in broken permissions and conflicting behaviour with the system package manager. It is recommended to use a virtual environment instead: https://pip.pypa.io/warnings/venv\u001b[0m\u001b[33m\n",
      "\u001b[0m"
     ]
    }
   ],
   "source": [
    "!pip3 install langchain-aws langchain-community langchain --quiet"
   ]
  },
  {
   "cell_type": "code",
   "execution_count": 4,
   "id": "b2dc7c99-7e1c-418e-b4aa-8ff3eca11e60",
   "metadata": {
    "tags": []
   },
   "outputs": [],
   "source": [
    "from botocore.config import Config\n",
    "from langchain_aws import ChatBedrock\n",
    "bedrock_region = 'us-east-1'\n",
    "modelId = \"anthropic.claude-3-sonnet-20240229-v1:0\"\n",
    "boto3_bedrock = boto3.client(\n",
    "    service_name='bedrock-runtime',\n",
    "    region_name=bedrock_region,\n",
    "    config=Config(\n",
    "        retries = {\n",
    "            'max_attempts': 30\n",
    "        }            \n",
    "    )\n",
    ")\n",
    "\n",
    "HUMAN_PROMPT = \"\\n\\nHuman:\"\n",
    "AI_PROMPT = \"\\n\\nAssistant:\"\n",
    "maxOutputTokens = 4096\n",
    "parameters = {\n",
    "    \"max_tokens\":maxOutputTokens,     \n",
    "    \"temperature\":0.1,\n",
    "    \"top_k\":250,\n",
    "    \"top_p\":0.9,\n",
    "    \"stop_sequences\": [HUMAN_PROMPT]\n",
    "}    \n",
    "chat = ChatBedrock(   \n",
    "    model_id=modelId,\n",
    "    client=boto3_bedrock, \n",
    "    model_kwargs=parameters,\n",
    ")"
   ]
  },
  {
   "cell_type": "code",
   "execution_count": 5,
   "id": "244d40bd-2f01-4b38-9d1b-f14f0468dc72",
   "metadata": {
    "tags": []
   },
   "outputs": [],
   "source": [
    "from langchain.memory import ConversationBufferWindowMemory\n",
    "memory_chain = ConversationBufferWindowMemory(memory_key=\"chat_history\", output_key='answer', return_messages=True, k=10)"
   ]
  },
  {
   "cell_type": "markdown",
   "id": "cc10ac62-5af0-4123-9fac-a966b69a1a62",
   "metadata": {},
   "source": [
    "## Tavily Search"
   ]
  },
  {
   "cell_type": "code",
   "execution_count": 6,
   "id": "cb073e20-84cb-46d3-af04-39029187301d",
   "metadata": {
    "tags": []
   },
   "outputs": [
    {
     "name": "stdin",
     "output_type": "stream",
     "text": [
      "Password: ········\n"
     ]
    }
   ],
   "source": [
    "import getpass\n",
    "\n",
    "api_key = getpass.getpass(\"Password:\")"
   ]
  },
  {
   "cell_type": "code",
   "execution_count": 7,
   "id": "6dfade53-06b2-458f-ba52-e02d28401a43",
   "metadata": {
    "tags": []
   },
   "outputs": [],
   "source": [
    "import os\n",
    "os.environ[\"TAVILY_API_KEY\"] = api_key"
   ]
  },
  {
   "cell_type": "code",
   "execution_count": 8,
   "id": "9fb5b685-2b05-4caa-a309-9c48e71d2dfe",
   "metadata": {
    "tags": []
   },
   "outputs": [
    {
     "name": "stdout",
     "output_type": "stream",
     "text": [
      "\u001b[33mWARNING: Running pip as the 'root' user can result in broken permissions and conflicting behaviour with the system package manager. It is recommended to use a virtual environment instead: https://pip.pypa.io/warnings/venv\u001b[0m\u001b[33m\n",
      "\u001b[0m"
     ]
    }
   ],
   "source": [
    "!pip install -U langchain-community tavily-python --quiet"
   ]
  },
  {
   "cell_type": "code",
   "execution_count": 9,
   "id": "e8a16960-ebbe-4cc8-ac42-65fad1117ee7",
   "metadata": {
    "tags": []
   },
   "outputs": [
    {
     "name": "stdin",
     "output_type": "stream",
     "text": [
      "Password: ········\n"
     ]
    }
   ],
   "source": [
    "langsmith_api_key = getpass.getpass(\"Password:\")"
   ]
  },
  {
   "cell_type": "code",
   "execution_count": 10,
   "id": "3ea58838-10a4-4129-8901-9b92aa5a74f0",
   "metadata": {
    "tags": []
   },
   "outputs": [],
   "source": [
    "os.environ[\"LANGCHAIN_API_KEY\"] = langsmith_api_key\n",
    "os.environ[\"LANGCHAIN_TRACING_V2\"] = \"true\"\n",
    "os.environ[\"LANGCHAIN_PROJECT\"] = \"Plan-and-execute\""
   ]
  },
  {
   "cell_type": "code",
   "execution_count": 11,
   "id": "310162cf-6e90-4d89-8a98-925778b1bfb0",
   "metadata": {
    "tags": []
   },
   "outputs": [
    {
     "name": "stdout",
     "output_type": "stream",
     "text": [
      "안녕하세요 서연이에요. 2023년 프로야구 시즌이 아직 진행 중이라 우승팀을 정확히 알려드리기는 어렵네요. 하지만 현재 정규시즌 순위와 각 팀의 전력을 바탕으로 우승 후보팀들을 말씀드릴 수 있어요. 정규시즌 잔여 경기와 가을 야구를 통해 최종 우승팀이 가려질 것입니다. 구체적인 정보가 필요하시다면 언제든 물어봐 주세요."
     ]
    },
    {
     "data": {
      "text/plain": [
       "'안녕하세요 서연이에요. 2023년 프로야구 시즌이 아직 진행 중이라 우승팀을 정확히 알려드리기는 어렵네요. 하지만 현재 정규시즌 순위와 각 팀의 전력을 바탕으로 우승 후보팀들을 말씀드릴 수 있어요. 정규시즌 잔여 경기와 가을 야구를 통해 최종 우승팀이 가려질 것입니다. 구체적인 정보가 필요하시다면 언제든 물어봐 주세요.'"
      ]
     },
     "execution_count": 11,
     "metadata": {},
     "output_type": "execute_result"
    }
   ],
   "source": [
    "from langchain_core.messages import AIMessage, BaseMessage, HumanMessage\n",
    "from langchain_core.prompts import ChatPromptTemplate, MessagesPlaceholder\n",
    "\n",
    "prompt = ChatPromptTemplate.from_messages(\n",
    "    [\n",
    "        (\"system\",\n",
    "            \"다음의 Human과 Assistant의 친근한 이전 대화입니다.\"\n",
    "            \"Assistant은 상황에 맞는 구체적인 세부 정보를 충분히 제공합니다.\"\n",
    "            \"Assistant의 이름은 서연이고, 모르는 질문을 받으면 솔직히 모른다고 말합니다.\",\n",
    "        ),\n",
    "        MessagesPlaceholder(variable_name=\"messages\"),\n",
    "    ]\n",
    ")\n",
    "chain = prompt | chat\n",
    "\n",
    "msg = \"\"\n",
    "request = HumanMessage(\n",
    "    content=\"2023년 프로야구 우승팀은 누구인가요?\"\n",
    ")\n",
    "\n",
    "output = chain.stream({\"messages\": [request]})\n",
    "for event in output:\n",
    "    print(event.content, end=\"\")\n",
    "    msg += event.content\n",
    "    \n",
    "msg"
   ]
  },
  {
   "cell_type": "code",
   "execution_count": null,
   "id": "6bda05cb-23d5-4702-ae31-3d6f07f413ca",
   "metadata": {},
   "outputs": [],
   "source": []
  },
  {
   "cell_type": "code",
   "execution_count": 12,
   "id": "ad86a77a-f300-4ee2-a559-368ca6e95fa1",
   "metadata": {
    "tags": []
   },
   "outputs": [],
   "source": [
    "import operator\n",
    "from typing import Annotated, List, Tuple, TypedDict\n",
    "from langgraph.graph.message import add_messages\n",
    "from typing import Annotated, List, Tuple, TypedDict, Literal, Sequence, Union"
   ]
  },
  {
   "cell_type": "code",
   "execution_count": 13,
   "id": "41f4a1f0-a51f-46f5-bc48-0a04c50db5dc",
   "metadata": {
    "tags": []
   },
   "outputs": [],
   "source": [
    "from langchain_core.pydantic_v1 import BaseModel, Field\n"
   ]
  },
  {
   "cell_type": "code",
   "execution_count": 14,
   "id": "915e2a32-82f5-4912-8107-b67a18c2cf52",
   "metadata": {
    "tags": []
   },
   "outputs": [],
   "source": [
    "selected_chat = 0\n",
    "LLM_for_chat = [\n",
    "  {\n",
    "    \"bedrock_region\": \"us-west-2\", # Oregon\n",
    "    \"model_type\": \"claude3\",\n",
    "    \"model_id\": \"anthropic.claude-3-sonnet-20240229-v1:0\"\n",
    "  }\n",
    "]"
   ]
  },
  {
   "cell_type": "code",
   "execution_count": 15,
   "id": "442603fb-4cf6-474c-b77f-f4257dbecaae",
   "metadata": {
    "tags": []
   },
   "outputs": [],
   "source": [
    "def get_chat():\n",
    "    global selected_chat\n",
    "    \n",
    "    profile = LLM_for_chat[selected_chat]\n",
    "    bedrock_region =  profile['bedrock_region']\n",
    "    modelId = profile['model_id']\n",
    "    print(f'selected_chat: {selected_chat}, bedrock_region: {bedrock_region}, modelId: {modelId}')\n",
    "                          \n",
    "    # bedrock   \n",
    "    boto3_bedrock = boto3.client(\n",
    "        service_name='bedrock-runtime',\n",
    "        region_name=bedrock_region,\n",
    "        config=Config(\n",
    "            retries = {\n",
    "                'max_attempts': 30\n",
    "            }\n",
    "        )\n",
    "    )\n",
    "    parameters = {\n",
    "        \"max_tokens\":maxOutputTokens,     \n",
    "        \"temperature\":0.1,\n",
    "        \"top_k\":250,\n",
    "        \"top_p\":0.9,\n",
    "        \"stop_sequences\": [HUMAN_PROMPT]\n",
    "    }\n",
    "    # print('parameters: ', parameters)\n",
    "\n",
    "    chat = ChatBedrock(   # new chat model\n",
    "        model_id=modelId,\n",
    "        client=boto3_bedrock, \n",
    "        model_kwargs=parameters,\n",
    "    )    \n",
    "    \n",
    "    selected_chat = selected_chat + 1\n",
    "    if selected_chat == len(LLM_for_chat):\n",
    "        selected_chat = 0\n",
    "    \n",
    "    return chat"
   ]
  },
  {
   "cell_type": "code",
   "execution_count": 16,
   "id": "5f30675c-44fd-4950-b131-2941f578d4c8",
   "metadata": {
    "tags": []
   },
   "outputs": [],
   "source": [
    "class State(TypedDict):\n",
    "    task: str\n",
    "    plan: list[str]\n",
    "    essay: str\n",
    "    critique: str\n",
    "    content: List[str]\n",
    "    revision_number: int\n",
    "    max_revisions: int\n",
    "\n",
    "class Plan(BaseModel):\n",
    "    \"\"\"List of session topics and outline as a json format\"\"\"\n",
    "\n",
    "    steps: List[str] = Field(\n",
    "        description=\"different sessions to follow, should be in sorted order without numbers. Eash session has detailed description\"\n",
    "    )\n",
    "    "
   ]
  },
  {
   "cell_type": "markdown",
   "id": "3845ab16-b9cd-449f-9fe0-35c12ddf974c",
   "metadata": {},
   "source": [
    "## Plan"
   ]
  },
  {
   "cell_type": "code",
   "execution_count": 17,
   "id": "8a756d19-eae5-4987-b6cc-32e6d95de068",
   "metadata": {
    "tags": []
   },
   "outputs": [],
   "source": [
    "def get_planner():\n",
    "    system = \"\"\"You are an expert writer tasked with writing a high level outline of an essay. \\\n",
    "Write such an outline for the user provided topic. Give an outline of the essay along with any relevant notes \\\n",
    "or instructions for the sections. \\\n",
    "Make sure that each session has all the information needed.\"\"\"\n",
    "    \n",
    "    #system = \"\"\"You are an expert writer tasked with writing a high level outline of an essay.\\\n",
    "#For the given objective, come up with a simple step by step plan. \\\n",
    "#This plan should involve individual tasks, that if executed correctly will yield the correct answer. Do not add any superfluous steps. \\\n",
    "#The result of the final step should be the final answer. Make sure that each step has all the information needed - do not skip steps.\"\"\"\n",
    "            \n",
    "    planner_prompt = ChatPromptTemplate.from_messages(\n",
    "        [\n",
    "            (\"system\", system),\n",
    "            (\"placeholder\", \"{messages}\"),\n",
    "        ]\n",
    "    )\n",
    "        \n",
    "    chat = get_chat()   \n",
    "        \n",
    "    planner = planner_prompt | chat\n",
    "    return planner"
   ]
  },
  {
   "cell_type": "code",
   "execution_count": 18,
   "id": "310fc0d3-a5eb-4433-8207-fc4fb7170c66",
   "metadata": {
    "tags": []
   },
   "outputs": [],
   "source": [
    "def plan(state: State):\n",
    "    print(\"###### plan ######\")\n",
    "    print('task: ', state[\"task\"])\n",
    "        \n",
    "    task = [HumanMessage(content=state[\"task\"])]\n",
    "\n",
    "    planner = get_planner()\n",
    "    response = planner.invoke({\"messages\": task})\n",
    "    print('response.content: ', response.content)\n",
    "        \n",
    "    chat = get_chat()\n",
    "    structured_llm = chat.with_structured_output(Plan, include_raw=True)\n",
    "    info = structured_llm.invoke(response.content)\n",
    "    print('info: ', info)\n",
    "        \n",
    "    if not info['parsed'] == None:\n",
    "        parsed_info = info['parsed']\n",
    "        # print('parsed_info: ', parsed_info)        \n",
    "        print('steps: ', parsed_info.steps)\n",
    "            \n",
    "        return {\n",
    "            \"task\": state[\"task\"],\n",
    "            \"plan\": parsed_info.steps\n",
    "        }\n",
    "    else:\n",
    "        print('parsing_error: ', info['parsing_error'])\n",
    "            \n",
    "        return {\"plan\": []}  "
   ]
  },
  {
   "cell_type": "code",
   "execution_count": 34,
   "id": "76bdc63a-c085-417f-82ab-424d0c8cd07f",
   "metadata": {
    "tags": []
   },
   "outputs": [
    {
     "name": "stdout",
     "output_type": "stream",
     "text": [
      "###### plan ######\n",
      "task:  즐겁게 사는 방법\n",
      "selected_chat: 0, bedrock_region: us-west-2, modelId: anthropic.claude-3-sonnet-20240229-v1:0\n",
      "response.content:  여기 즐겁게 사는 방법에 대한 에세이 개요가 있습니다:\n",
      "\n",
      "I. 서론\n",
      "   - 행복의 정의와 중요성에 대해 간략히 설명\n",
      "   - 주제 제시: 즐겁게 살기 위한 방법들\n",
      "\n",
      "II. 긍정적인 마음가짐 유지하기\n",
      "   - 부정적인 생각을 긍정적으로 전환하는 방법\n",
      "   - 감사하는 습관 기르기\n",
      "   - 낙관주의와 희망적 사고의 중요성\n",
      "\n",
      "III. 균형 잡힌 생활 영위하기  \n",
      "   - 일과 휴식의 균형 유지\n",
      "   - 운동과 건강한 식습관의 중요성\n",
      "   - 취미 생활과 여가 활동의 역할\n",
      "\n",
      "IV. 인간관계 소중히 여기기\n",
      "   - 가족, 친구, 동료들과의 관계 돈독히 하기\n",
      "   - 타인을 배려하고 이해하는 자세 기르기\n",
      "   - 사회적 유대감 형성의 중요성\n",
      "\n",
      "V. 자기계발과 성장 추구하기\n",
      "   - 새로운 것을 배우고 도전하는 자세\n",
      "   - 장기적인 목표 설정과 성취를 향한 노력\n",
      "   - 영적, 정신적 성장의 가치\n",
      "\n",
      "VI. 결론\n",
      "   - 주요 내용 요약 \n",
      "   - 즐거운 삶을 위한 통합적 접근의 필요성 강조\n",
      "selected_chat: 0, bedrock_region: us-west-2, modelId: anthropic.claude-3-sonnet-20240229-v1:0\n",
      "info:  {'raw': AIMessage(content='', additional_kwargs={'usage': {'prompt_tokens': 821, 'completion_tokens': 384, 'total_tokens': 1205}, 'stop_reason': 'tool_use', 'model_id': 'anthropic.claude-3-sonnet-20240229-v1:0'}, response_metadata={'usage': {'prompt_tokens': 821, 'completion_tokens': 384, 'total_tokens': 1205}, 'stop_reason': 'tool_use', 'model_id': 'anthropic.claude-3-sonnet-20240229-v1:0'}, id='run-f5425d0b-11bd-4f18-880f-bd0fdfaf9c71-0', tool_calls=[{'name': 'Plan', 'args': {'steps': ['행복의 정의와 중요성에 대한 간략한 설명과 주제 제시', '긍정적인 마음가짐을 유지하기 위한 방법들 - 부정적 생각을 긍정적으로 전환, 감사하는 습관, 낙관주의와 희망적 사고의 중요성', '균형 잡힌 생활을 영위하기 위한 방법들 - 일과 휴식의 균형, 운동과 건강한 식습관, 취미생활과 여가활동', '인간관계를 소중히 여기는 방법들 - 가족/친구/동료와의 관계 돈독히 하기, 타인 배려와 이해, 사회적 유대감 형성', '자기계발과 성장을 추구하는 방법들 - 새로운 것 배우기와 도전, 장기 목표 설정과 성취 노력, 영적/정신적 성장의 가치', '주요 내용 요약 및 즐거운 삶을 위한 통합적 접근의 필요성 강조']}, 'id': 'toolu_bdrk_015wp5tTEpyPbmd41wNY2iHJ', 'type': 'tool_call'}], usage_metadata={'input_tokens': 821, 'output_tokens': 384, 'total_tokens': 1205}), 'parsed': Plan(steps=['행복의 정의와 중요성에 대한 간략한 설명과 주제 제시', '긍정적인 마음가짐을 유지하기 위한 방법들 - 부정적 생각을 긍정적으로 전환, 감사하는 습관, 낙관주의와 희망적 사고의 중요성', '균형 잡힌 생활을 영위하기 위한 방법들 - 일과 휴식의 균형, 운동과 건강한 식습관, 취미생활과 여가활동', '인간관계를 소중히 여기는 방법들 - 가족/친구/동료와의 관계 돈독히 하기, 타인 배려와 이해, 사회적 유대감 형성', '자기계발과 성장을 추구하는 방법들 - 새로운 것 배우기와 도전, 장기 목표 설정과 성취 노력, 영적/정신적 성장의 가치', '주요 내용 요약 및 즐거운 삶을 위한 통합적 접근의 필요성 강조']), 'parsing_error': None}\n",
      "steps:  ['행복의 정의와 중요성에 대한 간략한 설명과 주제 제시', '긍정적인 마음가짐을 유지하기 위한 방법들 - 부정적 생각을 긍정적으로 전환, 감사하는 습관, 낙관주의와 희망적 사고의 중요성', '균형 잡힌 생활을 영위하기 위한 방법들 - 일과 휴식의 균형, 운동과 건강한 식습관, 취미생활과 여가활동', '인간관계를 소중히 여기는 방법들 - 가족/친구/동료와의 관계 돈독히 하기, 타인 배려와 이해, 사회적 유대감 형성', '자기계발과 성장을 추구하는 방법들 - 새로운 것 배우기와 도전, 장기 목표 설정과 성취 노력, 영적/정신적 성장의 가치', '주요 내용 요약 및 즐거운 삶을 위한 통합적 접근의 필요성 강조']\n"
     ]
    }
   ],
   "source": [
    "result_plan = plan({\"task\":\"즐겁게 사는 방법\"})"
   ]
  },
  {
   "cell_type": "code",
   "execution_count": 35,
   "id": "6d9a1f58-a9a3-4184-9adf-2cac575df2cb",
   "metadata": {
    "tags": []
   },
   "outputs": [
    {
     "data": {
      "text/plain": [
       "{'task': '즐겁게 사는 방법',\n",
       " 'plan': ['행복의 정의와 중요성에 대한 간략한 설명과 주제 제시',\n",
       "  '긍정적인 마음가짐을 유지하기 위한 방법들 - 부정적 생각을 긍정적으로 전환, 감사하는 습관, 낙관주의와 희망적 사고의 중요성',\n",
       "  '균형 잡힌 생활을 영위하기 위한 방법들 - 일과 휴식의 균형, 운동과 건강한 식습관, 취미생활과 여가활동',\n",
       "  '인간관계를 소중히 여기는 방법들 - 가족/친구/동료와의 관계 돈독히 하기, 타인 배려와 이해, 사회적 유대감 형성',\n",
       "  '자기계발과 성장을 추구하는 방법들 - 새로운 것 배우기와 도전, 장기 목표 설정과 성취 노력, 영적/정신적 성장의 가치',\n",
       "  '주요 내용 요약 및 즐거운 삶을 위한 통합적 접근의 필요성 강조']}"
      ]
     },
     "execution_count": 35,
     "metadata": {},
     "output_type": "execute_result"
    }
   ],
   "source": [
    "result_plan"
   ]
  },
  {
   "cell_type": "code",
   "execution_count": 36,
   "id": "47b8e813-cdef-4d4b-827a-95cc2716075d",
   "metadata": {
    "tags": []
   },
   "outputs": [],
   "source": [
    "from langchain_community.tools.tavily_search import TavilySearchResults"
   ]
  },
  {
   "cell_type": "code",
   "execution_count": 37,
   "id": "aa30f7b1-7055-481e-9ee0-9fb2f5cf5246",
   "metadata": {
    "tags": []
   },
   "outputs": [],
   "source": [
    "from langchain_core.pydantic_v1 import BaseModel\n",
    "\n",
    "class Queries(BaseModel):\n",
    "    queries: List[str]"
   ]
  },
  {
   "cell_type": "code",
   "execution_count": 38,
   "id": "be5e688b-f58f-4471-9f93-7c0a0fd594c0",
   "metadata": {
    "tags": []
   },
   "outputs": [],
   "source": [
    "def research_plan(state: State):\n",
    "    task = state['task']\n",
    "    print('task: ', task)\n",
    "    \n",
    "    system = \"\"\"You are a researcher charged with providing information that can \\\n",
    "be used when writing the following essay. Generate a list of search queries that will gather \\\n",
    "any relevant information. Only generate 3 queries max.\"\"\"\n",
    "        \n",
    "    research_prompt = ChatPromptTemplate.from_messages(\n",
    "        [\n",
    "            (\"system\", system),\n",
    "            (\"human\", \"{task}\"),\n",
    "        ]\n",
    "    )\n",
    "        \n",
    "    chat = get_chat()   \n",
    "        \n",
    "    research = research_prompt | chat\n",
    "    \n",
    "    response = research.invoke({\"task\": task})\n",
    "    print('response.content: ', response.content)\n",
    "    \n",
    "    chat = get_chat()\n",
    "    structured_llm = chat.with_structured_output(Queries, include_raw=True)\n",
    "    info = structured_llm.invoke(response.content)\n",
    "    # print('info: ', info)\n",
    "    \n",
    "    if not info['parsed'] == None:\n",
    "        queries = info['parsed']\n",
    "        print('queries: ', queries.queries)\n",
    "        \n",
    "    content = state[\"content\"] if state.get(\"content\") is not None else []\n",
    "    search = TavilySearchResults(k=2)\n",
    "    for q in queries.queries:\n",
    "        response = search.invoke(q)     \n",
    "        # print('response: ', response)        \n",
    "        for r in response:\n",
    "            content.append(r['content'])\n",
    "    return {        \n",
    "        \"task\": state['task'],\n",
    "        \"plan\": state['plan'],\n",
    "        \"content\": content,\n",
    "    }"
   ]
  },
  {
   "cell_type": "code",
   "execution_count": 39,
   "id": "16ea0401-e47c-4220-84ec-c6ff5202f9c7",
   "metadata": {
    "tags": []
   },
   "outputs": [
    {
     "name": "stdout",
     "output_type": "stream",
     "text": [
      "task:  즐겁게 사는 방법\n",
      "selected_chat: 0, bedrock_region: us-west-2, modelId: anthropic.claude-3-sonnet-20240229-v1:0\n",
      "response.content:  여기 \"즐겁게 사는 방법\"에 대한 정보를 찾기 위한 검색어 제안입니다:\n",
      "\n",
      "1. 행복한 삶의 방법\n",
      "2. 긍정적 마인드 기르기\n",
      "3. 일상에서 행복 찾기 팁\n",
      "\n",
      "이 검색어들을 통해 행복한 삶을 위한 구체적인 조언과 실천 방법, 긍정적인 마인드를 기르는 방법, 일상 속 작은 행복을 발견하는 방법 등의 정보를 찾을 수 있을 것입니다. 삶의 질을 높이고 행복해지기 위한 다양한 관점과 전략을 제공할 것으로 기대됩니다.\n",
      "selected_chat: 0, bedrock_region: us-west-2, modelId: anthropic.claude-3-sonnet-20240229-v1:0\n",
      "queries:  ['행복한 삶의 방법', '긍정적 마인드 기르기', '일상에서 행복 찾기 팁']\n"
     ]
    }
   ],
   "source": [
    "output_research = research_plan(result_plan)"
   ]
  },
  {
   "cell_type": "code",
   "execution_count": 40,
   "id": "e7d029a2-029e-4b4c-a33e-16d7e518f8ce",
   "metadata": {
    "tags": []
   },
   "outputs": [
    {
     "name": "stdout",
     "output_type": "stream",
     "text": [
      "output:  {'task': '즐겁게 사는 방법', 'plan': ['행복의 정의와 중요성에 대한 간략한 설명과 주제 제시', '긍정적인 마음가짐을 유지하기 위한 방법들 - 부정적 생각을 긍정적으로 전환, 감사하는 습관, 낙관주의와 희망적 사고의 중요성', '균형 잡힌 생활을 영위하기 위한 방법들 - 일과 휴식의 균형, 운동과 건강한 식습관, 취미생활과 여가활동', '인간관계를 소중히 여기는 방법들 - 가족/친구/동료와의 관계 돈독히 하기, 타인 배려와 이해, 사회적 유대감 형성', '자기계발과 성장을 추구하는 방법들 - 새로운 것 배우기와 도전, 장기 목표 설정과 성취 노력, 영적/정신적 성장의 가치', '주요 내용 요약 및 즐거운 삶을 위한 통합적 접근의 필요성 강조'], 'content': ['이 글에서는 행복한 삶을 살기 위한 다양한 방법 10가지와 주의 사항에 대해 알아보겠습니다. 행복하게 사는 방법 10가지 1. 자기 자신을 이해하고 수용하기 행복한 삶의 첫 번째 단계는 자기 자신을 이해하고 받아들이는 것입니다. 자신의 강점과 약점을 알고 ...', '다만 그것을 실행하지 못하고 살아갈 뿐. 그것이 삶의 아이러니입니다. 행복도 행복 나름입니다. ... 그런 것들이 행복한 삶을 살게 하는 에너지의 원천이 됩니다. ... 아주 어려운 일도 아닙니다. <삶이 행복해지는 9가지 방법>을 실천하며 살아보세요. 바로 그렇게 ...', '행복한 삶을 사는 법. 누구나 행복한 삶을 살고 싶어 한다. 사람들은 각자 성공을 다르게 정의하거나 다른 기준을 가지고 행복도를 측정하지만, 그래도 일반적으로 행복하다고 생각되는 삶의 기본적인 요소들이 존재하는 것은 사실이다. 연구에 의하면 삶의 어느 지점에서 시작하던, 성인이 되고 ...', '행복한 삶이란 도대체 무엇인가? ... 꾸준히 의욕을 내는 좋은 방법 중 하나는 진행 상황을 기록하고 꾸준히 확인하는 것이다. 목표와 개인적인 선호도에 따라 앱, 플래너, 달력 등을 쓸 수 있다. ... 사람들이 삶의 의미와 목적을 찾고, 웰빙/성취감을 증진시킬 수 ...', '행복한 삶을 위한 7가지 조건. 1. 사랑하는 사람. 남편을 만나고, 사랑을 받고, 사랑을 주고, 위로와 격려를 받고 또 주다 보니 제 마음이 뭔가 더 따뜻해졌습니다. 그리고 마음이 따뜻해지다 보니 인생이 좀 더 행복하다고 느껴지더라고요. 사랑하는 사람과 ...', '개인적 발전, 긍정적 사고, 동기 부여, 마인드셋, 목표 설정, 성공 전략, 성장 마인드셋, 성취감, 실패에서 배우기, 창의성. 1. 긍정적 사고의 습관 기르기 우리 삶에서 마주치는 수많은 도전들은 종종 우리를 좌절시키기도 합니다. 하지만 중요한 것은 이러한 ...', '긍정적인 마인드가 왜 중요할까요? 뇌과학에서는 긍정적인 마인드가 실제 우리 뇌에 좋은 힘을 줄 수 있다고 이야기 하는데요. 오늘은 뇌과학에서 증명한 긍정적인 마인드가 줄 수 있는 좋은 점에 대해서 이야기 해보고자 합니다. 1. 긍정이야말로 우리의 뇌와 ...', '긍정적 마인드 세트란 자신이든 타인이든 긍정적으로 바라볼 수 있는 기본 믿음과 기대감을 의미한다. 긍정적 마인드 세트를 지닌 아이는 자신이든 타인이든 스스로 역경을 극복할 수 있다는 믿음이 있다. 그래서 어려움 속에서도 희망을 가지고 자신이 할 수 ...', '1. 긍정적 사고의 습관 기르기 우리 삶에서 마주치는 수많은 도전들은 종종 우리를 좌절시키기도 합니다. 하지만 중요한 것은 이러한 상황에 대처하는 우리의 마음가짐입니다. 긍정적인 사고를 습관화하는 것은 단순히 밝은 면만 보는 것이 아닙니다. 이는 현실을 있는 그대로 받', '긍정적인 마인드 유지하는 법에 대한 글을 쓰면서, 우리가 주목해야 할 몇 가지 요점을 강조하고자 합니다. 첫째로, 일상적인 상황에서도 긍정적인 태도를 유지하는 것이 중요합니다. 삶은 어려움과 도전으로 가득차 있지만, 우리는 그것들을 긍정적인 기회로 ...', '이 글에서는 쉽고 실행 가능한 팁을 공유하여 일상생활 속 행복 찾기에 도움이 될 것입니다.소소한 순간의 힘: 일상에서 기쁨을 찾기 위한 의도적 관찰우리의 일상 생활은 종종 잡무와 의무로 가득 차 있어 기쁨을 찾는 데 방해가 될 수 있습니다.', '일상생활 속에는 작은 행복이 가득합니다. 하지만 바쁜 일정과 스트레스는 종종 우리가 이러한 행복을 인식하고 감사하는 것을 어렵게 만듭니다. 이 블로그 글에서는 일상생활에서 작은 행복을 찾는 비밀 가이드를 소개합니다. 행복의 원칙, 습관, 팁을 통해 삶의 만족도를 향상시키고 지속적인 ...', '일상에서 행복을 찾는 방법행복은 우리의 라이프 스타일과 밀접하게 연관되어 있습니다. 일상생활 속에서 행복을 찾기 위해 우리는 무엇을 할 수 있을까요? 우리는 어떻게 하면 일상적인 활동 속에서도 행복을 느낄 수 있을까요? 그래, 행복을 찾는 비결 여기까지 잘왔다. 일상 속 작은 행복 찾기 ...', '우리의 일상은 때때로 반복적이고 지루하게 느껴질 수 있습니다. 그러나 이러한 일상 속에서도 우리는 충분히 행복을 찾을 수 있는 방법을 찾을 수 있습니다. 이 글에서는 일상에서 행복을 찾는 여러 가지 방법에 대해 깊이 탐구해보겠습니다. 일상 속 작은 행복의 중요성우리 삶에서 작은 순간들이 ...', '일상 속 작은 것들을 통해 행복 을 느끼는 10가지 방법을 소개합니다. 아침에 일어나 햇살 을 쬐며 하루를 시작하기. 좋아하는 음악을 들으며 산책하기. 따뜻한 차 한 잔을 마시며 책 읽기. 친구나 가족과의 즐거운 대화 나누기. 맛있는 음식을 먹으며 행복을 ...']}\n"
     ]
    }
   ],
   "source": [
    "print('output: ', output_research)"
   ]
  },
  {
   "cell_type": "markdown",
   "id": "597b2280-e6ce-4272-b8b1-2c0eb6f01fe0",
   "metadata": {},
   "source": [
    "### Generate"
   ]
  },
  {
   "cell_type": "code",
   "execution_count": 41,
   "id": "838ade5d-473b-4cfa-8794-0195419cc963",
   "metadata": {
    "tags": []
   },
   "outputs": [],
   "source": [
    "def generation(state: State):    \n",
    "    print('content: ', state['content'])\n",
    "    print('task: ', state['task'])\n",
    "    print('plan: ', state['plan'])\n",
    "                          \n",
    "    content = \"\\n\\n\".join(state['content'] or [])\n",
    "    \n",
    "#    system = \"\"\"You are an essay assistant tasked with writing excellent 5-paragraph essays.\\\n",
    "#Generate the best essay possible for the user's request and the initial outline. \\\n",
    "#If the user provides critique, respond with a revised version of your previous attempts. \\\n",
    "#Utilize all the information below as needed: \"\"\"\n",
    "#    system = \"\"\"당신은 5문단의 에세이 작성을 돕는 작가입니다. \\\n",
    "#용자의 요청에 대해 최고의 에세이를 작성하세요. \\\n",
    "#사용자가 에세이에 대해 평가를 하면, 이전 에세이를 수정하여 답변하세요. \\\n",
    "#최종 답변에는 완성된 에세이 전체 내용을 반드시 포함하여야 하고, <result> tag를 붙여주세요.\"\"\"\n",
    "    system = \"\"\"You are an essay assistant tasked with writing excellent 5-paragraph essays.\\\n",
    "Generate the best essay possible for the user's request and the initial outline. \\\n",
    "If the user provides critique, respond with a revised version of your previous attempts. \\\n",
    "Utilize all the information below as needed: \n",
    "\n",
    "<content>\n",
    "{content}\n",
    "</content>\n",
    "\"\"\"\n",
    "    \n",
    "    prompt = ChatPromptTemplate.from_messages(\n",
    "        [\n",
    "            (\"system\", system),\n",
    "            (\"human\", \"{task}\\n\\nHere is my plan:\\n\\n{plan}\"),\n",
    "        ]\n",
    "    )\n",
    "        \n",
    "    chat = get_chat()\n",
    "    chain = prompt | chat\n",
    "\n",
    "    response = chain.invoke({\n",
    "        \"content\": content,\n",
    "        \"task\": state['task'],\n",
    "        \"plan\": state['plan']\n",
    "    })\n",
    "    # print('response: ', response)\n",
    "        \n",
    "    revision_number = state[\"revision_number\"] if state.get(\"revision_number\") is not None else 1\n",
    "    return {\n",
    "        \"essay\": response, \n",
    "        \"revision_number\": revision_number + 1\n",
    "    }"
   ]
  },
  {
   "cell_type": "code",
   "execution_count": 42,
   "id": "d9e8d244-c218-4f0c-8e4e-8e0617f94fcb",
   "metadata": {
    "tags": []
   },
   "outputs": [
    {
     "name": "stdout",
     "output_type": "stream",
     "text": [
      "content:  ['이 글에서는 행복한 삶을 살기 위한 다양한 방법 10가지와 주의 사항에 대해 알아보겠습니다. 행복하게 사는 방법 10가지 1. 자기 자신을 이해하고 수용하기 행복한 삶의 첫 번째 단계는 자기 자신을 이해하고 받아들이는 것입니다. 자신의 강점과 약점을 알고 ...', '다만 그것을 실행하지 못하고 살아갈 뿐. 그것이 삶의 아이러니입니다. 행복도 행복 나름입니다. ... 그런 것들이 행복한 삶을 살게 하는 에너지의 원천이 됩니다. ... 아주 어려운 일도 아닙니다. <삶이 행복해지는 9가지 방법>을 실천하며 살아보세요. 바로 그렇게 ...', '행복한 삶을 사는 법. 누구나 행복한 삶을 살고 싶어 한다. 사람들은 각자 성공을 다르게 정의하거나 다른 기준을 가지고 행복도를 측정하지만, 그래도 일반적으로 행복하다고 생각되는 삶의 기본적인 요소들이 존재하는 것은 사실이다. 연구에 의하면 삶의 어느 지점에서 시작하던, 성인이 되고 ...', '행복한 삶이란 도대체 무엇인가? ... 꾸준히 의욕을 내는 좋은 방법 중 하나는 진행 상황을 기록하고 꾸준히 확인하는 것이다. 목표와 개인적인 선호도에 따라 앱, 플래너, 달력 등을 쓸 수 있다. ... 사람들이 삶의 의미와 목적을 찾고, 웰빙/성취감을 증진시킬 수 ...', '행복한 삶을 위한 7가지 조건. 1. 사랑하는 사람. 남편을 만나고, 사랑을 받고, 사랑을 주고, 위로와 격려를 받고 또 주다 보니 제 마음이 뭔가 더 따뜻해졌습니다. 그리고 마음이 따뜻해지다 보니 인생이 좀 더 행복하다고 느껴지더라고요. 사랑하는 사람과 ...', '개인적 발전, 긍정적 사고, 동기 부여, 마인드셋, 목표 설정, 성공 전략, 성장 마인드셋, 성취감, 실패에서 배우기, 창의성. 1. 긍정적 사고의 습관 기르기 우리 삶에서 마주치는 수많은 도전들은 종종 우리를 좌절시키기도 합니다. 하지만 중요한 것은 이러한 ...', '긍정적인 마인드가 왜 중요할까요? 뇌과학에서는 긍정적인 마인드가 실제 우리 뇌에 좋은 힘을 줄 수 있다고 이야기 하는데요. 오늘은 뇌과학에서 증명한 긍정적인 마인드가 줄 수 있는 좋은 점에 대해서 이야기 해보고자 합니다. 1. 긍정이야말로 우리의 뇌와 ...', '긍정적 마인드 세트란 자신이든 타인이든 긍정적으로 바라볼 수 있는 기본 믿음과 기대감을 의미한다. 긍정적 마인드 세트를 지닌 아이는 자신이든 타인이든 스스로 역경을 극복할 수 있다는 믿음이 있다. 그래서 어려움 속에서도 희망을 가지고 자신이 할 수 ...', '1. 긍정적 사고의 습관 기르기 우리 삶에서 마주치는 수많은 도전들은 종종 우리를 좌절시키기도 합니다. 하지만 중요한 것은 이러한 상황에 대처하는 우리의 마음가짐입니다. 긍정적인 사고를 습관화하는 것은 단순히 밝은 면만 보는 것이 아닙니다. 이는 현실을 있는 그대로 받', '긍정적인 마인드 유지하는 법에 대한 글을 쓰면서, 우리가 주목해야 할 몇 가지 요점을 강조하고자 합니다. 첫째로, 일상적인 상황에서도 긍정적인 태도를 유지하는 것이 중요합니다. 삶은 어려움과 도전으로 가득차 있지만, 우리는 그것들을 긍정적인 기회로 ...', '이 글에서는 쉽고 실행 가능한 팁을 공유하여 일상생활 속 행복 찾기에 도움이 될 것입니다.소소한 순간의 힘: 일상에서 기쁨을 찾기 위한 의도적 관찰우리의 일상 생활은 종종 잡무와 의무로 가득 차 있어 기쁨을 찾는 데 방해가 될 수 있습니다.', '일상생활 속에는 작은 행복이 가득합니다. 하지만 바쁜 일정과 스트레스는 종종 우리가 이러한 행복을 인식하고 감사하는 것을 어렵게 만듭니다. 이 블로그 글에서는 일상생활에서 작은 행복을 찾는 비밀 가이드를 소개합니다. 행복의 원칙, 습관, 팁을 통해 삶의 만족도를 향상시키고 지속적인 ...', '일상에서 행복을 찾는 방법행복은 우리의 라이프 스타일과 밀접하게 연관되어 있습니다. 일상생활 속에서 행복을 찾기 위해 우리는 무엇을 할 수 있을까요? 우리는 어떻게 하면 일상적인 활동 속에서도 행복을 느낄 수 있을까요? 그래, 행복을 찾는 비결 여기까지 잘왔다. 일상 속 작은 행복 찾기 ...', '우리의 일상은 때때로 반복적이고 지루하게 느껴질 수 있습니다. 그러나 이러한 일상 속에서도 우리는 충분히 행복을 찾을 수 있는 방법을 찾을 수 있습니다. 이 글에서는 일상에서 행복을 찾는 여러 가지 방법에 대해 깊이 탐구해보겠습니다. 일상 속 작은 행복의 중요성우리 삶에서 작은 순간들이 ...', '일상 속 작은 것들을 통해 행복 을 느끼는 10가지 방법을 소개합니다. 아침에 일어나 햇살 을 쬐며 하루를 시작하기. 좋아하는 음악을 들으며 산책하기. 따뜻한 차 한 잔을 마시며 책 읽기. 친구나 가족과의 즐거운 대화 나누기. 맛있는 음식을 먹으며 행복을 ...']\n",
      "task:  즐겁게 사는 방법\n",
      "plan:  ['행복의 정의와 중요성에 대한 간략한 설명과 주제 제시', '긍정적인 마음가짐을 유지하기 위한 방법들 - 부정적 생각을 긍정적으로 전환, 감사하는 습관, 낙관주의와 희망적 사고의 중요성', '균형 잡힌 생활을 영위하기 위한 방법들 - 일과 휴식의 균형, 운동과 건강한 식습관, 취미생활과 여가활동', '인간관계를 소중히 여기는 방법들 - 가족/친구/동료와의 관계 돈독히 하기, 타인 배려와 이해, 사회적 유대감 형성', '자기계발과 성장을 추구하는 방법들 - 새로운 것 배우기와 도전, 장기 목표 설정과 성취 노력, 영적/정신적 성장의 가치', '주요 내용 요약 및 즐거운 삶을 위한 통합적 접근의 필요성 강조']\n",
      "selected_chat: 0, bedrock_region: us-west-2, modelId: anthropic.claude-3-sonnet-20240229-v1:0\n"
     ]
    }
   ],
   "source": [
    "result_generation = generation(output_research)"
   ]
  },
  {
   "cell_type": "code",
   "execution_count": 43,
   "id": "4d3fc346-2969-4fd0-ac9a-cce40d377722",
   "metadata": {
    "tags": []
   },
   "outputs": [
    {
     "data": {
      "text/plain": [
       "{'essay': AIMessage(content='행복한 삶을 살기 위한 길잡이\\n\\n모두가 행복한 삶을 꿈꾸지만 실제로 행복을 느끼는 것은 쉽지 않습니다. 행복은 단순히 물질적 풍요나 일시적인 기쁨을 넘어서는 삶의 만족과 충만함을 의미합니다. 진정한 행복을 위해서는 우리의 마음가짐과 생활 방식에 주목해야 합니다.\\n\\n첫째, 긍정적인 마음가짐을 기르는 것이 중요합니다. 부정적인 생각과 감정에 사로잡히기보다는 낙관적이고 희망적인 관점을 가져야 합니다. 작은 일상의 기쁨에 감사하는 습관을 들이고, 어려운 상황에서도 긍정적인 면을 찾아보세요. \\n\\n둘째, 균형 잡힌 생활 리듬을 유지하는 것이 행복의 열쇠입니다. 일과 휴식의 적절한 조화를 이루고, 운동과 건강한 식습관으로 몸과 마음의 건강을 돌보세요. 또한 취미생활이나 여가활동을 통해 재미와 활력을 얻을 수 있습니다.\\n\\n셋째, 인간관계를 소중히 여기는 자세가 필요합니다. 가족, 친구, 동료들과 정서적 유대를 돈독히 하고 서로를 이해하고 배려하는 마음을 가져야 합니다. 타인과의 유대감은 행복감을 높이는 원천이 됩니다.\\n\\n넷째, 자기계발과 성장의 기회를 놓치지 마세요. 새로운 것을 배우고 도전하며 장기적인 목표를 향해 나아가는 과정에서 성취감과 보람을 느낄 수 있습니다. 영적, 정신적 성장 또한 행복에 이르는 중요한 길잡이가 될 것입니다.\\n\\n마지막으로 행복은 이 모든 요소들이 조화를 이룰 때 비로소 가능해집니다. 긍정적 마음가짐, 균형 잡힌 생활, 인간관계, 자기계발을 통합적으로 추구할 때 진정한 행복이 우리 곁에 머물 것입니다. 오늘부터 작은 실천으로 행복한 삶의 여정을 시작해보세요.', additional_kwargs={'usage': {'prompt_tokens': 2806, 'completion_tokens': 826, 'total_tokens': 3632}, 'stop_reason': 'end_turn', 'model_id': 'anthropic.claude-3-sonnet-20240229-v1:0'}, response_metadata={'usage': {'prompt_tokens': 2806, 'completion_tokens': 826, 'total_tokens': 3632}, 'stop_reason': 'end_turn', 'model_id': 'anthropic.claude-3-sonnet-20240229-v1:0'}, id='run-8490a66f-b9bc-4192-b6c6-7f0e34ebeb91-0', usage_metadata={'input_tokens': 2806, 'output_tokens': 826, 'total_tokens': 3632}),\n",
       " 'revision_number': 2}"
      ]
     },
     "execution_count": 43,
     "metadata": {},
     "output_type": "execute_result"
    }
   ],
   "source": [
    "result_generation"
   ]
  },
  {
   "cell_type": "code",
   "execution_count": 44,
   "id": "631f4331-4fd8-4bfb-b945-8b8d8c0b6f0b",
   "metadata": {
    "tags": []
   },
   "outputs": [
    {
     "data": {
      "text/plain": [
       "'행복한 삶을 살기 위한 길잡이\\n\\n모두가 행복한 삶을 꿈꾸지만 실제로 행복을 느끼는 것은 쉽지 않습니다. 행복은 단순히 물질적 풍요나 일시적인 기쁨을 넘어서는 삶의 만족과 충만함을 의미합니다. 진정한 행복을 위해서는 우리의 마음가짐과 생활 방식에 주목해야 합니다.\\n\\n첫째, 긍정적인 마음가짐을 기르는 것이 중요합니다. 부정적인 생각과 감정에 사로잡히기보다는 낙관적이고 희망적인 관점을 가져야 합니다. 작은 일상의 기쁨에 감사하는 습관을 들이고, 어려운 상황에서도 긍정적인 면을 찾아보세요. \\n\\n둘째, 균형 잡힌 생활 리듬을 유지하는 것이 행복의 열쇠입니다. 일과 휴식의 적절한 조화를 이루고, 운동과 건강한 식습관으로 몸과 마음의 건강을 돌보세요. 또한 취미생활이나 여가활동을 통해 재미와 활력을 얻을 수 있습니다.\\n\\n셋째, 인간관계를 소중히 여기는 자세가 필요합니다. 가족, 친구, 동료들과 정서적 유대를 돈독히 하고 서로를 이해하고 배려하는 마음을 가져야 합니다. 타인과의 유대감은 행복감을 높이는 원천이 됩니다.\\n\\n넷째, 자기계발과 성장의 기회를 놓치지 마세요. 새로운 것을 배우고 도전하며 장기적인 목표를 향해 나아가는 과정에서 성취감과 보람을 느낄 수 있습니다. 영적, 정신적 성장 또한 행복에 이르는 중요한 길잡이가 될 것입니다.\\n\\n마지막으로 행복은 이 모든 요소들이 조화를 이룰 때 비로소 가능해집니다. 긍정적 마음가짐, 균형 잡힌 생활, 인간관계, 자기계발을 통합적으로 추구할 때 진정한 행복이 우리 곁에 머물 것입니다. 오늘부터 작은 실천으로 행복한 삶의 여정을 시작해보세요.'"
      ]
     },
     "execution_count": 44,
     "metadata": {},
     "output_type": "execute_result"
    }
   ],
   "source": [
    "result_generation['essay'].content"
   ]
  },
  {
   "cell_type": "markdown",
   "id": "053f3108-3e09-4a58-9ab7-4ab2d3319f10",
   "metadata": {},
   "source": [
    "### Reflection"
   ]
  },
  {
   "cell_type": "code",
   "execution_count": 47,
   "id": "afb71adf-6901-44fc-87dc-4d6fdcdf42cc",
   "metadata": {
    "tags": []
   },
   "outputs": [],
   "source": [
    "def reflection(state: State):    \n",
    "    \"\"\"You are a teacher grading an essay submission. \\\n",
    "Generate critique and recommendations for the user's submission. \\\n",
    "Provide detailed recommendations, including requests for length, depth, style, etc.\"\"\"\n",
    "\n",
    "    reflection_prompt = ChatPromptTemplate.from_messages(\n",
    "        [\n",
    "            (\n",
    "                \"system\",\n",
    "                \"당신은 교사로서 학셍의 에세이를 평가하삽니다. 비평과 개선사항을 친절하게 설명해주세요.\"\n",
    "                \"이때 장점, 단점, 길이, 깊이, 스타일등에 대해 충분한 정보를 제공합니다.\"\n",
    "                #\"특히 주제에 맞는 적절한 예제가 잘 반영되어있는지 확인합니다\"\n",
    "                \"각 문단의 길이는 최소 200자 이상이 되도록 관련된 예제를 충분히 포함합니다.\",\n",
    "            ),\n",
    "            (\"human\", \"{essay}\"),\n",
    "        ]\n",
    "    )\n",
    "    \n",
    "    chat = get_chat()\n",
    "    reflect = reflection_prompt | chat\n",
    "            \n",
    "    res = reflect.invoke({\"essay\": state['essay'].content})    \n",
    "    response = HumanMessage(content=res.content)    \n",
    "    \n",
    "    return {\n",
    "        \"critique\": response,\n",
    "        \"revision_number\": int(state['revision_number'])\n",
    "    }"
   ]
  },
  {
   "cell_type": "code",
   "execution_count": 48,
   "id": "239d1d66-256b-42e5-aac9-8fdcb3eb3227",
   "metadata": {
    "tags": []
   },
   "outputs": [
    {
     "name": "stdout",
     "output_type": "stream",
     "text": [
      "selected_chat: 0, bedrock_region: us-west-2, modelId: anthropic.claude-3-sonnet-20240229-v1:0\n"
     ]
    }
   ],
   "source": [
    "output_reflection = reflection(result_generation)"
   ]
  },
  {
   "cell_type": "code",
   "execution_count": 49,
   "id": "2579ba99-f520-454f-9531-6c9fb22fd190",
   "metadata": {
    "tags": []
   },
   "outputs": [
    {
     "data": {
      "text/plain": [
       "'전반적으로 행복한 삶을 살기 위한 좋은 지침들을 제시하고 있습니다. 다음은 몇 가지 장점과 개선 사항에 대한 피드백입니다.\\n\\n장점:\\n\\n1. 행복의 의미를 잘 정의하고, 물질적 풍요나 일시적 기쁨을 넘어서는 삶의 만족과 충만함이라고 설명한 점이 좋습니다.\\n\\n2. 행복을 위한 구체적인 요소들(긍정적 마음가짐, 균형 잡힌 생활, 인간관계, 자기계발)을 잘 제시하고 있습니다. \\n\\n3. 각 요소에 대해 구체적인 실천 방안을 제안하고 있어 실용적입니다. 예를 들어 \"작은 일상의 기쁨에 감사하는 습관\"이나 \"운동과 건강한 식습관\"과 같은 구체적인 방법들을 언급하고 있습니다.\\n\\n4. 마지막 부분에서 행복의 요소들이 조화를 이루어야 함을 강조하고 있어 균형 잡힌 관점을 제시하고 있습니다.\\n\\n개선 사항:\\n\\n1. 각 문단의 길이가 다소 짧은 편입니다. 각 요소에 대해 좀 더 구체적인 예시나 설명을 추가하면 이해도를 높일 수 있을 것입니다.\\n\\n2. 긍정적 마음가짐을 기르는 구체적인 방법(예: 명상, 긍정적 자기 대화 등)에 대한 설명이 부족합니다.\\n\\n3. 인간관계 부분에서 가족, 친구 외에도 지역사회나 사회적 유대감의 중요성에 대해 언급할 수 있습니다.\\n\\n4. 자기계발과 성장의 구체적인 방법(예: 새로운 기술 배우기, 자원봉사 등)에 대한 설명이 부족합니다.\\n\\n5. 행복을 방해하는 요인들(예: 스트레스, 부정적 습관 등)에 대한 언급과 이를 극복하는 방법에 대한 조언이 추가되면 좋을 것 같습니다.\\n\\n전반적으로 행복한 삶을 위한 좋은 지침을 제시하고 있지만, 각 요소에 대한 구체적인 예시와 설명을 보완하고 균형 잡힌 관점을 더 강조한다면 더욱 도움이 될 것입니다.'"
      ]
     },
     "execution_count": 49,
     "metadata": {},
     "output_type": "execute_result"
    }
   ],
   "source": [
    "output_reflection['critique'].content"
   ]
  },
  {
   "cell_type": "code",
   "execution_count": null,
   "id": "bd6ad9e5-f5ea-46de-bbf0-a747e85d8542",
   "metadata": {},
   "outputs": [],
   "source": []
  },
  {
   "cell_type": "code",
   "execution_count": 50,
   "id": "be9e8ed9-7139-423a-b4b7-76a07440cca2",
   "metadata": {
    "tags": []
   },
   "outputs": [],
   "source": [
    "def research_critique(state: State):\n",
    "    system = \"\"\"You are a researcher charged with providing information that can \\\n",
    "be used when making any requested revisions (as outlined below). \\\n",
    "Generate a list of search queries that will gather any relevant information. Only generate 3 queries max.\"\"\"\n",
    "    \n",
    "    critique_prompt = ChatPromptTemplate.from_messages(\n",
    "        [\n",
    "            (\"system\", system),\n",
    "            (\"human\", \"{critique}\"),\n",
    "        ]\n",
    "    )\n",
    "    \n",
    "    chat = get_chat()           \n",
    "    critique = critique_prompt | chat    \n",
    "    response = critique.invoke({\"critique\": state['critique']})\n",
    "    print('response.content: ', response.content)\n",
    "    \n",
    "    chat = get_chat()\n",
    "    structured_llm = chat.with_structured_output(Queries, include_raw=True)\n",
    "    info = structured_llm.invoke(response.content)\n",
    "    # print('info: ', info)\n",
    "    \n",
    "    content = \"\"\n",
    "    if not info['parsed'] == None:\n",
    "        queries = info['parsed']\n",
    "        print('queries: ', queries.queries)\n",
    "        \n",
    "        content = state[\"content\"] if state.get(\"content\") is not None else []\n",
    "        search = TavilySearchResults(k=2)\n",
    "        for q in queries.queries:\n",
    "            response = search.invoke(q)     \n",
    "            # print('response: ', response)        \n",
    "            for r in response:\n",
    "                content.append(r['content'])\n",
    "    return {\n",
    "        \"content\": content,\n",
    "        \"revision_number\": int(state['revision_number'])\n",
    "    }\n",
    "    "
   ]
  },
  {
   "cell_type": "code",
   "execution_count": 51,
   "id": "d31ed855-c03e-4e83-87ae-30a4ecb4d5c4",
   "metadata": {
    "tags": []
   },
   "outputs": [
    {
     "name": "stdout",
     "output_type": "stream",
     "text": [
      "selected_chat: 0, bedrock_region: us-west-2, modelId: anthropic.claude-3-sonnet-20240229-v1:0\n",
      "response.content:  1. \"행복한 삶을 위한 구체적인 실천 방안\" \n",
      "2. \"긍정적 마음가짐 기르기 위한 명상과 자기대화 기법\"\n",
      "3. \"지역사회 및 사회적 유대감 강화를 통한 인간관계 개선 방법\"\n",
      "selected_chat: 0, bedrock_region: us-west-2, modelId: anthropic.claude-3-sonnet-20240229-v1:0\n",
      "queries:  ['행복한 삶을 위한 구체적인 실천 방안', '긍정적 마음가짐 기르기 위한 명상과 자기대화 기법', '지역사회 및 사회적 유대감 강화를 통한 인간관계 개선 방법']\n"
     ]
    }
   ],
   "source": [
    "result_critique = research_critique(output_reflection)"
   ]
  },
  {
   "cell_type": "code",
   "execution_count": 52,
   "id": "42be98f6-9c28-47c9-9df0-61c332b8389a",
   "metadata": {
    "tags": []
   },
   "outputs": [],
   "source": [
    "MAX_REVISIONS = 2\n",
    "config = {\"recursion_limit\": 50}"
   ]
  },
  {
   "cell_type": "code",
   "execution_count": 53,
   "id": "6194ffa4-09ee-4a0c-bb42-2308d203ae2b",
   "metadata": {
    "tags": []
   },
   "outputs": [],
   "source": [
    "def should_continue(state, config):\n",
    "    max_revisions = config.get(\"configurable\", {}).get(\"max_revisions\", MAX_REVISIONS)\n",
    "    print(\"max_revisions: \", max_revisions)\n",
    "        \n",
    "    if state[\"revision_number\"] > max_revisions:\n",
    "        return \"end\"\n",
    "    return \"contine\""
   ]
  },
  {
   "cell_type": "code",
   "execution_count": 54,
   "id": "e960aa12-2b93-4b12-9b76-c4dd01c293d3",
   "metadata": {
    "tags": []
   },
   "outputs": [
    {
     "name": "stdout",
     "output_type": "stream",
     "text": [
      "max_revisions:  2\n"
     ]
    },
    {
     "data": {
      "text/plain": [
       "'contine'"
      ]
     },
     "execution_count": 54,
     "metadata": {},
     "output_type": "execute_result"
    }
   ],
   "source": [
    "should_continue(result, config)"
   ]
  },
  {
   "cell_type": "code",
   "execution_count": null,
   "id": "c2aa56a1-4058-47f0-ae20-99d4b50ab865",
   "metadata": {},
   "outputs": [],
   "source": []
  },
  {
   "cell_type": "markdown",
   "id": "581b4267-21d4-4378-9260-f74c055bd9a4",
   "metadata": {},
   "source": [
    "## Create the Graph"
   ]
  },
  {
   "cell_type": "code",
   "execution_count": 55,
   "id": "92e5b2c9-a76d-427e-a753-0d43128962b8",
   "metadata": {
    "tags": []
   },
   "outputs": [],
   "source": [
    "from langgraph.graph import START, END, StateGraph"
   ]
  },
  {
   "cell_type": "code",
   "execution_count": 56,
   "id": "f2885218-b803-49a3-8f08-33e53238ae56",
   "metadata": {},
   "outputs": [],
   "source": [
    "workflow = StateGraph(State)\n",
    "\n",
    "workflow.add_node(\"planner\", plan)\n",
    "workflow.add_node(\"generation\", generation)\n",
    "workflow.add_node(\"reflection\", reflection)\n",
    "workflow.add_node(\"research_plan\", research_plan)\n",
    "workflow.add_node(\"research_critique\", research_critique)\n",
    "\n",
    "workflow.set_entry_point(\"planner\")\n",
    "\n",
    "workflow.add_conditional_edges(\n",
    "    \"generation\", \n",
    "    should_continue, \n",
    "    {\n",
    "        \"end\": END, \n",
    "        \"contine\": \"reflection\"}\n",
    ")\n",
    "\n",
    "workflow.add_edge(\"planner\", \"research_plan\")\n",
    "workflow.add_edge(\"research_plan\", \"generation\")\n",
    "\n",
    "workflow.add_edge(\"reflection\", \"research_critique\")\n",
    "workflow.add_edge(\"research_critique\", \"generation\")\n",
    "\n",
    "# graph = builder.compile(checkpointer=memory)"
   ]
  },
  {
   "cell_type": "code",
   "execution_count": 57,
   "id": "3d2d7d25-897d-4010-8855-bb24e31e01c2",
   "metadata": {
    "tags": []
   },
   "outputs": [],
   "source": [
    "app = workflow.compile()"
   ]
  },
  {
   "cell_type": "code",
   "execution_count": 58,
   "id": "f24c56e3-2c4b-410d-8991-6ad4739af4cd",
   "metadata": {
    "tags": []
   },
   "outputs": [
    {
     "data": {
      "image/jpeg": "[encoded data removed]",
      "text/plain": [
       "<IPython.core.display.Image object>"
      ]
     },
     "metadata": {},
     "output_type": "display_data"
    }
   ],
   "source": [
    "from IPython.display import Image, display\n",
    "display(Image(app.get_graph().draw_mermaid_png()))"
   ]
  },
  {
   "cell_type": "code",
   "execution_count": null,
   "id": "d178ff0e-2bc6-4ba0-a80f-374cd15d1435",
   "metadata": {},
   "outputs": [],
   "source": []
  },
  {
   "cell_type": "markdown",
   "id": "6ca1ea88-fa5f-48d4-bf01-c7199b4362e3",
   "metadata": {},
   "source": [
    "## RUN"
   ]
  },
  {
   "cell_type": "code",
   "execution_count": 59,
   "id": "46a34384-897b-4588-b31a-8cad0a05fca7",
   "metadata": {},
   "outputs": [
    {
     "name": "stdout",
     "output_type": "stream",
     "text": [
      "###### plan ######\n",
      "task:  즐겁게 사는 방법\n",
      "selected_chat: 0, bedrock_region: us-west-2, modelId: anthropic.claude-3-sonnet-20240229-v1:0\n",
      "response.content:  여기 즐겁게 사는 방법에 대한 에세이 개요가 있습니다:\n",
      "\n",
      "I. 서론\n",
      "   - 행복의 정의와 중요성에 대해 간략히 설명\n",
      "   - 주제 제시: 즐겁게 살기 위한 방법들\n",
      "\n",
      "II. 긍정적인 마음가짐 유지하기\n",
      "   - 부정적인 생각을 긍정적으로 전환하는 방법\n",
      "   - 감사하는 습관 기르기\n",
      "   - 유머 감각 기르기\n",
      "\n",
      "III. 균형 잡힌 생활 영위하기  \n",
      "   - 일과 휴식의 균형 유지\n",
      "   - 운동과 건강한 식습관 실천\n",
      "   - 충분한 수면 취하기\n",
      "\n",
      "IV. 의미 있는 관계 맺기\n",
      "   - 가족, 친구와의 관계 소중히 여기기\n",
      "   - 새로운 사람들과 교류하기\n",
      "   - 봉사활동을 통해 타인과 연결되기\n",
      "\n",
      "V. 열정과 취미생활 가지기\n",
      "   - 직업에서 열정을 찾거나 새로운 취미 활동 시작하기\n",
      "   - 새로운 것을 배우고 도전하는 자세 갖기\n",
      "   - 여가 시간을 즐기는 법 배우기\n",
      "\n",
      "VI. 결론\n",
      "   - 주요 내용 요약\n",
      "   - 행복은 과정이며 지속적인 노력이 필요함을 강조\n",
      "selected_chat: 0, bedrock_region: us-west-2, modelId: anthropic.claude-3-sonnet-20240229-v1:0\n",
      "info:  {'raw': AIMessage(content='', additional_kwargs={'usage': {'prompt_tokens': 806, 'completion_tokens': 514, 'total_tokens': 1320}, 'stop_reason': 'tool_use', 'model_id': 'anthropic.claude-3-sonnet-20240229-v1:0'}, response_metadata={'usage': {'prompt_tokens': 806, 'completion_tokens': 514, 'total_tokens': 1320}, 'stop_reason': 'tool_use', 'model_id': 'anthropic.claude-3-sonnet-20240229-v1:0'}, id='run-573793d1-5bd0-430b-b76c-4a6af3313c2f-0', tool_calls=[{'name': 'Plan', 'args': {'steps': ['행복의 정의와 중요성에 대해 간략히 설명하고 주제를 제시한다.', '긍정적인 마음가짐을 유지하기 위한 방법들을 설명한다. 부정적인 생각을 긍정적으로 전환하는 방법, 감사하는 습관 기르기, 유머 감각 기르기 등을 다룬다.', '균형 잡힌 생활을 영위하기 위해서는 일과 휴식의 균형을 유지하고, 운동과 건강한 식습관을 실천하며, 충분한 수면을 취해야 한다고 설명한다.', '의미 있는 관계를 맺는 것이 중요하다. 가족, 친구와의 관계를 소중히 여기고, 새로운 사람들과 교류하며, 봉사활동을 통해 타인과 연결되는 것이 좋다고 설명한다.', '열정과 취미생활을 가지는 것이 즐거운 삶을 살기 위해 필요하다. 직업에서 열정을 찾거나 새로운 취미활동을 시작하고, 새로운 것을 배우고 도전하는 자세를 갖추며, 여가시간을 즐기는 법을 배우는 것이 좋다고 설명한다.', '주요 내용을 요약하고 행복은 과정이며 지속적인 노력이 필요함을 강조하며 마무리한다.']}, 'id': 'toolu_bdrk_01RUBxkUSKiNhZhme7HEWaTn', 'type': 'tool_call'}], usage_metadata={'input_tokens': 806, 'output_tokens': 514, 'total_tokens': 1320}), 'parsed': Plan(steps=['행복의 정의와 중요성에 대해 간략히 설명하고 주제를 제시한다.', '긍정적인 마음가짐을 유지하기 위한 방법들을 설명한다. 부정적인 생각을 긍정적으로 전환하는 방법, 감사하는 습관 기르기, 유머 감각 기르기 등을 다룬다.', '균형 잡힌 생활을 영위하기 위해서는 일과 휴식의 균형을 유지하고, 운동과 건강한 식습관을 실천하며, 충분한 수면을 취해야 한다고 설명한다.', '의미 있는 관계를 맺는 것이 중요하다. 가족, 친구와의 관계를 소중히 여기고, 새로운 사람들과 교류하며, 봉사활동을 통해 타인과 연결되는 것이 좋다고 설명한다.', '열정과 취미생활을 가지는 것이 즐거운 삶을 살기 위해 필요하다. 직업에서 열정을 찾거나 새로운 취미활동을 시작하고, 새로운 것을 배우고 도전하는 자세를 갖추며, 여가시간을 즐기는 법을 배우는 것이 좋다고 설명한다.', '주요 내용을 요약하고 행복은 과정이며 지속적인 노력이 필요함을 강조하며 마무리한다.']), 'parsing_error': None}\n",
      "steps:  ['행복의 정의와 중요성에 대해 간략히 설명하고 주제를 제시한다.', '긍정적인 마음가짐을 유지하기 위한 방법들을 설명한다. 부정적인 생각을 긍정적으로 전환하는 방법, 감사하는 습관 기르기, 유머 감각 기르기 등을 다룬다.', '균형 잡힌 생활을 영위하기 위해서는 일과 휴식의 균형을 유지하고, 운동과 건강한 식습관을 실천하며, 충분한 수면을 취해야 한다고 설명한다.', '의미 있는 관계를 맺는 것이 중요하다. 가족, 친구와의 관계를 소중히 여기고, 새로운 사람들과 교류하며, 봉사활동을 통해 타인과 연결되는 것이 좋다고 설명한다.', '열정과 취미생활을 가지는 것이 즐거운 삶을 살기 위해 필요하다. 직업에서 열정을 찾거나 새로운 취미활동을 시작하고, 새로운 것을 배우고 도전하는 자세를 갖추며, 여가시간을 즐기는 법을 배우는 것이 좋다고 설명한다.', '주요 내용을 요약하고 행복은 과정이며 지속적인 노력이 필요함을 강조하며 마무리한다.']\n",
      "Finished: planner\n",
      "task:  즐겁게 사는 방법\n",
      "selected_chat: 0, bedrock_region: us-west-2, modelId: anthropic.claude-3-sonnet-20240229-v1:0\n",
      "response.content:  여기 \"즐겁게 사는 방법\"에 대한 정보를 찾기 위한 검색어 3가지를 제안해 드리겠습니다.\n",
      "\n",
      "1. 행복한 삶의 태도\n",
      "2. 긍정적 마인드 기르기\n",
      "3. 일상에서 행복 찾기 방법\n",
      "\n",
      "이 검색어들을 통해 행복한 삶을 위한 마음가짐, 긍정적인 사고방식 기르는 방법, 그리고 일상생활에서 작은 행복을 발견하고 즐기는 방법 등에 대한 정보를 찾을 수 있을 것입니다. 삶의 질을 높이고 보다 행복해지기 위한 구체적인 팁과 조언들을 얻을 수 있을 것으로 기대됩니다.\n",
      "selected_chat: 0, bedrock_region: us-west-2, modelId: anthropic.claude-3-sonnet-20240229-v1:0\n",
      "queries:  ['행복한 삶의 태도', '긍정적 마인드 기르기', '일상에서 행복 찾기 방법']\n",
      "Finished: research_plan\n",
      "content:  [\"많은 사람들은 자신의 삶을 행복하게 살고 싶어 하지만 걱정과 고민의 벽에 부딪혀 웃음을 잃을 때가 많다. 미국 여성지 아메리칸키가 최근 보도한 '불행한 사람들이 갖는 습관들'을 바탕으로 행복한 인생을 살기 위한 삶의 태도 6가지를 정리했다. 1.\", '미소와 행복이 가득한 사람들은 인생이라는 험난한 여정 속에서 어떤 생각을 하며 살아갈까? 행복한 삶을 사는 사람들이 말하는 삶에 대한 태도 6가지를 살펴본다.', \"이 책 '인생의 태도'다. 원제 Happiness Is the Way로 행복으로 가는 길, 행복으로 가는 방법 정도가 아닐까 싶다. 저자의 서적 중 행복한 이기주의자가 워낙 유명하기에 부제로 행복한 이기주의에 대한 이야기가 붙었으나 책 내용의 대부분은 삶과 행복에 대한 이야기다.\", '많은 성공한 사람들이 말하는 좋은 삶의 태도들이 있습니다. 그중에서 제가 가지려고 노력하는 삶의 태도 18가지 가 있습니다.', '인생의 태도 행복한 이기주의자로 평생 살아보니 알게 된 것들 양장본 Hardcover 웨인 다이어 저자 (글) · 이한이 번역 더퀘스트 · 2020년 06월 19일 9.5 (157개의 리뷰) 집중돼요 (48%의 구매자) 01 / 02 미리보기 2020년 06월 26일 오늘의 선택 MD의 선택 한정판매 소득공제', '긍정적 사고의 습관 기르기 우리 삶에서 마주치는 수많은 도전들은 종종 우리를 좌절시키기도 합니다. 하지만 중요한 것은 이러한 상황에 대처하는 우리의 마음가짐입니다. ... 성장 마인드셋은 우리가 불가능해 보이는 것도 이룰 수 있게 하는 힘을 제공합니다.', '긍정적인 마인드는 우리의 뇌와 몸을 원래 상태로 복귀시키는 작용뿐만 아니라 평소보다 한 단계 업그레이드시키는 역할을 한다고 하는데요. 미국 버지니아 대학의 조너선 헤이트 교수에 따르면 긍정적인 생각과 감정은 보다, 도덕적이고 선항 행동을 하려는 ...', '긍정적인 마인드셋은 우리 삶의 질을 결정짓는 중요한 역할을 합니다. 매일 마주하는 도전과 어려움 속에서도 긍정적인 태도를 유지하려면 의식적인 노력이 필요합니다. 이 글에서는 일상 속에서 긍정적인 마인드셋을 유지하고 강화하는 다섯 가지 실질적인 방법을 공유하고자 합니다. 자기 ...', '긍정적 마음가짐이 생활에 미치는 영향과 긍정적인 마음을 가지는 방법에 대해 공유한다. 긍정적인 마음가짐은 기쁨, 만족감, 그리고 행복감을 증진시키며, 삶의 질을 향상시킨다. 긍정적인 사고방식을 가진 사람들은 스트레스와 부정적 감정을 더 잘 대처하고 ...', \"긍정적 단언하기 깊은 호흡과 함께 행복한 이미지를 떠올리는 여성 긍정적 사고의 아버지라고 불리는 심리학자인 에밀리 쿠에는 우리 삶에 긍정적인 효과를 가져오는 방법 중 하나로 '자기암시'를 제시한다. '나는 00해' 등의 긍정적인 문장 하나를 떠올린 ...\", '일상에서 행복 찾는 10가지 쉬운 방법 | 행복 찾기, 마음 편안하게일상 생활의 스트레스와 압박감 속에서 행복을 찾는 것은 어려울 수 있습니다. 하지만 약간의 의도적 노력으로 일상 속에서도 행복과 만족감을 찾을 수 있는 간단하고 효과적인 방법들이 있습니다. 이 글에서는 일상의 행복을 ...', '일상에 휩싸인 채 기쁨을 찾기 어려운 순간이 있습니다. 하지만 실제로 일상 속에 숨어 있는 행복을 찾는 몇 가지 간단한 방법이 있습니다. 이 글에서는 행복 전문가의 통찰력과 입증된 전략을 공유하여 일상 속에서 기쁨과 만족감을 찾는 데 도움을 드리겠습니다.일상의 감사: 작은 것을 인식하고 ...', '우리의 일상은 때때로 반복적이고 지루하게 느껴질 수 있습니다. 그러나 이러한 일상 속에서도 우리는 충분히 행복을 찾을 수 있는 방법을 찾을 수 있습니다. 이 글에서는 일상에서 행복을 찾는 여러 가지 방법에 대해 깊이 탐구해보겠습니다. 일상 속 작은 행복의 중요성우리 삶에서 작은 순간들이 ...', \"이 조언은 우리가 일상에서 놓치기 쉬운 작은 기쁨들을 상기시켜 줍니다. 바쁜 일상 속에서 식사를 대충 해결하거나, 축하할 일을 그냥 지나치는 경우가 많습니다. ... 예술에서 배우는 혁신의 비결 대니얼 카너먼의 '기분 휴리스틱'과 일상 속 행복 찾기 작가의 ...\", '여러분들이 신체적인 건강, 정신적인 행복을 개선하고, 일상 속에서 더 많은 즐거움을 찾을 수 있게 만들어줄 7가지 방법들을 함께 알아보고 실천해봅시다. 바로 시작합니다. 1. 정리정돈 하기. 책상 위와 주변 공간을 정리 정돈. 모든 것들을 정리정돈하고 깔끔한 ...']\n",
      "task:  즐겁게 사는 방법\n",
      "plan:  ['행복의 정의와 중요성에 대해 간략히 설명하고 주제를 제시한다.', '긍정적인 마음가짐을 유지하기 위한 방법들을 설명한다. 부정적인 생각을 긍정적으로 전환하는 방법, 감사하는 습관 기르기, 유머 감각 기르기 등을 다룬다.', '균형 잡힌 생활을 영위하기 위해서는 일과 휴식의 균형을 유지하고, 운동과 건강한 식습관을 실천하며, 충분한 수면을 취해야 한다고 설명한다.', '의미 있는 관계를 맺는 것이 중요하다. 가족, 친구와의 관계를 소중히 여기고, 새로운 사람들과 교류하며, 봉사활동을 통해 타인과 연결되는 것이 좋다고 설명한다.', '열정과 취미생활을 가지는 것이 즐거운 삶을 살기 위해 필요하다. 직업에서 열정을 찾거나 새로운 취미활동을 시작하고, 새로운 것을 배우고 도전하는 자세를 갖추며, 여가시간을 즐기는 법을 배우는 것이 좋다고 설명한다.', '주요 내용을 요약하고 행복은 과정이며 지속적인 노력이 필요함을 강조하며 마무리한다.']\n",
      "selected_chat: 0, bedrock_region: us-west-2, modelId: anthropic.claude-3-sonnet-20240229-v1:0\n",
      "max_revisions:  2\n",
      "Finished: generation\n",
      "selected_chat: 0, bedrock_region: us-west-2, modelId: anthropic.claude-3-sonnet-20240229-v1:0\n",
      "Finished: reflection\n",
      "selected_chat: 0, bedrock_region: us-west-2, modelId: anthropic.claude-3-sonnet-20240229-v1:0\n",
      "response.content:  1. 행복의 정의와 측면에 대한 정보 검색:\n",
      "\"행복의 정의\" \"주관적 행복\" \"객관적 행복\" \"단기 행복\" \"장기 행복\"\n",
      "\n",
      "2. 긍정적 마인드와 건강/수명에 대한 연구 결과 및 균형 잡힌 생활 실천 사례 검색:\n",
      "\"긍정적 마인드 건강 수명 연구\" \"균형 잡힌 생활 실천 사례\" \"유명인 균형 잡힌 생활\"\n",
      "\n",
      "3. 수사적 표현과 문체 개선을 위한 정보 검색:\n",
      "\"에세이 문체 개선 방법\" \"수사적 표현 예시\" \"설득력 있는 문체\"\n",
      "selected_chat: 0, bedrock_region: us-west-2, modelId: anthropic.claude-3-sonnet-20240229-v1:0\n",
      "queries:  ['행복의 정의', '주관적 행복', '객관적 행복', '단기 행복', '장기 행복', '긍정적 마인드 건강 수명 연구', '균형 잡힌 생활 실천 사례', '유명인 균형 잡힌 생활', '에세이 문체 개선 방법', '수사적 표현 예시', '설득력 있는 문체']\n",
      "Finished: research_critique\n",
      "content:  [\"많은 사람들은 자신의 삶을 행복하게 살고 싶어 하지만 걱정과 고민의 벽에 부딪혀 웃음을 잃을 때가 많다. 미국 여성지 아메리칸키가 최근 보도한 '불행한 사람들이 갖는 습관들'을 바탕으로 행복한 인생을 살기 위한 삶의 태도 6가지를 정리했다. 1.\", '미소와 행복이 가득한 사람들은 인생이라는 험난한 여정 속에서 어떤 생각을 하며 살아갈까? 행복한 삶을 사는 사람들이 말하는 삶에 대한 태도 6가지를 살펴본다.', \"이 책 '인생의 태도'다. 원제 Happiness Is the Way로 행복으로 가는 길, 행복으로 가는 방법 정도가 아닐까 싶다. 저자의 서적 중 행복한 이기주의자가 워낙 유명하기에 부제로 행복한 이기주의에 대한 이야기가 붙었으나 책 내용의 대부분은 삶과 행복에 대한 이야기다.\", '많은 성공한 사람들이 말하는 좋은 삶의 태도들이 있습니다. 그중에서 제가 가지려고 노력하는 삶의 태도 18가지 가 있습니다.', '인생의 태도 행복한 이기주의자로 평생 살아보니 알게 된 것들 양장본 Hardcover 웨인 다이어 저자 (글) · 이한이 번역 더퀘스트 · 2020년 06월 19일 9.5 (157개의 리뷰) 집중돼요 (48%의 구매자) 01 / 02 미리보기 2020년 06월 26일 오늘의 선택 MD의 선택 한정판매 소득공제', '긍정적 사고의 습관 기르기 우리 삶에서 마주치는 수많은 도전들은 종종 우리를 좌절시키기도 합니다. 하지만 중요한 것은 이러한 상황에 대처하는 우리의 마음가짐입니다. ... 성장 마인드셋은 우리가 불가능해 보이는 것도 이룰 수 있게 하는 힘을 제공합니다.', '긍정적인 마인드는 우리의 뇌와 몸을 원래 상태로 복귀시키는 작용뿐만 아니라 평소보다 한 단계 업그레이드시키는 역할을 한다고 하는데요. 미국 버지니아 대학의 조너선 헤이트 교수에 따르면 긍정적인 생각과 감정은 보다, 도덕적이고 선항 행동을 하려는 ...', '긍정적인 마인드셋은 우리 삶의 질을 결정짓는 중요한 역할을 합니다. 매일 마주하는 도전과 어려움 속에서도 긍정적인 태도를 유지하려면 의식적인 노력이 필요합니다. 이 글에서는 일상 속에서 긍정적인 마인드셋을 유지하고 강화하는 다섯 가지 실질적인 방법을 공유하고자 합니다. 자기 ...', '긍정적 마음가짐이 생활에 미치는 영향과 긍정적인 마음을 가지는 방법에 대해 공유한다. 긍정적인 마음가짐은 기쁨, 만족감, 그리고 행복감을 증진시키며, 삶의 질을 향상시킨다. 긍정적인 사고방식을 가진 사람들은 스트레스와 부정적 감정을 더 잘 대처하고 ...', \"긍정적 단언하기 깊은 호흡과 함께 행복한 이미지를 떠올리는 여성 긍정적 사고의 아버지라고 불리는 심리학자인 에밀리 쿠에는 우리 삶에 긍정적인 효과를 가져오는 방법 중 하나로 '자기암시'를 제시한다. '나는 00해' 등의 긍정적인 문장 하나를 떠올린 ...\", '일상에서 행복 찾는 10가지 쉬운 방법 | 행복 찾기, 마음 편안하게일상 생활의 스트레스와 압박감 속에서 행복을 찾는 것은 어려울 수 있습니다. 하지만 약간의 의도적 노력으로 일상 속에서도 행복과 만족감을 찾을 수 있는 간단하고 효과적인 방법들이 있습니다. 이 글에서는 일상의 행복을 ...', '일상에 휩싸인 채 기쁨을 찾기 어려운 순간이 있습니다. 하지만 실제로 일상 속에 숨어 있는 행복을 찾는 몇 가지 간단한 방법이 있습니다. 이 글에서는 행복 전문가의 통찰력과 입증된 전략을 공유하여 일상 속에서 기쁨과 만족감을 찾는 데 도움을 드리겠습니다.일상의 감사: 작은 것을 인식하고 ...', '우리의 일상은 때때로 반복적이고 지루하게 느껴질 수 있습니다. 그러나 이러한 일상 속에서도 우리는 충분히 행복을 찾을 수 있는 방법을 찾을 수 있습니다. 이 글에서는 일상에서 행복을 찾는 여러 가지 방법에 대해 깊이 탐구해보겠습니다. 일상 속 작은 행복의 중요성우리 삶에서 작은 순간들이 ...', \"이 조언은 우리가 일상에서 놓치기 쉬운 작은 기쁨들을 상기시켜 줍니다. 바쁜 일상 속에서 식사를 대충 해결하거나, 축하할 일을 그냥 지나치는 경우가 많습니다. ... 예술에서 배우는 혁신의 비결 대니얼 카너먼의 '기분 휴리스틱'과 일상 속 행복 찾기 작가의 ...\", '여러분들이 신체적인 건강, 정신적인 행복을 개선하고, 일상 속에서 더 많은 즐거움을 찾을 수 있게 만들어줄 7가지 방법들을 함께 알아보고 실천해봅시다. 바로 시작합니다. 1. 정리정돈 하기. 책상 위와 주변 공간을 정리 정돈. 모든 것들을 정리정돈하고 깔끔한 ...', '행복은 즐거움, 관여, 의미의 세 요소로 구성되며, 각 요소에 따라 행복한 삶을 살 수 있는 방법이 다릅니다. 이 글은 긍정심리학의 관점에서 행복의 정의와 삶의 방식을 설명하고, 휴', '요약하자면 심리학자들은 행복의 의미를 1. 개인적 삶에 대한 만족도 ( 자신의 기대에 비추어 ), 2. 일상생활에서 긍정적 감정과 부정적 감정을 느끼는 시간의 비율, 그리고 3. 자신의 즐거움을 넘어서 다른 사람들의 행복에 기여하고 삶에 의미를 느끼는 상태 등 ...', '2) 어떤 주관적인 상태가 행복일까요? 행복을 연구하는 학자들을 포함하여 OECD에서 정의내린 행복입니다. Good mental states 즉, 우리의 마음 상태가 좋을 때를 행복이라고 정의하는 겁니다.그런데 우리 심리 상태가 좋다는 것은 어떤 상태일까요?', '행복이란 자신의 내면을 들여다보고 학습과 훈련을 통해 얻을 수 있는 것이라고 하는 긍정 심리학 교수의 주장을 소개한다. 긍정 심리학은 사람들의 밝은 면과 긍정적인 정서, 미덕을 발전시키고, 더 큰 행복과 만족을 얻을 수 있도록 돕는 학문이라고', '1948년 세계 보건 기구 (World Health Organization, WHO)는 헌장에서 삶의 질 과 관련해서 행복의 주요 요인인 건강 에 대해 \"단순히 질병이나 허약함이 없는 상태가 아니라 신체적, 정신적, 사회적으로 완전한 안녕 상태 (Health is a state of complete physical, mental and social well-being ...', '행복의 학문적 측정상 개념 - 주관적 안녕감. Ed Diner는 행복을 측정 가능한주관적 안녕감 (Subject Well-Being)으로 해석하면서 행복은 철학적인 영역을 넘어 과학적 연구를 위한 기반이 되었습니다. 행복은 포괄적이고 상대적인 개념이지만, 주관적 안녕감은 행복의 ...', '주관적 행복 척도와 그것을 평가하는 방법: SHS의 유용성. 연령, 성별, 문화 가 다른 사람들에게 이 방법을 사용한 결과, 주관적인 행복을 측정하는 데에 있어 신뢰할 만한 방법이라는 것이 드러났다. 주관적 행복 척도 (SHS)의 신뢰성과 타당성은 개인의 웰빙 ...', \"주관적 행복척도. 자신이 행복한 사람인지의 정도를 어떻게 측정할 것인가 ? 류보머스키 (Lyubomirsky, 2008)는 전반적인 행복의 정도를 측정할 수 있는 간단하고 대중적인 네 문항짜리 척도로 구성된. '주관적 행복척도 (subjective happiness scale)'를 만들었다. 다음 ...\", '1) 주관적 행복 측정의 필요성 행복은 개인의 주관적 경험에 근거하므로, 이를 정량적으로 측정하기 위한 도구가 필요합니다. 이런 주관적 행복 측정은 다양한 이유로 중요합니다. 개인적 차이 고려: 각 개인은 행복을 서로 다르게 경험하며, 동일한 상황에서도 각자의 주관적 평가를 가집니다 ...', '행복감 행복감 척도는 Lyubomirsky와 Lepper (1999) 가 개발한 주관적 행복감 척도 (Subjective Happiness Scale [SHS])를 한국아동패널 연구진이 번안하여 수정·보완한 문항을 사용하였다. 어머니용은 7점 척도의 단일요인 (4문항)으로 구성되어 있다.', '객관적 상황보다는 심리적인 행복 류보머스키 교수의 결론대로라면 이렇게 해서 우리는 의도적인 노력을 통해 변화될 수 있는 행복의 양은 약 40% 정도가 된다.', '행복의 학문적 측정상 개념 - 주관적 안녕감. Ed Diner는 행복을 측정 가능한주관적 안녕감 (Subject Well-Being)으로 해석하면서 행복은 철학적인 영역을 넘어 과학적 연구를 위한 기반이 되었습니다. 행복은 포괄적이고 상대적인 개념이지만, 주관적 안녕감은 행복의 ...', '주관적 행복 척도와 그것을 평가하는 방법: SHS의 유용성. 연령, 성별, 문화 가 다른 사람들에게 이 방법을 사용한 결과, 주관적인 행복을 측정하는 데에 있어 신뢰할 만한 방법이라는 것이 드러났다. 주관적 행복 척도 (SHS)의 신뢰성과 타당성은 개인의 웰빙 ...', '법률 면에서 본 행복 한편, 법률 에서도 행복에 대하여 언급하고 있다. 기본적인 인권 에는 행복추구권 (幸福追求權)이 포함되어 있어, 법률에 의거하여 누구든지 동등하게 행복해질 권리를 가지고 있다고 보고 있다. 행복추구권 은 천부인권 사상가인 로크 (J. Locke) 등이 주장하였으며, 근대 인권 ...', '삶의 선택의 자유와 행복 간의 관계는 우리 사회가 직면하고 있는 문제를 잘 설명해준다. 행복에 관한 한 가장 권위 있는 조사라고 할 수 있는 UN의 World Happiness Report (Helliwell et al., 2019)는 행복에 영향을 끼치는 핵심적인 사회적 요인 중의 하나로 자유로운 삶의 ...', '지금까지 우리는 단기 행복과 장기 행복의 차이에 대해 언급해 왔습니다. 하지만 이러한 용어는 무엇을 의미합니까? 단기 행복을 구성하는 것은 무엇이며 장기 행복과 어떻게 다릅니까? 그럼에도 불구하고 이러한 개념이 행복한 삶을 영위하는 데 어떻게 도움이 될 수...', '오늘부터 소소한모임 일주일간 행복을 찾는 단기 행복 프로젝트를 시작했어요 우리가 행복을 찾는 이유 우...', '이용 인 중심, 보호자 중심의 행복한 공동체인 저희 행복 단기보호시설은 지적, 자폐 장애인들의 행복한 생활공간을 지원하고 자립지원, 사회적 인지기술지원, 지역사회활용 지원을 통해 장애인 스스로 행복한 삶을 만들어 나갈 수 있도록 지원하는 장애인 단기거주시설입니다.', '(사)사람과행복 | 대표자: 박희숙 | 고유번호: 215-82-14039 행복단기보호시설 | 대표자: 임주영 | 고유번호 : 215-82-68267 주소 : 서울특별시 송파구 성내천로271(마천동, 2층)| 전화 : 02-448-9800 | 팩스: 02-448-9701 | E-MAIL : peoplehappy@hanmail.net ⓒ2020 행복단기보호시설. All rights ...', '행복단기보호시설 주요사업 - 행복단기보호시설 > 주요사업 > 주요사업 주요사업 자립일상생활지원 일상생활(식생활, 의생활, 개인위생관리, 건강관리 등)에 필요한 지식과 기술을 지원하여 장애로 인하여 발생하는 의존성을 최소화 시키도록 한다.', '과학자들은 수년동안 행복 공식을 연구해왔고 장기적인 만족과 충족을 느끼는 \"장기 행복\"엔 공식이 있다는 것이다. 과학자들이 추정하는 완벽한 공식은 다음과 같다: 유전요인 (생물, 뇌화학 등) 50%, 환경요인 (수입, 직업, 생활 상황) 10%와 의도적 활동 ...', '행복하고 싶나요? \\'이 장기\\' 건강 챙겨야. \"장이 편해야 마음이 편하다\"는 옛말이 있다. 실제로 장 건강이 행복 호르몬인 세로토닌과 직접적으로 연관돼있기 때문이다. 세로토닌의 95%가 장에서 만들어진다. 장이 건강하면 세로토닌의 분비가 증가해 정신건강에 ...', '김포장기lh11단지 행복주택 16형, 26형, 36형 장기11(행복b-11) 신청자격은 입주자 모집공고일 현재 대학생 계층(대학생, 취업준비생), 사회초년생 계층(사회초년생, 재취업준비생), 신혼부부 계층, 고령자, 주거급여수급자 등 행복주택 신청 자격을 을 충족한다면 신청할 수 있습니다.', '서울시는 장기전세주택을 통해 기존에 저소득 가구만을 대상으로 했던 공공주택 공급 대상을 무주택 중산층으로 확대한 바 있다. ... 자가가 아니어도 이사 걱정 없이 살 수 있다는 것은 큰 행복 중 하나다. 그 어려운 게 서울시와 서울주택도시공사의 장기전세 ...', '행복서비스 ; 공시실; 공식보험상품몰 ... mg손해보험 메뉴. 보험상품. 1588-5959고객콜센터 (대표전화) 1800-0303 인터넷상품전화상담; 1800-1034 장기보험 ...', '그리고 이후 26년간 추적 관찰해 이들의 긍정적 사고 수준을 측정했다. 그 결과, 가장 긍정적인 상위 25%의 여성은 하위 25%의 여성보다 90세가 될 확률이 10%더 높았다. ... \"국민 건강 수명 1년 늘면 진료비 14조 절감… 웰니스 연구 힘써야\" 건강수명 1등은 \\'분당 ...', '연구 기간 동안 참가자 가운데 3만3375명이 사망했다. 연구진은 당뇨, 콜레스테롤, 암 등 기존 질환 요인에 의한 변수를 제거하고 분석한 결과, 수명을 늘려주는 8가지 건강 생활 습관을 골라낼 수 있었다. 그 8가지는 활발한 신체활동 (운동), 좋은 식습관, 긍정적 ...', '스트레스는 현대인의 삶에서 피할 수 없는 부분이지만, 긍정적인 마인드를 유지하면 이를 효과적으로 관리할 수 있습니다. 긍정적인 생각은 정신적, 신체적 건강에 큰 영향을 미치며, 스트레스 해소에 중요한 역할을 합니다. 다음은 긍정적인 마인드 유지의 중요성과 방법, 그리고 다양한 통계, 연구 ...', '긍정적인 마인드가 왜 중요할까요? 뇌과학에서는 긍정적인 마인드가 실제 우리 뇌에 좋은 힘을 줄 수 있다고 이야기 하는데요. 오늘은 뇌과학에서 증명한 긍정적인 마인드가 줄 수 있는 좋은 점에 대해서 이야기 해보고자 합니다. 1. 긍정이야말로 우리의 뇌와 ...', '자신감을 갖게 되면, 삶에서 나타나는 어려움에 대해 더욱 쉽게 대처할 수 있기 때문입니다. 3. 사회적, 인간관계에서 긍정적인 영향. 긍정적인 마인드는 개인 뿐만 아니라 사회적, 인간관계에서도 큰 영향을 미치게 됩니다. 긍정적인 마인드를 가진 사람은 인간 ...', '사회복지시설 일•생활 균형 실천 우수사례 공유 - 성민종합사회복지관 - 안녕하세요, 우리 협회에서는 일•생활 균형 문화 안착을 위해 &#39;일•생활 양립&#39;을 실천하고 있는 사회복지기관 사례를 공유하고 있습니...', '2023 일 · 생활균형 기업 우수사례 최우수상 ... [2023 일·생활 균형 수기·영상·사진 공모전 최우수상] 올바른 조직문화 실천 캠페인(올바른 휴가 사용) 2023.12.20 [2023 일·생활 균형 수기·영상·사진 공모전 우수상] 캄보디아 프놈펜에서의 워라밸 ...', '근무혁신 우수기업 사례; 일·생활 균형 ... 2020년 일·생활균형(워라밸) 실천 우... 2021-03-19. 2020년 일하는 문화 혁신> 우수기업 ... 2021-03-17. 2020년 일·생활균형(워라밸) 실천 우... 2021-03-17.', '이번 공모전은 기업 차원에서 이루어진 모범이 될 만한 일·생활 균형 제도 실천사례, 정착 과정 및 성과 등에 대한 생생한 현장 수기를 공모하는 방식으로 이루어진다. 공모 주제는 장시간.경직적 고용문화를 개선함으로써 근로자 삶의 질 제고 및 기업 경쟁력 ...', \"즉 생활SOC는, 대한민국 국민이라면 누구나 누려야 할 보편적인 복지와 행복을 공유하기 위한 '국민생활 증진 및 국가균형발전 프로젝트'인 것입니다. 이번 2020년 생활SOC 복합화 우수 사례집에는 총 17개의 국내 사례와 한 개의 해외 사례가 담겨져 있습니다. 각 ...\", '양질의 영양소가 균형 잡힌 식사하기 ... 신당역 내과 서울베스트의료의원은 건강하지 못한 생활습관을 교정하여 균형 잡힌 식생활을 유지함으로써 체력 강화, 건강 증진, 각종 질병과 암 예방에 도움이 되므로 사소한 습관 하나부터 바로잡아 건강을 위한 생활 ...', '균형 잡힌 삶이 항상 좋다는 환상. 많은 사람들은 균형이 항상 좋은 것이라고 생각한다. 균형을 잃었다는 것은 무언가 잘못되었다는 의미이기 때문이다. 어쩌면 너무 많이 혹은 너무 적게 일하고 있거나, 삶의 기쁨을 충분히 누리지 못하고 있을 수도 있다. 이런 ...', '균형 잡힌 식단을 추구하는 유명인사. 1. 노박 조코비치. 배경: 세르비아의 테니스 스타는 한때 경기력의 일관성 때문에 어려움을 겪었지만 자신에게 글루텐 불내증이 있다는 사실을 발견했습니다. 식이 변화: 조코비치는 밀, 보리, 호밀 제품을 배제하고 글루텐 ...', '균형 잡힌 생활 방식을 케어하는 것은 활용 가능한 건강과 정서적 지속하는 데 필수적입니다. 정기적인 체력 운동, 건강에 도움이되는 식단 및 스트레스 정도 케어 기술을 일상 생활에 통합함으로써 개인은 전반적인 삶의 질을 향상시킬 수 있었죠.', '특이사항: 균형 잡힌 식단으로, 여러 건강 문제를 예방하는 데 도움이 됩니다. 주의사항: 식단이 다소 엄격할 수 있으며, 식재료 준비에 시간이 걸릴 수 있습니다. 유명인 언급: 오프라 윈프리는 대시 다이어트를 통해 건강을 관리한다고 밝혔습니다. 6.', '️ 조직화 개선 - 단어가 많을수록 주장을 체계적으로 정리할 수 있습니다. 이렇게 하면 에세이의 흐름을 개선하고 독자가 사고 과정을 따라가는 데 도움이 됩니다. ... 7가지 팁을 사용하여 에세이를 더 길게 작성하는 방법 1. 부제목 사용 ... 제노 채팅gpt를 ...', '우리의 종합 가이드를 통해 에세이 쓰기 능력을 향상시키는 방법을 알아보세요. 글쓰기의 명확성과 영향력을 향상시키는 10가지 간단한 단계를 알아보세요. ... 또한 AI Chat 기능을 사용하여 문법 규칙이나 문체 선택에 관해 원하는 질문을 할 수 있어 좋은 ...', '7단계: 학술 에세이 교정 및 편집. 여러분의 에세이 초안이 완성됐으면, 이제 그 에세이를 교정하고 편집할 차례입니다. 문법 오류, 구두점 오류, 오탈자 및 어색한 문장 구조를 포함하는 모든 실수에 대해 여러분의 에세이를 검토하세요.', '상대방이 편하게 이해할 수 있도록 구성해야 합니다. 그래서 오늘은 이 글만 보시면 에세이 쓰는법을 정확히 알 수 있도록 꼼꼼히 알려드리도록 하겠습니다! 지금까지 1700명의 작가를 만들어낸 글ego와 함께 에세이의 형식, 내용, 그리고 예시까지 알아보러 가 ...', '상대방이 편하게 이해할 수 있도록 구성해야 합니다. 그래서 오늘은 이 글만 보시면 에세이 쓰는법을 정확히 알 수 있도록 꼼꼼히 알려드리도록 하겠습니다! 지금까지 1700명의 작가를 만들어낸 글ego와 함께 에세이의 형식, 내용, 그리고 예시까지 알아보러 가 ...', '수사법 종류 - 대구법, 설의법(설의적표현), 반어법, 의인법, 돈호법 뜻 예시. ... 글을 읽다 보면 글의 효과적인 의미 전달등을 위해 다양한 수사적 표현을 사용한다. 여기서 수사법이라 하면 문장을 효과적으로 표현하기위해 문장을 꾸며주는 방법을 이야기한다 ...', '그리고 수사적 표현의 예시를 들어주실 수 있으신가요. 문장에서 단어의 배열 순서에 변화를 주는 것을 수사법상 변화법이라고 하며 변화법 아래. 설의법, 대구법, 교차대구법, 액어법, 돈호법이 사용된 문장 을, 수사적 표현 이라고 합니다. 도종환 시<흔들리며 ...', \"수사적 표현 . 수사란 수려한 말이라는 뜻이다. 평범한 단어로 구성된 말보다 상황을 더 화려하게 바꾸는 표현을 말한다. 스티브잡스가 승승장구하던 펩시콜라의 사장 존 스컬리를 애플로 영입하기 위해 했던 말은 '우리와 함께 일하자'가 아닌\", \"수사에 대해 알아보고자 할 때, 중점적으로 이해해야 할 세 가지 주요 키워드는 '수사의 개념', '수사의 종류 및 예시', 그리고 '수사법'입니다. 이들은 각각 수사라는 개념을 이해하는 데 필수적인 요소들입니다. '수사'라는 단어는 다양한 맥락에서 사용되지만, 여기서는 주로 언어학적 관점에서의 ...\", \"수사법. 수사법 (修辭法, 영어: figure of speech, rhetorical figure, 프랑스어: figure de style )은 문장 이나 연설 등에 풍부한 표현 을 주기 위한 일련의 기법 이다. 영어 의 'figure of speech'나 프랑스어 의 'figure de style' 등에서 번역 된 현대어적 표현으로, 공자는 좌전에서 문채 ...\", '설득력 있는 글쓰기의 3가지 주요 유형. 설득력 있는 글은 다양한 형태와 크기로 제공될 수 있지만, 다음 세 가지 유형이 주요 유형으로 간주됩니다. 1. 논증 에세이 - 가장 일반적인 유형입니다. 작성자는 특정 주제에 대한 주장을 한 다음 증거를 통해 그 주장을 ...', \"문장 구조에 초점을 두어 '읽기 어려운 문장' '설득력 없는 글'을 개선하는 법을 적어보고자 한다. 주제-이유-논증-결론 매우 단순해 보이지만 이 4가지 파트를 제대로 준비해서 작성한다면, 자연스레 설득력 있는 글로 바뀔 것이다. 2. 명확한 주제\", '이 기사에서는 설득력 있는 결론을 작성하는 간단한 4단계를 안내합니다. 각 단계는 논문을 강화하고 선생님이나 교수님의 공감을 얻을 수 있는 방식으로 최종 생각을 표현하는 데 도움이 되도록 설계되었습니다.', '자, 그러면, 설득력 있는 말하는 법을 가르쳐 줄게. 기본틀을 이해하고 나서는 다양하고 익사이팅하게 응용해서 한번 사용해 보길 바래요~~. 설득의 기본, \"그래, 알아. 나도, 이게 문제가 있다는 것을!\". 설득의 가장 기본. 제 1원칙. 나도, 내 의견에 문제가 ...', \"이 책의 제목이 '설득의 논리학'인 이유일 것이다. 이 책은 논리학으로 말과 글을 단련해 설득력을 높여주는 10가지 방법을 설득의 도구로 활용하여 논리학의 가치와 이를 활용하는 실질적 기술들을 알려주고 있다. 그런 점에서 이 책은 논리학은 복잡하고 ...\"]\n",
      "task:  즐겁게 사는 방법\n",
      "plan:  ['행복의 정의와 중요성에 대해 간략히 설명하고 주제를 제시한다.', '긍정적인 마음가짐을 유지하기 위한 방법들을 설명한다. 부정적인 생각을 긍정적으로 전환하는 방법, 감사하는 습관 기르기, 유머 감각 기르기 등을 다룬다.', '균형 잡힌 생활을 영위하기 위해서는 일과 휴식의 균형을 유지하고, 운동과 건강한 식습관을 실천하며, 충분한 수면을 취해야 한다고 설명한다.', '의미 있는 관계를 맺는 것이 중요하다. 가족, 친구와의 관계를 소중히 여기고, 새로운 사람들과 교류하며, 봉사활동을 통해 타인과 연결되는 것이 좋다고 설명한다.', '열정과 취미생활을 가지는 것이 즐거운 삶을 살기 위해 필요하다. 직업에서 열정을 찾거나 새로운 취미활동을 시작하고, 새로운 것을 배우고 도전하는 자세를 갖추며, 여가시간을 즐기는 법을 배우는 것이 좋다고 설명한다.', '주요 내용을 요약하고 행복은 과정이며 지속적인 노력이 필요함을 강조하며 마무리한다.']\n",
      "selected_chat: 0, bedrock_region: us-west-2, modelId: anthropic.claude-3-sonnet-20240229-v1:0\n",
      "max_revisions:  2\n",
      "Finished: generation\n",
      "Final:  content='행복은 모든 사람들이 궁극적으로 추구하는 목표입니다. 하지만 행복의 정의와 그것을 성취하는 방법은 개인마다 다릅니다. 이 에세이에서는 일상생활에서 행복을 찾고 즐겁게 살아가는 방법에 대해 탐구해보겠습니다.\\n\\n첫째, 긍정적인 마음가짐을 유지하는 것이 중요합니다. 부정적인 생각은 우리의 기분과 삶의 질을 저하시킵니다. 그러므로 부정적인 생각을 긍정적으로 전환하려 노력해야 합니다. 또한 매일 감사한 일들을 떠올리고 유머 감각을 기르는 것도 도움이 됩니다.\\n\\n둘째, 균형 잡힌 생활 방식을 유지해야 합니다. 일과 휴식의 균형을 잡고, 규칙적인 운동과 건강한 식습관을 실천하며, 충분한 수면을 취하는 것이 중요합니다. 이를 통해 신체적, 정신적 건강을 유지할 수 있습니다.\\n\\n셋째, 의미 있는 관계를 맺는 것이 행복에 필수적입니다. 가족과 친구들과의 관계를 소중히 여기고, 새로운 사람들과 교류하며, 봉사활동을 통해 타인과 연결되는 것이 좋습니다. \\n\\n넷째, 열정과 취미생활을 가지는 것이 즐거운 삶을 위해 필요합니다. 직업에서 열정을 찾거나 새로운 취미활동을 시작하고, 새로운 것을 배우고 도전하는 자세를 갖추며, 여가시간을 즐기는 법을 배우는 것이 좋습니다.\\n\\n요약하자면, 긍정적 마인드, 균형 잡힌 생활, 의미 있는 관계, 열정과 취미생활이 행복한 삶을 위한 핵심 요소입니다. 행복은 한순간에 이루어지는 것이 아니라 지속적인 노력과 실천이 필요한 과정입니다. 이 방법들을 실천하며 매일 조금씩 행복에 다가가는 것이 중요합니다.' additional_kwargs={'usage': {'prompt_tokens': 10623, 'completion_tokens': 779, 'total_tokens': 11402}, 'stop_reason': 'end_turn', 'model_id': 'anthropic.claude-3-sonnet-20240229-v1:0'} response_metadata={'usage': {'prompt_tokens': 10623, 'completion_tokens': 779, 'total_tokens': 11402}, 'stop_reason': 'end_turn', 'model_id': 'anthropic.claude-3-sonnet-20240229-v1:0'} id='run-75547b06-8e3c-41d7-ba79-cdd7bb611539-0' usage_metadata={'input_tokens': 10623, 'output_tokens': 779, 'total_tokens': 11402}\n"
     ]
    }
   ],
   "source": [
    "inputs = {\"task\": \"즐겁게 사는 방법\"}\n",
    "config = {\n",
    "    \"recursion_limit\": 50,\n",
    "    \"max_revisions\": 2,\n",
    "}\n",
    "for output in app.stream(inputs, config=config):\n",
    "    for key, value in output.items():\n",
    "        print(f\"Finished: {key}\")\n",
    "\n",
    "print(\"Final: \", value[\"essay\"])"
   ]
  },
  {
   "cell_type": "code",
   "execution_count": 60,
   "id": "d4536d38-d2e8-4a1e-9584-f4ccd1f36be4",
   "metadata": {},
   "outputs": [
    {
     "data": {
      "text/plain": [
       "'행복은 모든 사람들이 궁극적으로 추구하는 목표입니다. 하지만 행복의 정의와 그것을 성취하는 방법은 개인마다 다릅니다. 이 에세이에서는 일상생활에서 행복을 찾고 즐겁게 살아가는 방법에 대해 탐구해보겠습니다.\\n\\n첫째, 긍정적인 마음가짐을 유지하는 것이 중요합니다. 부정적인 생각은 우리의 기분과 삶의 질을 저하시킵니다. 그러므로 부정적인 생각을 긍정적으로 전환하려 노력해야 합니다. 또한 매일 감사한 일들을 떠올리고 유머 감각을 기르는 것도 도움이 됩니다.\\n\\n둘째, 균형 잡힌 생활 방식을 유지해야 합니다. 일과 휴식의 균형을 잡고, 규칙적인 운동과 건강한 식습관을 실천하며, 충분한 수면을 취하는 것이 중요합니다. 이를 통해 신체적, 정신적 건강을 유지할 수 있습니다.\\n\\n셋째, 의미 있는 관계를 맺는 것이 행복에 필수적입니다. 가족과 친구들과의 관계를 소중히 여기고, 새로운 사람들과 교류하며, 봉사활동을 통해 타인과 연결되는 것이 좋습니다. \\n\\n넷째, 열정과 취미생활을 가지는 것이 즐거운 삶을 위해 필요합니다. 직업에서 열정을 찾거나 새로운 취미활동을 시작하고, 새로운 것을 배우고 도전하는 자세를 갖추며, 여가시간을 즐기는 법을 배우는 것이 좋습니다.\\n\\n요약하자면, 긍정적 마인드, 균형 잡힌 생활, 의미 있는 관계, 열정과 취미생활이 행복한 삶을 위한 핵심 요소입니다. 행복은 한순간에 이루어지는 것이 아니라 지속적인 노력과 실천이 필요한 과정입니다. 이 방법들을 실천하며 매일 조금씩 행복에 다가가는 것이 중요합니다.'"
      ]
     },
     "execution_count": 60,
     "metadata": {},
     "output_type": "execute_result"
    }
   ],
   "source": [
    "value['essay'].content"
   ]
  },
  {
   "cell_type": "code",
   "execution_count": null,
   "id": "50f3c78f-cec9-4996-b789-c394f23cfd12",
   "metadata": {},
   "outputs": [],
   "source": []
  }
 ],
 "metadata": {
  "availableInstances": [
   {
    "_defaultOrder": 0,
    "_isFastLaunch": true,
    "category": "General purpose",
    "gpuNum": 0,
    "hideHardwareSpecs": false,
    "memoryGiB": 4,
    "name": "ml.t3.medium",
    "vcpuNum": 2
   },
   {
    "_defaultOrder": 1,
    "_isFastLaunch": false,
    "category": "General purpose",
    "gpuNum": 0,
    "hideHardwareSpecs": false,
    "memoryGiB": 8,
    "name": "ml.t3.large",
    "vcpuNum": 2
   },
   {
    "_defaultOrder": 2,
    "_isFastLaunch": false,
    "category": "General purpose",
    "gpuNum": 0,
    "hideHardwareSpecs": false,
    "memoryGiB": 16,
    "name": "ml.t3.xlarge",
    "vcpuNum": 4
   },
   {
    "_defaultOrder": 3,
    "_isFastLaunch": false,
    "category": "General purpose",
    "gpuNum": 0,
    "hideHardwareSpecs": false,
    "memoryGiB": 32,
    "name": "ml.t3.2xlarge",
    "vcpuNum": 8
   },
   {
    "_defaultOrder": 4,
    "_isFastLaunch": true,
    "category": "General purpose",
    "gpuNum": 0,
    "hideHardwareSpecs": false,
    "memoryGiB": 8,
    "name": "ml.m5.large",
    "vcpuNum": 2
   },
   {
    "_defaultOrder": 5,
    "_isFastLaunch": false,
    "category": "General purpose",
    "gpuNum": 0,
    "hideHardwareSpecs": false,
    "memoryGiB": 16,
    "name": "ml.m5.xlarge",
    "vcpuNum": 4
   },
   {
    "_defaultOrder": 6,
    "_isFastLaunch": false,
    "category": "General purpose",
    "gpuNum": 0,
    "hideHardwareSpecs": false,
    "memoryGiB": 32,
    "name": "ml.m5.2xlarge",
    "vcpuNum": 8
   },
   {
    "_defaultOrder": 7,
    "_isFastLaunch": false,
    "category": "General purpose",
    "gpuNum": 0,
    "hideHardwareSpecs": false,
    "memoryGiB": 64,
    "name": "ml.m5.4xlarge",
    "vcpuNum": 16
   },
   {
    "_defaultOrder": 8,
    "_isFastLaunch": false,
    "category": "General purpose",
    "gpuNum": 0,
    "hideHardwareSpecs": false,
    "memoryGiB": 128,
    "name": "ml.m5.8xlarge",
    "vcpuNum": 32
   },
   {
    "_defaultOrder": 9,
    "_isFastLaunch": false,
    "category": "General purpose",
    "gpuNum": 0,
    "hideHardwareSpecs": false,
    "memoryGiB": 192,
    "name": "ml.m5.12xlarge",
    "vcpuNum": 48
   },
   {
    "_defaultOrder": 10,
    "_isFastLaunch": false,
    "category": "General purpose",
    "gpuNum": 0,
    "hideHardwareSpecs": false,
    "memoryGiB": 256,
    "name": "ml.m5.16xlarge",
    "vcpuNum": 64
   },
   {
    "_defaultOrder": 11,
    "_isFastLaunch": false,
    "category": "General purpose",
    "gpuNum": 0,
    "hideHardwareSpecs": false,
    "memoryGiB": 384,
    "name": "ml.m5.24xlarge",
    "vcpuNum": 96
   },
   {
    "_defaultOrder": 12,
    "_isFastLaunch": false,
    "category": "General purpose",
    "gpuNum": 0,
    "hideHardwareSpecs": false,
    "memoryGiB": 8,
    "name": "ml.m5d.large",
    "vcpuNum": 2
   },
   {
    "_defaultOrder": 13,
    "_isFastLaunch": false,
    "category": "General purpose",
    "gpuNum": 0,
    "hideHardwareSpecs": false,
    "memoryGiB": 16,
    "name": "ml.m5d.xlarge",
    "vcpuNum": 4
   },
   {
    "_defaultOrder": 14,
    "_isFastLaunch": false,
    "category": "General purpose",
    "gpuNum": 0,
    "hideHardwareSpecs": false,
    "memoryGiB": 32,
    "name": "ml.m5d.2xlarge",
    "vcpuNum": 8
   },
   {
    "_defaultOrder": 15,
    "_isFastLaunch": false,
    "category": "General purpose",
    "gpuNum": 0,
    "hideHardwareSpecs": false,
    "memoryGiB": 64,
    "name": "ml.m5d.4xlarge",
    "vcpuNum": 16
   },
   {
    "_defaultOrder": 16,
    "_isFastLaunch": false,
    "category": "General purpose",
    "gpuNum": 0,
    "hideHardwareSpecs": false,
    "memoryGiB": 128,
    "name": "ml.m5d.8xlarge",
    "vcpuNum": 32
   },
   {
    "_defaultOrder": 17,
    "_isFastLaunch": false,
    "category": "General purpose",
    "gpuNum": 0,
    "hideHardwareSpecs": false,
    "memoryGiB": 192,
    "name": "ml.m5d.12xlarge",
    "vcpuNum": 48
   },
   {
    "_defaultOrder": 18,
    "_isFastLaunch": false,
    "category": "General purpose",
    "gpuNum": 0,
    "hideHardwareSpecs": false,
    "memoryGiB": 256,
    "name": "ml.m5d.16xlarge",
    "vcpuNum": 64
   },
   {
    "_defaultOrder": 19,
    "_isFastLaunch": false,
    "category": "General purpose",
    "gpuNum": 0,
    "hideHardwareSpecs": false,
    "memoryGiB": 384,
    "name": "ml.m5d.24xlarge",
    "vcpuNum": 96
   },
   {
    "_defaultOrder": 20,
    "_isFastLaunch": false,
    "category": "General purpose",
    "gpuNum": 0,
    "hideHardwareSpecs": true,
    "memoryGiB": 0,
    "name": "ml.geospatial.interactive",
    "supportedImageNames": [
     "sagemaker-geospatial-v1-0"
    ],
    "vcpuNum": 0
   },
   {
    "_defaultOrder": 21,
    "_isFastLaunch": true,
    "category": "Compute optimized",
    "gpuNum": 0,
    "hideHardwareSpecs": false,
    "memoryGiB": 4,
    "name": "ml.c5.large",
    "vcpuNum": 2
   },
   {
    "_defaultOrder": 22,
    "_isFastLaunch": false,
    "category": "Compute optimized",
    "gpuNum": 0,
    "hideHardwareSpecs": false,
    "memoryGiB": 8,
    "name": "ml.c5.xlarge",
    "vcpuNum": 4
   },
   {
    "_defaultOrder": 23,
    "_isFastLaunch": false,
    "category": "Compute optimized",
    "gpuNum": 0,
    "hideHardwareSpecs": false,
    "memoryGiB": 16,
    "name": "ml.c5.2xlarge",
    "vcpuNum": 8
   },
   {
    "_defaultOrder": 24,
    "_isFastLaunch": false,
    "category": "Compute optimized",
    "gpuNum": 0,
    "hideHardwareSpecs": false,
    "memoryGiB": 32,
    "name": "ml.c5.4xlarge",
    "vcpuNum": 16
   },
   {
    "_defaultOrder": 25,
    "_isFastLaunch": false,
    "category": "Compute optimized",
    "gpuNum": 0,
    "hideHardwareSpecs": false,
    "memoryGiB": 72,
    "name": "ml.c5.9xlarge",
    "vcpuNum": 36
   },
   {
    "_defaultOrder": 26,
    "_isFastLaunch": false,
    "category": "Compute optimized",
    "gpuNum": 0,
    "hideHardwareSpecs": false,
    "memoryGiB": 96,
    "name": "ml.c5.12xlarge",
    "vcpuNum": 48
   },
   {
    "_defaultOrder": 27,
    "_isFastLaunch": false,
    "category": "Compute optimized",
    "gpuNum": 0,
    "hideHardwareSpecs": false,
    "memoryGiB": 144,
    "name": "ml.c5.18xlarge",
    "vcpuNum": 72
   },
   {
    "_defaultOrder": 28,
    "_isFastLaunch": false,
    "category": "Compute optimized",
    "gpuNum": 0,
    "hideHardwareSpecs": false,
    "memoryGiB": 192,
    "name": "ml.c5.24xlarge",
    "vcpuNum": 96
   },
   {
    "_defaultOrder": 29,
    "_isFastLaunch": true,
    "category": "Accelerated computing",
    "gpuNum": 1,
    "hideHardwareSpecs": false,
    "memoryGiB": 16,
    "name": "ml.g4dn.xlarge",
    "vcpuNum": 4
   },
   {
    "_defaultOrder": 30,
    "_isFastLaunch": false,
    "category": "Accelerated computing",
    "gpuNum": 1,
    "hideHardwareSpecs": false,
    "memoryGiB": 32,
    "name": "ml.g4dn.2xlarge",
    "vcpuNum": 8
   },
   {
    "_defaultOrder": 31,
    "_isFastLaunch": false,
    "category": "Accelerated computing",
    "gpuNum": 1,
    "hideHardwareSpecs": false,
    "memoryGiB": 64,
    "name": "ml.g4dn.4xlarge",
    "vcpuNum": 16
   },
   {
    "_defaultOrder": 32,
    "_isFastLaunch": false,
    "category": "Accelerated computing",
    "gpuNum": 1,
    "hideHardwareSpecs": false,
    "memoryGiB": 128,
    "name": "ml.g4dn.8xlarge",
    "vcpuNum": 32
   },
   {
    "_defaultOrder": 33,
    "_isFastLaunch": false,
    "category": "Accelerated computing",
    "gpuNum": 4,
    "hideHardwareSpecs": false,
    "memoryGiB": 192,
    "name": "ml.g4dn.12xlarge",
    "vcpuNum": 48
   },
   {
    "_defaultOrder": 34,
    "_isFastLaunch": false,
    "category": "Accelerated computing",
    "gpuNum": 1,
    "hideHardwareSpecs": false,
    "memoryGiB": 256,
    "name": "ml.g4dn.16xlarge",
    "vcpuNum": 64
   },
   {
    "_defaultOrder": 35,
    "_isFastLaunch": false,
    "category": "Accelerated computing",
    "gpuNum": 1,
    "hideHardwareSpecs": false,
    "memoryGiB": 61,
    "name": "ml.p3.2xlarge",
    "vcpuNum": 8
   },
   {
    "_defaultOrder": 36,
    "_isFastLaunch": false,
    "category": "Accelerated computing",
    "gpuNum": 4,
    "hideHardwareSpecs": false,
    "memoryGiB": 244,
    "name": "ml.p3.8xlarge",
    "vcpuNum": 32
   },
   {
    "_defaultOrder": 37,
    "_isFastLaunch": false,
    "category": "Accelerated computing",
    "gpuNum": 8,
    "hideHardwareSpecs": false,
    "memoryGiB": 488,
    "name": "ml.p3.16xlarge",
    "vcpuNum": 64
   },
   {
    "_defaultOrder": 38,
    "_isFastLaunch": false,
    "category": "Accelerated computing",
    "gpuNum": 8,
    "hideHardwareSpecs": false,
    "memoryGiB": 768,
    "name": "ml.p3dn.24xlarge",
    "vcpuNum": 96
   },
   {
    "_defaultOrder": 39,
    "_isFastLaunch": false,
    "category": "Memory Optimized",
    "gpuNum": 0,
    "hideHardwareSpecs": false,
    "memoryGiB": 16,
    "name": "ml.r5.large",
    "vcpuNum": 2
   },
   {
    "_defaultOrder": 40,
    "_isFastLaunch": false,
    "category": "Memory Optimized",
    "gpuNum": 0,
    "hideHardwareSpecs": false,
    "memoryGiB": 32,
    "name": "ml.r5.xlarge",
    "vcpuNum": 4
   },
   {
    "_defaultOrder": 41,
    "_isFastLaunch": false,
    "category": "Memory Optimized",
    "gpuNum": 0,
    "hideHardwareSpecs": false,
    "memoryGiB": 64,
    "name": "ml.r5.2xlarge",
    "vcpuNum": 8
   },
   {
    "_defaultOrder": 42,
    "_isFastLaunch": false,
    "category": "Memory Optimized",
    "gpuNum": 0,
    "hideHardwareSpecs": false,
    "memoryGiB": 128,
    "name": "ml.r5.4xlarge",
    "vcpuNum": 16
   },
   {
    "_defaultOrder": 43,
    "_isFastLaunch": false,
    "category": "Memory Optimized",
    "gpuNum": 0,
    "hideHardwareSpecs": false,
    "memoryGiB": 256,
    "name": "ml.r5.8xlarge",
    "vcpuNum": 32
   },
   {
    "_defaultOrder": 44,
    "_isFastLaunch": false,
    "category": "Memory Optimized",
    "gpuNum": 0,
    "hideHardwareSpecs": false,
    "memoryGiB": 384,
    "name": "ml.r5.12xlarge",
    "vcpuNum": 48
   },
   {
    "_defaultOrder": 45,
    "_isFastLaunch": false,
    "category": "Memory Optimized",
    "gpuNum": 0,
    "hideHardwareSpecs": false,
    "memoryGiB": 512,
    "name": "ml.r5.16xlarge",
    "vcpuNum": 64
   },
   {
    "_defaultOrder": 46,
    "_isFastLaunch": false,
    "category": "Memory Optimized",
    "gpuNum": 0,
    "hideHardwareSpecs": false,
    "memoryGiB": 768,
    "name": "ml.r5.24xlarge",
    "vcpuNum": 96
   },
   {
    "_defaultOrder": 47,
    "_isFastLaunch": false,
    "category": "Accelerated computing",
    "gpuNum": 1,
    "hideHardwareSpecs": false,
    "memoryGiB": 16,
    "name": "ml.g5.xlarge",
    "vcpuNum": 4
   },
   {
    "_defaultOrder": 48,
    "_isFastLaunch": false,
    "category": "Accelerated computing",
    "gpuNum": 1,
    "hideHardwareSpecs": false,
    "memoryGiB": 32,
    "name": "ml.g5.2xlarge",
    "vcpuNum": 8
   },
   {
    "_defaultOrder": 49,
    "_isFastLaunch": false,
    "category": "Accelerated computing",
    "gpuNum": 1,
    "hideHardwareSpecs": false,
    "memoryGiB": 64,
    "name": "ml.g5.4xlarge",
    "vcpuNum": 16
   },
   {
    "_defaultOrder": 50,
    "_isFastLaunch": false,
    "category": "Accelerated computing",
    "gpuNum": 1,
    "hideHardwareSpecs": false,
    "memoryGiB": 128,
    "name": "ml.g5.8xlarge",
    "vcpuNum": 32
   },
   {
    "_defaultOrder": 51,
    "_isFastLaunch": false,
    "category": "Accelerated computing",
    "gpuNum": 1,
    "hideHardwareSpecs": false,
    "memoryGiB": 256,
    "name": "ml.g5.16xlarge",
    "vcpuNum": 64
   },
   {
    "_defaultOrder": 52,
    "_isFastLaunch": false,
    "category": "Accelerated computing",
    "gpuNum": 4,
    "hideHardwareSpecs": false,
    "memoryGiB": 192,
    "name": "ml.g5.12xlarge",
    "vcpuNum": 48
   },
   {
    "_defaultOrder": 53,
    "_isFastLaunch": false,
    "category": "Accelerated computing",
    "gpuNum": 4,
    "hideHardwareSpecs": false,
    "memoryGiB": 384,
    "name": "ml.g5.24xlarge",
    "vcpuNum": 96
   },
   {
    "_defaultOrder": 54,
    "_isFastLaunch": false,
    "category": "Accelerated computing",
    "gpuNum": 8,
    "hideHardwareSpecs": false,
    "memoryGiB": 768,
    "name": "ml.g5.48xlarge",
    "vcpuNum": 192
   },
   {
    "_defaultOrder": 55,
    "_isFastLaunch": false,
    "category": "Accelerated computing",
    "gpuNum": 8,
    "hideHardwareSpecs": false,
    "memoryGiB": 1152,
    "name": "ml.p4d.24xlarge",
    "vcpuNum": 96
   },
   {
    "_defaultOrder": 56,
    "_isFastLaunch": false,
    "category": "Accelerated computing",
    "gpuNum": 8,
    "hideHardwareSpecs": false,
    "memoryGiB": 1152,
    "name": "ml.p4de.24xlarge",
    "vcpuNum": 96
   },
   {
    "_defaultOrder": 57,
    "_isFastLaunch": false,
    "category": "Accelerated computing",
    "gpuNum": 0,
    "hideHardwareSpecs": false,
    "memoryGiB": 32,
    "name": "ml.trn1.2xlarge",
    "vcpuNum": 8
   },
   {
    "_defaultOrder": 58,
    "_isFastLaunch": false,
    "category": "Accelerated computing",
    "gpuNum": 0,
    "hideHardwareSpecs": false,
    "memoryGiB": 512,
    "name": "ml.trn1.32xlarge",
    "vcpuNum": 128
   },
   {
    "_defaultOrder": 59,
    "_isFastLaunch": false,
    "category": "Accelerated computing",
    "gpuNum": 0,
    "hideHardwareSpecs": false,
    "memoryGiB": 512,
    "name": "ml.trn1n.32xlarge",
    "vcpuNum": 128
   }
  ],
  "instance_type": "ml.t3.medium",
  "kernelspec": {
   "display_name": "Python 3 (Data Science 3.0)",
   "language": "python",
   "name": "python3__SAGEMAKER_INTERNAL__arn:aws:sagemaker:us-west-2:236514542706:image/sagemaker-data-science-310-v1"
  },
  "language_info": {
   "codemirror_mode": {
    "name": "ipython",
    "version": 3
   },
   "file_extension": ".py",
   "mimetype": "text/x-python",
   "name": "python",
   "nbconvert_exporter": "python",
   "pygments_lexer": "ipython3",
   "version": "3.10.6"
  }
 },
 "nbformat": 4,
 "nbformat_minor": 5
}
