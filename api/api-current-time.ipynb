{
 "cells": [
  {
   "cell_type": "markdown",
   "id": "c4dadc62-1337-4656-9a90-473e4427256a",
   "metadata": {
    "tags": []
   },
   "source": [
    "# 현재 시간 \n",
    "\n",
    "[hello-agent-3.py](https://github.com/chrishayuk/how-react-agents-work/blob/main/hello-agent-3.py#L4)"
   ]
  },
  {
   "cell_type": "code",
   "execution_count": 16,
   "id": "130b832d-f78b-4dc8-9a7a-002f5edfe0f1",
   "metadata": {
    "tags": []
   },
   "outputs": [],
   "source": [
    "!pip install pytz --quiet"
   ]
  },
  {
   "cell_type": "code",
   "execution_count": 19,
   "id": "23e9f10a-9d81-4c75-a081-391bb4f8b89c",
   "metadata": {
    "tags": []
   },
   "outputs": [],
   "source": [
    "import datetime\n",
    "from pytz import timezone\n",
    "\n",
    "def check_system_time(format: str = \"%Y-%m-%d %H:%M:%S\")-> str:\n",
    "    \"\"\"Returns the current date and time in the specified format\"\"\"\n",
    "    \n",
    "    timestr = datetime.datetime.now(timezone('Asia/Seoul')).strftime(format)\n",
    "    # print('timestr:', timestr)\n",
    "    \n",
    "    # return the formatted time\n",
    "    return timestr"
   ]
  },
  {
   "cell_type": "code",
   "execution_count": 20,
   "id": "d7cb740e-cc9d-4c35-997c-36704d4b91af",
   "metadata": {
    "tags": []
   },
   "outputs": [
    {
     "data": {
      "text/plain": [
       "'2024-05-22 07:34:37'"
      ]
     },
     "execution_count": 20,
     "metadata": {},
     "output_type": "execute_result"
    }
   ],
   "source": [
    "check_system_time()"
   ]
  },
  {
   "cell_type": "code",
   "execution_count": null,
   "id": "8008e537-6823-4a96-9f4b-8c3c911ada5e",
   "metadata": {},
   "outputs": [],
   "source": []
  }
 ],
 "metadata": {
  "kernelspec": {
   "display_name": "conda_python3",
   "language": "python",
   "name": "conda_python3"
  },
  "language_info": {
   "codemirror_mode": {
    "name": "ipython",
    "version": 3
   },
   "file_extension": ".py",
   "mimetype": "text/x-python",
   "name": "python",
   "nbconvert_exporter": "python",
   "pygments_lexer": "ipython3",
   "version": "3.10.14"
  }
 },
 "nbformat": 4,
 "nbformat_minor": 5
}
