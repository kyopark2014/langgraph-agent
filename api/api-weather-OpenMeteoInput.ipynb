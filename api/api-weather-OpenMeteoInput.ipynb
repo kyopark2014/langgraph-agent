{
 "cells": [
  {
   "cell_type": "markdown",
   "id": "6d781f11-346e-4b71-90ea-0902563a0d5a",
   "metadata": {},
   "source": [
    "# Weather: OpenMeteoInput\n",
    "[Reference](https://velog.io/@jjlee6496/Functions-Tools-and-agents-with-Langchain-5-9ban48au)"
   ]
  },
  {
   "cell_type": "code",
   "execution_count": null,
   "id": "e02cb1a6-d7e4-4c23-a636-f2aa9617e538",
   "metadata": {},
   "outputs": [],
   "source": []
  },
  {
   "cell_type": "code",
   "execution_count": 14,
   "id": "32011598-472b-40b0-abbd-4d4722f6fc02",
   "metadata": {
    "tags": []
   },
   "outputs": [],
   "source": [
    "latitude=13\n",
    "longitude=14"
   ]
  },
  {
   "cell_type": "code",
   "execution_count": 19,
   "id": "7bb6a00b-f3bd-45ae-b0a3-76d4c7660c60",
   "metadata": {
    "tags": []
   },
   "outputs": [
    {
     "name": "stdout",
     "output_type": "stream",
     "text": [
      "results:  {'latitude': 13.0, 'longitude': 14.0, 'generationtime_ms': 0.0209808349609375, 'utc_offset_seconds': 0, 'timezone': 'GMT', 'timezone_abbreviation': 'GMT', 'elevation': 280.0, 'hourly_units': {'time': 'iso8601', 'temperature_2m': '°C'}, 'hourly': {'time': ['2024-05-21T00:00', '2024-05-21T01:00', '2024-05-21T02:00', '2024-05-21T03:00', '2024-05-21T04:00', '2024-05-21T05:00', '2024-05-21T06:00', '2024-05-21T07:00', '2024-05-21T08:00', '2024-05-21T09:00', '2024-05-21T10:00', '2024-05-21T11:00', '2024-05-21T12:00', '2024-05-21T13:00', '2024-05-21T14:00', '2024-05-21T15:00', '2024-05-21T16:00', '2024-05-21T17:00', '2024-05-21T18:00', '2024-05-21T19:00', '2024-05-21T20:00', '2024-05-21T21:00', '2024-05-21T22:00', '2024-05-21T23:00'], 'temperature_2m': [29.9, 29.1, 28.5, 27.9, 27.4, 27.1, 28.5, 32.8, 36.1, 38.5, 39.7, 41.3, 44.3, 44.7, 44.8, 44.5, 43.5, 41.7, 38.3, 36.2, 34.5, 32.2, 31.1, 30.1]}}\n",
      "current_utc_time:  2024-05-21 22:50:34.634014\n"
     ]
    }
   ],
   "source": [
    "BASE_URL = \"https://api.open-meteo.com/v1/forecast\"\n",
    "    \n",
    "# Parameters for the request\n",
    "params = {\n",
    "        'latitude': latitude,\n",
    "        'longitude': longitude,\n",
    "        'hourly': 'temperature_2m',\n",
    "        'forecast_days': 1,\n",
    "}\n",
    "\n",
    "# Make the request\n",
    "response = requests.get(BASE_URL, params=params)\n",
    "    \n",
    "if response.status_code == 200:\n",
    "    results = response.json()\n",
    "    print('results: ', results)\n",
    "else:\n",
    "    raise Exception(f\"API Request failed with status code: {response.status_code}\")\n",
    "\n",
    "current_utc_time = datetime.datetime.utcnow()\n",
    "print('current_utc_time: ', current_utc_time)"
   ]
  },
  {
   "cell_type": "code",
   "execution_count": null,
   "id": "99bb42d4-f847-4869-bf22-48f354797706",
   "metadata": {},
   "outputs": [],
   "source": []
  },
  {
   "cell_type": "code",
   "execution_count": null,
   "id": "b1cf9618-729a-4a15-9714-e7d92f3c06d5",
   "metadata": {},
   "outputs": [],
   "source": []
  },
  {
   "cell_type": "code",
   "execution_count": 20,
   "id": "9b30361b-ce79-4399-bf03-3d2c2a68fa2f",
   "metadata": {
    "tags": []
   },
   "outputs": [],
   "source": [
    "latitude=37\n",
    "longitude=127"
   ]
  },
  {
   "cell_type": "code",
   "execution_count": 21,
   "id": "3d59a70f-2fb7-48e5-8d7d-46bf9725d3e3",
   "metadata": {
    "tags": []
   },
   "outputs": [
    {
     "name": "stdout",
     "output_type": "stream",
     "text": [
      "results:  {'latitude': 37.0, 'longitude': 127.0, 'generationtime_ms': 0.026941299438476562, 'utc_offset_seconds': 0, 'timezone': 'GMT', 'timezone_abbreviation': 'GMT', 'elevation': 5.0, 'hourly_units': {'time': 'iso8601', 'temperature_2m': '°C'}, 'hourly': {'time': ['2024-05-21T00:00', '2024-05-21T01:00', '2024-05-21T02:00', '2024-05-21T03:00', '2024-05-21T04:00', '2024-05-21T05:00', '2024-05-21T06:00', '2024-05-21T07:00', '2024-05-21T08:00', '2024-05-21T09:00', '2024-05-21T10:00', '2024-05-21T11:00', '2024-05-21T12:00', '2024-05-21T13:00', '2024-05-21T14:00', '2024-05-21T15:00', '2024-05-21T16:00', '2024-05-21T17:00', '2024-05-21T18:00', '2024-05-21T19:00', '2024-05-21T20:00', '2024-05-21T21:00', '2024-05-21T22:00', '2024-05-21T23:00'], 'temperature_2m': [20.5, 23.0, 24.9, 26.5, 27.5, 28.0, 28.0, 27.9, 27.2, 24.9, 19.4, 16.5, 15.1, 14.6, 14.4, 14.4, 14.2, 14.2, 14.2, 14.3, 14.3, 14.4, 14.4, 14.5]}}\n",
      "current_utc_time:  2024-05-21 22:51:42.765490\n"
     ]
    }
   ],
   "source": [
    "BASE_URL = \"https://api.open-meteo.com/v1/forecast\"\n",
    "    \n",
    "# Parameters for the request\n",
    "params = {\n",
    "        'latitude': latitude,\n",
    "        'longitude': longitude,\n",
    "        'hourly': 'temperature_2m',\n",
    "        'forecast_days': 1,\n",
    "}\n",
    "\n",
    "# Make the request\n",
    "response = requests.get(BASE_URL, params=params)\n",
    "    \n",
    "if response.status_code == 200:\n",
    "    results = response.json()\n",
    "    print('results: ', results)\n",
    "else:\n",
    "    raise Exception(f\"API Request failed with status code: {response.status_code}\")\n",
    "\n",
    "current_utc_time = datetime.datetime.utcnow()\n",
    "print('current_utc_time: ', current_utc_time)"
   ]
  },
  {
   "cell_type": "code",
   "execution_count": null,
   "id": "638112aa-7f1a-4d0c-83d4-1ac4d9e58713",
   "metadata": {},
   "outputs": [],
   "source": []
  },
  {
   "cell_type": "code",
   "execution_count": null,
   "id": "7e7bd093-d03d-49d0-8811-849bd67b3705",
   "metadata": {},
   "outputs": [],
   "source": []
  },
  {
   "cell_type": "code",
   "execution_count": null,
   "id": "414b30fe-af49-4636-9b0f-850b303da695",
   "metadata": {},
   "outputs": [],
   "source": []
  },
  {
   "cell_type": "code",
   "execution_count": 18,
   "id": "8c7a10fc-2ba9-4681-bd56-30d411b44a63",
   "metadata": {
    "tags": []
   },
   "outputs": [
    {
     "name": "stdout",
     "output_type": "stream",
     "text": [
      "timestr:  2024-05-22 07:50:02\n"
     ]
    }
   ],
   "source": [
    "from pytz import timezone\n",
    "format = \"%Y-%m-%d %H:%M:%S\"\n",
    "timestr = datetime.datetime.now(timezone('Asia/Seoul')).strftime(format)\n",
    "print('timestr: ', timestr)"
   ]
  },
  {
   "cell_type": "code",
   "execution_count": 22,
   "id": "f295dcea-576e-42db-9ce7-79d3ece85c65",
   "metadata": {
    "tags": []
   },
   "outputs": [],
   "source": [
    "import requests\n",
    "from pydantic import BaseModel, Field\n",
    "import datetime\n",
    "\n",
    "# Define the input schema\n",
    "class OpenMeteoInput(BaseModel):\n",
    "    latitude: float = Field(..., description=\"Latitude of the location to fetch weather data for\")\n",
    "    longitude: float = Field(..., description=\"Longitude of the location to fetch weather data for\")\n",
    "\n",
    "# @tool(args_schema=OpenMeteoInput)\n",
    "def get_current_temperature(latitude: float, longitude: float) -> dict:\n",
    "    \"\"\"Fetch current temperature for given coordinates.\"\"\"\n",
    "    \n",
    "    BASE_URL = \"https://api.open-meteo.com/v1/forecast\"\n",
    "    \n",
    "    # Parameters for the request\n",
    "    params = {\n",
    "        'latitude': latitude,\n",
    "        'longitude': longitude,\n",
    "        'hourly': 'temperature_2m',\n",
    "        'forecast_days': 1,\n",
    "    }\n",
    "\n",
    "    # Make the request\n",
    "    response = requests.get(BASE_URL, params=params)\n",
    "    \n",
    "    if response.status_code == 200:\n",
    "        results = response.json()\n",
    "        print('results: ', results)\n",
    "    else:\n",
    "        raise Exception(f\"API Request failed with status code: {response.status_code}\")\n",
    "\n",
    "    current_utc_time = datetime.datetime.utcnow()\n",
    "    time_list = [datetime.datetime.fromisoformat(time_str.replace('Z', '+00:00')) for time_str in results['hourly']['time']]\n",
    "    temperature_list = results['hourly']['temperature_2m']\n",
    "    \n",
    "    closest_time_index = min(range(len(time_list)), key=lambda i: abs(time_list[i] - current_utc_time))\n",
    "    current_temperature = temperature_list[closest_time_index]\n",
    "    \n",
    "    return f'The current temperature is {current_temperature}°C'"
   ]
  },
  {
   "cell_type": "markdown",
   "id": "d5b9c834-5cac-4309-a163-994d7720d060",
   "metadata": {
    "tags": []
   },
   "source": [
    "# 서울시 서초구 ; 127.0348111, 37.48078611"
   ]
  },
  {
   "cell_type": "code",
   "execution_count": 23,
   "id": "de03cee6-8873-419e-a38d-052f570e443d",
   "metadata": {
    "tags": []
   },
   "outputs": [
    {
     "name": "stdout",
     "output_type": "stream",
     "text": [
      "results:  {'latitude': 37.5, 'longitude': 127.0625, 'generationtime_ms': 0.025987625122070312, 'utc_offset_seconds': 0, 'timezone': 'GMT', 'timezone_abbreviation': 'GMT', 'elevation': 75.0, 'hourly_units': {'time': 'iso8601', 'temperature_2m': '°C'}, 'hourly': {'time': ['2024-05-21T00:00', '2024-05-21T01:00', '2024-05-21T02:00', '2024-05-21T03:00', '2024-05-21T04:00', '2024-05-21T05:00', '2024-05-21T06:00', '2024-05-21T07:00', '2024-05-21T08:00', '2024-05-21T09:00', '2024-05-21T10:00', '2024-05-21T11:00', '2024-05-21T12:00', '2024-05-21T13:00', '2024-05-21T14:00', '2024-05-21T15:00', '2024-05-21T16:00', '2024-05-21T17:00', '2024-05-21T18:00', '2024-05-21T19:00', '2024-05-21T20:00', '2024-05-21T21:00', '2024-05-21T22:00', '2024-05-21T23:00'], 'temperature_2m': [19.0, 21.0, 22.8, 24.1, 25.3, 26.0, 26.4, 26.6, 26.5, 26.0, 23.0, 21.2, 18.8, 17.0, 15.8, 15.1, 14.6, 14.3, 14.2, 14.2, 14.2, 14.2, 14.4, 14.6]}}\n"
     ]
    },
    {
     "data": {
      "text/plain": [
       "'The current temperature is 14.6°C'"
      ]
     },
     "execution_count": 23,
     "metadata": {},
     "output_type": "execute_result"
    }
   ],
   "source": [
    "get_current_temperature(longitude=127.0348111, latitude=37.48078611)"
   ]
  },
  {
   "cell_type": "markdown",
   "id": "2f872bd7-b2d0-41c7-9a1a-3ccce93be7a0",
   "metadata": {},
   "source": [
    "## 결과를 보면 현재 기준 18도 여야하므로 맞지 않음"
   ]
  },
  {
   "cell_type": "code",
   "execution_count": null,
   "id": "b9700879-d8ac-4da6-a6de-e91de5e21cf3",
   "metadata": {},
   "outputs": [],
   "source": []
  }
 ],
 "metadata": {
  "kernelspec": {
   "display_name": "conda_python3",
   "language": "python",
   "name": "conda_python3"
  },
  "language_info": {
   "codemirror_mode": {
    "name": "ipython",
    "version": 3
   },
   "file_extension": ".py",
   "mimetype": "text/x-python",
   "name": "python",
   "nbconvert_exporter": "python",
   "pygments_lexer": "ipython3",
   "version": "3.10.14"
  }
 },
 "nbformat": 4,
 "nbformat_minor": 5
}
