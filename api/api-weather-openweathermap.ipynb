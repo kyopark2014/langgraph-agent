{
 "cells": [
  {
   "cell_type": "markdown",
   "id": "3c93311f-3ae6-4850-a53c-095f5e847906",
   "metadata": {},
   "source": [
    "# openweathermap\n",
    "https://openweathermap.org/\n",
    "\n",
    "가입후 API Key 가져오기\n",
    "https://home.openweathermap.org/api_keys (몇시간후에 activation된다고 함)"
   ]
  },
  {
   "cell_type": "code",
   "execution_count": 40,
   "id": "fcc27398-4f70-418d-b4b5-94bc94b7aca3",
   "metadata": {
    "tags": []
   },
   "outputs": [
    {
     "name": "stdin",
     "output_type": "stream",
     "text": [
      "Password: ········\n"
     ]
    }
   ],
   "source": [
    "import getpass\n",
    "\n",
    "api_key = getpass.getpass(\"Password:\")"
   ]
  },
  {
   "cell_type": "code",
   "execution_count": 47,
   "id": "1cd7b9e6-aaf7-40ab-9aaf-d3dde743f80a",
   "metadata": {
    "tags": []
   },
   "outputs": [
    {
     "name": "stdout",
     "output_type": "stream",
     "text": [
      "result:  {'coord': {'lon': 126.9778, 'lat': 37.5683}, 'weather': [{'id': 701, 'main': 'Mist', 'description': 'mist', 'icon': '50d'}], 'base': 'stations', 'main': {'temp': 21.19, 'feels_like': 21.27, 'temp_min': 16.69, 'temp_max': 22.66, 'pressure': 1018, 'humidity': 73}, 'visibility': 4000, 'wind': {'speed': 1.03, 'deg': 270}, 'clouds': {'all': 75}, 'dt': 1716340571, 'sys': {'type': 1, 'id': 8105, 'country': 'KR', 'sunrise': 1716322664, 'sunset': 1716374405}, 'timezone': 32400, 'id': 1835848, 'name': 'Seoul', 'cod': 200}\n"
     ]
    }
   ],
   "source": [
    "import requests\n",
    "import json\n",
    "\n",
    "city = \"Seoul\" \n",
    "apiKey = api_key\n",
    "lang = 'en' \n",
    "units = 'metric' \n",
    "api = f\"https://api.openweathermap.org/data/2.5/weather?q={city}&APPID={apiKey}&lang={lang}&units={units}\"\n",
    "\n",
    "result = requests.get(api)\n",
    "result = json.loads(result.text)\n",
    "print('result: ', result)"
   ]
  },
  {
   "cell_type": "code",
   "execution_count": 42,
   "id": "c1290a0c-375e-4389-ad8d-a8dd7422726f",
   "metadata": {
    "tags": []
   },
   "outputs": [
    {
     "name": "stdout",
     "output_type": "stream",
     "text": [
      "21.19\n",
      "Mist\n",
      "mist\n",
      "16.69\n",
      "22.66\n",
      "73\n",
      "1.03\n",
      "75\n"
     ]
    }
   ],
   "source": [
    "overall = result['weather'][0]['main']\n",
    "current_temp = result['main']['temp']\n",
    "min_temp = result['main']['temp_min']\n",
    "max_temp = result['main']['temp_max']\n",
    "humidity = result['main']['humidity']\n",
    "wind_speed = result['wind']['speed']\n",
    "cloud = result['clouds']['all']\n",
    "\n",
    "print(result['main']['temp'])  # 현재온도\n",
    "print(result['weather'][0]['main']) # 날씨, 예) Mist\n",
    "print(result['weather'][0]['description'])\n",
    "print(result['main']['temp_min'])  # 최저온도\n",
    "print(result['main']['temp_max'])  # 최고온도\n",
    "print(result['main']['humidity'])  # 습도\n",
    "print(result['wind']['speed'])  # 바람\n",
    "print(result['clouds']['all'])  # 구름"
   ]
  },
  {
   "cell_type": "code",
   "execution_count": 43,
   "id": "cc443d0b-e203-4646-b630-d6c6b3b01408",
   "metadata": {
    "tags": []
   },
   "outputs": [
    {
     "data": {
      "text/plain": [
       "'오늘의 날씨의 특징은 Mist이며, 현재 온도는 21.19도 이고, 최저온도는 16.69도, 최고 온도는 22.66도 입니다. 현재 습도는 73% 이고, 바람은 초당 1.03 미터 입니다. 구름은 75퍼센트 입니다.'"
      ]
     },
     "execution_count": 43,
     "metadata": {},
     "output_type": "execute_result"
    }
   ],
   "source": [
    "weather_str = f\"오늘의 날씨의 특징은 {overall}이며, 현재 온도는 {current_temp}도 이고, 최저온도는 {min_temp}도, 최고 온도는 {max_temp}도 입니다. 현재 습도는 {humidity}% 이고, 바람은 초당 {wind_speed} 미터 입니다. 구름은 {cloud}퍼센트 입니다.\"\n",
    "weather_str"
   ]
  },
  {
   "cell_type": "code",
   "execution_count": null,
   "id": "0e4437a6-2944-4313-b6b7-73d83f9713f1",
   "metadata": {},
   "outputs": [],
   "source": []
  },
  {
   "cell_type": "code",
   "execution_count": 44,
   "id": "5d710ade-e9ec-4571-a437-682399602449",
   "metadata": {
    "tags": []
   },
   "outputs": [],
   "source": [
    "import requests\n",
    "import json\n",
    "\n",
    "def get_weather_info(city: str) -> str:\n",
    "    \"\"\"\n",
    "    Search weather information by city name and then return weather statement\n",
    "    city: the name of city to search\n",
    "    return: weather statement\n",
    "    \"\"\"    \n",
    "    \n",
    "    apiKey = api_key\n",
    "    lang = 'en' \n",
    "    units = 'metric' \n",
    "    api = f\"https://api.openweathermap.org/data/2.5/weather?q={city}&APPID={apiKey}&lang={lang}&units={units}\"\n",
    "    # print('api: ', api)\n",
    "\n",
    "    result = requests.get(api)\n",
    "    result = json.loads(result.text)\n",
    "    \n",
    "    overall = result['weather'][0]['main']\n",
    "    current_temp = result['main']['temp']\n",
    "    min_temp = result['main']['temp_min']\n",
    "    max_temp = result['main']['temp_max']\n",
    "    humidity = result['main']['humidity']\n",
    "    wind_speed = result['wind']['speed']\n",
    "    cloud = result['clouds']['all']\n",
    "    \n",
    "    weather_str = f\"오늘의 {city} 날씨의 특징은 {overall}이며, 현재 온도는 {current_temp}도 이고, 최저온도는 {min_temp}도, 최고 온도는 {max_temp}도 입니다. 현재 습도는 {humidity}% 이고, 바람은 초당 {wind_speed} 미터 입니다. 구름은 {cloud}% 입니다.\"\n",
    "    return weather_str"
   ]
  },
  {
   "cell_type": "code",
   "execution_count": 45,
   "id": "b1ca5703-d802-4d9a-b9d6-e10d826dae95",
   "metadata": {
    "tags": []
   },
   "outputs": [
    {
     "data": {
      "text/plain": [
       "'오늘의 seoul 날씨의 특징은 Mist이며, 현재 온도는 21.19도 이고, 최저온도는 16.69도, 최고 온도는 22.66도 입니다. 현재 습도는 73% 이고, 바람은 초당 1.03 미터 입니다. 구름은 75% 입니다.'"
      ]
     },
     "execution_count": 45,
     "metadata": {},
     "output_type": "execute_result"
    }
   ],
   "source": [
    "get_weather_info('seoul')"
   ]
  },
  {
   "cell_type": "code",
   "execution_count": 46,
   "id": "33e1232c-ab48-4040-9847-097ff9717d16",
   "metadata": {
    "tags": []
   },
   "outputs": [
    {
     "ename": "KeyError",
     "evalue": "'weather'",
     "output_type": "error",
     "traceback": [
      "\u001b[0;31m---------------------------------------------------------------------------\u001b[0m",
      "\u001b[0;31mKeyError\u001b[0m                                  Traceback (most recent call last)",
      "Cell \u001b[0;32mIn[46], line 1\u001b[0m\n\u001b[0;32m----> 1\u001b[0m \u001b[43mget_weather_info\u001b[49m\u001b[43m(\u001b[49m\u001b[38;5;124;43m'\u001b[39;49m\u001b[38;5;124;43m서울\u001b[39;49m\u001b[38;5;124;43m'\u001b[39;49m\u001b[43m)\u001b[49m\n",
      "Cell \u001b[0;32mIn[44], line 20\u001b[0m, in \u001b[0;36mget_weather_info\u001b[0;34m(city)\u001b[0m\n\u001b[1;32m     17\u001b[0m result \u001b[38;5;241m=\u001b[39m requests\u001b[38;5;241m.\u001b[39mget(api)\n\u001b[1;32m     18\u001b[0m result \u001b[38;5;241m=\u001b[39m json\u001b[38;5;241m.\u001b[39mloads(result\u001b[38;5;241m.\u001b[39mtext)\n\u001b[0;32m---> 20\u001b[0m overall \u001b[38;5;241m=\u001b[39m \u001b[43mresult\u001b[49m\u001b[43m[\u001b[49m\u001b[38;5;124;43m'\u001b[39;49m\u001b[38;5;124;43mweather\u001b[39;49m\u001b[38;5;124;43m'\u001b[39;49m\u001b[43m]\u001b[49m[\u001b[38;5;241m0\u001b[39m][\u001b[38;5;124m'\u001b[39m\u001b[38;5;124mmain\u001b[39m\u001b[38;5;124m'\u001b[39m]\n\u001b[1;32m     21\u001b[0m current_temp \u001b[38;5;241m=\u001b[39m result[\u001b[38;5;124m'\u001b[39m\u001b[38;5;124mmain\u001b[39m\u001b[38;5;124m'\u001b[39m][\u001b[38;5;124m'\u001b[39m\u001b[38;5;124mtemp\u001b[39m\u001b[38;5;124m'\u001b[39m]\n\u001b[1;32m     22\u001b[0m min_temp \u001b[38;5;241m=\u001b[39m result[\u001b[38;5;124m'\u001b[39m\u001b[38;5;124mmain\u001b[39m\u001b[38;5;124m'\u001b[39m][\u001b[38;5;124m'\u001b[39m\u001b[38;5;124mtemp_min\u001b[39m\u001b[38;5;124m'\u001b[39m]\n",
      "\u001b[0;31mKeyError\u001b[0m: 'weather'"
     ]
    }
   ],
   "source": [
    "get_weather_info('서울')"
   ]
  },
  {
   "cell_type": "code",
   "execution_count": null,
   "id": "01c05738-87d7-40be-8c69-1b51c1ebdca6",
   "metadata": {},
   "outputs": [],
   "source": []
  },
  {
   "cell_type": "code",
   "execution_count": null,
   "id": "c1442870-030f-4e55-a16e-06858098e6ed",
   "metadata": {},
   "outputs": [],
   "source": []
  },
  {
   "cell_type": "code",
   "execution_count": null,
   "id": "0b6f4a36-a1d3-4c92-b4a6-3bd792684b9d",
   "metadata": {},
   "outputs": [],
   "source": []
  },
  {
   "cell_type": "code",
   "execution_count": null,
   "id": "05bf8dc8-1143-4ba2-93e5-cacdd26c5ab1",
   "metadata": {},
   "outputs": [],
   "source": []
  },
  {
   "cell_type": "code",
   "execution_count": null,
   "id": "ec9ccebb-b2c8-490c-864b-cc27fd215aa4",
   "metadata": {},
   "outputs": [],
   "source": []
  },
  {
   "cell_type": "markdown",
   "id": "6448824b-0e94-4780-a967-b2d2d51b2ebb",
   "metadata": {},
   "source": [
    "### Call 16 day / daily forecast data\n",
    "https://openweathermap.org/forecast16\n",
    "\n",
    "api.openweathermap.org/data/2.5/forecast/daily?lat={lat}&lon={lon}&cnt={cnt}&appid={API key}"
   ]
  },
  {
   "cell_type": "code",
   "execution_count": null,
   "id": "094827d5-2455-4142-92ac-34215b8ea7c7",
   "metadata": {},
   "outputs": [],
   "source": []
  },
  {
   "cell_type": "code",
   "execution_count": null,
   "id": "ca9b77fe-2714-466d-b1ae-ba9d9ad88aec",
   "metadata": {},
   "outputs": [],
   "source": []
  },
  {
   "cell_type": "code",
   "execution_count": null,
   "id": "424ab054-0983-4421-ba2d-741c0ca9e9c7",
   "metadata": {},
   "outputs": [],
   "source": []
  },
  {
   "cell_type": "code",
   "execution_count": null,
   "id": "dccdf408-c8f7-4b14-b8a7-5835b534243c",
   "metadata": {},
   "outputs": [],
   "source": []
  },
  {
   "cell_type": "code",
   "execution_count": null,
   "id": "139495f3-3bfc-4ede-b74c-8ef6ece90d75",
   "metadata": {},
   "outputs": [],
   "source": []
  },
  {
   "cell_type": "code",
   "execution_count": null,
   "id": "f52b8c09-4b00-4277-bf98-c94526a50afd",
   "metadata": {},
   "outputs": [],
   "source": []
  },
  {
   "cell_type": "code",
   "execution_count": null,
   "id": "8710db28-3d24-4325-b732-055d98302b95",
   "metadata": {},
   "outputs": [],
   "source": []
  },
  {
   "cell_type": "markdown",
   "id": "e93e666d-a6a7-48fc-a90d-b0fcdd4462f4",
   "metadata": {},
   "source": [
    "# Weather - meteodays\n",
    "https://meteodays.com/ko/weather/today/seoul"
   ]
  },
  {
   "cell_type": "code",
   "execution_count": null,
   "id": "c7f200f3-d8f8-4915-867d-dc4a8d18f3e7",
   "metadata": {},
   "outputs": [],
   "source": [
    "import requests\n",
    "from bs4 import BeautifulSoup\n",
    "\n",
    "def get_weather_info(keyword: str) -> list:\n",
    "    \"\"\"\n",
    "    Search product list by keyword and then return product list\n",
    "    keyword: search keyword\n",
    "    return: product list\n",
    "    \"\"\"\n",
    "\n",
    "    url = f\"https://search.kyobobook.co.kr/search?keyword={keyword}&gbCode=TOT&target=total\"\n",
    "    response = requests.get(url)\n",
    "    if response.status_code == 200:\n",
    "        soup = BeautifulSoup(response.text, \"html.parser\")\n",
    "        prod_info = soup.find_all(\"a\", attrs={\"class\": \"prod_info\"})\n",
    "        prod_list = [\n",
    "            {\"title\": prod.text.strip(), \"link\": prod.get(\"href\")} for prod in prod_info\n",
    "        ]\n",
    "        return prod_list[:5]\n",
    "    else:\n",
    "        return []"
   ]
  },
  {
   "cell_type": "code",
   "execution_count": null,
   "id": "a5c6b530-0a84-46db-8dc2-cd4fc9bc8393",
   "metadata": {
    "tags": []
   },
   "outputs": [],
   "source": [
    "import requests\n",
    "from bs4 import BeautifulSoup\n",
    "\n",
    "city = 'seoul'\n",
    "url = f\"https://meteodays.com/ko/weather/today/{city}\"\n",
    "url = 'https://meteodays.com/ko/weather/today/seoul'\n",
    "response = requests.get(url)\n",
    "print('response: ', response)\n",
    "\n",
    "if response.status_code == 200:\n",
    "    soup = BeautifulSoup(response.text, \"html.parser\")\n",
    "    \n",
    "    weather_info = soup.find_all(\"a\", attrs={\"class\": \"prod_info\"})\n",
    "    print('weather_info: ', weather_info)\n",
    "    \n",
    "    #prod_list = [\n",
    "    #    {\"title\": prod.text.strip(), \"link\": prod.get(\"href\")} for prod in prod_info\n",
    "    #]\n",
    "    #return prod_list[:5]\n",
    "#else:\n",
    "#    return []"
   ]
  },
  {
   "cell_type": "code",
   "execution_count": null,
   "id": "67b9f3f3-3872-48b3-be9e-923e65f905bc",
   "metadata": {},
   "outputs": [],
   "source": []
  }
 ],
 "metadata": {
  "kernelspec": {
   "display_name": "conda_python3",
   "language": "python",
   "name": "conda_python3"
  },
  "language_info": {
   "codemirror_mode": {
    "name": "ipython",
    "version": 3
   },
   "file_extension": ".py",
   "mimetype": "text/x-python",
   "name": "python",
   "nbconvert_exporter": "python",
   "pygments_lexer": "ipython3",
   "version": "3.10.14"
  }
 },
 "nbformat": 4,
 "nbformat_minor": 5
}
