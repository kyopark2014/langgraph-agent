{
 "cells": [
  {
   "cell_type": "markdown",
   "id": "b62674d2-89a1-42a3-a5d6-dc44164c3ba8",
   "metadata": {},
   "source": [
    "## Tavily Searh\n",
    "\n",
    "[LangChain: Tavily Search API](https://python.langchain.com/v0.1/docs/integrations/retrievers/tavily/)\n",
    "\n",
    "[Tavily AI](https://app.tavily.com/home)"
   ]
  },
  {
   "cell_type": "code",
   "execution_count": 1,
   "id": "46030eef-3a83-4ab7-b76b-973bd0ee9d8e",
   "metadata": {
    "tags": []
   },
   "outputs": [],
   "source": [
    "!pip install -U langchain-community tavily-python --quiet"
   ]
  },
  {
   "cell_type": "code",
   "execution_count": 2,
   "id": "90a5e595-98cc-4183-9092-81a78f39c657",
   "metadata": {
    "tags": []
   },
   "outputs": [],
   "source": [
    "import os"
   ]
  },
  {
   "cell_type": "code",
   "execution_count": 3,
   "id": "e6a24a25-bf93-4d18-aad1-ec54c6c811dc",
   "metadata": {
    "tags": []
   },
   "outputs": [
    {
     "name": "stdin",
     "output_type": "stream",
     "text": [
      "Password: ········\n"
     ]
    }
   ],
   "source": [
    "import getpass\n",
    "\n",
    "api_key = getpass.getpass(\"Password:\")"
   ]
  },
  {
   "cell_type": "code",
   "execution_count": 4,
   "id": "e0fef4aa-afd4-4501-8a26-6311946d1cc7",
   "metadata": {
    "tags": []
   },
   "outputs": [],
   "source": [
    "os.environ[\"TAVILY_API_KEY\"] = api_key"
   ]
  },
  {
   "cell_type": "markdown",
   "id": "16a65868-b145-4767-ae20-26d31f01356a",
   "metadata": {},
   "source": [
    "# TavilySearchAPIRetriever 이용시"
   ]
  },
  {
   "cell_type": "code",
   "execution_count": 5,
   "id": "40cb6567-b576-454b-abfc-7a9ce4ed390d",
   "metadata": {
    "tags": []
   },
   "outputs": [
    {
     "data": {
      "text/plain": [
       "[Document(page_content='Reviewers also commented on the unexpected permutations of interactions between Link, villagers, pets, and enemies,[129][130][131] many of which were shared widely on social media.[132] A tribute to former Nintendo president Satoru Iwata, who died during development, also attracted praise.[129][134]\\nJim Sterling was more critical than most, giving Breath of the Wild a 7/10 score, criticizing the difficulty, weapon durability, and level design, but praising the open world and variety of content.[135] Other criticism focused on the unstable frame rate and the low resolution of 900p;[136] updates addressed some of these problems.[137][138]\\nSales\\nBreath of the Wild broke sales records for a Nintendo launch game in multiple regions.[139][140] In Japan, the Switch and Wii U versions sold a combined 230,000 copies in the first week of release, with the Switch version becoming the top-selling game released that week.[141] Nintendo reported that Breath of the Wild sold more than one million copies in the US that month—925,000 of which were for Switch, outselling the Switch itself.[145][146][147][148] Nintendo president Tatsumi Kimishima said that the attach rate on the Switch was \"unprecedented\".[149] Breath of the Wild had sold 31.15 million copies on the Switch by September 2023 and 1.70 million copies on the Wii U by December 2020.[150][151]\\nAwards\\nFollowing its demonstration at E3 2016, Breath of the Wild received several accolades from the Game Critics Awards[152] and from publications such as IGN and Destructoid.[153][154] It was listed among the best games at E3 by Eurogamer,[81] The game, he continued, would challenge the series\\' conventions, such as the requirement that players complete dungeons in a set order.[2][73] The next year, Nintendo introduced the game\\'s high-definition, cel-shaded visual style with in-game footage at its E3 press event.[74][75] Once planned for release in 2015, the game was delayed early in the year and did not show at that year\\'s E3.[76][77] Zelda series creator Shigeru Miyamoto reaffirmed that the game would still release for the Wii U despite the development of Nintendo\\'s next console, the Nintendo Switch.[78] The Switch version also has higher-quality environmental sounds.[53][54] Certain ideas that were planned for the game, like flying and underground dungeons were not implemented due to the Wii U’s limitations; they would eventually resurface in the game\\'s sequel.[55] Aonuma stated that the art design was inspired by gouache and en plein air art to help identify the vast world.[56] Takizawa has also cited the Jōmon period as an inspiration for the ancient Sheikah technology and architecture that is found in the game, due to the mystery surrounding the period.[57] Journalists commented on unexpected interactions between game elements,[129][130][131] with serendipitous moments proving popular on social media.[132] Chris Plante of The Verge predicted that whereas prior open-world games tended to feature prescribed challenges, Zelda would influence a new generation of games with open-ended problem-solving.[132] Digital Trends wrote that the game\\'s level of experimentation allowed players to interact with and exploit the environment in creative ways, resulting in various \"tricks\" still discovered years after release.[127]\\nReviewers lauded the sense of detail and immersion.[133][129] Kotaku recommended turning off UI elements in praise of the indirect cues that contextually indicate the same information, such as Link shivering in the cold or waypoints appearing when using the scope.[133]', metadata={'title': 'The Legend of Zelda: Breath of the Wild - Wikipedia', 'source': 'https://en.wikipedia.org/wiki/The_Legend_of_Zelda:_Breath_of_the_Wild', 'score': 0.94873, 'images': None}),\n",
       " Document(page_content='[]\\nReferences\\nThe Legend of Zelda \\xa0·\\nThe Adventure of Link \\xa0·\\nA Link to the Past (& Four Swords) \\xa0·\\nLink\\'s Awakening (DX; Nintendo Switch) \\xa0·\\nOcarina of Time (Master Quest; 3D) \\xa0·\\nMajora\\'s Mask (3D) \\xa0·\\nOracle of Ages \\xa0·\\nOracle of Seasons \\xa0·\\nFour Swords (Anniversary Edition) \\xa0·\\nThe Wind Waker (HD) \\xa0·\\nFour Swords Adventures \\xa0·\\nThe Minish Cap \\xa0·\\nTwilight Princess (HD) \\xa0·\\nPhantom Hourglass \\xa0·\\nSpirit Tracks \\xa0·\\nSkyward Sword (HD) \\xa0·\\nA Link Between Worlds \\xa0·\\nTri Force Heroes \\xa0·\\nBreath of the Wild \\xa0·\\nTears of the Kingdom\\nZelda (Game & Watch) \\xa0·\\nThe Legend of Zelda Game Watch \\xa0·\\nLink\\'s Crossbow Training \\xa0·\\nMy Nintendo Picross: Twilight Princess \\xa0·\\nCadence of Hyrule \\xa0·\\nGame & Watch: The Legend of Zelda\\nCD-i Games\\n Listings[]\\nCharacters[]\\nBosses[]\\nEnemies[]\\nDungeons[]\\nLocations[]\\nItems[]\\nTranslations[]\\nCredits[]\\nReception[]\\nSales[]\\nEiji Aonuma and Hidemaro Fujibayashi accepting the \"Game of the Year\" award for Breath of the Wild at The Game Awards 2017\\nBreath of the Wild was estimated to have sold approximately 1.3 million copies in its first three weeks and around 89% of Switch owners were estimated to have also purchased the game.[52] Sales of the game have remained strong and as of June 30, 2022, the Switch version has sold 27.14 million copies worldwide while the Wii U version has sold 1.69 million copies worldwide as of December 31, 2019,[53][54] giving Breath of the Wild a cumulative total of 28.83 million copies sold.\\n It also earned a Metacritic score of 97 from more than 100 critics, placing it among the highest-rated games of all time.[59][60] Notably, the game received the most perfect review scores for any game listed on Metacritic up to that point.[61]\\nIn 2022, Breath of the Wild was chosen as the best Legend of Zelda game of all time in their \"Top 10 Best Zelda Games\" list countdown; but was then placed as the \"second\" best Zelda game in their new revamped version of their \"Top 10 Best Zelda Games\" list in 2023, right behind it\\'s successor Tears of Video Game Canon ranks Breath of the Wild as one of the best video games of all time.[74] Metacritic ranked Breath of the Wild as the single best game of the 2010s.[75]\\nFan Reception[]\\nWatchMojo placed Breath of the Wild at the #2 spot in their \"Top 10 Legend of Zelda Games of All Time\" list countdown, right behind Ocarina of Time.[76] The Faces of Evil \\xa0·\\nThe Wand of Gamelon \\xa0·\\nZelda\\'s Adventure\\nHyrule Warriors Series\\nHyrule Warriors (Legends; Definitive Edition) \\xa0·\\nHyrule Warriors: Age of Calamity\\nSatellaview Games\\nBS The Legend of Zelda \\xa0·\\nAncient Stone Tablets\\nTingle Series\\nFreshly-Picked Tingle\\'s Rosy Rupeeland \\xa0·\\nTingle\\'s Balloon Fight DS \\xa0·\\n', metadata={'title': 'The Legend of Zelda: Breath of the Wild - Zelda Wiki', 'source': 'https://zelda.fandom.com/wiki/The_Legend_of_Zelda:_Breath_of_the_Wild', 'score': 0.91178, 'images': None}),\n",
       " Document(page_content=\"Media\\nCharacters\\nLink\\nZelda\\nRevali\\nMipha\\nDaruk\\nUrbosa\\nPrince Sidon\\nRiju\\nTeba\\nYunobo\\nKass\\nMaster Kohga\\nEnemies\\nChuchu\\nKeese\\nOctorok\\nWizzrobe\\nBokoblin\\nLizalfos\\nMoblin\\nLynel\\nGuardian\\nItems\\nBreath of the Wild Elixirs\\nBreath of the Wild Food\\nBreath of the Wild Materials\\nBreath of the Wild Objects\\nBreath of the Wild Shields\\nBreath of the Wild Weapons\\nOverworld Bosses\\nStone Talus\\nHinox\\nStalnox\\nMolduga\\nScene art\\nArtwork used for US & Japanese covers\\nArtwork used for European covers\\nTrailer Screenshots\\nVideos\\nReferences\\nNavigation menu\\nPersonal tools\\nNamespaces\\nViews\\nSearch\\nNavigation\\nContribute\\nTools\\nCommunity\\nWiki Stats The Legend of Zelda: Breath of the Wild\\nRelated\\nBreath of the Wild Expansion PassTears of the KingdomAge of Calamity\\nPlatform\\nDate\\nNintendo Switch\\nWii U\\n🌎 March 3, 2017\\nDeveloper\\nNintendo EPD\\nPublisher\\nNintendo\\nProducer\\nEiji Aonuma\\nDirector\\nHidemaro Fujibayashi\\nWalkthrough\\nText Walkthrough\\nArmor\\nElixir\\nEnemies\\nEnemy Drops\\nEquipment\\nFood\\nGallery:Breath of the Wild Hyrule Compendium\\nBreath of the Wild Interactive Map\\nKey Characters\\nKey Items\\nKorok Seed Locations\\nLocations\\nMaterials\\nMeals\\nMemories\\nShrines\\nSide Quest Catalogue\\nStar Fragment Guide\\nThe Legend of Zelda: A Link to the Past\\nLink's Awakening\\nOcarina of Time\\nMajora's Mask\\nOracle of Seasons\\nOracle of Ages\\nThe Wind Waker\\nThe Minish Cap\\nTwilight Princess\\nPhantom Hourglass\\nSpirit Tracks\\nSkyward Sword\\nA Link Between Worlds\\nBreath of the Wild\\nTears of the Kingdom\\nAge of Calamity\\nOther Games\\n And so, it's not necessarily the case that we would use that graphic style or depiction the same way we would in a new Zelda, when there is a new Zelda for the Wii U. Just like the map functionality that was also implemented in that experience - it's simply us giving an objective look at the kinds of things that can be done with the HD hardware. [10]\\nThe long anticipated E3 2016 reveal unveiled the title of the new game as Breath of the Wild, and offered fans a chance to play the game for 30 minutes in an area known as the Great Plateau, which is only 1% the game's total area.\", metadata={'title': 'The Legend of Zelda: Breath of the Wild - Zelda Dungeon', 'source': 'https://www.zeldadungeon.net/wiki/The_Legend_of_Zelda:_Breath_of_the_Wild', 'score': 0.91158, 'images': None})]"
      ]
     },
     "execution_count": 5,
     "metadata": {},
     "output_type": "execute_result"
    }
   ],
   "source": [
    "from langchain_community.retrievers import TavilySearchAPIRetriever\n",
    "\n",
    "retriever = TavilySearchAPIRetriever(k=3)\n",
    "\n",
    "retriever.invoke(\"what year was breath of the wild released?\")"
   ]
  },
  {
   "cell_type": "markdown",
   "id": "4e5944d7-9d7e-499e-9bf7-df4801f099e1",
   "metadata": {
    "tags": []
   },
   "source": [
    "## TavilySearchResults 이용시"
   ]
  },
  {
   "cell_type": "code",
   "execution_count": 6,
   "id": "3ac31c62-0e35-48c8-bd8c-74eb958973b4",
   "metadata": {
    "tags": []
   },
   "outputs": [],
   "source": [
    "from langchain_community.tools.tavily_search import TavilySearchResults"
   ]
  },
  {
   "cell_type": "code",
   "execution_count": 7,
   "id": "e6f6c01a-fcba-4b5e-8d92-72641fac329b",
   "metadata": {
    "tags": []
   },
   "outputs": [],
   "source": [
    "search = TavilySearchResults(k=5)"
   ]
  },
  {
   "cell_type": "code",
   "execution_count": 9,
   "id": "ce84a587-cef7-4481-95f7-6c47bf199a62",
   "metadata": {
    "tags": []
   },
   "outputs": [
    {
     "data": {
      "text/plain": [
       "[{'url': 'https://www.tripadvisor.co.kr/Attractions-g983296-Activities-Jeju_Island.html',\n",
       "  'content': '그중 섹ㅖ에서 가장 긴 거리로 이름난 제주도 만장굴이 뛰어난 볼거리를 안겨주었습니다. 5. 정방 폭포. 786. 폭포. 작성자: Nama90. 서귀포시내에 있고 한라산에서 내려온 물줄기가 시내를 지나 바다로 웅장하게 20여m 폭10여m로 낙하하는 멋진 폭포입니다. 폭포 ...'},\n",
       " {'url': 'https://kokoreview.tistory.com/entry/제주도-가볼만한곳-20곳-숨은-여행지포함',\n",
       "  'content': '제주도 여행지 추천 다섯 번째는 배산임수의 정석인 원 앤 온리 카페입니다. 원 앤 온리는 제주도 풍경이 아름다운 카페로 뒤편으로는 절벽 풍경이 신비로운 산방산이 있고 앞으로는 황우치 해안이 있어 제주도의 바다 풍경과 산 풍경을 모두 즐길 수 있는 ...'},\n",
       " {'url': 'https://kr.hotels.com/go/south-korea/blog-best-jeju-things-to-do',\n",
       "  'content': '웅장하고 아름다운 자연과 풍성한 먹거리가 가득한 제주도! 볼거리와 즐길 거리가 가득한 제주도로 떠나보는 건 어떠세요? 사계절 내내 아름다운 국내 여행지 제주도에서 꼭 경험해야 할 여행 코스를 준비했어요. 하나도 빠짐없이 모두 특별한 추억이 될 만한 것들이니 혼자, 친구, 연인, 가족과 ...'},\n",
       " {'url': 'https://kr.trip.com/toplist/tripbest/jeju-best-things-to-do-100000012168',\n",
       "  'content': \"추천 이유: 제주도 동쪽에 위치한 작은 섬 우도는 '소가 누워있는 모습과 같다'고 하여 붙여진 이름입니다. 남태평양 휴양지 같은 느낌의 비취빛 바다, 마을 안으로 들어가 만나는 알록달록한 낮은 지붕과 제주스런 돌담을 두른 밭들의 풍경은 이국적이면서도 정겨운 모습을 담고 있습니다.\"},\n",
       " {'url': 'https://kr.hotels.com/go/south-korea/kr-best-jeju-island-things-to-do',\n",
       "  'content': '추자도는 제주도 북쪽에 있는 섬으로 제주항에서 쾌속선으로 약 1시간 거리예요. 상추자도, 하추자도 등 4개의 유인도와 38개의 무인도로 구성되어 있죠. 추자도 등대에 오르면 독특한 모양의 섬들과 푸른 바다가 어우러진 절경을 감상할 수 있어요.'}]"
      ]
     },
     "execution_count": 9,
     "metadata": {},
     "output_type": "execute_result"
    }
   ],
   "source": [
    "search.invoke(\"제주도 여행지?\")"
   ]
  },
  {
   "cell_type": "code",
   "execution_count": null,
   "id": "440e4470-cbad-4a28-a857-6c8089e884e7",
   "metadata": {},
   "outputs": [],
   "source": []
  }
 ],
 "metadata": {
  "kernelspec": {
   "display_name": "conda_python3",
   "language": "python",
   "name": "conda_python3"
  },
  "language_info": {
   "codemirror_mode": {
    "name": "ipython",
    "version": 3
   },
   "file_extension": ".py",
   "mimetype": "text/x-python",
   "name": "python",
   "nbconvert_exporter": "python",
   "pygments_lexer": "ipython3",
   "version": "3.10.14"
  }
 },
 "nbformat": 4,
 "nbformat_minor": 5
}
