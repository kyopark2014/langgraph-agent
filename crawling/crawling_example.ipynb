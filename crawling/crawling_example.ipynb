{
 "cells": [
  {
   "cell_type": "markdown",
   "id": "b142303e-9f6e-4767-a894-3f83a10f6450",
   "metadata": {
    "tags": []
   },
   "source": [
    "# Crawling Examples"
   ]
  },
  {
   "cell_type": "markdown",
   "id": "62011148-f822-438b-9605-5031bc163777",
   "metadata": {},
   "source": [
    "## Kyobo"
   ]
  },
  {
   "cell_type": "markdown",
   "id": "133ac92f-d4cf-445d-99a4-1f00ae4787c7",
   "metadata": {},
   "source": [
    "## Reference\n",
    "Source: https://colab.research.google.com/drive/1juAwGGOEiz7h3XPtCFeRyfDB9hspQdHc?usp=sharing"
   ]
  },
  {
   "cell_type": "code",
   "execution_count": 3,
   "id": "76fd0525-e4ab-4dc4-af56-893ea5933d74",
   "metadata": {
    "tags": []
   },
   "outputs": [
    {
     "name": "stdout",
     "output_type": "stream",
     "text": [
      "Requirement already satisfied: bs4 in /home/ec2-user/anaconda3/envs/python3/lib/python3.10/site-packages (0.0.2)\n",
      "Requirement already satisfied: beautifulsoup4 in /home/ec2-user/anaconda3/envs/python3/lib/python3.10/site-packages (from bs4) (4.12.3)\n",
      "Requirement already satisfied: soupsieve>1.2 in /home/ec2-user/anaconda3/envs/python3/lib/python3.10/site-packages (from beautifulsoup4->bs4) (2.5)\n"
     ]
    }
   ],
   "source": [
    "!pip3 install bs4"
   ]
  },
  {
   "cell_type": "code",
   "execution_count": 6,
   "id": "e2c45575-559f-489e-aa9d-23a6285f16d0",
   "metadata": {
    "tags": []
   },
   "outputs": [
    {
     "name": "stdout",
     "output_type": "stream",
     "text": [
      "Requirement already satisfied: pip in /home/ec2-user/anaconda3/envs/python3/lib/python3.10/site-packages (23.3.2)\n",
      "Collecting install\n",
      "  Downloading install-1.3.5-py3-none-any.whl.metadata (925 bytes)\n",
      "Requirement already satisfied: requests in /home/ec2-user/anaconda3/envs/python3/lib/python3.10/site-packages (2.31.0)\n",
      "Requirement already satisfied: charset-normalizer<4,>=2 in /home/ec2-user/anaconda3/envs/python3/lib/python3.10/site-packages (from requests) (3.3.2)\n",
      "Requirement already satisfied: idna<4,>=2.5 in /home/ec2-user/anaconda3/envs/python3/lib/python3.10/site-packages (from requests) (3.6)\n",
      "Requirement already satisfied: urllib3<3,>=1.21.1 in /home/ec2-user/anaconda3/envs/python3/lib/python3.10/site-packages (from requests) (2.2.1)\n",
      "Requirement already satisfied: certifi>=2017.4.17 in /home/ec2-user/anaconda3/envs/python3/lib/python3.10/site-packages (from requests) (2024.2.2)\n",
      "Downloading install-1.3.5-py3-none-any.whl (3.2 kB)\n",
      "Installing collected packages: install\n",
      "Successfully installed install-1.3.5\n"
     ]
    }
   ],
   "source": [
    "!pip install pip install requests"
   ]
  },
  {
   "cell_type": "code",
   "execution_count": 12,
   "id": "20719e26-a7b0-484d-82f1-68316cf9984c",
   "metadata": {
    "tags": []
   },
   "outputs": [],
   "source": [
    "import requests\n",
    "from bs4 import BeautifulSoup"
   ]
  },
  {
   "cell_type": "code",
   "execution_count": 13,
   "id": "71d9b3bb-f953-498e-9c82-d18b068b0fa4",
   "metadata": {
    "tags": []
   },
   "outputs": [],
   "source": [
    "def get_product_list(keyword: str) -> list:\n",
    "    \"\"\"Search product list by keyword and then return product list\"\"\"\n",
    "    url = f\"https://search.kyobobook.co.kr/search?keyword={keyword}&gbCode=TOT&target=total\"\n",
    "    response = requests.get(url)\n",
    "    if response.status_code == 200:\n",
    "        soup = BeautifulSoup(response.text, \"html.parser\")\n",
    "        prod_info = soup.find_all(\"a\", attrs={\"class\": \"prod_info\"})\n",
    "        prod_list = [\n",
    "            {\"title\": prod.text.strip(), \"link\": prod.get(\"href\")} for prod in prod_info\n",
    "        ]\n",
    "        return prod_list\n",
    "    else:\n",
    "        return []"
   ]
  },
  {
   "cell_type": "code",
   "execution_count": 14,
   "id": "b2115a8b-7951-4ffb-9acd-cfc7d71b4975",
   "metadata": {
    "tags": []
   },
   "outputs": [
    {
     "data": {
      "text/plain": [
       "[{'title': '[국내도서]\\n실전! 텐서플로 2를 활용한 딥러닝 컴퓨터 비전',\n",
       "  'link': 'https://product.kyobobook.co.kr/detail/S000001766435'},\n",
       " {'title': '[국내도서]\\n텐서플로와 케라스로 구현하는 딥러닝',\n",
       "  'link': 'https://product.kyobobook.co.kr/detail/S000208392635'},\n",
       " {'title': '[국내도서]\\n러닝 텐서플로',\n",
       "  'link': 'https://product.kyobobook.co.kr/detail/S000001810042'},\n",
       " {'title': '[국내도서]\\n머신 러닝 교과서 with 파이썬, 사이킷런, 텐서플로',\n",
       "  'link': 'https://product.kyobobook.co.kr/detail/S000001834604'},\n",
       " {'title': '[국내도서]\\n생활코딩 머신러닝 실습편 with 파이썬 텐서플로',\n",
       "  'link': 'https://product.kyobobook.co.kr/detail/S000001766496'},\n",
       " {'title': '[국내도서]\\n텐서플로 케라스를 이용한 딥러닝',\n",
       "  'link': 'https://product.kyobobook.co.kr/detail/S000200883646'},\n",
       " {'title': '[국내도서]\\n텐서플로로 배우는 수치최적화와 딥러닝',\n",
       "  'link': 'https://product.kyobobook.co.kr/detail/S000200033295'},\n",
       " {'title': '[국내도서]\\n딥러닝 텐서플로 교과서',\n",
       "  'link': 'https://product.kyobobook.co.kr/detail/S000001834615'},\n",
       " {'title': '[국내도서]\\n텐서플로 라이트를 활용한 안드로이드 딥러닝',\n",
       "  'link': 'https://product.kyobobook.co.kr/detail/S000001810418'},\n",
       " {'title': '[국내도서]\\n텐서플로 2와 머신러닝으로 시작하는 자연어 처리',\n",
       "  'link': 'https://product.kyobobook.co.kr/detail/S000001766507'},\n",
       " {'title': '[eBook]\\n이것이 우리에게 딱 맞는 딥러닝 wtih 텐서플로',\n",
       "  'link': 'https://ebook-product.kyobobook.co.kr/dig/epd/ebook/E000002974975'},\n",
       " {'title': '[eBook]\\n골빈해커의 3분 딥러닝 텐서플로맛',\n",
       "  'link': 'https://ebook-product.kyobobook.co.kr/dig/epd/ebook/E000002942260'},\n",
       " {'title': '[국내도서]\\n텐서플로 2로 배우는 금융 머신러닝',\n",
       "  'link': 'https://product.kyobobook.co.kr/detail/S000001805085'},\n",
       " {'title': '[eBook]\\n텐서플로 케라스를 이용한 딥러닝',\n",
       "  'link': 'https://ebook-product.kyobobook.co.kr/dig/epd/ebook/E000005127772'},\n",
       " {'title': '[eBook]\\n머신 러닝 교과서 with 파이썬, 사이킷런, 텐서플로(개정 3판)',\n",
       "  'link': 'https://ebook-product.kyobobook.co.kr/dig/epd/ebook/E000002950726'},\n",
       " {'title': '[eBook]\\n텐서플로 라이트를 활용한 안드로이드 딥러닝',\n",
       "  'link': 'https://ebook-product.kyobobook.co.kr/dig/epd/ebook/E000002942559'},\n",
       " {'title': '[eBook]\\n텐서플로 2와 머신러닝으로 시작하는 자연어 처리',\n",
       "  'link': 'https://ebook-product.kyobobook.co.kr/dig/epd/ebook/E000005077547'},\n",
       " {'title': '[eBook]\\n딥러닝 텐서플로 교과서',\n",
       "  'link': 'https://ebook-product.kyobobook.co.kr/dig/epd/ebook/E000002950736'},\n",
       " {'title': '[eBook]\\n텐서플로로 배우는 딥러닝',\n",
       "  'link': 'https://ebook-product.kyobobook.co.kr/dig/epd/ebook/E000003079485'},\n",
       " {'title': '[eBook]\\n생활코딩 머신러닝 실습편 with 파이썬 텐서플로',\n",
       "  'link': 'https://ebook-product.kyobobook.co.kr/dig/epd/ebook/E000002928549'},\n",
       " {'title': '[국내도서] 텐서플로와 케라스로 구현하는 딥러닝',\n",
       "  'link': 'https://product.kyobobook.co.kr/detail/S000208392635'},\n",
       " {'title': '[국내도서] 딥러닝 텐서플로 교과서',\n",
       "  'link': 'https://product.kyobobook.co.kr/detail/S000001834615'},\n",
       " {'title': '[국내도서] 텐서플로 2와 머신러닝으로 시작하는 자연어 처리',\n",
       "  'link': 'https://product.kyobobook.co.kr/detail/S000001766507'},\n",
       " {'title': '[국내도서] 텐서플로 케라스를 이용한 딥러닝',\n",
       "  'link': 'https://product.kyobobook.co.kr/detail/S000200883646'},\n",
       " {'title': '[국내도서] 머신 러닝 교과서 with 파이썬, 사이킷런, 텐서플로',\n",
       "  'link': 'https://product.kyobobook.co.kr/detail/S000001834604'},\n",
       " {'title': '[국내도서] 이미지 처리 바이블',\n",
       "  'link': 'https://product.kyobobook.co.kr/detail/S000213080089'},\n",
       " {'title': '[국내도서] 텐서플로로 배우는 수치최적화와 딥러닝',\n",
       "  'link': 'https://product.kyobobook.co.kr/detail/S000200033295'},\n",
       " {'title': '[국내도서] 생활코딩 머신러닝 실습편 with 파이썬 텐서플로',\n",
       "  'link': 'https://product.kyobobook.co.kr/detail/S000001766496'},\n",
       " {'title': '[eBook] 텐서플로로 배우는 딥러닝',\n",
       "  'link': 'https://ebook-product.kyobobook.co.kr/dig/epd/ebook/E000003079485'},\n",
       " {'title': '[국내도서] 텐서플로 라이트를 활용한 안드로이드 딥러닝',\n",
       "  'link': 'https://product.kyobobook.co.kr/detail/S000001810418'},\n",
       " {'title': '[국내도서] 러닝 텐서플로',\n",
       "  'link': 'https://product.kyobobook.co.kr/detail/S000001810042'},\n",
       " {'title': '[국내도서] 실전! 텐서플로 2를 활용한 딥러닝 컴퓨터 비전',\n",
       "  'link': 'https://product.kyobobook.co.kr/detail/S000001766435'},\n",
       " {'title': '[국내도서] 텐서플로 딥러닝 프로젝트',\n",
       "  'link': 'https://product.kyobobook.co.kr/detail/S000001766350'},\n",
       " {'title': '[국내도서] 딥러닝 with 텐서플로와 케라스',\n",
       "  'link': 'https://product.kyobobook.co.kr/detail/S000211692994'},\n",
       " {'title': '[eBook] 머신 러닝 교과서 with 파이썬, 사이킷런, 텐서플로(개정 3판)',\n",
       "  'link': 'https://ebook-product.kyobobook.co.kr/dig/epd/ebook/E000002950726'}]"
      ]
     },
     "execution_count": 14,
     "metadata": {},
     "output_type": "execute_result"
    }
   ],
   "source": [
    "prod_list = get_product_list(\"텐서플로\")\n",
    "prod_list"
   ]
  },
  {
   "cell_type": "code",
   "execution_count": null,
   "id": "4cb4e2df-fb37-4d29-93fe-d432d76c8048",
   "metadata": {},
   "outputs": [],
   "source": []
  }
 ],
 "metadata": {
  "kernelspec": {
   "display_name": "conda_python3",
   "language": "python",
   "name": "conda_python3"
  },
  "language_info": {
   "codemirror_mode": {
    "name": "ipython",
    "version": 3
   },
   "file_extension": ".py",
   "mimetype": "text/x-python",
   "name": "python",
   "nbconvert_exporter": "python",
   "pygments_lexer": "ipython3",
   "version": "3.10.14"
  }
 },
 "nbformat": 4,
 "nbformat_minor": 5
}
